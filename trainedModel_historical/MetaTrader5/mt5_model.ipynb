{
 "cells": [
  {
   "cell_type": "markdown",
   "metadata": {},
   "source": [
    "***\n",
    "\n",
    "# __Utilizing Machine Learning for High Frequency Algorithmic Trading__\n",
    "\n",
    "\n",
    "##### __Name:__ Masixole Boya<br>__Student number:__ 1869204\n",
    "\n",
    "***"
   ]
  },
  {
   "cell_type": "markdown",
   "metadata": {},
   "source": [
    "# __Imports__"
   ]
  },
  {
   "cell_type": "code",
   "execution_count": 23,
   "metadata": {},
   "outputs": [],
   "source": [
    "from datetime import datetime\n",
    "import pandas as pd\n",
    "import pandas_ta as ta\n",
    "from scipy.stats import linregress\n",
    "import MetaTrader5 as mt5\n",
    "import requests\n",
    "import matplotlib.pyplot as plt\n",
    "import mplfinance as mpf\n",
    "from sklearn.preprocessing import StandardScaler, MinMaxScaler\n",
    "from sklearn.model_selection import train_test_split\n",
    "from sklearn.metrics import mean_absolute_error, mean_squared_error, r2_score\n",
    "import numpy as np\n",
    "import tensorflow \n",
    "from tensorflow import keras\n",
    "from keras.models import Sequential\n",
    "from tensorflow.keras import layers\n",
    "from keras.layers import Dense, LSTM\n",
    "from tensorflow.keras.optimizers import Adam\n",
    "import pytz\n",
    "import wandb\n",
    "from wandb.keras import WandbCallback, WandbMetricsLogger\n",
    "# from secret_login import Secret_Login, IC_Markets_Login, Wandb_Login\n",
    "import optuna\n",
    "from optuna.integration import TFKerasPruningCallback\n",
    "from tensorflow.keras.models import load_model\n",
    "import sys\n",
    "\n",
    "sys.path.append('../../login_info')\n",
    "import MT5_IC_secret_login\n",
    "from MT5_IC_secret_login import Secret_Login, IC_Markets_Login, Wandb_Login, OctaFx_Login\n",
    "from MT5_IC_login_function import login_to_mt5\n",
    "\n"
   ]
  },
  {
   "cell_type": "markdown",
   "metadata": {},
   "source": [
    "# __1. MetaTrader 5 API__ : Setup"
   ]
  },
  {
   "cell_type": "markdown",
   "metadata": {},
   "source": [
    "### __1.1 Initialize Application__"
   ]
  },
  {
   "cell_type": "code",
   "execution_count": 2,
   "metadata": {},
   "outputs": [
    {
     "data": {
      "text/plain": [
       "True"
      ]
     },
     "execution_count": 2,
     "metadata": {},
     "output_type": "execute_result"
    }
   ],
   "source": [
    "mt5.initialize()"
   ]
  },
  {
   "cell_type": "markdown",
   "metadata": {},
   "source": [
    "### __1.2 Login__\n"
   ]
  },
  {
   "cell_type": "code",
   "execution_count": 3,
   "metadata": {},
   "outputs": [
    {
     "name": "stdout",
     "output_type": "stream",
     "text": [
      "51944578\n",
      "ICMarketsSC-Demo\n",
      "Account : 51944578\n",
      "Password : @0p63lC@FWABrr\n",
      "Server : ICMarketsSC-Demo\n",
      "Connected to account #51944578\n"
     ]
    }
   ],
   "source": [
    "login_success = login_to_mt5()"
   ]
  },
  {
   "cell_type": "code",
   "execution_count": 3,
   "metadata": {},
   "outputs": [
    {
     "name": "stdout",
     "output_type": "stream",
     "text": [
      "Account : 51944578\n",
      "password : @0p63lC@FWABrr\n",
      "Server : ICMarketsSC-Demo\n"
     ]
    }
   ],
   "source": [
    "# temp = IC_Markets_Login()\n",
    "\n",
    "# account = mt5.account_info().login\n",
    "\n",
    "# password = temp.password\n",
    "\n",
    "# server = mt5.account_info().server\n",
    "\n",
    "# print(f\"Account : {account}\")\n",
    "# print(f\"password : {password}\")\n",
    "# print(f\"Server : {server}\")\n"
   ]
  },
  {
   "cell_type": "code",
   "execution_count": 4,
   "metadata": {},
   "outputs": [
    {
     "name": "stdout",
     "output_type": "stream",
     "text": [
      "connected to account #51944578\n"
     ]
    }
   ],
   "source": [
    "# authorized = mt5.login(account,password,server)\n",
    "\n",
    "# if authorized:\n",
    "#     print(\"connected to account #{}\".format(account))\n",
    "# else:\n",
    "#     print(\"failed to connect at account #{}, error code: {}\".format(account, mt5.last_error()))"
   ]
  },
  {
   "cell_type": "markdown",
   "metadata": {},
   "source": [
    "# __2. MetaTrader 5 API__ : Retrieving Data"
   ]
  },
  {
   "cell_type": "code",
   "execution_count": 4,
   "metadata": {},
   "outputs": [],
   "source": [
    "ticker = 'EURUSD'\n",
    "frequency = mt5.TIMEFRAME_M1\n",
    "\n",
    "# Define the date range correctly\n",
    "to_date = datetime.now()\n",
    "from_date = datetime(2014, 1, 1)"
   ]
  },
  {
   "cell_type": "code",
   "execution_count": 5,
   "metadata": {},
   "outputs": [
    {
     "data": {
      "text/plain": [
       "array([(1388617200, 1.3755 , 1.3755 , 1.37547, 1.37547,  5, 101, 0),\n",
       "       (1388617260, 1.37547, 1.37549, 1.3754 , 1.37541, 50,  62, 0),\n",
       "       (1388617320, 1.37541, 1.37552, 1.37525, 1.37526, 49,  32, 0), ...,\n",
       "       (1725395280, 1.10357, 1.10361, 1.10356, 1.10357, 16,   0, 0),\n",
       "       (1725395340, 1.10357, 1.10364, 1.10356, 1.10362, 41,   0, 0),\n",
       "       (1725395400, 1.10361, 1.10361, 1.10346, 1.10351, 49,   0, 0)],\n",
       "      dtype=[('time', '<i8'), ('open', '<f8'), ('high', '<f8'), ('low', '<f8'), ('close', '<f8'), ('tick_volume', '<u8'), ('spread', '<i4'), ('real_volume', '<u8')])"
      ]
     },
     "execution_count": 5,
     "metadata": {},
     "output_type": "execute_result"
    }
   ],
   "source": [
    "# range_rates = mt5.copy_rates_range(ticker,frequency,to_date, from_date)\n",
    "\n",
    "range_rates = mt5.copy_rates_range(ticker, frequency, from_date, to_date)\n",
    "\n",
    "range_rates"
   ]
  },
  {
   "cell_type": "code",
   "execution_count": 6,
   "metadata": {},
   "outputs": [
    {
     "data": {
      "text/html": [
       "<div>\n",
       "<style scoped>\n",
       "    .dataframe tbody tr th:only-of-type {\n",
       "        vertical-align: middle;\n",
       "    }\n",
       "\n",
       "    .dataframe tbody tr th {\n",
       "        vertical-align: top;\n",
       "    }\n",
       "\n",
       "    .dataframe thead th {\n",
       "        text-align: right;\n",
       "    }\n",
       "</style>\n",
       "<table border=\"1\" class=\"dataframe\">\n",
       "  <thead>\n",
       "    <tr style=\"text-align: right;\">\n",
       "      <th></th>\n",
       "      <th>time</th>\n",
       "      <th>open</th>\n",
       "      <th>high</th>\n",
       "      <th>low</th>\n",
       "      <th>close</th>\n",
       "      <th>tick_volume</th>\n",
       "      <th>spread</th>\n",
       "      <th>real_volume</th>\n",
       "    </tr>\n",
       "  </thead>\n",
       "  <tbody>\n",
       "    <tr>\n",
       "      <th>0</th>\n",
       "      <td>1388617200</td>\n",
       "      <td>1.37550</td>\n",
       "      <td>1.37550</td>\n",
       "      <td>1.37547</td>\n",
       "      <td>1.37547</td>\n",
       "      <td>5</td>\n",
       "      <td>101</td>\n",
       "      <td>0</td>\n",
       "    </tr>\n",
       "    <tr>\n",
       "      <th>1</th>\n",
       "      <td>1388617260</td>\n",
       "      <td>1.37547</td>\n",
       "      <td>1.37549</td>\n",
       "      <td>1.37540</td>\n",
       "      <td>1.37541</td>\n",
       "      <td>50</td>\n",
       "      <td>62</td>\n",
       "      <td>0</td>\n",
       "    </tr>\n",
       "    <tr>\n",
       "      <th>2</th>\n",
       "      <td>1388617320</td>\n",
       "      <td>1.37541</td>\n",
       "      <td>1.37552</td>\n",
       "      <td>1.37525</td>\n",
       "      <td>1.37526</td>\n",
       "      <td>49</td>\n",
       "      <td>32</td>\n",
       "      <td>0</td>\n",
       "    </tr>\n",
       "    <tr>\n",
       "      <th>3</th>\n",
       "      <td>1388617380</td>\n",
       "      <td>1.37534</td>\n",
       "      <td>1.37546</td>\n",
       "      <td>1.37520</td>\n",
       "      <td>1.37530</td>\n",
       "      <td>16</td>\n",
       "      <td>20</td>\n",
       "      <td>0</td>\n",
       "    </tr>\n",
       "    <tr>\n",
       "      <th>4</th>\n",
       "      <td>1388617440</td>\n",
       "      <td>1.37531</td>\n",
       "      <td>1.37534</td>\n",
       "      <td>1.37530</td>\n",
       "      <td>1.37533</td>\n",
       "      <td>14</td>\n",
       "      <td>38</td>\n",
       "      <td>0</td>\n",
       "    </tr>\n",
       "    <tr>\n",
       "      <th>...</th>\n",
       "      <td>...</td>\n",
       "      <td>...</td>\n",
       "      <td>...</td>\n",
       "      <td>...</td>\n",
       "      <td>...</td>\n",
       "      <td>...</td>\n",
       "      <td>...</td>\n",
       "      <td>...</td>\n",
       "    </tr>\n",
       "    <tr>\n",
       "      <th>3952143</th>\n",
       "      <td>1725395160</td>\n",
       "      <td>1.10360</td>\n",
       "      <td>1.10362</td>\n",
       "      <td>1.10347</td>\n",
       "      <td>1.10347</td>\n",
       "      <td>30</td>\n",
       "      <td>0</td>\n",
       "      <td>0</td>\n",
       "    </tr>\n",
       "    <tr>\n",
       "      <th>3952144</th>\n",
       "      <td>1725395220</td>\n",
       "      <td>1.10347</td>\n",
       "      <td>1.10357</td>\n",
       "      <td>1.10346</td>\n",
       "      <td>1.10355</td>\n",
       "      <td>32</td>\n",
       "      <td>0</td>\n",
       "      <td>0</td>\n",
       "    </tr>\n",
       "    <tr>\n",
       "      <th>3952145</th>\n",
       "      <td>1725395280</td>\n",
       "      <td>1.10357</td>\n",
       "      <td>1.10361</td>\n",
       "      <td>1.10356</td>\n",
       "      <td>1.10357</td>\n",
       "      <td>16</td>\n",
       "      <td>0</td>\n",
       "      <td>0</td>\n",
       "    </tr>\n",
       "    <tr>\n",
       "      <th>3952146</th>\n",
       "      <td>1725395340</td>\n",
       "      <td>1.10357</td>\n",
       "      <td>1.10364</td>\n",
       "      <td>1.10356</td>\n",
       "      <td>1.10362</td>\n",
       "      <td>41</td>\n",
       "      <td>0</td>\n",
       "      <td>0</td>\n",
       "    </tr>\n",
       "    <tr>\n",
       "      <th>3952147</th>\n",
       "      <td>1725395400</td>\n",
       "      <td>1.10361</td>\n",
       "      <td>1.10361</td>\n",
       "      <td>1.10346</td>\n",
       "      <td>1.10351</td>\n",
       "      <td>49</td>\n",
       "      <td>0</td>\n",
       "      <td>0</td>\n",
       "    </tr>\n",
       "  </tbody>\n",
       "</table>\n",
       "<p>3952148 rows × 8 columns</p>\n",
       "</div>"
      ],
      "text/plain": [
       "               time     open     high      low    close  tick_volume  spread  \\\n",
       "0        1388617200  1.37550  1.37550  1.37547  1.37547            5     101   \n",
       "1        1388617260  1.37547  1.37549  1.37540  1.37541           50      62   \n",
       "2        1388617320  1.37541  1.37552  1.37525  1.37526           49      32   \n",
       "3        1388617380  1.37534  1.37546  1.37520  1.37530           16      20   \n",
       "4        1388617440  1.37531  1.37534  1.37530  1.37533           14      38   \n",
       "...             ...      ...      ...      ...      ...          ...     ...   \n",
       "3952143  1725395160  1.10360  1.10362  1.10347  1.10347           30       0   \n",
       "3952144  1725395220  1.10347  1.10357  1.10346  1.10355           32       0   \n",
       "3952145  1725395280  1.10357  1.10361  1.10356  1.10357           16       0   \n",
       "3952146  1725395340  1.10357  1.10364  1.10356  1.10362           41       0   \n",
       "3952147  1725395400  1.10361  1.10361  1.10346  1.10351           49       0   \n",
       "\n",
       "         real_volume  \n",
       "0                  0  \n",
       "1                  0  \n",
       "2                  0  \n",
       "3                  0  \n",
       "4                  0  \n",
       "...              ...  \n",
       "3952143            0  \n",
       "3952144            0  \n",
       "3952145            0  \n",
       "3952146            0  \n",
       "3952147            0  \n",
       "\n",
       "[3952148 rows x 8 columns]"
      ]
     },
     "execution_count": 6,
     "metadata": {},
     "output_type": "execute_result"
    }
   ],
   "source": [
    "data = pd.DataFrame(range_rates)\n",
    "data"
   ]
  },
  {
   "cell_type": "code",
   "execution_count": 7,
   "metadata": {},
   "outputs": [
    {
     "data": {
      "text/html": [
       "<div>\n",
       "<style scoped>\n",
       "    .dataframe tbody tr th:only-of-type {\n",
       "        vertical-align: middle;\n",
       "    }\n",
       "\n",
       "    .dataframe tbody tr th {\n",
       "        vertical-align: top;\n",
       "    }\n",
       "\n",
       "    .dataframe thead th {\n",
       "        text-align: right;\n",
       "    }\n",
       "</style>\n",
       "<table border=\"1\" class=\"dataframe\">\n",
       "  <thead>\n",
       "    <tr style=\"text-align: right;\">\n",
       "      <th></th>\n",
       "      <th>time</th>\n",
       "      <th>open</th>\n",
       "      <th>high</th>\n",
       "      <th>low</th>\n",
       "      <th>close</th>\n",
       "      <th>tick_volume</th>\n",
       "      <th>spread</th>\n",
       "      <th>real_volume</th>\n",
       "    </tr>\n",
       "  </thead>\n",
       "  <tbody>\n",
       "    <tr>\n",
       "      <th>0</th>\n",
       "      <td>2014-01-01 23:00:00</td>\n",
       "      <td>1.37550</td>\n",
       "      <td>1.37550</td>\n",
       "      <td>1.37547</td>\n",
       "      <td>1.37547</td>\n",
       "      <td>5</td>\n",
       "      <td>101</td>\n",
       "      <td>0</td>\n",
       "    </tr>\n",
       "    <tr>\n",
       "      <th>1</th>\n",
       "      <td>2014-01-01 23:01:00</td>\n",
       "      <td>1.37547</td>\n",
       "      <td>1.37549</td>\n",
       "      <td>1.37540</td>\n",
       "      <td>1.37541</td>\n",
       "      <td>50</td>\n",
       "      <td>62</td>\n",
       "      <td>0</td>\n",
       "    </tr>\n",
       "    <tr>\n",
       "      <th>2</th>\n",
       "      <td>2014-01-01 23:02:00</td>\n",
       "      <td>1.37541</td>\n",
       "      <td>1.37552</td>\n",
       "      <td>1.37525</td>\n",
       "      <td>1.37526</td>\n",
       "      <td>49</td>\n",
       "      <td>32</td>\n",
       "      <td>0</td>\n",
       "    </tr>\n",
       "    <tr>\n",
       "      <th>3</th>\n",
       "      <td>2014-01-01 23:03:00</td>\n",
       "      <td>1.37534</td>\n",
       "      <td>1.37546</td>\n",
       "      <td>1.37520</td>\n",
       "      <td>1.37530</td>\n",
       "      <td>16</td>\n",
       "      <td>20</td>\n",
       "      <td>0</td>\n",
       "    </tr>\n",
       "    <tr>\n",
       "      <th>4</th>\n",
       "      <td>2014-01-01 23:04:00</td>\n",
       "      <td>1.37531</td>\n",
       "      <td>1.37534</td>\n",
       "      <td>1.37530</td>\n",
       "      <td>1.37533</td>\n",
       "      <td>14</td>\n",
       "      <td>38</td>\n",
       "      <td>0</td>\n",
       "    </tr>\n",
       "    <tr>\n",
       "      <th>...</th>\n",
       "      <td>...</td>\n",
       "      <td>...</td>\n",
       "      <td>...</td>\n",
       "      <td>...</td>\n",
       "      <td>...</td>\n",
       "      <td>...</td>\n",
       "      <td>...</td>\n",
       "      <td>...</td>\n",
       "    </tr>\n",
       "    <tr>\n",
       "      <th>3952143</th>\n",
       "      <td>2024-09-03 20:26:00</td>\n",
       "      <td>1.10360</td>\n",
       "      <td>1.10362</td>\n",
       "      <td>1.10347</td>\n",
       "      <td>1.10347</td>\n",
       "      <td>30</td>\n",
       "      <td>0</td>\n",
       "      <td>0</td>\n",
       "    </tr>\n",
       "    <tr>\n",
       "      <th>3952144</th>\n",
       "      <td>2024-09-03 20:27:00</td>\n",
       "      <td>1.10347</td>\n",
       "      <td>1.10357</td>\n",
       "      <td>1.10346</td>\n",
       "      <td>1.10355</td>\n",
       "      <td>32</td>\n",
       "      <td>0</td>\n",
       "      <td>0</td>\n",
       "    </tr>\n",
       "    <tr>\n",
       "      <th>3952145</th>\n",
       "      <td>2024-09-03 20:28:00</td>\n",
       "      <td>1.10357</td>\n",
       "      <td>1.10361</td>\n",
       "      <td>1.10356</td>\n",
       "      <td>1.10357</td>\n",
       "      <td>16</td>\n",
       "      <td>0</td>\n",
       "      <td>0</td>\n",
       "    </tr>\n",
       "    <tr>\n",
       "      <th>3952146</th>\n",
       "      <td>2024-09-03 20:29:00</td>\n",
       "      <td>1.10357</td>\n",
       "      <td>1.10364</td>\n",
       "      <td>1.10356</td>\n",
       "      <td>1.10362</td>\n",
       "      <td>41</td>\n",
       "      <td>0</td>\n",
       "      <td>0</td>\n",
       "    </tr>\n",
       "    <tr>\n",
       "      <th>3952147</th>\n",
       "      <td>2024-09-03 20:30:00</td>\n",
       "      <td>1.10361</td>\n",
       "      <td>1.10361</td>\n",
       "      <td>1.10346</td>\n",
       "      <td>1.10351</td>\n",
       "      <td>49</td>\n",
       "      <td>0</td>\n",
       "      <td>0</td>\n",
       "    </tr>\n",
       "  </tbody>\n",
       "</table>\n",
       "<p>3952148 rows × 8 columns</p>\n",
       "</div>"
      ],
      "text/plain": [
       "                       time     open     high      low    close  tick_volume  \\\n",
       "0       2014-01-01 23:00:00  1.37550  1.37550  1.37547  1.37547            5   \n",
       "1       2014-01-01 23:01:00  1.37547  1.37549  1.37540  1.37541           50   \n",
       "2       2014-01-01 23:02:00  1.37541  1.37552  1.37525  1.37526           49   \n",
       "3       2014-01-01 23:03:00  1.37534  1.37546  1.37520  1.37530           16   \n",
       "4       2014-01-01 23:04:00  1.37531  1.37534  1.37530  1.37533           14   \n",
       "...                     ...      ...      ...      ...      ...          ...   \n",
       "3952143 2024-09-03 20:26:00  1.10360  1.10362  1.10347  1.10347           30   \n",
       "3952144 2024-09-03 20:27:00  1.10347  1.10357  1.10346  1.10355           32   \n",
       "3952145 2024-09-03 20:28:00  1.10357  1.10361  1.10356  1.10357           16   \n",
       "3952146 2024-09-03 20:29:00  1.10357  1.10364  1.10356  1.10362           41   \n",
       "3952147 2024-09-03 20:30:00  1.10361  1.10361  1.10346  1.10351           49   \n",
       "\n",
       "         spread  real_volume  \n",
       "0           101            0  \n",
       "1            62            0  \n",
       "2            32            0  \n",
       "3            20            0  \n",
       "4            38            0  \n",
       "...         ...          ...  \n",
       "3952143       0            0  \n",
       "3952144       0            0  \n",
       "3952145       0            0  \n",
       "3952146       0            0  \n",
       "3952147       0            0  \n",
       "\n",
       "[3952148 rows x 8 columns]"
      ]
     },
     "execution_count": 7,
     "metadata": {},
     "output_type": "execute_result"
    }
   ],
   "source": [
    "data['time'] = pd.to_datetime(data['time'],unit = 's')\n",
    "data"
   ]
  },
  {
   "cell_type": "code",
   "execution_count": 18,
   "metadata": {},
   "outputs": [
    {
     "name": "stdout",
     "output_type": "stream",
     "text": [
      "first time : \n",
      "0   2014-01-01 23:00:00\n",
      "Name: time, dtype: datetime64[ns]\n",
      "\n",
      "Last time : \n",
      "3952143   2024-09-03 20:26:00\n",
      "Name: time, dtype: datetime64[ns]\n"
     ]
    }
   ],
   "source": [
    "print(f'first time : \\n{data.head(1)['time']}')\n",
    "print(f\"\\nLast time : \\n{data.tail(1)['time'] }\")"
   ]
  },
  {
   "cell_type": "markdown",
   "metadata": {},
   "source": [
    "# __3. Preprocessing Data__"
   ]
  },
  {
   "cell_type": "markdown",
   "metadata": {},
   "source": [
    "### __3.1 Data Visualization__"
   ]
  },
  {
   "cell_type": "code",
   "execution_count": 28,
   "metadata": {},
   "outputs": [
    {
     "name": "stdout",
     "output_type": "stream",
     "text": [
      "<class 'pandas.core.frame.DataFrame'>\n",
      "RangeIndex: 3952148 entries, 0 to 3952147\n",
      "Data columns (total 22 columns):\n",
      " #   Column                Dtype         \n",
      "---  ------                -----         \n",
      " 0   time                  datetime64[ns]\n",
      " 1   open                  float64       \n",
      " 2   high                  float64       \n",
      " 3   low                   float64       \n",
      " 4   close                 float64       \n",
      " 5   tick_volume           uint64        \n",
      " 6   spread                int32         \n",
      " 7   real_volume           uint64        \n",
      " 8   SMA_10                float64       \n",
      " 9   SMA_20                float64       \n",
      " 10  EMA_20                float64       \n",
      " 11  MACD                  float64       \n",
      " 12  MACD_Signal           float64       \n",
      " 13  MACD_Histogram        float64       \n",
      " 14  RSI_14                float64       \n",
      " 15  slope_SMA_10          float64       \n",
      " 16  slope_SMA_20          float64       \n",
      " 17  slope_EMA_20          float64       \n",
      " 18  slope_RSI_14          float64       \n",
      " 19  slope_MACD            float64       \n",
      " 20  slope_MACD_Signal     float64       \n",
      " 21  slope_MACD_Histogram  float64       \n",
      "dtypes: datetime64[ns](1), float64(18), int32(1), uint64(2)\n",
      "memory usage: 648.3 MB\n"
     ]
    }
   ],
   "source": [
    "data.info()"
   ]
  },
  {
   "cell_type": "code",
   "execution_count": null,
   "metadata": {},
   "outputs": [],
   "source": [
    "data.set_index('time', inplace=True)"
   ]
  },
  {
   "cell_type": "code",
   "execution_count": 19,
   "metadata": {},
   "outputs": [
    {
     "data": {
      "image/png": "[encoded data removed]",
      "text/plain": [
       "<Figure size 1600x800 with 1 Axes>"
      ]
     },
     "metadata": {},
     "output_type": "display_data"
    }
   ],
   "source": [
    "plt.figure(figsize=(16,8))\n",
    "plt.title(f'{ticker} Candlestick from {to_date}')\n",
    "plt.plot(data['close'])\n",
    "plt.ylabel('Close Price')\n",
    "plt.xlabel('Date')\n",
    "plt.show()"
   ]
  },
  {
   "cell_type": "markdown",
   "metadata": {},
   "source": [
    "### __3.2 Data Cleaning__ "
   ]
  },
  {
   "cell_type": "markdown",
   "metadata": {},
   "source": [
    "# __4. Technical Analysis__"
   ]
  },
  {
   "cell_type": "markdown",
   "metadata": {},
   "source": [
    "## __4.1 Indicators__"
   ]
  },
  {
   "cell_type": "code",
   "execution_count": 11,
   "metadata": {},
   "outputs": [
    {
     "name": "stdout",
     "output_type": "stream",
     "text": [
      "Pandas TA - Technical Analysis Indicators - v0.3.14b0\n",
      "Total Indicators & Utilities: 205\n",
      "Abbreviations:\n",
      "    aberration, above, above_value, accbands, ad, adosc, adx, alma, amat, ao, aobv, apo, aroon, atr, bbands, below, below_value, bias, bop, brar, cci, cdl_pattern, cdl_z, cfo, cg, chop, cksp, cmf, cmo, coppock, cross, cross_value, cti, decay, decreasing, dema, dm, donchian, dpo, ebsw, efi, ema, entropy, eom, er, eri, fisher, fwma, ha, hilo, hl2, hlc3, hma, hwc, hwma, ichimoku, increasing, inertia, jma, kama, kc, kdj, kst, kurtosis, kvo, linreg, log_return, long_run, macd, mad, massi, mcgd, median, mfi, midpoint, midprice, mom, natr, nvi, obv, ohlc4, pdist, percent_return, pgo, ppo, psar, psl, pvi, pvo, pvol, pvr, pvt, pwma, qqe, qstick, quantile, rma, roc, rsi, rsx, rvgi, rvi, short_run, sinwma, skew, slope, sma, smi, squeeze, squeeze_pro, ssf, stc, stdev, stoch, stochrsi, supertrend, swma, t3, td_seq, tema, thermo, tos_stdevall, trima, trix, true_range, tsi, tsignals, ttm_trend, ui, uo, variance, vhf, vidya, vortex, vp, vwap, vwma, wcp, willr, wma, xsignals, zlma, zscore\n",
      "\n",
      "Candle Patterns:\n",
      "    2crows, 3blackcrows, 3inside, 3linestrike, 3outside, 3starsinsouth, 3whitesoldiers, abandonedbaby, advanceblock, belthold, breakaway, closingmarubozu, concealbabyswall, counterattack, darkcloudcover, doji, dojistar, dragonflydoji, engulfing, eveningdojistar, eveningstar, gapsidesidewhite, gravestonedoji, hammer, hangingman, harami, haramicross, highwave, hikkake, hikkakemod, homingpigeon, identical3crows, inneck, inside, invertedhammer, kicking, kickingbylength, ladderbottom, longleggeddoji, longline, marubozu, matchinglow, mathold, morningdojistar, morningstar, onneck, piercing, rickshawman, risefall3methods, separatinglines, shootingstar, shortline, spinningtop, stalledpattern, sticksandwich, takuri, tasukigap, thrusting, tristar, unique3river, upsidegap2crows, xsidegap3methods\n"
     ]
    }
   ],
   "source": [
    "data.ta.indicators()"
   ]
  },
  {
   "cell_type": "markdown",
   "metadata": {},
   "source": [
    "#### __4.1.1 Simple Moving Average (SMA)__"
   ]
  },
  {
   "cell_type": "code",
   "execution_count": 15,
   "metadata": {},
   "outputs": [],
   "source": [
    "data['SMA_10'] = ta.sma(data['close'], length=10)\n",
    "data['SMA_20'] = ta.sma(data['close'], length=20)"
   ]
  },
  {
   "cell_type": "markdown",
   "metadata": {},
   "source": [
    "#### __4.1.2 Exponential Moving Average (EMA)__"
   ]
  },
  {
   "cell_type": "code",
   "execution_count": 17,
   "metadata": {},
   "outputs": [],
   "source": [
    "data['EMA_20'] = ta.ema(data['close'], length=20)"
   ]
  },
  {
   "cell_type": "markdown",
   "metadata": {},
   "source": [
    "#### __4.1.3 Moving Average Convergence Divergence (MACD)__"
   ]
  },
  {
   "cell_type": "code",
   "execution_count": 18,
   "metadata": {},
   "outputs": [],
   "source": [
    "\n",
    "macd = ta.macd(data['close'])\n",
    "\n",
    "# Add the MACD, Signal, and Histogram to your DataFrame\n",
    "data['MACD'] = macd['MACD_12_26_9']\n",
    "data['MACD_Signal'] = macd['MACDs_12_26_9']\n",
    "data['MACD_Histogram'] = macd['MACDh_12_26_9']"
   ]
  },
  {
   "cell_type": "markdown",
   "metadata": {},
   "source": [
    "#### __4.1.4 Relative Strength Index (RSI)__"
   ]
  },
  {
   "cell_type": "code",
   "execution_count": 19,
   "metadata": {},
   "outputs": [],
   "source": [
    "data['RSI_14'] = ta.rsi(data['close'], length=14)"
   ]
  },
  {
   "cell_type": "code",
   "execution_count": null,
   "metadata": {},
   "outputs": [],
   "source": [
    "data.head()"
   ]
  },
  {
   "cell_type": "markdown",
   "metadata": {},
   "source": [
    "### __4.2 Calculating Slope__\n",
    "\n",
    "I calculate the slope of the indicators over a rolling window using linear regression. The slope tells us the direction ( or indicates the rate of change in the values over time) and strength of the trend over a specified number of periods.\n",
    "\n",
    "The calculated slope reflects the trend's direction and magnitude:\n",
    "\n",
    "- Positive Slope: Indicates an upward trend in the data.\n",
    "- Negative Slope: Indicates a downward trend.\n",
    "- Slope Magnitude: The greater the magnitude, the steeper the trend."
   ]
  },
  {
   "cell_type": "code",
   "execution_count": 24,
   "metadata": {},
   "outputs": [],
   "source": [
    "def get_slope(array):\n",
    "    '''\n",
    "    Parameters\n",
    "    array: A sequence of numerical values (e.g., SMA values) over which the slope will be calculated. The function expects this to be a NumPy array.\n",
    "    Returns\n",
    "    slope: The slope of the linear regression line fitted to the input array.\n",
    "    '''\n",
    "    y = np.array(array)\n",
    "    x = np.arange(len(y))\n",
    "    slope, intercept, r_value, p_value, std_err = linregress(x,y)\n",
    "    return slope"
   ]
  },
  {
   "cell_type": "code",
   "execution_count": 25,
   "metadata": {},
   "outputs": [],
   "source": [
    "back_roll_by = 4\n",
    "\n",
    "indicator_columns = ['SMA_10','SMA_20', 'EMA_20', 'RSI_14', 'MACD', 'MACD_Signal', 'MACD_Histogram']  \n",
    "\n",
    "\n",
    "for column in indicator_columns:\n",
    "    slope_column_name = f'slope_{column}'\n",
    "    data[slope_column_name] = data[column].rolling(window=back_roll_by).apply(get_slope, raw=True)\n"
   ]
  },
  {
   "cell_type": "code",
   "execution_count": null,
   "metadata": {},
   "outputs": [],
   "source": [
    "# back_roll_by = 4\n",
    "\n",
    "# data['slope_SMA_10'] = data['SMA_10'].rolling(window=back_roll_by).apply(get_slope, raw= True)"
   ]
  },
  {
   "cell_type": "code",
   "execution_count": 29,
   "metadata": {},
   "outputs": [
    {
     "data": {
      "text/html": [
       "<div>\n",
       "<style scoped>\n",
       "    .dataframe tbody tr th:only-of-type {\n",
       "        vertical-align: middle;\n",
       "    }\n",
       "\n",
       "    .dataframe tbody tr th {\n",
       "        vertical-align: top;\n",
       "    }\n",
       "\n",
       "    .dataframe thead th {\n",
       "        text-align: right;\n",
       "    }\n",
       "</style>\n",
       "<table border=\"1\" class=\"dataframe\">\n",
       "  <thead>\n",
       "    <tr style=\"text-align: right;\">\n",
       "      <th></th>\n",
       "      <th>time</th>\n",
       "      <th>open</th>\n",
       "      <th>high</th>\n",
       "      <th>low</th>\n",
       "      <th>close</th>\n",
       "      <th>tick_volume</th>\n",
       "      <th>spread</th>\n",
       "      <th>real_volume</th>\n",
       "      <th>SMA_10</th>\n",
       "      <th>SMA_20</th>\n",
       "      <th>...</th>\n",
       "      <th>MACD_Signal</th>\n",
       "      <th>MACD_Histogram</th>\n",
       "      <th>RSI_14</th>\n",
       "      <th>slope_SMA_10</th>\n",
       "      <th>slope_SMA_20</th>\n",
       "      <th>slope_EMA_20</th>\n",
       "      <th>slope_RSI_14</th>\n",
       "      <th>slope_MACD</th>\n",
       "      <th>slope_MACD_Signal</th>\n",
       "      <th>slope_MACD_Histogram</th>\n",
       "    </tr>\n",
       "  </thead>\n",
       "  <tbody>\n",
       "    <tr>\n",
       "      <th>2272920</th>\n",
       "      <td>2020-03-02 19:17:00</td>\n",
       "      <td>1.11766</td>\n",
       "      <td>1.11788</td>\n",
       "      <td>1.11748</td>\n",
       "      <td>1.11780</td>\n",
       "      <td>116</td>\n",
       "      <td>0</td>\n",
       "      <td>0</td>\n",
       "      <td>1.117601</td>\n",
       "      <td>1.117105</td>\n",
       "      <td>...</td>\n",
       "      <td>0.000563</td>\n",
       "      <td>2.096796e-05</td>\n",
       "      <td>65.457431</td>\n",
       "      <td>7.370000e-05</td>\n",
       "      <td>0.000083</td>\n",
       "      <td>0.000076</td>\n",
       "      <td>-5.710757</td>\n",
       "      <td>-1.172157e-05</td>\n",
       "      <td>1.132312e-05</td>\n",
       "      <td>-2.304469e-05</td>\n",
       "    </tr>\n",
       "    <tr>\n",
       "      <th>1276802</th>\n",
       "      <td>2017-06-13 02:23:00</td>\n",
       "      <td>1.12009</td>\n",
       "      <td>1.12009</td>\n",
       "      <td>1.12001</td>\n",
       "      <td>1.12002</td>\n",
       "      <td>55</td>\n",
       "      <td>0</td>\n",
       "      <td>55</td>\n",
       "      <td>1.120110</td>\n",
       "      <td>1.120094</td>\n",
       "      <td>...</td>\n",
       "      <td>-0.000032</td>\n",
       "      <td>4.080162e-06</td>\n",
       "      <td>41.583459</td>\n",
       "      <td>4.300000e-06</td>\n",
       "      <td>-0.000002</td>\n",
       "      <td>-0.000004</td>\n",
       "      <td>-3.681086</td>\n",
       "      <td>-5.713078e-07</td>\n",
       "      <td>2.382019e-06</td>\n",
       "      <td>-2.953327e-06</td>\n",
       "    </tr>\n",
       "    <tr>\n",
       "      <th>2712132</th>\n",
       "      <td>2021-05-07 05:00:00</td>\n",
       "      <td>1.20658</td>\n",
       "      <td>1.20670</td>\n",
       "      <td>1.20655</td>\n",
       "      <td>1.20666</td>\n",
       "      <td>30</td>\n",
       "      <td>0</td>\n",
       "      <td>0</td>\n",
       "      <td>1.206456</td>\n",
       "      <td>1.206464</td>\n",
       "      <td>...</td>\n",
       "      <td>0.000048</td>\n",
       "      <td>9.810403e-06</td>\n",
       "      <td>65.120349</td>\n",
       "      <td>1.000000e-06</td>\n",
       "      <td>0.000021</td>\n",
       "      <td>0.000014</td>\n",
       "      <td>5.258977</td>\n",
       "      <td>6.664336e-06</td>\n",
       "      <td>-3.107249e-07</td>\n",
       "      <td>6.975061e-06</td>\n",
       "    </tr>\n",
       "    <tr>\n",
       "      <th>3482896</th>\n",
       "      <td>2023-06-01 02:27:00</td>\n",
       "      <td>1.06956</td>\n",
       "      <td>1.06956</td>\n",
       "      <td>1.06950</td>\n",
       "      <td>1.06956</td>\n",
       "      <td>21</td>\n",
       "      <td>0</td>\n",
       "      <td>0</td>\n",
       "      <td>1.069554</td>\n",
       "      <td>1.069507</td>\n",
       "      <td>...</td>\n",
       "      <td>0.000058</td>\n",
       "      <td>-6.983589e-06</td>\n",
       "      <td>62.068977</td>\n",
       "      <td>8.900000e-06</td>\n",
       "      <td>0.000007</td>\n",
       "      <td>0.000005</td>\n",
       "      <td>2.189174</td>\n",
       "      <td>-1.755910e-06</td>\n",
       "      <td>-1.899224e-06</td>\n",
       "      <td>1.433139e-07</td>\n",
       "    </tr>\n",
       "    <tr>\n",
       "      <th>2046357</th>\n",
       "      <td>2019-07-22 23:38:00</td>\n",
       "      <td>1.12072</td>\n",
       "      <td>1.12077</td>\n",
       "      <td>1.12072</td>\n",
       "      <td>1.12076</td>\n",
       "      <td>13</td>\n",
       "      <td>0</td>\n",
       "      <td>0</td>\n",
       "      <td>1.120794</td>\n",
       "      <td>1.120835</td>\n",
       "      <td>...</td>\n",
       "      <td>-0.000012</td>\n",
       "      <td>-1.322980e-05</td>\n",
       "      <td>40.436273</td>\n",
       "      <td>-1.540000e-05</td>\n",
       "      <td>-0.000006</td>\n",
       "      <td>-0.000010</td>\n",
       "      <td>1.158137</td>\n",
       "      <td>-5.881520e-06</td>\n",
       "      <td>-3.444616e-06</td>\n",
       "      <td>-2.436904e-06</td>\n",
       "    </tr>\n",
       "    <tr>\n",
       "      <th>2416855</th>\n",
       "      <td>2020-07-20 22:48:00</td>\n",
       "      <td>1.14446</td>\n",
       "      <td>1.14446</td>\n",
       "      <td>1.14441</td>\n",
       "      <td>1.14443</td>\n",
       "      <td>19</td>\n",
       "      <td>0</td>\n",
       "      <td>0</td>\n",
       "      <td>1.144411</td>\n",
       "      <td>1.144369</td>\n",
       "      <td>...</td>\n",
       "      <td>0.000048</td>\n",
       "      <td>1.832715e-07</td>\n",
       "      <td>56.891268</td>\n",
       "      <td>1.170000e-05</td>\n",
       "      <td>0.000002</td>\n",
       "      <td>0.000008</td>\n",
       "      <td>0.620720</td>\n",
       "      <td>1.016572e-06</td>\n",
       "      <td>1.854254e-07</td>\n",
       "      <td>8.311469e-07</td>\n",
       "    </tr>\n",
       "    <tr>\n",
       "      <th>3378105</th>\n",
       "      <td>2023-02-20 00:49:00</td>\n",
       "      <td>1.06900</td>\n",
       "      <td>1.06904</td>\n",
       "      <td>1.06896</td>\n",
       "      <td>1.06899</td>\n",
       "      <td>81</td>\n",
       "      <td>38</td>\n",
       "      <td>0</td>\n",
       "      <td>1.069051</td>\n",
       "      <td>1.068931</td>\n",
       "      <td>...</td>\n",
       "      <td>0.000057</td>\n",
       "      <td>7.987883e-06</td>\n",
       "      <td>54.807532</td>\n",
       "      <td>3.100000e-06</td>\n",
       "      <td>0.000013</td>\n",
       "      <td>0.000005</td>\n",
       "      <td>-3.734009</td>\n",
       "      <td>-5.670930e-06</td>\n",
       "      <td>4.279157e-06</td>\n",
       "      <td>-9.950087e-06</td>\n",
       "    </tr>\n",
       "    <tr>\n",
       "      <th>192283</th>\n",
       "      <td>2014-07-11 02:59:00</td>\n",
       "      <td>1.35964</td>\n",
       "      <td>1.35966</td>\n",
       "      <td>1.35961</td>\n",
       "      <td>1.35961</td>\n",
       "      <td>7</td>\n",
       "      <td>4</td>\n",
       "      <td>0</td>\n",
       "      <td>1.359762</td>\n",
       "      <td>1.359778</td>\n",
       "      <td>...</td>\n",
       "      <td>-0.000019</td>\n",
       "      <td>-1.470147e-05</td>\n",
       "      <td>36.650004</td>\n",
       "      <td>-9.100000e-06</td>\n",
       "      <td>-0.000011</td>\n",
       "      <td>-0.000013</td>\n",
       "      <td>-4.693719</td>\n",
       "      <td>-9.147259e-06</td>\n",
       "      <td>-1.789706e-06</td>\n",
       "      <td>-7.357553e-06</td>\n",
       "    </tr>\n",
       "    <tr>\n",
       "      <th>819236</th>\n",
       "      <td>2016-03-23 09:38:00</td>\n",
       "      <td>1.11845</td>\n",
       "      <td>1.11891</td>\n",
       "      <td>1.11844</td>\n",
       "      <td>1.11881</td>\n",
       "      <td>111</td>\n",
       "      <td>7</td>\n",
       "      <td>91350000</td>\n",
       "      <td>1.118939</td>\n",
       "      <td>1.118746</td>\n",
       "      <td>...</td>\n",
       "      <td>-0.000067</td>\n",
       "      <td>8.711800e-06</td>\n",
       "      <td>47.991000</td>\n",
       "      <td>-3.840000e-05</td>\n",
       "      <td>0.000017</td>\n",
       "      <td>-0.000024</td>\n",
       "      <td>0.127852</td>\n",
       "      <td>-1.845276e-05</td>\n",
       "      <td>4.815975e-06</td>\n",
       "      <td>-2.326874e-05</td>\n",
       "    </tr>\n",
       "    <tr>\n",
       "      <th>1515857</th>\n",
       "      <td>2018-02-15 21:30:00</td>\n",
       "      <td>1.24986</td>\n",
       "      <td>1.24998</td>\n",
       "      <td>1.24985</td>\n",
       "      <td>1.24995</td>\n",
       "      <td>69</td>\n",
       "      <td>50</td>\n",
       "      <td>0</td>\n",
       "      <td>1.249852</td>\n",
       "      <td>1.249842</td>\n",
       "      <td>...</td>\n",
       "      <td>0.000098</td>\n",
       "      <td>-1.783574e-05</td>\n",
       "      <td>57.946590</td>\n",
       "      <td>3.600000e-06</td>\n",
       "      <td>0.000006</td>\n",
       "      <td>0.000008</td>\n",
       "      <td>2.210984</td>\n",
       "      <td>-2.405056e-06</td>\n",
       "      <td>-5.942538e-06</td>\n",
       "      <td>3.537482e-06</td>\n",
       "    </tr>\n",
       "  </tbody>\n",
       "</table>\n",
       "<p>10 rows × 22 columns</p>\n",
       "</div>"
      ],
      "text/plain": [
       "                       time     open     high      low    close  tick_volume  \\\n",
       "2272920 2020-03-02 19:17:00  1.11766  1.11788  1.11748  1.11780          116   \n",
       "1276802 2017-06-13 02:23:00  1.12009  1.12009  1.12001  1.12002           55   \n",
       "2712132 2021-05-07 05:00:00  1.20658  1.20670  1.20655  1.20666           30   \n",
       "3482896 2023-06-01 02:27:00  1.06956  1.06956  1.06950  1.06956           21   \n",
       "2046357 2019-07-22 23:38:00  1.12072  1.12077  1.12072  1.12076           13   \n",
       "2416855 2020-07-20 22:48:00  1.14446  1.14446  1.14441  1.14443           19   \n",
       "3378105 2023-02-20 00:49:00  1.06900  1.06904  1.06896  1.06899           81   \n",
       "192283  2014-07-11 02:59:00  1.35964  1.35966  1.35961  1.35961            7   \n",
       "819236  2016-03-23 09:38:00  1.11845  1.11891  1.11844  1.11881          111   \n",
       "1515857 2018-02-15 21:30:00  1.24986  1.24998  1.24985  1.24995           69   \n",
       "\n",
       "         spread  real_volume    SMA_10    SMA_20  ...  MACD_Signal  \\\n",
       "2272920       0            0  1.117601  1.117105  ...     0.000563   \n",
       "1276802       0           55  1.120110  1.120094  ...    -0.000032   \n",
       "2712132       0            0  1.206456  1.206464  ...     0.000048   \n",
       "3482896       0            0  1.069554  1.069507  ...     0.000058   \n",
       "2046357       0            0  1.120794  1.120835  ...    -0.000012   \n",
       "2416855       0            0  1.144411  1.144369  ...     0.000048   \n",
       "3378105      38            0  1.069051  1.068931  ...     0.000057   \n",
       "192283        4            0  1.359762  1.359778  ...    -0.000019   \n",
       "819236        7     91350000  1.118939  1.118746  ...    -0.000067   \n",
       "1515857      50            0  1.249852  1.249842  ...     0.000098   \n",
       "\n",
       "         MACD_Histogram     RSI_14  slope_SMA_10  slope_SMA_20  slope_EMA_20  \\\n",
       "2272920    2.096796e-05  65.457431  7.370000e-05      0.000083      0.000076   \n",
       "1276802    4.080162e-06  41.583459  4.300000e-06     -0.000002     -0.000004   \n",
       "2712132    9.810403e-06  65.120349  1.000000e-06      0.000021      0.000014   \n",
       "3482896   -6.983589e-06  62.068977  8.900000e-06      0.000007      0.000005   \n",
       "2046357   -1.322980e-05  40.436273 -1.540000e-05     -0.000006     -0.000010   \n",
       "2416855    1.832715e-07  56.891268  1.170000e-05      0.000002      0.000008   \n",
       "3378105    7.987883e-06  54.807532  3.100000e-06      0.000013      0.000005   \n",
       "192283    -1.470147e-05  36.650004 -9.100000e-06     -0.000011     -0.000013   \n",
       "819236     8.711800e-06  47.991000 -3.840000e-05      0.000017     -0.000024   \n",
       "1515857   -1.783574e-05  57.946590  3.600000e-06      0.000006      0.000008   \n",
       "\n",
       "         slope_RSI_14    slope_MACD  slope_MACD_Signal  slope_MACD_Histogram  \n",
       "2272920     -5.710757 -1.172157e-05       1.132312e-05         -2.304469e-05  \n",
       "1276802     -3.681086 -5.713078e-07       2.382019e-06         -2.953327e-06  \n",
       "2712132      5.258977  6.664336e-06      -3.107249e-07          6.975061e-06  \n",
       "3482896      2.189174 -1.755910e-06      -1.899224e-06          1.433139e-07  \n",
       "2046357      1.158137 -5.881520e-06      -3.444616e-06         -2.436904e-06  \n",
       "2416855      0.620720  1.016572e-06       1.854254e-07          8.311469e-07  \n",
       "3378105     -3.734009 -5.670930e-06       4.279157e-06         -9.950087e-06  \n",
       "192283      -4.693719 -9.147259e-06      -1.789706e-06         -7.357553e-06  \n",
       "819236       0.127852 -1.845276e-05       4.815975e-06         -2.326874e-05  \n",
       "1515857      2.210984 -2.405056e-06      -5.942538e-06          3.537482e-06  \n",
       "\n",
       "[10 rows x 22 columns]"
      ]
     },
     "execution_count": 29,
     "metadata": {},
     "output_type": "execute_result"
    }
   ],
   "source": [
    "data.sample(10)"
   ]
  },
  {
   "cell_type": "markdown",
   "metadata": {},
   "source": [
    "# __5. Preparing Data__"
   ]
  },
  {
   "cell_type": "markdown",
   "metadata": {},
   "source": [
    "### __5.1 Scaling__"
   ]
  },
  {
   "cell_type": "code",
   "execution_count": null,
   "metadata": {},
   "outputs": [],
   "source": [
    "# numerical_features = ['open', 'high', 'low', 'close'] \n",
    "\n",
    "\n",
    "# data[numerical_features] = data[numerical_features]\n",
    "\n",
    "# scaler = MinMaxScaler()\n",
    "# data[numerical_features] = scaler.fit_transform(data[numerical_features])"
   ]
  },
  {
   "cell_type": "code",
   "execution_count": 31,
   "metadata": {},
   "outputs": [],
   "source": [
    "scaler = StandardScaler()\n",
    "scaled_data = scaler.fit_transform(data[['close']])\n",
    "data['close'] = scaled_data"
   ]
  },
  {
   "cell_type": "code",
   "execution_count": 32,
   "metadata": {},
   "outputs": [
    {
     "data": {
      "text/html": [
       "<div>\n",
       "<style scoped>\n",
       "    .dataframe tbody tr th:only-of-type {\n",
       "        vertical-align: middle;\n",
       "    }\n",
       "\n",
       "    .dataframe tbody tr th {\n",
       "        vertical-align: top;\n",
       "    }\n",
       "\n",
       "    .dataframe thead th {\n",
       "        text-align: right;\n",
       "    }\n",
       "</style>\n",
       "<table border=\"1\" class=\"dataframe\">\n",
       "  <thead>\n",
       "    <tr style=\"text-align: right;\">\n",
       "      <th></th>\n",
       "      <th>time</th>\n",
       "      <th>open</th>\n",
       "      <th>high</th>\n",
       "      <th>low</th>\n",
       "      <th>close</th>\n",
       "      <th>tick_volume</th>\n",
       "      <th>spread</th>\n",
       "      <th>real_volume</th>\n",
       "      <th>SMA_10</th>\n",
       "      <th>SMA_20</th>\n",
       "      <th>...</th>\n",
       "      <th>MACD_Histogram</th>\n",
       "      <th>RSI_14</th>\n",
       "      <th>slope_SMA_10</th>\n",
       "      <th>slope_SMA_20</th>\n",
       "      <th>slope_EMA_20</th>\n",
       "      <th>slope_RSI_14</th>\n",
       "      <th>slope_MACD</th>\n",
       "      <th>slope_MACD_Signal</th>\n",
       "      <th>slope_MACD_Histogram</th>\n",
       "      <th>scaled_close</th>\n",
       "    </tr>\n",
       "  </thead>\n",
       "  <tbody>\n",
       "    <tr>\n",
       "      <th>2915762</th>\n",
       "      <td>2021-11-23 19:24:00</td>\n",
       "      <td>1.12654</td>\n",
       "      <td>1.12655</td>\n",
       "      <td>1.12629</td>\n",
       "      <td>-0.160214</td>\n",
       "      <td>44</td>\n",
       "      <td>0</td>\n",
       "      <td>0</td>\n",
       "      <td>1.126506</td>\n",
       "      <td>1.126445</td>\n",
       "      <td>...</td>\n",
       "      <td>1.205285e-05</td>\n",
       "      <td>48.239540</td>\n",
       "      <td>0.000016</td>\n",
       "      <td>0.000017</td>\n",
       "      <td>0.000004</td>\n",
       "      <td>-0.309587</td>\n",
       "      <td>-1.583720e-07</td>\n",
       "      <td>0.000005</td>\n",
       "      <td>-0.000005</td>\n",
       "      <td>-0.160214</td>\n",
       "    </tr>\n",
       "    <tr>\n",
       "      <th>2139063</th>\n",
       "      <td>2019-10-21 11:09:00</td>\n",
       "      <td>1.11660</td>\n",
       "      <td>1.11678</td>\n",
       "      <td>1.11656</td>\n",
       "      <td>-0.280793</td>\n",
       "      <td>45</td>\n",
       "      <td>0</td>\n",
       "      <td>0</td>\n",
       "      <td>1.116470</td>\n",
       "      <td>1.116475</td>\n",
       "      <td>...</td>\n",
       "      <td>8.763522e-07</td>\n",
       "      <td>68.566126</td>\n",
       "      <td>0.000007</td>\n",
       "      <td>0.000027</td>\n",
       "      <td>0.000023</td>\n",
       "      <td>4.225821</td>\n",
       "      <td>5.254869e-06</td>\n",
       "      <td>-0.000004</td>\n",
       "      <td>0.000009</td>\n",
       "      <td>-0.280793</td>\n",
       "    </tr>\n",
       "    <tr>\n",
       "      <th>1537104</th>\n",
       "      <td>2018-03-08 16:23:00</td>\n",
       "      <td>1.23937</td>\n",
       "      <td>1.23964</td>\n",
       "      <td>1.23930</td>\n",
       "      <td>1.254122</td>\n",
       "      <td>315</td>\n",
       "      <td>0</td>\n",
       "      <td>0</td>\n",
       "      <td>1.239513</td>\n",
       "      <td>1.239599</td>\n",
       "      <td>...</td>\n",
       "      <td>8.476683e-05</td>\n",
       "      <td>47.611195</td>\n",
       "      <td>0.000032</td>\n",
       "      <td>-0.000010</td>\n",
       "      <td>-0.000013</td>\n",
       "      <td>-0.816281</td>\n",
       "      <td>1.534609e-05</td>\n",
       "      <td>0.000023</td>\n",
       "      <td>-0.000008</td>\n",
       "      <td>1.254122</td>\n",
       "    </tr>\n",
       "    <tr>\n",
       "      <th>3601582</th>\n",
       "      <td>2023-09-25 19:44:00</td>\n",
       "      <td>1.05927</td>\n",
       "      <td>1.05928</td>\n",
       "      <td>1.05905</td>\n",
       "      <td>-1.002017</td>\n",
       "      <td>30</td>\n",
       "      <td>0</td>\n",
       "      <td>0</td>\n",
       "      <td>1.059185</td>\n",
       "      <td>1.059259</td>\n",
       "      <td>...</td>\n",
       "      <td>-1.318382e-05</td>\n",
       "      <td>41.379254</td>\n",
       "      <td>-0.000004</td>\n",
       "      <td>-0.000011</td>\n",
       "      <td>-0.000006</td>\n",
       "      <td>-1.013501</td>\n",
       "      <td>9.230002e-07</td>\n",
       "      <td>-0.000003</td>\n",
       "      <td>0.000004</td>\n",
       "      <td>-1.002017</td>\n",
       "    </tr>\n",
       "    <tr>\n",
       "      <th>1665665</th>\n",
       "      <td>2018-07-12 13:18:00</td>\n",
       "      <td>1.16762</td>\n",
       "      <td>1.16762</td>\n",
       "      <td>1.16752</td>\n",
       "      <td>0.353840</td>\n",
       "      <td>44</td>\n",
       "      <td>0</td>\n",
       "      <td>0</td>\n",
       "      <td>1.167527</td>\n",
       "      <td>1.167620</td>\n",
       "      <td>...</td>\n",
       "      <td>-1.606197e-05</td>\n",
       "      <td>48.183682</td>\n",
       "      <td>-0.000033</td>\n",
       "      <td>-0.000011</td>\n",
       "      <td>-0.000001</td>\n",
       "      <td>3.166137</td>\n",
       "      <td>8.301346e-06</td>\n",
       "      <td>-0.000007</td>\n",
       "      <td>0.000015</td>\n",
       "      <td>0.353840</td>\n",
       "    </tr>\n",
       "  </tbody>\n",
       "</table>\n",
       "<p>5 rows × 23 columns</p>\n",
       "</div>"
      ],
      "text/plain": [
       "                       time     open     high      low     close  tick_volume  \\\n",
       "2915762 2021-11-23 19:24:00  1.12654  1.12655  1.12629 -0.160214           44   \n",
       "2139063 2019-10-21 11:09:00  1.11660  1.11678  1.11656 -0.280793           45   \n",
       "1537104 2018-03-08 16:23:00  1.23937  1.23964  1.23930  1.254122          315   \n",
       "3601582 2023-09-25 19:44:00  1.05927  1.05928  1.05905 -1.002017           30   \n",
       "1665665 2018-07-12 13:18:00  1.16762  1.16762  1.16752  0.353840           44   \n",
       "\n",
       "         spread  real_volume    SMA_10    SMA_20  ...  MACD_Histogram  \\\n",
       "2915762       0            0  1.126506  1.126445  ...    1.205285e-05   \n",
       "2139063       0            0  1.116470  1.116475  ...    8.763522e-07   \n",
       "1537104       0            0  1.239513  1.239599  ...    8.476683e-05   \n",
       "3601582       0            0  1.059185  1.059259  ...   -1.318382e-05   \n",
       "1665665       0            0  1.167527  1.167620  ...   -1.606197e-05   \n",
       "\n",
       "            RSI_14  slope_SMA_10  slope_SMA_20  slope_EMA_20  slope_RSI_14  \\\n",
       "2915762  48.239540      0.000016      0.000017      0.000004     -0.309587   \n",
       "2139063  68.566126      0.000007      0.000027      0.000023      4.225821   \n",
       "1537104  47.611195      0.000032     -0.000010     -0.000013     -0.816281   \n",
       "3601582  41.379254     -0.000004     -0.000011     -0.000006     -1.013501   \n",
       "1665665  48.183682     -0.000033     -0.000011     -0.000001      3.166137   \n",
       "\n",
       "           slope_MACD  slope_MACD_Signal  slope_MACD_Histogram  scaled_close  \n",
       "2915762 -1.583720e-07           0.000005             -0.000005     -0.160214  \n",
       "2139063  5.254869e-06          -0.000004              0.000009     -0.280793  \n",
       "1537104  1.534609e-05           0.000023             -0.000008      1.254122  \n",
       "3601582  9.230002e-07          -0.000003              0.000004     -1.002017  \n",
       "1665665  8.301346e-06          -0.000007              0.000015      0.353840  \n",
       "\n",
       "[5 rows x 23 columns]"
      ]
     },
     "execution_count": 32,
     "metadata": {},
     "output_type": "execute_result"
    }
   ],
   "source": [
    "\n",
    "data.sample(5)"
   ]
  },
  {
   "cell_type": "markdown",
   "metadata": {},
   "source": [
    "### __5.2 Creating training data__\n",
    "\n",
    "#### __5.2.1 Preparing Lagged Data__\n",
    "\n",
    "- __`df`:__ This is a DataFrame containing the original data.\n",
    "  \n",
    "- __`lag_steps:`__ This is an integer representing the number of time steps to lag the time unit by. It determines how many previous values of the target variable ('close') to include in the lagged DataFrame.\n",
    "  \n",
    "- __`lagged_df:`__ This is a new DataFrame that will store the lagged data.\n",
    "  \n",
    "- __`pd.DataFrame(index=df.index)`:__ This creates a new DataFrame with the same index as the original DataFrame df. The index represents the date and time of each data point.\n",
    "  \n",
    "- __`lagged_df['DateTime'] = df.index:`__ This creates a new column in the lagged_df DataFrame called 'DateTime', and it copies the index of the original DataFrame df. This column will store the date and time information.\n",
    "  \n",
    "- __`lagged_df['ActualValue'] = df['close']:`__ This creates a new column in the lagged_df DataFrame called 'ActualValue', and it copies the values from the 'close' column of the original DataFrame df. This column will store the actual values of the target variable.\n",
    "  \n",
    "- __`Loop:`__ This loop iterates from 1 to lag_steps (inclusive). For each iteration:\n",
    "    - __`lagged_df[f'PrevValue_{i}'] = df['close'].shift(i):`__ This creates a new column in the lagged_df DataFrame for each lagged value. The column name includes the prefix 'PrevValue_' followed by the lag index i. It shifts the values of the 'close' column of the original DataFrame df upwards by i time steps and stores them in the new column. This effectively creates lagged features for the target variable.\n",
    "  \n",
    "- __`return lagged_df.dropna():`__ This returns the lagged DataFrame after dropping any rows with missing values (NaN). Since creating lagged features involves shifting the data, the first few rows will contain NaN values where there is no data available for the lagged features.\n"
   ]
  },
  {
   "cell_type": "code",
   "execution_count": null,
   "metadata": {},
   "outputs": [
    {
     "data": {
      "text/html": [
       "<div>\n",
       "<style scoped>\n",
       "    .dataframe tbody tr th:only-of-type {\n",
       "        vertical-align: middle;\n",
       "    }\n",
       "\n",
       "    .dataframe tbody tr th {\n",
       "        vertical-align: top;\n",
       "    }\n",
       "\n",
       "    .dataframe thead th {\n",
       "        text-align: right;\n",
       "    }\n",
       "</style>\n",
       "<table border=\"1\" class=\"dataframe\">\n",
       "  <thead>\n",
       "    <tr style=\"text-align: right;\">\n",
       "      <th></th>\n",
       "      <th>DateTime</th>\n",
       "      <th>ActualValue</th>\n",
       "      <th>PrevValue_1</th>\n",
       "      <th>PrevValue_2</th>\n",
       "      <th>PrevValue_3</th>\n",
       "      <th>PrevValue_4</th>\n",
       "      <th>PrevValue_5</th>\n",
       "      <th>PrevValue_6</th>\n",
       "      <th>PrevValue_7</th>\n",
       "      <th>PrevValue_8</th>\n",
       "      <th>PrevValue_9</th>\n",
       "      <th>PrevValue_10</th>\n",
       "    </tr>\n",
       "    <tr>\n",
       "      <th>time</th>\n",
       "      <th></th>\n",
       "      <th></th>\n",
       "      <th></th>\n",
       "      <th></th>\n",
       "      <th></th>\n",
       "      <th></th>\n",
       "      <th></th>\n",
       "      <th></th>\n",
       "      <th></th>\n",
       "      <th></th>\n",
       "      <th></th>\n",
       "      <th></th>\n",
       "    </tr>\n",
       "  </thead>\n",
       "  <tbody>\n",
       "    <tr>\n",
       "      <th>1994-01-17</th>\n",
       "      <td>1994-01-17</td>\n",
       "      <td>1.1162</td>\n",
       "      <td>1.1154</td>\n",
       "      <td>1.1175</td>\n",
       "      <td>1.1286</td>\n",
       "      <td>1.1233</td>\n",
       "      <td>1.1276</td>\n",
       "      <td>1.1328</td>\n",
       "      <td>1.1213</td>\n",
       "      <td>1.1233</td>\n",
       "      <td>1.1260</td>\n",
       "      <td>1.1216</td>\n",
       "    </tr>\n",
       "    <tr>\n",
       "      <th>1994-01-18</th>\n",
       "      <td>1994-01-18</td>\n",
       "      <td>1.1197</td>\n",
       "      <td>1.1162</td>\n",
       "      <td>1.1154</td>\n",
       "      <td>1.1175</td>\n",
       "      <td>1.1286</td>\n",
       "      <td>1.1233</td>\n",
       "      <td>1.1276</td>\n",
       "      <td>1.1328</td>\n",
       "      <td>1.1213</td>\n",
       "      <td>1.1233</td>\n",
       "      <td>1.1260</td>\n",
       "    </tr>\n",
       "    <tr>\n",
       "      <th>1994-01-19</th>\n",
       "      <td>1994-01-19</td>\n",
       "      <td>1.1193</td>\n",
       "      <td>1.1197</td>\n",
       "      <td>1.1162</td>\n",
       "      <td>1.1154</td>\n",
       "      <td>1.1175</td>\n",
       "      <td>1.1286</td>\n",
       "      <td>1.1233</td>\n",
       "      <td>1.1276</td>\n",
       "      <td>1.1328</td>\n",
       "      <td>1.1213</td>\n",
       "      <td>1.1233</td>\n",
       "    </tr>\n",
       "    <tr>\n",
       "      <th>1994-01-20</th>\n",
       "      <td>1994-01-20</td>\n",
       "      <td>1.1259</td>\n",
       "      <td>1.1193</td>\n",
       "      <td>1.1197</td>\n",
       "      <td>1.1162</td>\n",
       "      <td>1.1154</td>\n",
       "      <td>1.1175</td>\n",
       "      <td>1.1286</td>\n",
       "      <td>1.1233</td>\n",
       "      <td>1.1276</td>\n",
       "      <td>1.1328</td>\n",
       "      <td>1.1213</td>\n",
       "    </tr>\n",
       "    <tr>\n",
       "      <th>1994-01-21</th>\n",
       "      <td>1994-01-21</td>\n",
       "      <td>1.1144</td>\n",
       "      <td>1.1259</td>\n",
       "      <td>1.1193</td>\n",
       "      <td>1.1197</td>\n",
       "      <td>1.1162</td>\n",
       "      <td>1.1154</td>\n",
       "      <td>1.1175</td>\n",
       "      <td>1.1286</td>\n",
       "      <td>1.1233</td>\n",
       "      <td>1.1276</td>\n",
       "      <td>1.1328</td>\n",
       "    </tr>\n",
       "  </tbody>\n",
       "</table>\n",
       "</div>"
      ],
      "text/plain": [
       "             DateTime  ActualValue  PrevValue_1  PrevValue_2  PrevValue_3  \\\n",
       "time                                                                        \n",
       "1994-01-17 1994-01-17       1.1162       1.1154       1.1175       1.1286   \n",
       "1994-01-18 1994-01-18       1.1197       1.1162       1.1154       1.1175   \n",
       "1994-01-19 1994-01-19       1.1193       1.1197       1.1162       1.1154   \n",
       "1994-01-20 1994-01-20       1.1259       1.1193       1.1197       1.1162   \n",
       "1994-01-21 1994-01-21       1.1144       1.1259       1.1193       1.1197   \n",
       "\n",
       "            PrevValue_4  PrevValue_5  PrevValue_6  PrevValue_7  PrevValue_8  \\\n",
       "time                                                                          \n",
       "1994-01-17       1.1233       1.1276       1.1328       1.1213       1.1233   \n",
       "1994-01-18       1.1286       1.1233       1.1276       1.1328       1.1213   \n",
       "1994-01-19       1.1175       1.1286       1.1233       1.1276       1.1328   \n",
       "1994-01-20       1.1154       1.1175       1.1286       1.1233       1.1276   \n",
       "1994-01-21       1.1162       1.1154       1.1175       1.1286       1.1233   \n",
       "\n",
       "            PrevValue_9  PrevValue_10  \n",
       "time                                   \n",
       "1994-01-17       1.1260        1.1216  \n",
       "1994-01-18       1.1233        1.1260  \n",
       "1994-01-19       1.1213        1.1233  \n",
       "1994-01-20       1.1328        1.1213  \n",
       "1994-01-21       1.1276        1.1328  "
      ]
     },
     "execution_count": 15,
     "metadata": {},
     "output_type": "execute_result"
    }
   ],
   "source": [
    "# go_back_by = 10\n",
    "\n",
    "# def create_lagged_dataframe(df, lag_steps=go_back_by):\n",
    "#     lagged_df = pd.DataFrame(index=df.index)\n",
    "#     lagged_df['DateTime'] = df.index\n",
    "#     lagged_df['ActualValue'] = df['close']\n",
    "\n",
    "#     #Creating lagged columns for previous values\n",
    "#     for i in range(1, lag_steps + 1):\n",
    "#         lagged_df[f'PrevValue_{i}'] = df['close'].shift(i)\n",
    "\n",
    "#     return lagged_df.dropna()\n",
    "\n",
    "# lagged_df = create_lagged_dataframe(data)\n",
    "# lagged_df.head()\n"
   ]
  },
  {
   "cell_type": "code",
   "execution_count": 33,
   "metadata": {},
   "outputs": [
    {
     "data": {
      "text/html": [
       "<div>\n",
       "<style scoped>\n",
       "    .dataframe tbody tr th:only-of-type {\n",
       "        vertical-align: middle;\n",
       "    }\n",
       "\n",
       "    .dataframe tbody tr th {\n",
       "        vertical-align: top;\n",
       "    }\n",
       "\n",
       "    .dataframe thead th {\n",
       "        text-align: right;\n",
       "    }\n",
       "</style>\n",
       "<table border=\"1\" class=\"dataframe\">\n",
       "  <thead>\n",
       "    <tr style=\"text-align: right;\">\n",
       "      <th></th>\n",
       "      <th>DateTime</th>\n",
       "      <th>ActualValue</th>\n",
       "      <th>close_lag_1</th>\n",
       "      <th>close_lag_2</th>\n",
       "      <th>close_lag_3</th>\n",
       "      <th>SMA_10_lag_1</th>\n",
       "      <th>SMA_10_lag_2</th>\n",
       "      <th>SMA_10_lag_3</th>\n",
       "      <th>SMA_20_lag_1</th>\n",
       "      <th>SMA_20_lag_2</th>\n",
       "      <th>...</th>\n",
       "      <th>RSI_14_lag_3</th>\n",
       "      <th>MACD_lag_1</th>\n",
       "      <th>MACD_lag_2</th>\n",
       "      <th>MACD_lag_3</th>\n",
       "      <th>MACD_Signal_lag_1</th>\n",
       "      <th>MACD_Signal_lag_2</th>\n",
       "      <th>MACD_Signal_lag_3</th>\n",
       "      <th>MACD_Histogram_lag_1</th>\n",
       "      <th>MACD_Histogram_lag_2</th>\n",
       "      <th>MACD_Histogram_lag_3</th>\n",
       "    </tr>\n",
       "  </thead>\n",
       "  <tbody>\n",
       "    <tr>\n",
       "      <th>36</th>\n",
       "      <td>36</td>\n",
       "      <td>2.951599</td>\n",
       "      <td>2.946850</td>\n",
       "      <td>2.947100</td>\n",
       "      <td>2.946975</td>\n",
       "      <td>1.375227</td>\n",
       "      <td>1.375212</td>\n",
       "      <td>1.375196</td>\n",
       "      <td>1.375158</td>\n",
       "      <td>1.375128</td>\n",
       "      <td>...</td>\n",
       "      <td>47.768647</td>\n",
       "      <td>-0.000011</td>\n",
       "      <td>-4.340305e-07</td>\n",
       "      <td>1.069187e-05</td>\n",
       "      <td>-0.000020</td>\n",
       "      <td>-0.000022</td>\n",
       "      <td>-0.000027</td>\n",
       "      <td>0.000009</td>\n",
       "      <td>0.000021</td>\n",
       "      <td>0.000038</td>\n",
       "    </tr>\n",
       "    <tr>\n",
       "      <th>37</th>\n",
       "      <td>37</td>\n",
       "      <td>2.947850</td>\n",
       "      <td>2.951599</td>\n",
       "      <td>2.946850</td>\n",
       "      <td>2.947100</td>\n",
       "      <td>1.375277</td>\n",
       "      <td>1.375227</td>\n",
       "      <td>1.375212</td>\n",
       "      <td>1.375196</td>\n",
       "      <td>1.375158</td>\n",
       "      <td>...</td>\n",
       "      <td>47.955041</td>\n",
       "      <td>0.000012</td>\n",
       "      <td>-1.074140e-05</td>\n",
       "      <td>-4.340305e-07</td>\n",
       "      <td>-0.000013</td>\n",
       "      <td>-0.000020</td>\n",
       "      <td>-0.000022</td>\n",
       "      <td>0.000025</td>\n",
       "      <td>0.000009</td>\n",
       "      <td>0.000021</td>\n",
       "    </tr>\n",
       "    <tr>\n",
       "      <th>38</th>\n",
       "      <td>38</td>\n",
       "      <td>2.946850</td>\n",
       "      <td>2.947850</td>\n",
       "      <td>2.951599</td>\n",
       "      <td>2.946850</td>\n",
       "      <td>1.375284</td>\n",
       "      <td>1.375277</td>\n",
       "      <td>1.375227</td>\n",
       "      <td>1.375206</td>\n",
       "      <td>1.375196</td>\n",
       "      <td>...</td>\n",
       "      <td>47.589257</td>\n",
       "      <td>0.000005</td>\n",
       "      <td>1.161882e-05</td>\n",
       "      <td>-1.074140e-05</td>\n",
       "      <td>-0.000010</td>\n",
       "      <td>-0.000013</td>\n",
       "      <td>-0.000020</td>\n",
       "      <td>0.000015</td>\n",
       "      <td>0.000025</td>\n",
       "      <td>0.000009</td>\n",
       "    </tr>\n",
       "    <tr>\n",
       "      <th>39</th>\n",
       "      <td>39</td>\n",
       "      <td>2.949724</td>\n",
       "      <td>2.946850</td>\n",
       "      <td>2.947850</td>\n",
       "      <td>2.951599</td>\n",
       "      <td>1.375253</td>\n",
       "      <td>1.375284</td>\n",
       "      <td>1.375277</td>\n",
       "      <td>1.375206</td>\n",
       "      <td>1.375206</td>\n",
       "      <td>...</td>\n",
       "      <td>54.664860</td>\n",
       "      <td>-0.000006</td>\n",
       "      <td>5.073483e-06</td>\n",
       "      <td>1.161882e-05</td>\n",
       "      <td>-0.000009</td>\n",
       "      <td>-0.000010</td>\n",
       "      <td>-0.000013</td>\n",
       "      <td>0.000003</td>\n",
       "      <td>0.000015</td>\n",
       "      <td>0.000025</td>\n",
       "    </tr>\n",
       "    <tr>\n",
       "      <th>40</th>\n",
       "      <td>40</td>\n",
       "      <td>2.950599</td>\n",
       "      <td>2.949724</td>\n",
       "      <td>2.946850</td>\n",
       "      <td>2.947850</td>\n",
       "      <td>1.375261</td>\n",
       "      <td>1.375253</td>\n",
       "      <td>1.375284</td>\n",
       "      <td>1.375229</td>\n",
       "      <td>1.375206</td>\n",
       "      <td>...</td>\n",
       "      <td>49.036464</td>\n",
       "      <td>0.000003</td>\n",
       "      <td>-6.494215e-06</td>\n",
       "      <td>5.073483e-06</td>\n",
       "      <td>-0.000007</td>\n",
       "      <td>-0.000009</td>\n",
       "      <td>-0.000010</td>\n",
       "      <td>0.000010</td>\n",
       "      <td>0.000003</td>\n",
       "      <td>0.000015</td>\n",
       "    </tr>\n",
       "  </tbody>\n",
       "</table>\n",
       "<p>5 rows × 26 columns</p>\n",
       "</div>"
      ],
      "text/plain": [
       "    DateTime  ActualValue  close_lag_1  close_lag_2  close_lag_3  \\\n",
       "36        36     2.951599     2.946850     2.947100     2.946975   \n",
       "37        37     2.947850     2.951599     2.946850     2.947100   \n",
       "38        38     2.946850     2.947850     2.951599     2.946850   \n",
       "39        39     2.949724     2.946850     2.947850     2.951599   \n",
       "40        40     2.950599     2.949724     2.946850     2.947850   \n",
       "\n",
       "    SMA_10_lag_1  SMA_10_lag_2  SMA_10_lag_3  SMA_20_lag_1  SMA_20_lag_2  ...  \\\n",
       "36      1.375227      1.375212      1.375196      1.375158      1.375128  ...   \n",
       "37      1.375277      1.375227      1.375212      1.375196      1.375158  ...   \n",
       "38      1.375284      1.375277      1.375227      1.375206      1.375196  ...   \n",
       "39      1.375253      1.375284      1.375277      1.375206      1.375206  ...   \n",
       "40      1.375261      1.375253      1.375284      1.375229      1.375206  ...   \n",
       "\n",
       "    RSI_14_lag_3  MACD_lag_1    MACD_lag_2    MACD_lag_3  MACD_Signal_lag_1  \\\n",
       "36     47.768647   -0.000011 -4.340305e-07  1.069187e-05          -0.000020   \n",
       "37     47.955041    0.000012 -1.074140e-05 -4.340305e-07          -0.000013   \n",
       "38     47.589257    0.000005  1.161882e-05 -1.074140e-05          -0.000010   \n",
       "39     54.664860   -0.000006  5.073483e-06  1.161882e-05          -0.000009   \n",
       "40     49.036464    0.000003 -6.494215e-06  5.073483e-06          -0.000007   \n",
       "\n",
       "    MACD_Signal_lag_2  MACD_Signal_lag_3  MACD_Histogram_lag_1  \\\n",
       "36          -0.000022          -0.000027              0.000009   \n",
       "37          -0.000020          -0.000022              0.000025   \n",
       "38          -0.000013          -0.000020              0.000015   \n",
       "39          -0.000010          -0.000013              0.000003   \n",
       "40          -0.000009          -0.000010              0.000010   \n",
       "\n",
       "    MACD_Histogram_lag_2  MACD_Histogram_lag_3  \n",
       "36              0.000021              0.000038  \n",
       "37              0.000009              0.000021  \n",
       "38              0.000025              0.000009  \n",
       "39              0.000015              0.000025  \n",
       "40              0.000003              0.000015  \n",
       "\n",
       "[5 rows x 26 columns]"
      ]
     },
     "execution_count": 33,
     "metadata": {},
     "output_type": "execute_result"
    }
   ],
   "source": [
    "go_back_by = 3\n",
    "\n",
    "def create_lagged_dataframe(df, lag_steps=go_back_by, columns_to_lag=None):\n",
    "    if columns_to_lag is None:\n",
    "        columns_to_lag = df.columns  # By default, lag all columns\n",
    "\n",
    "    lagged_df = pd.DataFrame(index=df.index)\n",
    "    lagged_df['DateTime'] = df.index\n",
    "    lagged_df['ActualValue'] = df['close']  # Keep 'ActualValue' for the close price\n",
    "\n",
    "    # Creating lagged columns for each selected column\n",
    "    for column in columns_to_lag:\n",
    "        for i in range(1, lag_steps + 1):\n",
    "            lagged_df[f'{column}_lag_{i}'] = df[column].shift(i)\n",
    "\n",
    "    return lagged_df.dropna()\n",
    "\n",
    "# Specify the columns you want to lag\n",
    "columns_to_lag = ['close', 'SMA_10', 'SMA_20', 'EMA_20', 'RSI_14', 'MACD', 'MACD_Signal', 'MACD_Histogram']\n",
    "\n",
    "lagged_df = create_lagged_dataframe(data, lag_steps=go_back_by, columns_to_lag=columns_to_lag)\n"
   ]
  },
  {
   "cell_type": "code",
   "execution_count": 34,
   "metadata": {},
   "outputs": [
    {
     "data": {
      "text/html": [
       "<div>\n",
       "<style scoped>\n",
       "    .dataframe tbody tr th:only-of-type {\n",
       "        vertical-align: middle;\n",
       "    }\n",
       "\n",
       "    .dataframe tbody tr th {\n",
       "        vertical-align: top;\n",
       "    }\n",
       "\n",
       "    .dataframe thead th {\n",
       "        text-align: right;\n",
       "    }\n",
       "</style>\n",
       "<table border=\"1\" class=\"dataframe\">\n",
       "  <thead>\n",
       "    <tr style=\"text-align: right;\">\n",
       "      <th></th>\n",
       "      <th>DateTime</th>\n",
       "      <th>ActualValue</th>\n",
       "      <th>close_lag_1</th>\n",
       "      <th>close_lag_2</th>\n",
       "      <th>close_lag_3</th>\n",
       "      <th>SMA_10_lag_1</th>\n",
       "      <th>SMA_10_lag_2</th>\n",
       "      <th>SMA_10_lag_3</th>\n",
       "      <th>SMA_20_lag_1</th>\n",
       "      <th>SMA_20_lag_2</th>\n",
       "      <th>...</th>\n",
       "      <th>RSI_14_lag_3</th>\n",
       "      <th>MACD_lag_1</th>\n",
       "      <th>MACD_lag_2</th>\n",
       "      <th>MACD_lag_3</th>\n",
       "      <th>MACD_Signal_lag_1</th>\n",
       "      <th>MACD_Signal_lag_2</th>\n",
       "      <th>MACD_Signal_lag_3</th>\n",
       "      <th>MACD_Histogram_lag_1</th>\n",
       "      <th>MACD_Histogram_lag_2</th>\n",
       "      <th>MACD_Histogram_lag_3</th>\n",
       "    </tr>\n",
       "  </thead>\n",
       "  <tbody>\n",
       "    <tr>\n",
       "      <th>788191</th>\n",
       "      <td>788191</td>\n",
       "      <td>-0.475093</td>\n",
       "      <td>-0.474594</td>\n",
       "      <td>-0.475718</td>\n",
       "      <td>-0.478092</td>\n",
       "      <td>1.101414</td>\n",
       "      <td>1.10149</td>\n",
       "      <td>1.101554</td>\n",
       "      <td>1.101671</td>\n",
       "      <td>1.101676</td>\n",
       "      <td>...</td>\n",
       "      <td>39.725248</td>\n",
       "      <td>-0.000107</td>\n",
       "      <td>-0.000103</td>\n",
       "      <td>-0.000088</td>\n",
       "      <td>8.878714e-08</td>\n",
       "      <td>0.000027</td>\n",
       "      <td>0.000059</td>\n",
       "      <td>-0.000107</td>\n",
       "      <td>-0.00013</td>\n",
       "      <td>-0.000147</td>\n",
       "    </tr>\n",
       "  </tbody>\n",
       "</table>\n",
       "<p>1 rows × 26 columns</p>\n",
       "</div>"
      ],
      "text/plain": [
       "        DateTime  ActualValue  close_lag_1  close_lag_2  close_lag_3  \\\n",
       "788191    788191    -0.475093    -0.474594    -0.475718    -0.478092   \n",
       "\n",
       "        SMA_10_lag_1  SMA_10_lag_2  SMA_10_lag_3  SMA_20_lag_1  SMA_20_lag_2  \\\n",
       "788191      1.101414       1.10149      1.101554      1.101671      1.101676   \n",
       "\n",
       "        ...  RSI_14_lag_3  MACD_lag_1  MACD_lag_2  MACD_lag_3  \\\n",
       "788191  ...     39.725248   -0.000107   -0.000103   -0.000088   \n",
       "\n",
       "        MACD_Signal_lag_1  MACD_Signal_lag_2  MACD_Signal_lag_3  \\\n",
       "788191       8.878714e-08           0.000027           0.000059   \n",
       "\n",
       "        MACD_Histogram_lag_1  MACD_Histogram_lag_2  MACD_Histogram_lag_3  \n",
       "788191             -0.000107              -0.00013             -0.000147  \n",
       "\n",
       "[1 rows x 26 columns]"
      ]
     },
     "execution_count": 34,
     "metadata": {},
     "output_type": "execute_result"
    }
   ],
   "source": [
    "lagged_df.sample()\n"
   ]
  },
  {
   "cell_type": "code",
   "execution_count": 37,
   "metadata": {},
   "outputs": [
    {
     "data": {
      "text/plain": [
       "(3952112, 26)"
      ]
     },
     "execution_count": 37,
     "metadata": {},
     "output_type": "execute_result"
    }
   ],
   "source": [
    "lagged_df.shape"
   ]
  },
  {
   "cell_type": "code",
   "execution_count": 35,
   "metadata": {},
   "outputs": [
    {
     "data": {
      "text/plain": [
       "Index(['DateTime', 'ActualValue', 'close_lag_1', 'close_lag_2', 'close_lag_3',\n",
       "       'SMA_10_lag_1', 'SMA_10_lag_2', 'SMA_10_lag_3', 'SMA_20_lag_1',\n",
       "       'SMA_20_lag_2', 'SMA_20_lag_3', 'EMA_20_lag_1', 'EMA_20_lag_2',\n",
       "       'EMA_20_lag_3', 'RSI_14_lag_1', 'RSI_14_lag_2', 'RSI_14_lag_3',\n",
       "       'MACD_lag_1', 'MACD_lag_2', 'MACD_lag_3', 'MACD_Signal_lag_1',\n",
       "       'MACD_Signal_lag_2', 'MACD_Signal_lag_3', 'MACD_Histogram_lag_1',\n",
       "       'MACD_Histogram_lag_2', 'MACD_Histogram_lag_3'],\n",
       "      dtype='object')"
      ]
     },
     "execution_count": 35,
     "metadata": {},
     "output_type": "execute_result"
    }
   ],
   "source": [
    "lagged_df.columns\n"
   ]
  },
  {
   "cell_type": "markdown",
   "metadata": {},
   "source": [
    "#### __5.2.2 Prepare LSTM Data__\n",
    "\n",
    "- __`lagged_df:`__ This is a DataFrame containing the lagged data.\n",
    "\n",
    "- __`dates:`__ This variable stores the date and time information from the lagged DataFrame.\n",
    "\n",
    "- __`X:`__ This variable stores the input features for the LSTM model. It consists of all columns from the lagged DataFrame except 'DateTime' and 'ActualValue', converted to float32 data type.\n",
    "\n",
    "- __`y:`__ This variable stores the target variable for the LSTM model, which is the 'ActualValue' column from the lagged DataFrame, converted to float32 data type.\n",
    "\n",
    "- __`return:`__ The function returns three variables: dates, X, and y, containing the respective data.\n",
    "\n"
   ]
  },
  {
   "cell_type": "code",
   "execution_count": 38,
   "metadata": {},
   "outputs": [
    {
     "name": "stdout",
     "output_type": "stream",
     "text": [
      "Dates: (3952112,)\n",
      "X shape: (3952112, 24)\n",
      "y shape: (3952112,)\n"
     ]
    }
   ],
   "source": [
    "def prepare_lstm_data(lagged_df):\n",
    "    dates = lagged_df['DateTime']\n",
    "    X = lagged_df.drop(columns=['DateTime', 'ActualValue']).astype(np.float32)\n",
    "    y = lagged_df['ActualValue'].astype(np.float32)\n",
    "\n",
    "    return dates, X.values, y.values\n",
    "\n",
    "\n",
    "dates, X, y = prepare_lstm_data(lagged_df)\n",
    "print(\"Dates:\", dates.shape)\n",
    "print(\"X shape:\", X.shape)\n",
    "print(\"y shape:\", y.shape)\n"
   ]
  },
  {
   "cell_type": "markdown",
   "metadata": {},
   "source": [
    "### __5.3 Spliting: Training, Validation, Testing Data__"
   ]
  },
  {
   "cell_type": "markdown",
   "metadata": {},
   "source": [
    "#### __Split Data__\n",
    "\n",
    "- __`dates:`__ This variable contains the date and time information.\n",
    "\n",
    "- __`X:`__ This variable contains the input features for the model.\n",
    "\n",
    "- __`y:`__ This variable contains the target variable for the model.\n",
    "\n",
    "- __`x_train:`__ This variable contains the input features for the training set.\n",
    "\n",
    "- __`y_train:`__ This variable contains the target variable for the training set.\n",
    "\n",
    "- __`x_val:`__ This variable contains the input features for the validation set.\n",
    "\n",
    "- __`y_val:`__ This variable contains the target variable for the validation set.\n",
    "\n",
    "- __`x_test:`__ This variable contains the input features for the test set.\n",
    "\n",
    "- __`y_test:`__ This variable contains the target variable for the test set.\n",
    "\n",
    "- __`train_data:`__ This tuple contains the input features and target variable for the training set.\n",
    "\n",
    "- __`val_data:`__ This tuple contains the input features and target variable for the validation set.\n",
    "\n",
    "- __`test_data:`__ This tuple contains the input features and target variable for the test set.\n",
    "\n",
    "- __`return:`__ The function returns three tuples: train_data, val_data, and test_data, each containing the respective input features and target variable for the corresponding set.\n",
    "\n"
   ]
  },
  {
   "cell_type": "code",
   "execution_count": 39,
   "metadata": {},
   "outputs": [],
   "source": [
    "def split_data(dates, X, y):\n",
    "    x_train, x_temp, y_train, y_temp = train_test_split(X, y, test_size=0.3, random_state=42)\n",
    "    x_val, x_test, y_val, y_test = train_test_split(x_temp, y_temp, test_size=0.5, random_state=42)\n",
    "    \n",
    "    return (x_train, y_train), (x_val, y_val), (x_test, y_test)\n",
    "\n",
    "(train_data, val_data, test_data) = split_data(dates, X, y)\n",
    "(x_train, y_train), (x_val, y_val), (x_test, y_test) = train_data, val_data, test_data\n"
   ]
  },
  {
   "cell_type": "code",
   "execution_count": 40,
   "metadata": {},
   "outputs": [
    {
     "name": "stdout",
     "output_type": "stream",
     "text": [
      "Training set: 2766478 instances ( 69.99998987882935 %)\n",
      "Validation set: 592817 instances ( 15.000005060585329 %)\n",
      "Testing set: 592817 instances ( 15.000005060585329 %)\n"
     ]
    }
   ],
   "source": [
    "# OPTIONAL: Calculating the total number of instances\n",
    "total_instances = len(x_train) + len(x_val) + len(x_test)\n",
    "\n",
    "# Each set has\n",
    "print(\"Training set:\", len(x_train), \"instances (\", len(x_train) / total_instances * 100, \"%)\")\n",
    "print(\"Validation set:\", len(x_val), \"instances (\", len(x_val) / total_instances * 100, \"%)\")\n",
    "print(\"Testing set:\", len(x_test), \"instances (\", len(x_test) / total_instances * 100, \"%)\")\n"
   ]
  },
  {
   "cell_type": "markdown",
   "metadata": {},
   "source": [
    "\n",
    "# __6. Training the model__"
   ]
  },
  {
   "cell_type": "markdown",
   "metadata": {},
   "source": [
    "### __6.1 Weights and Biases__"
   ]
  },
  {
   "cell_type": "code",
   "execution_count": 41,
   "metadata": {},
   "outputs": [
    {
     "name": "stderr",
     "output_type": "stream",
     "text": [
      "wandb: Appending key for api.wandb.ai to your netrc file: C:\\Users\\tshol\\.netrc\n"
     ]
    }
   ],
   "source": [
    "!wandb login 92747ba767c68ec2ec63d2b44818eaeba8e973b9"
   ]
  },
  {
   "cell_type": "markdown",
   "metadata": {},
   "source": [
    "### __6.1.1 Defining the model__"
   ]
  },
  {
   "cell_type": "code",
   "execution_count": 43,
   "metadata": {},
   "outputs": [
    {
     "data": {
      "text/html": [
       "Finishing last run (ID:gavkdw62) before initializing another..."
      ],
      "text/plain": [
       "<IPython.core.display.HTML object>"
      ]
     },
     "metadata": {},
     "output_type": "display_data"
    },
    {
     "data": {
      "text/html": [
       " View run <strong style=\"color:#cdcd00\">dry-blaze-11</strong> at: <a href='https://wandb.ai/masixoleboya/first_keras_intergration/runs/gavkdw62' target=\"_blank\">https://wandb.ai/masixoleboya/first_keras_intergration/runs/gavkdw62</a><br/> View project at: <a href='https://wandb.ai/masixoleboya/first_keras_intergration' target=\"_blank\">https://wandb.ai/masixoleboya/first_keras_intergration</a><br/>Synced 4 W&B file(s), 0 media file(s), 0 artifact file(s) and 0 other file(s)"
      ],
      "text/plain": [
       "<IPython.core.display.HTML object>"
      ]
     },
     "metadata": {},
     "output_type": "display_data"
    },
    {
     "data": {
      "text/html": [
       "Find logs at: <code>.\\wandb\\run-20240904_012723-gavkdw62\\logs</code>"
      ],
      "text/plain": [
       "<IPython.core.display.HTML object>"
      ]
     },
     "metadata": {},
     "output_type": "display_data"
    },
    {
     "data": {
      "text/html": [
       "Successfully finished last run (ID:gavkdw62). Initializing new run:<br/>"
      ],
      "text/plain": [
       "<IPython.core.display.HTML object>"
      ]
     },
     "metadata": {},
     "output_type": "display_data"
    },
    {
     "data": {
      "text/html": [
       "wandb version 0.17.8 is available!  To upgrade, please run:\n",
       " $ pip install wandb --upgrade"
      ],
      "text/plain": [
       "<IPython.core.display.HTML object>"
      ]
     },
     "metadata": {},
     "output_type": "display_data"
    },
    {
     "data": {
      "text/html": [
       "Tracking run with wandb version 0.16.6"
      ],
      "text/plain": [
       "<IPython.core.display.HTML object>"
      ]
     },
     "metadata": {},
     "output_type": "display_data"
    },
    {
     "data": {
      "text/html": [
       "Run data is saved locally in <code>c:\\Users\\tshol\\Desktop\\Git_Repos\\Capstone_Project\\trainedModel_historical\\MetaTrader5\\wandb\\run-20240904_012748-1y909vsw</code>"
      ],
      "text/plain": [
       "<IPython.core.display.HTML object>"
      ]
     },
     "metadata": {},
     "output_type": "display_data"
    },
    {
     "data": {
      "text/html": [
       "Syncing run <strong><a href='https://wandb.ai/masixoleboya/first_keras_intergration/runs/1y909vsw' target=\"_blank\">serene-blaze-12</a></strong> to <a href='https://wandb.ai/masixoleboya/first_keras_intergration' target=\"_blank\">Weights & Biases</a> (<a href='https://wandb.me/run' target=\"_blank\">docs</a>)<br/>"
      ],
      "text/plain": [
       "<IPython.core.display.HTML object>"
      ]
     },
     "metadata": {},
     "output_type": "display_data"
    },
    {
     "data": {
      "text/html": [
       " View project at <a href='https://wandb.ai/masixoleboya/first_keras_intergration' target=\"_blank\">https://wandb.ai/masixoleboya/first_keras_intergration</a>"
      ],
      "text/plain": [
       "<IPython.core.display.HTML object>"
      ]
     },
     "metadata": {},
     "output_type": "display_data"
    },
    {
     "data": {
      "text/html": [
       " View run at <a href='https://wandb.ai/masixoleboya/first_keras_intergration/runs/1y909vsw' target=\"_blank\">https://wandb.ai/masixoleboya/first_keras_intergration/runs/1y909vsw</a>"
      ],
      "text/plain": [
       "<IPython.core.display.HTML object>"
      ]
     },
     "metadata": {},
     "output_type": "display_data"
    },
    {
     "data": {
      "text/html": [
       "<pre style=\"white-space:pre;overflow-x:auto;line-height:normal;font-family:Menlo,'DejaVu Sans Mono',consolas,'Courier New',monospace\"><span style=\"font-weight: bold\">Model: \"sequential\"</span>\n",
       "</pre>\n"
      ],
      "text/plain": [
       "\u001b[1mModel: \"sequential\"\u001b[0m\n"
      ]
     },
     "metadata": {},
     "output_type": "display_data"
    },
    {
     "data": {
      "text/html": [
       "<pre style=\"white-space:pre;overflow-x:auto;line-height:normal;font-family:Menlo,'DejaVu Sans Mono',consolas,'Courier New',monospace\">┏━━━━━━━━━━━━━━━━━━━━━━━━━━━━━━━━━┳━━━━━━━━━━━━━━━━━━━━━━━━┳━━━━━━━━━━━━━━━┓\n",
       "┃<span style=\"font-weight: bold\"> Layer (type)                    </span>┃<span style=\"font-weight: bold\"> Output Shape           </span>┃<span style=\"font-weight: bold\">       Param # </span>┃\n",
       "┡━━━━━━━━━━━━━━━━━━━━━━━━━━━━━━━━━╇━━━━━━━━━━━━━━━━━━━━━━━━╇━━━━━━━━━━━━━━━┩\n",
       "│ lstm (<span style=\"color: #0087ff; text-decoration-color: #0087ff\">LSTM</span>)                     │ (<span style=\"color: #00d7ff; text-decoration-color: #00d7ff\">None</span>, <span style=\"color: #00af00; text-decoration-color: #00af00\">3</span>, <span style=\"color: #00af00; text-decoration-color: #00af00\">10</span>)          │           <span style=\"color: #00af00; text-decoration-color: #00af00\">480</span> │\n",
       "├─────────────────────────────────┼────────────────────────┼───────────────┤\n",
       "│ dropout (<span style=\"color: #0087ff; text-decoration-color: #0087ff\">Dropout</span>)               │ (<span style=\"color: #00d7ff; text-decoration-color: #00d7ff\">None</span>, <span style=\"color: #00af00; text-decoration-color: #00af00\">3</span>, <span style=\"color: #00af00; text-decoration-color: #00af00\">10</span>)          │             <span style=\"color: #00af00; text-decoration-color: #00af00\">0</span> │\n",
       "├─────────────────────────────────┼────────────────────────┼───────────────┤\n",
       "│ lstm_1 (<span style=\"color: #0087ff; text-decoration-color: #0087ff\">LSTM</span>)                   │ (<span style=\"color: #00d7ff; text-decoration-color: #00d7ff\">None</span>, <span style=\"color: #00af00; text-decoration-color: #00af00\">5</span>)              │           <span style=\"color: #00af00; text-decoration-color: #00af00\">320</span> │\n",
       "├─────────────────────────────────┼────────────────────────┼───────────────┤\n",
       "│ dense (<span style=\"color: #0087ff; text-decoration-color: #0087ff\">Dense</span>)                   │ (<span style=\"color: #00d7ff; text-decoration-color: #00d7ff\">None</span>, <span style=\"color: #00af00; text-decoration-color: #00af00\">4</span>)              │            <span style=\"color: #00af00; text-decoration-color: #00af00\">24</span> │\n",
       "├─────────────────────────────────┼────────────────────────┼───────────────┤\n",
       "│ dropout_1 (<span style=\"color: #0087ff; text-decoration-color: #0087ff\">Dropout</span>)             │ (<span style=\"color: #00d7ff; text-decoration-color: #00d7ff\">None</span>, <span style=\"color: #00af00; text-decoration-color: #00af00\">4</span>)              │             <span style=\"color: #00af00; text-decoration-color: #00af00\">0</span> │\n",
       "├─────────────────────────────────┼────────────────────────┼───────────────┤\n",
       "│ dense_1 (<span style=\"color: #0087ff; text-decoration-color: #0087ff\">Dense</span>)                 │ (<span style=\"color: #00d7ff; text-decoration-color: #00d7ff\">None</span>, <span style=\"color: #00af00; text-decoration-color: #00af00\">4</span>)              │            <span style=\"color: #00af00; text-decoration-color: #00af00\">20</span> │\n",
       "├─────────────────────────────────┼────────────────────────┼───────────────┤\n",
       "│ dense_2 (<span style=\"color: #0087ff; text-decoration-color: #0087ff\">Dense</span>)                 │ (<span style=\"color: #00d7ff; text-decoration-color: #00d7ff\">None</span>, <span style=\"color: #00af00; text-decoration-color: #00af00\">1</span>)              │             <span style=\"color: #00af00; text-decoration-color: #00af00\">5</span> │\n",
       "└─────────────────────────────────┴────────────────────────┴───────────────┘\n",
       "</pre>\n"
      ],
      "text/plain": [
       "┏━━━━━━━━━━━━━━━━━━━━━━━━━━━━━━━━━┳━━━━━━━━━━━━━━━━━━━━━━━━┳━━━━━━━━━━━━━━━┓\n",
       "┃\u001b[1m \u001b[0m\u001b[1mLayer (type)                   \u001b[0m\u001b[1m \u001b[0m┃\u001b[1m \u001b[0m\u001b[1mOutput Shape          \u001b[0m\u001b[1m \u001b[0m┃\u001b[1m \u001b[0m\u001b[1m      Param #\u001b[0m\u001b[1m \u001b[0m┃\n",
       "┡━━━━━━━━━━━━━━━━━━━━━━━━━━━━━━━━━╇━━━━━━━━━━━━━━━━━━━━━━━━╇━━━━━━━━━━━━━━━┩\n",
       "│ lstm (\u001b[38;5;33mLSTM\u001b[0m)                     │ (\u001b[38;5;45mNone\u001b[0m, \u001b[38;5;34m3\u001b[0m, \u001b[38;5;34m10\u001b[0m)          │           \u001b[38;5;34m480\u001b[0m │\n",
       "├─────────────────────────────────┼────────────────────────┼───────────────┤\n",
       "│ dropout (\u001b[38;5;33mDropout\u001b[0m)               │ (\u001b[38;5;45mNone\u001b[0m, \u001b[38;5;34m3\u001b[0m, \u001b[38;5;34m10\u001b[0m)          │             \u001b[38;5;34m0\u001b[0m │\n",
       "├─────────────────────────────────┼────────────────────────┼───────────────┤\n",
       "│ lstm_1 (\u001b[38;5;33mLSTM\u001b[0m)                   │ (\u001b[38;5;45mNone\u001b[0m, \u001b[38;5;34m5\u001b[0m)              │           \u001b[38;5;34m320\u001b[0m │\n",
       "├─────────────────────────────────┼────────────────────────┼───────────────┤\n",
       "│ dense (\u001b[38;5;33mDense\u001b[0m)                   │ (\u001b[38;5;45mNone\u001b[0m, \u001b[38;5;34m4\u001b[0m)              │            \u001b[38;5;34m24\u001b[0m │\n",
       "├─────────────────────────────────┼────────────────────────┼───────────────┤\n",
       "│ dropout_1 (\u001b[38;5;33mDropout\u001b[0m)             │ (\u001b[38;5;45mNone\u001b[0m, \u001b[38;5;34m4\u001b[0m)              │             \u001b[38;5;34m0\u001b[0m │\n",
       "├─────────────────────────────────┼────────────────────────┼───────────────┤\n",
       "│ dense_1 (\u001b[38;5;33mDense\u001b[0m)                 │ (\u001b[38;5;45mNone\u001b[0m, \u001b[38;5;34m4\u001b[0m)              │            \u001b[38;5;34m20\u001b[0m │\n",
       "├─────────────────────────────────┼────────────────────────┼───────────────┤\n",
       "│ dense_2 (\u001b[38;5;33mDense\u001b[0m)                 │ (\u001b[38;5;45mNone\u001b[0m, \u001b[38;5;34m1\u001b[0m)              │             \u001b[38;5;34m5\u001b[0m │\n",
       "└─────────────────────────────────┴────────────────────────┴───────────────┘\n"
      ]
     },
     "metadata": {},
     "output_type": "display_data"
    },
    {
     "data": {
      "text/html": [
       "<pre style=\"white-space:pre;overflow-x:auto;line-height:normal;font-family:Menlo,'DejaVu Sans Mono',consolas,'Courier New',monospace\"><span style=\"font-weight: bold\"> Total params: </span><span style=\"color: #00af00; text-decoration-color: #00af00\">849</span> (3.32 KB)\n",
       "</pre>\n"
      ],
      "text/plain": [
       "\u001b[1m Total params: \u001b[0m\u001b[38;5;34m849\u001b[0m (3.32 KB)\n"
      ]
     },
     "metadata": {},
     "output_type": "display_data"
    },
    {
     "data": {
      "text/html": [
       "<pre style=\"white-space:pre;overflow-x:auto;line-height:normal;font-family:Menlo,'DejaVu Sans Mono',consolas,'Courier New',monospace\"><span style=\"font-weight: bold\"> Trainable params: </span><span style=\"color: #00af00; text-decoration-color: #00af00\">849</span> (3.32 KB)\n",
       "</pre>\n"
      ],
      "text/plain": [
       "\u001b[1m Trainable params: \u001b[0m\u001b[38;5;34m849\u001b[0m (3.32 KB)\n"
      ]
     },
     "metadata": {},
     "output_type": "display_data"
    },
    {
     "data": {
      "text/html": [
       "<pre style=\"white-space:pre;overflow-x:auto;line-height:normal;font-family:Menlo,'DejaVu Sans Mono',consolas,'Courier New',monospace\"><span style=\"font-weight: bold\"> Non-trainable params: </span><span style=\"color: #00af00; text-decoration-color: #00af00\">0</span> (0.00 B)\n",
       "</pre>\n"
      ],
      "text/plain": [
       "\u001b[1m Non-trainable params: \u001b[0m\u001b[38;5;34m0\u001b[0m (0.00 B)\n"
      ]
     },
     "metadata": {},
     "output_type": "display_data"
    }
   ],
   "source": [
    "run = wandb.init(\n",
    "    project='first_keras_intergration',\n",
    "    config={\n",
    "        'learning_rate':0.001,\n",
    "        'epochs' : 12,\n",
    "        'batch_size': 64,\n",
    "        'loss_function' : 'mean_squared_error',\n",
    "        'architecture' : 'LSTM',\n",
    "        }\n",
    "    )\n",
    "\n",
    "config =  wandb.config\n",
    "\n",
    "tensorflow.keras.backend.clear_session()\n",
    "\n",
    "#the actaul neural network\n",
    "wb_model = Sequential([\n",
    "    layers.Input((go_back_by,1)),\n",
    "\n",
    "    layers.LSTM(10, return_sequences=True),\n",
    "    layers.Dropout(0.2), \n",
    "    layers.LSTM(5), \n",
    "    layers.Dense(4, activation='relu', kernel_regularizer='l2'),  \n",
    "    layers.Dropout(0.2),  \n",
    "    layers.Dense(4, activation='relu', kernel_regularizer='l2'), \n",
    "     \n",
    "    layers.Dense(1)\n",
    "])\n",
    "\n",
    "wb_model.summary()\n",
    "\n",
    "# compile\n",
    "wb_model.compile(\n",
    "    loss = config.loss_function, \n",
    "    optimizer =  Adam(learning_rate=config.learning_rate),\n",
    "    metrics = ['mean_absolute_error']\n",
    "    )\n"
   ]
  },
  {
   "cell_type": "markdown",
   "metadata": {},
   "source": [
    "### __6.1.2 Training the model__"
   ]
  },
  {
   "cell_type": "code",
   "execution_count": 44,
   "metadata": {},
   "outputs": [
    {
     "name": "stdout",
     "output_type": "stream",
     "text": [
      "Epoch 1/12\n"
     ]
    }
   ],
   "source": [
    "wandb_history = wb_model.fit(\n",
    "    x_train,y_train, \n",
    "    epochs = config.epochs,\n",
    "    batch_size =  config.batch_size,\n",
    "    validation_data = (x_test, y_test),\n",
    "    callbacks = [WandbMetricsLogger()]\n",
    "    )"
   ]
  },
  {
   "cell_type": "code",
   "execution_count": null,
   "metadata": {},
   "outputs": [],
   "source": [
    "wb_model.save(\"LSTM_model_100.keras\")"
   ]
  },
  {
   "cell_type": "markdown",
   "metadata": {},
   "source": [
    "# __7. Hyperparameter Tuning__"
   ]
  },
  {
   "cell_type": "code",
   "execution_count": null,
   "metadata": {},
   "outputs": [],
   "source": [
    "\n",
    "# wb_model = load_model(\"my_model_3_withoutScaling.h5\")\n",
    "\n",
    "\n",
    "# wb_model.compile(\n",
    "#     loss = 'mean_squared_error', \n",
    "#     optimizer =  Adam(learning_rate= 0.001),\n",
    "#     metrics = ['mean_absolute_error']\n",
    "#     )"
   ]
  },
  {
   "cell_type": "code",
   "execution_count": null,
   "metadata": {},
   "outputs": [
    {
     "name": "stderr",
     "output_type": "stream",
     "text": [
      "[I 2024-05-09 23:00:19,801] A new study created in memory with name: no-name-5805fb2c-3adf-460b-953b-1832b405c10e\n",
      "c:\\Users\\tshol\\AppData\\Local\\Programs\\Python\\Python312\\Lib\\site-packages\\keras\\src\\layers\\rnn\\rnn.py:204: UserWarning: Do not pass an `input_shape`/`input_dim` argument to a layer. When using Sequential models, prefer using an `Input(shape)` object as the first layer in the model instead.\n",
      "  super().__init__(**kwargs)\n",
      "[W 2024-05-09 23:00:19,840] Trial 0 failed with parameters: {'num_layers': 5, 'layer_units_0': 51, 'layer_units_1': 18, 'layer_units_2': 46, 'layer_units_3': 30, 'layer_units_4': 13, 'activation': 'relu', 'epochs': 50} because of the following error: ValueError('Input 0 of layer \"lstm_8\" is incompatible with the layer: expected ndim=3, found ndim=2. Full shape received: (None, 18)').\n",
      "Traceback (most recent call last):\n",
      "  File \"c:\\Users\\tshol\\AppData\\Local\\Programs\\Python\\Python312\\Lib\\site-packages\\optuna\\study\\_optimize.py\", line 196, in _run_trial\n",
      "    value_or_values = func(trial)\n",
      "                      ^^^^^^^^^^^\n",
      "  File \"C:\\Users\\tshol\\AppData\\Local\\Temp\\ipykernel_23348\\2110149815.py\", line 13, in objective\n",
      "    wb_model.add(LSTM(units, return_sequences=False))\n",
      "  File \"c:\\Users\\tshol\\AppData\\Local\\Programs\\Python\\Python312\\Lib\\site-packages\\keras\\src\\models\\sequential.py\", line 120, in add\n",
      "    self._maybe_rebuild()\n",
      "  File \"c:\\Users\\tshol\\AppData\\Local\\Programs\\Python\\Python312\\Lib\\site-packages\\keras\\src\\models\\sequential.py\", line 139, in _maybe_rebuild\n",
      "    self.build(input_shape)\n",
      "  File \"c:\\Users\\tshol\\AppData\\Local\\Programs\\Python\\Python312\\Lib\\site-packages\\keras\\src\\layers\\layer.py\", line 223, in build_wrapper\n",
      "    original_build_method(*args, **kwargs)\n",
      "  File \"c:\\Users\\tshol\\AppData\\Local\\Programs\\Python\\Python312\\Lib\\site-packages\\keras\\src\\models\\sequential.py\", line 183, in build\n",
      "    x = layer(x)\n",
      "        ^^^^^^^^\n",
      "  File \"c:\\Users\\tshol\\AppData\\Local\\Programs\\Python\\Python312\\Lib\\site-packages\\keras\\src\\utils\\traceback_utils.py\", line 122, in error_handler\n",
      "    raise e.with_traceback(filtered_tb) from None\n",
      "  File \"c:\\Users\\tshol\\AppData\\Local\\Programs\\Python\\Python312\\Lib\\site-packages\\keras\\src\\layers\\input_spec.py\", line 186, in assert_input_compatibility\n",
      "    raise ValueError(\n",
      "ValueError: Input 0 of layer \"lstm_8\" is incompatible with the layer: expected ndim=3, found ndim=2. Full shape received: (None, 18)\n",
      "[W 2024-05-09 23:00:19,844] Trial 0 failed with value None.\n"
     ]
    },
    {
     "ename": "ValueError",
     "evalue": "Input 0 of layer \"lstm_8\" is incompatible with the layer: expected ndim=3, found ndim=2. Full shape received: (None, 18)",
     "output_type": "error",
     "traceback": [
      "\u001b[1;31m---------------------------------------------------------------------------\u001b[0m",
      "\u001b[1;31mValueError\u001b[0m                                Traceback (most recent call last)",
      "Cell \u001b[1;32mIn[37], line 40\u001b[0m\n\u001b[0;32m     38\u001b[0m \u001b[38;5;66;03m# Create the Optuna study and optimize\u001b[39;00m\n\u001b[0;32m     39\u001b[0m study \u001b[38;5;241m=\u001b[39m optuna\u001b[38;5;241m.\u001b[39mcreate_study(direction\u001b[38;5;241m=\u001b[39m\u001b[38;5;124m'\u001b[39m\u001b[38;5;124mminimize\u001b[39m\u001b[38;5;124m'\u001b[39m)\n\u001b[1;32m---> 40\u001b[0m \u001b[43mstudy\u001b[49m\u001b[38;5;241;43m.\u001b[39;49m\u001b[43moptimize\u001b[49m\u001b[43m(\u001b[49m\u001b[43mobjective\u001b[49m\u001b[43m,\u001b[49m\u001b[43m \u001b[49m\u001b[43mn_trials\u001b[49m\u001b[38;5;241;43m=\u001b[39;49m\u001b[38;5;241;43m100\u001b[39;49m\u001b[43m)\u001b[49m\n",
      "File \u001b[1;32mc:\\Users\\tshol\\AppData\\Local\\Programs\\Python\\Python312\\Lib\\site-packages\\optuna\\study\\study.py:451\u001b[0m, in \u001b[0;36mStudy.optimize\u001b[1;34m(self, func, n_trials, timeout, n_jobs, catch, callbacks, gc_after_trial, show_progress_bar)\u001b[0m\n\u001b[0;32m    348\u001b[0m \u001b[38;5;28;01mdef\u001b[39;00m \u001b[38;5;21moptimize\u001b[39m(\n\u001b[0;32m    349\u001b[0m     \u001b[38;5;28mself\u001b[39m,\n\u001b[0;32m    350\u001b[0m     func: ObjectiveFuncType,\n\u001b[1;32m   (...)\u001b[0m\n\u001b[0;32m    357\u001b[0m     show_progress_bar: \u001b[38;5;28mbool\u001b[39m \u001b[38;5;241m=\u001b[39m \u001b[38;5;28;01mFalse\u001b[39;00m,\n\u001b[0;32m    358\u001b[0m ) \u001b[38;5;241m-\u001b[39m\u001b[38;5;241m>\u001b[39m \u001b[38;5;28;01mNone\u001b[39;00m:\n\u001b[0;32m    359\u001b[0m \u001b[38;5;250m    \u001b[39m\u001b[38;5;124;03m\"\"\"Optimize an objective function.\u001b[39;00m\n\u001b[0;32m    360\u001b[0m \n\u001b[0;32m    361\u001b[0m \u001b[38;5;124;03m    Optimization is done by choosing a suitable set of hyperparameter values from a given\u001b[39;00m\n\u001b[1;32m   (...)\u001b[0m\n\u001b[0;32m    449\u001b[0m \u001b[38;5;124;03m            If nested invocation of this method occurs.\u001b[39;00m\n\u001b[0;32m    450\u001b[0m \u001b[38;5;124;03m    \"\"\"\u001b[39;00m\n\u001b[1;32m--> 451\u001b[0m     \u001b[43m_optimize\u001b[49m\u001b[43m(\u001b[49m\n\u001b[0;32m    452\u001b[0m \u001b[43m        \u001b[49m\u001b[43mstudy\u001b[49m\u001b[38;5;241;43m=\u001b[39;49m\u001b[38;5;28;43mself\u001b[39;49m\u001b[43m,\u001b[49m\n\u001b[0;32m    453\u001b[0m \u001b[43m        \u001b[49m\u001b[43mfunc\u001b[49m\u001b[38;5;241;43m=\u001b[39;49m\u001b[43mfunc\u001b[49m\u001b[43m,\u001b[49m\n\u001b[0;32m    454\u001b[0m \u001b[43m        \u001b[49m\u001b[43mn_trials\u001b[49m\u001b[38;5;241;43m=\u001b[39;49m\u001b[43mn_trials\u001b[49m\u001b[43m,\u001b[49m\n\u001b[0;32m    455\u001b[0m \u001b[43m        \u001b[49m\u001b[43mtimeout\u001b[49m\u001b[38;5;241;43m=\u001b[39;49m\u001b[43mtimeout\u001b[49m\u001b[43m,\u001b[49m\n\u001b[0;32m    456\u001b[0m \u001b[43m        \u001b[49m\u001b[43mn_jobs\u001b[49m\u001b[38;5;241;43m=\u001b[39;49m\u001b[43mn_jobs\u001b[49m\u001b[43m,\u001b[49m\n\u001b[0;32m    457\u001b[0m \u001b[43m        \u001b[49m\u001b[43mcatch\u001b[49m\u001b[38;5;241;43m=\u001b[39;49m\u001b[38;5;28;43mtuple\u001b[39;49m\u001b[43m(\u001b[49m\u001b[43mcatch\u001b[49m\u001b[43m)\u001b[49m\u001b[43m \u001b[49m\u001b[38;5;28;43;01mif\u001b[39;49;00m\u001b[43m \u001b[49m\u001b[38;5;28;43misinstance\u001b[39;49m\u001b[43m(\u001b[49m\u001b[43mcatch\u001b[49m\u001b[43m,\u001b[49m\u001b[43m \u001b[49m\u001b[43mIterable\u001b[49m\u001b[43m)\u001b[49m\u001b[43m \u001b[49m\u001b[38;5;28;43;01melse\u001b[39;49;00m\u001b[43m \u001b[49m\u001b[43m(\u001b[49m\u001b[43mcatch\u001b[49m\u001b[43m,\u001b[49m\u001b[43m)\u001b[49m\u001b[43m,\u001b[49m\n\u001b[0;32m    458\u001b[0m \u001b[43m        \u001b[49m\u001b[43mcallbacks\u001b[49m\u001b[38;5;241;43m=\u001b[39;49m\u001b[43mcallbacks\u001b[49m\u001b[43m,\u001b[49m\n\u001b[0;32m    459\u001b[0m \u001b[43m        \u001b[49m\u001b[43mgc_after_trial\u001b[49m\u001b[38;5;241;43m=\u001b[39;49m\u001b[43mgc_after_trial\u001b[49m\u001b[43m,\u001b[49m\n\u001b[0;32m    460\u001b[0m \u001b[43m        \u001b[49m\u001b[43mshow_progress_bar\u001b[49m\u001b[38;5;241;43m=\u001b[39;49m\u001b[43mshow_progress_bar\u001b[49m\u001b[43m,\u001b[49m\n\u001b[0;32m    461\u001b[0m \u001b[43m    \u001b[49m\u001b[43m)\u001b[49m\n",
      "File \u001b[1;32mc:\\Users\\tshol\\AppData\\Local\\Programs\\Python\\Python312\\Lib\\site-packages\\optuna\\study\\_optimize.py:62\u001b[0m, in \u001b[0;36m_optimize\u001b[1;34m(study, func, n_trials, timeout, n_jobs, catch, callbacks, gc_after_trial, show_progress_bar)\u001b[0m\n\u001b[0;32m     60\u001b[0m \u001b[38;5;28;01mtry\u001b[39;00m:\n\u001b[0;32m     61\u001b[0m     \u001b[38;5;28;01mif\u001b[39;00m n_jobs \u001b[38;5;241m==\u001b[39m \u001b[38;5;241m1\u001b[39m:\n\u001b[1;32m---> 62\u001b[0m         \u001b[43m_optimize_sequential\u001b[49m\u001b[43m(\u001b[49m\n\u001b[0;32m     63\u001b[0m \u001b[43m            \u001b[49m\u001b[43mstudy\u001b[49m\u001b[43m,\u001b[49m\n\u001b[0;32m     64\u001b[0m \u001b[43m            \u001b[49m\u001b[43mfunc\u001b[49m\u001b[43m,\u001b[49m\n\u001b[0;32m     65\u001b[0m \u001b[43m            \u001b[49m\u001b[43mn_trials\u001b[49m\u001b[43m,\u001b[49m\n\u001b[0;32m     66\u001b[0m \u001b[43m            \u001b[49m\u001b[43mtimeout\u001b[49m\u001b[43m,\u001b[49m\n\u001b[0;32m     67\u001b[0m \u001b[43m            \u001b[49m\u001b[43mcatch\u001b[49m\u001b[43m,\u001b[49m\n\u001b[0;32m     68\u001b[0m \u001b[43m            \u001b[49m\u001b[43mcallbacks\u001b[49m\u001b[43m,\u001b[49m\n\u001b[0;32m     69\u001b[0m \u001b[43m            \u001b[49m\u001b[43mgc_after_trial\u001b[49m\u001b[43m,\u001b[49m\n\u001b[0;32m     70\u001b[0m \u001b[43m            \u001b[49m\u001b[43mreseed_sampler_rng\u001b[49m\u001b[38;5;241;43m=\u001b[39;49m\u001b[38;5;28;43;01mFalse\u001b[39;49;00m\u001b[43m,\u001b[49m\n\u001b[0;32m     71\u001b[0m \u001b[43m            \u001b[49m\u001b[43mtime_start\u001b[49m\u001b[38;5;241;43m=\u001b[39;49m\u001b[38;5;28;43;01mNone\u001b[39;49;00m\u001b[43m,\u001b[49m\n\u001b[0;32m     72\u001b[0m \u001b[43m            \u001b[49m\u001b[43mprogress_bar\u001b[49m\u001b[38;5;241;43m=\u001b[39;49m\u001b[43mprogress_bar\u001b[49m\u001b[43m,\u001b[49m\n\u001b[0;32m     73\u001b[0m \u001b[43m        \u001b[49m\u001b[43m)\u001b[49m\n\u001b[0;32m     74\u001b[0m     \u001b[38;5;28;01melse\u001b[39;00m:\n\u001b[0;32m     75\u001b[0m         \u001b[38;5;28;01mif\u001b[39;00m n_jobs \u001b[38;5;241m==\u001b[39m \u001b[38;5;241m-\u001b[39m\u001b[38;5;241m1\u001b[39m:\n",
      "File \u001b[1;32mc:\\Users\\tshol\\AppData\\Local\\Programs\\Python\\Python312\\Lib\\site-packages\\optuna\\study\\_optimize.py:159\u001b[0m, in \u001b[0;36m_optimize_sequential\u001b[1;34m(study, func, n_trials, timeout, catch, callbacks, gc_after_trial, reseed_sampler_rng, time_start, progress_bar)\u001b[0m\n\u001b[0;32m    156\u001b[0m         \u001b[38;5;28;01mbreak\u001b[39;00m\n\u001b[0;32m    158\u001b[0m \u001b[38;5;28;01mtry\u001b[39;00m:\n\u001b[1;32m--> 159\u001b[0m     frozen_trial \u001b[38;5;241m=\u001b[39m \u001b[43m_run_trial\u001b[49m\u001b[43m(\u001b[49m\u001b[43mstudy\u001b[49m\u001b[43m,\u001b[49m\u001b[43m \u001b[49m\u001b[43mfunc\u001b[49m\u001b[43m,\u001b[49m\u001b[43m \u001b[49m\u001b[43mcatch\u001b[49m\u001b[43m)\u001b[49m\n\u001b[0;32m    160\u001b[0m \u001b[38;5;28;01mfinally\u001b[39;00m:\n\u001b[0;32m    161\u001b[0m     \u001b[38;5;66;03m# The following line mitigates memory problems that can be occurred in some\u001b[39;00m\n\u001b[0;32m    162\u001b[0m     \u001b[38;5;66;03m# environments (e.g., services that use computing containers such as GitHub Actions).\u001b[39;00m\n\u001b[0;32m    163\u001b[0m     \u001b[38;5;66;03m# Please refer to the following PR for further details:\u001b[39;00m\n\u001b[0;32m    164\u001b[0m     \u001b[38;5;66;03m# https://github.com/optuna/optuna/pull/325.\u001b[39;00m\n\u001b[0;32m    165\u001b[0m     \u001b[38;5;28;01mif\u001b[39;00m gc_after_trial:\n",
      "File \u001b[1;32mc:\\Users\\tshol\\AppData\\Local\\Programs\\Python\\Python312\\Lib\\site-packages\\optuna\\study\\_optimize.py:247\u001b[0m, in \u001b[0;36m_run_trial\u001b[1;34m(study, func, catch)\u001b[0m\n\u001b[0;32m    240\u001b[0m         \u001b[38;5;28;01massert\u001b[39;00m \u001b[38;5;28;01mFalse\u001b[39;00m, \u001b[38;5;124m\"\u001b[39m\u001b[38;5;124mShould not reach.\u001b[39m\u001b[38;5;124m\"\u001b[39m\n\u001b[0;32m    242\u001b[0m \u001b[38;5;28;01mif\u001b[39;00m (\n\u001b[0;32m    243\u001b[0m     frozen_trial\u001b[38;5;241m.\u001b[39mstate \u001b[38;5;241m==\u001b[39m TrialState\u001b[38;5;241m.\u001b[39mFAIL\n\u001b[0;32m    244\u001b[0m     \u001b[38;5;129;01mand\u001b[39;00m func_err \u001b[38;5;129;01mis\u001b[39;00m \u001b[38;5;129;01mnot\u001b[39;00m \u001b[38;5;28;01mNone\u001b[39;00m\n\u001b[0;32m    245\u001b[0m     \u001b[38;5;129;01mand\u001b[39;00m \u001b[38;5;129;01mnot\u001b[39;00m \u001b[38;5;28misinstance\u001b[39m(func_err, catch)\n\u001b[0;32m    246\u001b[0m ):\n\u001b[1;32m--> 247\u001b[0m     \u001b[38;5;28;01mraise\u001b[39;00m func_err\n\u001b[0;32m    248\u001b[0m \u001b[38;5;28;01mreturn\u001b[39;00m frozen_trial\n",
      "File \u001b[1;32mc:\\Users\\tshol\\AppData\\Local\\Programs\\Python\\Python312\\Lib\\site-packages\\optuna\\study\\_optimize.py:196\u001b[0m, in \u001b[0;36m_run_trial\u001b[1;34m(study, func, catch)\u001b[0m\n\u001b[0;32m    194\u001b[0m \u001b[38;5;28;01mwith\u001b[39;00m get_heartbeat_thread(trial\u001b[38;5;241m.\u001b[39m_trial_id, study\u001b[38;5;241m.\u001b[39m_storage):\n\u001b[0;32m    195\u001b[0m     \u001b[38;5;28;01mtry\u001b[39;00m:\n\u001b[1;32m--> 196\u001b[0m         value_or_values \u001b[38;5;241m=\u001b[39m \u001b[43mfunc\u001b[49m\u001b[43m(\u001b[49m\u001b[43mtrial\u001b[49m\u001b[43m)\u001b[49m\n\u001b[0;32m    197\u001b[0m     \u001b[38;5;28;01mexcept\u001b[39;00m exceptions\u001b[38;5;241m.\u001b[39mTrialPruned \u001b[38;5;28;01mas\u001b[39;00m e:\n\u001b[0;32m    198\u001b[0m         \u001b[38;5;66;03m# TODO(mamu): Handle multi-objective cases.\u001b[39;00m\n\u001b[0;32m    199\u001b[0m         state \u001b[38;5;241m=\u001b[39m TrialState\u001b[38;5;241m.\u001b[39mPRUNED\n",
      "Cell \u001b[1;32mIn[37], line 13\u001b[0m, in \u001b[0;36mobjective\u001b[1;34m(trial)\u001b[0m\n\u001b[0;32m     11\u001b[0m wb_model\u001b[38;5;241m.\u001b[39madd(Dropout(\u001b[38;5;241m0.2\u001b[39m))\n\u001b[0;32m     12\u001b[0m \u001b[38;5;28;01mfor\u001b[39;00m units \u001b[38;5;129;01min\u001b[39;00m layer_units[\u001b[38;5;241m1\u001b[39m:]:\n\u001b[1;32m---> 13\u001b[0m     \u001b[43mwb_model\u001b[49m\u001b[38;5;241;43m.\u001b[39;49m\u001b[43madd\u001b[49m\u001b[43m(\u001b[49m\u001b[43mLSTM\u001b[49m\u001b[43m(\u001b[49m\u001b[43munits\u001b[49m\u001b[43m,\u001b[49m\u001b[43m \u001b[49m\u001b[43mreturn_sequences\u001b[49m\u001b[38;5;241;43m=\u001b[39;49m\u001b[38;5;28;43;01mFalse\u001b[39;49;00m\u001b[43m)\u001b[49m\u001b[43m)\u001b[49m\n\u001b[0;32m     14\u001b[0m     wb_model\u001b[38;5;241m.\u001b[39madd(Dropout(\u001b[38;5;241m0.2\u001b[39m))\n\u001b[0;32m     15\u001b[0m wb_model\u001b[38;5;241m.\u001b[39madd(Dense(\u001b[38;5;241m1\u001b[39m, activation\u001b[38;5;241m=\u001b[39mactivation))\n",
      "File \u001b[1;32mc:\\Users\\tshol\\AppData\\Local\\Programs\\Python\\Python312\\Lib\\site-packages\\keras\\src\\models\\sequential.py:120\u001b[0m, in \u001b[0;36mSequential.add\u001b[1;34m(self, layer, rebuild)\u001b[0m\n\u001b[0;32m    118\u001b[0m \u001b[38;5;28mself\u001b[39m\u001b[38;5;241m.\u001b[39m_layers\u001b[38;5;241m.\u001b[39mappend(layer)\n\u001b[0;32m    119\u001b[0m \u001b[38;5;28;01mif\u001b[39;00m rebuild:\n\u001b[1;32m--> 120\u001b[0m     \u001b[38;5;28;43mself\u001b[39;49m\u001b[38;5;241;43m.\u001b[39;49m\u001b[43m_maybe_rebuild\u001b[49m\u001b[43m(\u001b[49m\u001b[43m)\u001b[49m\n\u001b[0;32m    121\u001b[0m \u001b[38;5;28;01melse\u001b[39;00m:\n\u001b[0;32m    122\u001b[0m     \u001b[38;5;28mself\u001b[39m\u001b[38;5;241m.\u001b[39mbuilt \u001b[38;5;241m=\u001b[39m \u001b[38;5;28;01mFalse\u001b[39;00m\n",
      "File \u001b[1;32mc:\\Users\\tshol\\AppData\\Local\\Programs\\Python\\Python312\\Lib\\site-packages\\keras\\src\\models\\sequential.py:139\u001b[0m, in \u001b[0;36mSequential._maybe_rebuild\u001b[1;34m(self)\u001b[0m\n\u001b[0;32m    137\u001b[0m \u001b[38;5;28;01mif\u001b[39;00m \u001b[38;5;28misinstance\u001b[39m(\u001b[38;5;28mself\u001b[39m\u001b[38;5;241m.\u001b[39m_layers[\u001b[38;5;241m0\u001b[39m], InputLayer) \u001b[38;5;129;01mand\u001b[39;00m \u001b[38;5;28mlen\u001b[39m(\u001b[38;5;28mself\u001b[39m\u001b[38;5;241m.\u001b[39m_layers) \u001b[38;5;241m>\u001b[39m \u001b[38;5;241m1\u001b[39m:\n\u001b[0;32m    138\u001b[0m     input_shape \u001b[38;5;241m=\u001b[39m \u001b[38;5;28mself\u001b[39m\u001b[38;5;241m.\u001b[39m_layers[\u001b[38;5;241m0\u001b[39m]\u001b[38;5;241m.\u001b[39mbatch_shape\n\u001b[1;32m--> 139\u001b[0m     \u001b[38;5;28;43mself\u001b[39;49m\u001b[38;5;241;43m.\u001b[39;49m\u001b[43mbuild\u001b[49m\u001b[43m(\u001b[49m\u001b[43minput_shape\u001b[49m\u001b[43m)\u001b[49m\n",
      "File \u001b[1;32mc:\\Users\\tshol\\AppData\\Local\\Programs\\Python\\Python312\\Lib\\site-packages\\keras\\src\\layers\\layer.py:223\u001b[0m, in \u001b[0;36mLayer.__new__.<locals>.build_wrapper\u001b[1;34m(*args, **kwargs)\u001b[0m\n\u001b[0;32m    220\u001b[0m \u001b[38;5;129m@wraps\u001b[39m(original_build_method)\n\u001b[0;32m    221\u001b[0m \u001b[38;5;28;01mdef\u001b[39;00m \u001b[38;5;21mbuild_wrapper\u001b[39m(\u001b[38;5;241m*\u001b[39margs, \u001b[38;5;241m*\u001b[39m\u001b[38;5;241m*\u001b[39mkwargs):\n\u001b[0;32m    222\u001b[0m     \u001b[38;5;28;01mwith\u001b[39;00m obj\u001b[38;5;241m.\u001b[39m_open_name_scope():\n\u001b[1;32m--> 223\u001b[0m         \u001b[43moriginal_build_method\u001b[49m\u001b[43m(\u001b[49m\u001b[38;5;241;43m*\u001b[39;49m\u001b[43margs\u001b[49m\u001b[43m,\u001b[49m\u001b[43m \u001b[49m\u001b[38;5;241;43m*\u001b[39;49m\u001b[38;5;241;43m*\u001b[39;49m\u001b[43mkwargs\u001b[49m\u001b[43m)\u001b[49m\n\u001b[0;32m    224\u001b[0m     \u001b[38;5;66;03m# Record build config.\u001b[39;00m\n\u001b[0;32m    225\u001b[0m     signature \u001b[38;5;241m=\u001b[39m inspect\u001b[38;5;241m.\u001b[39msignature(original_build_method)\n",
      "File \u001b[1;32mc:\\Users\\tshol\\AppData\\Local\\Programs\\Python\\Python312\\Lib\\site-packages\\keras\\src\\models\\sequential.py:183\u001b[0m, in \u001b[0;36mSequential.build\u001b[1;34m(self, input_shape)\u001b[0m\n\u001b[0;32m    181\u001b[0m \u001b[38;5;28;01mfor\u001b[39;00m layer \u001b[38;5;129;01min\u001b[39;00m \u001b[38;5;28mself\u001b[39m\u001b[38;5;241m.\u001b[39m_layers[\u001b[38;5;241m1\u001b[39m:]:\n\u001b[0;32m    182\u001b[0m     \u001b[38;5;28;01mtry\u001b[39;00m:\n\u001b[1;32m--> 183\u001b[0m         x \u001b[38;5;241m=\u001b[39m \u001b[43mlayer\u001b[49m\u001b[43m(\u001b[49m\u001b[43mx\u001b[49m\u001b[43m)\u001b[49m\n\u001b[0;32m    184\u001b[0m     \u001b[38;5;28;01mexcept\u001b[39;00m \u001b[38;5;167;01mNotImplementedError\u001b[39;00m:\n\u001b[0;32m    185\u001b[0m         \u001b[38;5;66;03m# Can happen if shape inference is not implemented.\u001b[39;00m\n\u001b[0;32m    186\u001b[0m         \u001b[38;5;66;03m# TODO: consider reverting inbound nodes on layers processed.\u001b[39;00m\n\u001b[0;32m    187\u001b[0m         \u001b[38;5;28;01mreturn\u001b[39;00m\n",
      "File \u001b[1;32mc:\\Users\\tshol\\AppData\\Local\\Programs\\Python\\Python312\\Lib\\site-packages\\keras\\src\\utils\\traceback_utils.py:122\u001b[0m, in \u001b[0;36mfilter_traceback.<locals>.error_handler\u001b[1;34m(*args, **kwargs)\u001b[0m\n\u001b[0;32m    119\u001b[0m     filtered_tb \u001b[38;5;241m=\u001b[39m _process_traceback_frames(e\u001b[38;5;241m.\u001b[39m__traceback__)\n\u001b[0;32m    120\u001b[0m     \u001b[38;5;66;03m# To get the full stack trace, call:\u001b[39;00m\n\u001b[0;32m    121\u001b[0m     \u001b[38;5;66;03m# `keras.config.disable_traceback_filtering()`\u001b[39;00m\n\u001b[1;32m--> 122\u001b[0m     \u001b[38;5;28;01mraise\u001b[39;00m e\u001b[38;5;241m.\u001b[39mwith_traceback(filtered_tb) \u001b[38;5;28;01mfrom\u001b[39;00m \u001b[38;5;28;01mNone\u001b[39;00m\n\u001b[0;32m    123\u001b[0m \u001b[38;5;28;01mfinally\u001b[39;00m:\n\u001b[0;32m    124\u001b[0m     \u001b[38;5;28;01mdel\u001b[39;00m filtered_tb\n",
      "File \u001b[1;32mc:\\Users\\tshol\\AppData\\Local\\Programs\\Python\\Python312\\Lib\\site-packages\\keras\\src\\layers\\input_spec.py:186\u001b[0m, in \u001b[0;36massert_input_compatibility\u001b[1;34m(input_spec, inputs, layer_name)\u001b[0m\n\u001b[0;32m    184\u001b[0m \u001b[38;5;28;01mif\u001b[39;00m spec\u001b[38;5;241m.\u001b[39mndim \u001b[38;5;129;01mis\u001b[39;00m \u001b[38;5;129;01mnot\u001b[39;00m \u001b[38;5;28;01mNone\u001b[39;00m \u001b[38;5;129;01mand\u001b[39;00m \u001b[38;5;129;01mnot\u001b[39;00m spec\u001b[38;5;241m.\u001b[39mallow_last_axis_squeeze:\n\u001b[0;32m    185\u001b[0m     \u001b[38;5;28;01mif\u001b[39;00m ndim \u001b[38;5;241m!=\u001b[39m spec\u001b[38;5;241m.\u001b[39mndim:\n\u001b[1;32m--> 186\u001b[0m         \u001b[38;5;28;01mraise\u001b[39;00m \u001b[38;5;167;01mValueError\u001b[39;00m(\n\u001b[0;32m    187\u001b[0m             \u001b[38;5;124mf\u001b[39m\u001b[38;5;124m'\u001b[39m\u001b[38;5;124mInput \u001b[39m\u001b[38;5;132;01m{\u001b[39;00minput_index\u001b[38;5;132;01m}\u001b[39;00m\u001b[38;5;124m of layer \u001b[39m\u001b[38;5;124m\"\u001b[39m\u001b[38;5;132;01m{\u001b[39;00mlayer_name\u001b[38;5;132;01m}\u001b[39;00m\u001b[38;5;124m\"\u001b[39m\u001b[38;5;124m \u001b[39m\u001b[38;5;124m'\u001b[39m\n\u001b[0;32m    188\u001b[0m             \u001b[38;5;124m\"\u001b[39m\u001b[38;5;124mis incompatible with the layer: \u001b[39m\u001b[38;5;124m\"\u001b[39m\n\u001b[0;32m    189\u001b[0m             \u001b[38;5;124mf\u001b[39m\u001b[38;5;124m\"\u001b[39m\u001b[38;5;124mexpected ndim=\u001b[39m\u001b[38;5;132;01m{\u001b[39;00mspec\u001b[38;5;241m.\u001b[39mndim\u001b[38;5;132;01m}\u001b[39;00m\u001b[38;5;124m, found ndim=\u001b[39m\u001b[38;5;132;01m{\u001b[39;00mndim\u001b[38;5;132;01m}\u001b[39;00m\u001b[38;5;124m. \u001b[39m\u001b[38;5;124m\"\u001b[39m\n\u001b[0;32m    190\u001b[0m             \u001b[38;5;124mf\u001b[39m\u001b[38;5;124m\"\u001b[39m\u001b[38;5;124mFull shape received: \u001b[39m\u001b[38;5;132;01m{\u001b[39;00mshape\u001b[38;5;132;01m}\u001b[39;00m\u001b[38;5;124m\"\u001b[39m\n\u001b[0;32m    191\u001b[0m         )\n\u001b[0;32m    192\u001b[0m \u001b[38;5;28;01mif\u001b[39;00m spec\u001b[38;5;241m.\u001b[39mmax_ndim \u001b[38;5;129;01mis\u001b[39;00m \u001b[38;5;129;01mnot\u001b[39;00m \u001b[38;5;28;01mNone\u001b[39;00m:\n\u001b[0;32m    193\u001b[0m     \u001b[38;5;28;01mif\u001b[39;00m ndim \u001b[38;5;129;01mis\u001b[39;00m \u001b[38;5;129;01mnot\u001b[39;00m \u001b[38;5;28;01mNone\u001b[39;00m \u001b[38;5;129;01mand\u001b[39;00m ndim \u001b[38;5;241m>\u001b[39m spec\u001b[38;5;241m.\u001b[39mmax_ndim:\n",
      "\u001b[1;31mValueError\u001b[0m: Input 0 of layer \"lstm_8\" is incompatible with the layer: expected ndim=3, found ndim=2. Full shape received: (None, 18)"
     ]
    }
   ],
   "source": [
    "def objective(trial):\n",
    "    # Define the hyperparameters to tune\n",
    "    num_layers = trial.suggest_int('num_layers', 1, 20)\n",
    "    layer_units = [trial.suggest_int(f'layer_units_{i}', 4, 64) for i in range(num_layers)]\n",
    "    activation = trial.suggest_categorical('activation', ['relu', 'tanh', 'sigmoid'])\n",
    "    epochs = trial.suggest_int('epochs', 2, 50)\n",
    "    \n",
    "    # Create the Keras model\n",
    "    wb_model = Sequential()\n",
    "    wb_model.add(LSTM(layer_units[0], return_sequences=True, input_shape=(x_train.shape[1], 1)))\n",
    "    wb_model.add(Dropout(0.2))\n",
    "    for units in layer_units[1:]:\n",
    "        wb_model.add(LSTM(units, return_sequences=False))\n",
    "        wb_model.add(Dropout(0.2))\n",
    "    wb_model.add(Dense(1, activation=activation))\n",
    "    \n",
    "    # Compile the model\n",
    "    wb_model.compile(\n",
    "        loss=config.loss_function,\n",
    "        optimizer=Adam(learning_rate=config.learning_rate),\n",
    "        metrics=['mean_absolute_error']\n",
    "    )\n",
    "    \n",
    "    # Train the model\n",
    "    wandb.init(project='first_keras_intergration', config=config)\n",
    "    wandb_history = wb_model.fit(\n",
    "        x_train, y_train,\n",
    "        epochs=epochs,\n",
    "        batch_size=config.batch_size,\n",
    "        validation_data=(x_val, y_val),\n",
    "        callbacks=[WandbCallback(), TFKerasPruningCallback(trial, monitor='val_loss')]\n",
    "    )\n",
    "    \n",
    "    # Evaluate the model\n",
    "    val_loss = wandb_history.history['val_loss'][-1]\n",
    "    return val_loss\n",
    "\n",
    "# Create the Optuna study and optimize\n",
    "study = optuna.create_study(direction='minimize')\n",
    "study.optimize(objective, n_trials=100)"
   ]
  },
  {
   "cell_type": "code",
   "execution_count": null,
   "metadata": {},
   "outputs": [],
   "source": [
    "def objective(trial):\n",
    "    # Define the hyperparameters to tune\n",
    "    num_layers = trial.suggest_int('num_layers', 1, 20)\n",
    "    layer_units = [trial.suggest_int(f'layer_units_{i}', 4, 64) for i in range(num_layers)]\n",
    "    activation = trial.suggest_categorical('activation', ['relu', 'tanh', 'sigmoid'])\n",
    "    epochs = trial.suggest_int('epochs', 2, 50)\n",
    "    \n",
    "    # Create the Keras model\n",
    "    wb_model = Sequential([\n",
    "        layers.Input((go_back_by, 1)),\n",
    "        layers.LSTM(layer_units[0], return_sequences=True),\n",
    "        layers.Dropout(0.2)\n",
    "    ])\n",
    "    for units in layer_units[1:]:\n",
    "        wb_model.add(layers.LSTM(units, return_sequences=False))\n",
    "        wb_model.add(layers.Dropout(0.2))\n",
    "    wb_model.add(layers.Dense(1, activation=activation))\n",
    "    \n",
    "    # Compile the model\n",
    "    wb_model.compile(\n",
    "        loss=config.loss_function,\n",
    "        optimizer=Adam(learning_rate=config.learning_rate),\n",
    "        metrics=['mean_absolute_error']\n",
    "    )\n",
    "    \n",
    "    # Train the model\n",
    "    wandb.init(project='first_keras_intergration', config=config)\n",
    "    wandb_history = wb_model.fit(\n",
    "        x_train, y_train,\n",
    "        epochs=epochs,\n",
    "        batch_size=config.batch_size,\n",
    "        validation_data=(x_test, y_test),\n",
    "        callbacks=[WandbCallback(), TFKerasPruningCallback(trial, monitor='val_loss')]\n",
    "    )\n",
    "    \n",
    "    # Evaluate the model\n",
    "    val_loss = wandb_history.history['val_loss'][-1]\n",
    "    return val_loss\n"
   ]
  },
  {
   "cell_type": "code",
   "execution_count": null,
   "metadata": {},
   "outputs": [
    {
     "name": "stderr",
     "output_type": "stream",
     "text": [
      "[I 2024-05-09 22:46:32,549] A new study created in memory with name: no-name-56750c68-d1a6-4bf5-a9ab-ea9df23f686f\n",
      "[W 2024-05-09 22:46:32,591] Trial 0 failed with parameters: {'num_layers': 11, 'layer_units_0': 57, 'layer_units_1': 61, 'layer_units_2': 13, 'layer_units_3': 53, 'layer_units_4': 22, 'layer_units_5': 6, 'layer_units_6': 4, 'layer_units_7': 28, 'layer_units_8': 23, 'layer_units_9': 33, 'layer_units_10': 49, 'activation': 'tanh', 'epochs': 20} because of the following error: ValueError('Input 0 of layer \"lstm_5\" is incompatible with the layer: expected ndim=3, found ndim=2. Full shape received: (None, 61)').\n",
      "Traceback (most recent call last):\n",
      "  File \"c:\\Users\\tshol\\AppData\\Local\\Programs\\Python\\Python312\\Lib\\site-packages\\optuna\\study\\_optimize.py\", line 196, in _run_trial\n",
      "    value_or_values = func(trial)\n",
      "                      ^^^^^^^^^^^\n",
      "  File \"C:\\Users\\tshol\\AppData\\Local\\Temp\\ipykernel_23348\\3237495892.py\", line 15, in objective\n",
      "    wb_model.add(layers.LSTM(units, return_sequences=False))\n",
      "  File \"c:\\Users\\tshol\\AppData\\Local\\Programs\\Python\\Python312\\Lib\\site-packages\\keras\\src\\models\\sequential.py\", line 120, in add\n",
      "    self._maybe_rebuild()\n",
      "  File \"c:\\Users\\tshol\\AppData\\Local\\Programs\\Python\\Python312\\Lib\\site-packages\\keras\\src\\models\\sequential.py\", line 139, in _maybe_rebuild\n",
      "    self.build(input_shape)\n",
      "  File \"c:\\Users\\tshol\\AppData\\Local\\Programs\\Python\\Python312\\Lib\\site-packages\\keras\\src\\layers\\layer.py\", line 223, in build_wrapper\n",
      "    original_build_method(*args, **kwargs)\n",
      "  File \"c:\\Users\\tshol\\AppData\\Local\\Programs\\Python\\Python312\\Lib\\site-packages\\keras\\src\\models\\sequential.py\", line 183, in build\n",
      "    x = layer(x)\n",
      "        ^^^^^^^^\n",
      "  File \"c:\\Users\\tshol\\AppData\\Local\\Programs\\Python\\Python312\\Lib\\site-packages\\keras\\src\\utils\\traceback_utils.py\", line 122, in error_handler\n",
      "    raise e.with_traceback(filtered_tb) from None\n",
      "  File \"c:\\Users\\tshol\\AppData\\Local\\Programs\\Python\\Python312\\Lib\\site-packages\\keras\\src\\layers\\input_spec.py\", line 186, in assert_input_compatibility\n",
      "    raise ValueError(\n",
      "ValueError: Input 0 of layer \"lstm_5\" is incompatible with the layer: expected ndim=3, found ndim=2. Full shape received: (None, 61)\n",
      "[W 2024-05-09 22:46:32,592] Trial 0 failed with value None.\n"
     ]
    },
    {
     "ename": "ValueError",
     "evalue": "Input 0 of layer \"lstm_5\" is incompatible with the layer: expected ndim=3, found ndim=2. Full shape received: (None, 61)",
     "output_type": "error",
     "traceback": [
      "\u001b[1;31m---------------------------------------------------------------------------\u001b[0m",
      "\u001b[1;31mValueError\u001b[0m                                Traceback (most recent call last)",
      "Cell \u001b[1;32mIn[33], line 3\u001b[0m\n\u001b[0;32m      1\u001b[0m \u001b[38;5;66;03m# Create the Optuna study and optimize\u001b[39;00m\n\u001b[0;32m      2\u001b[0m study \u001b[38;5;241m=\u001b[39m optuna\u001b[38;5;241m.\u001b[39mcreate_study(direction\u001b[38;5;241m=\u001b[39m\u001b[38;5;124m'\u001b[39m\u001b[38;5;124mminimize\u001b[39m\u001b[38;5;124m'\u001b[39m)\n\u001b[1;32m----> 3\u001b[0m \u001b[43mstudy\u001b[49m\u001b[38;5;241;43m.\u001b[39;49m\u001b[43moptimize\u001b[49m\u001b[43m(\u001b[49m\u001b[43mobjective\u001b[49m\u001b[43m,\u001b[49m\u001b[43m \u001b[49m\u001b[43mn_trials\u001b[49m\u001b[38;5;241;43m=\u001b[39;49m\u001b[38;5;241;43m100\u001b[39;49m\u001b[43m)\u001b[49m\n",
      "File \u001b[1;32mc:\\Users\\tshol\\AppData\\Local\\Programs\\Python\\Python312\\Lib\\site-packages\\optuna\\study\\study.py:451\u001b[0m, in \u001b[0;36mStudy.optimize\u001b[1;34m(self, func, n_trials, timeout, n_jobs, catch, callbacks, gc_after_trial, show_progress_bar)\u001b[0m\n\u001b[0;32m    348\u001b[0m \u001b[38;5;28;01mdef\u001b[39;00m \u001b[38;5;21moptimize\u001b[39m(\n\u001b[0;32m    349\u001b[0m     \u001b[38;5;28mself\u001b[39m,\n\u001b[0;32m    350\u001b[0m     func: ObjectiveFuncType,\n\u001b[1;32m   (...)\u001b[0m\n\u001b[0;32m    357\u001b[0m     show_progress_bar: \u001b[38;5;28mbool\u001b[39m \u001b[38;5;241m=\u001b[39m \u001b[38;5;28;01mFalse\u001b[39;00m,\n\u001b[0;32m    358\u001b[0m ) \u001b[38;5;241m-\u001b[39m\u001b[38;5;241m>\u001b[39m \u001b[38;5;28;01mNone\u001b[39;00m:\n\u001b[0;32m    359\u001b[0m \u001b[38;5;250m    \u001b[39m\u001b[38;5;124;03m\"\"\"Optimize an objective function.\u001b[39;00m\n\u001b[0;32m    360\u001b[0m \n\u001b[0;32m    361\u001b[0m \u001b[38;5;124;03m    Optimization is done by choosing a suitable set of hyperparameter values from a given\u001b[39;00m\n\u001b[1;32m   (...)\u001b[0m\n\u001b[0;32m    449\u001b[0m \u001b[38;5;124;03m            If nested invocation of this method occurs.\u001b[39;00m\n\u001b[0;32m    450\u001b[0m \u001b[38;5;124;03m    \"\"\"\u001b[39;00m\n\u001b[1;32m--> 451\u001b[0m     \u001b[43m_optimize\u001b[49m\u001b[43m(\u001b[49m\n\u001b[0;32m    452\u001b[0m \u001b[43m        \u001b[49m\u001b[43mstudy\u001b[49m\u001b[38;5;241;43m=\u001b[39;49m\u001b[38;5;28;43mself\u001b[39;49m\u001b[43m,\u001b[49m\n\u001b[0;32m    453\u001b[0m \u001b[43m        \u001b[49m\u001b[43mfunc\u001b[49m\u001b[38;5;241;43m=\u001b[39;49m\u001b[43mfunc\u001b[49m\u001b[43m,\u001b[49m\n\u001b[0;32m    454\u001b[0m \u001b[43m        \u001b[49m\u001b[43mn_trials\u001b[49m\u001b[38;5;241;43m=\u001b[39;49m\u001b[43mn_trials\u001b[49m\u001b[43m,\u001b[49m\n\u001b[0;32m    455\u001b[0m \u001b[43m        \u001b[49m\u001b[43mtimeout\u001b[49m\u001b[38;5;241;43m=\u001b[39;49m\u001b[43mtimeout\u001b[49m\u001b[43m,\u001b[49m\n\u001b[0;32m    456\u001b[0m \u001b[43m        \u001b[49m\u001b[43mn_jobs\u001b[49m\u001b[38;5;241;43m=\u001b[39;49m\u001b[43mn_jobs\u001b[49m\u001b[43m,\u001b[49m\n\u001b[0;32m    457\u001b[0m \u001b[43m        \u001b[49m\u001b[43mcatch\u001b[49m\u001b[38;5;241;43m=\u001b[39;49m\u001b[38;5;28;43mtuple\u001b[39;49m\u001b[43m(\u001b[49m\u001b[43mcatch\u001b[49m\u001b[43m)\u001b[49m\u001b[43m \u001b[49m\u001b[38;5;28;43;01mif\u001b[39;49;00m\u001b[43m \u001b[49m\u001b[38;5;28;43misinstance\u001b[39;49m\u001b[43m(\u001b[49m\u001b[43mcatch\u001b[49m\u001b[43m,\u001b[49m\u001b[43m \u001b[49m\u001b[43mIterable\u001b[49m\u001b[43m)\u001b[49m\u001b[43m \u001b[49m\u001b[38;5;28;43;01melse\u001b[39;49;00m\u001b[43m \u001b[49m\u001b[43m(\u001b[49m\u001b[43mcatch\u001b[49m\u001b[43m,\u001b[49m\u001b[43m)\u001b[49m\u001b[43m,\u001b[49m\n\u001b[0;32m    458\u001b[0m \u001b[43m        \u001b[49m\u001b[43mcallbacks\u001b[49m\u001b[38;5;241;43m=\u001b[39;49m\u001b[43mcallbacks\u001b[49m\u001b[43m,\u001b[49m\n\u001b[0;32m    459\u001b[0m \u001b[43m        \u001b[49m\u001b[43mgc_after_trial\u001b[49m\u001b[38;5;241;43m=\u001b[39;49m\u001b[43mgc_after_trial\u001b[49m\u001b[43m,\u001b[49m\n\u001b[0;32m    460\u001b[0m \u001b[43m        \u001b[49m\u001b[43mshow_progress_bar\u001b[49m\u001b[38;5;241;43m=\u001b[39;49m\u001b[43mshow_progress_bar\u001b[49m\u001b[43m,\u001b[49m\n\u001b[0;32m    461\u001b[0m \u001b[43m    \u001b[49m\u001b[43m)\u001b[49m\n",
      "File \u001b[1;32mc:\\Users\\tshol\\AppData\\Local\\Programs\\Python\\Python312\\Lib\\site-packages\\optuna\\study\\_optimize.py:62\u001b[0m, in \u001b[0;36m_optimize\u001b[1;34m(study, func, n_trials, timeout, n_jobs, catch, callbacks, gc_after_trial, show_progress_bar)\u001b[0m\n\u001b[0;32m     60\u001b[0m \u001b[38;5;28;01mtry\u001b[39;00m:\n\u001b[0;32m     61\u001b[0m     \u001b[38;5;28;01mif\u001b[39;00m n_jobs \u001b[38;5;241m==\u001b[39m \u001b[38;5;241m1\u001b[39m:\n\u001b[1;32m---> 62\u001b[0m         \u001b[43m_optimize_sequential\u001b[49m\u001b[43m(\u001b[49m\n\u001b[0;32m     63\u001b[0m \u001b[43m            \u001b[49m\u001b[43mstudy\u001b[49m\u001b[43m,\u001b[49m\n\u001b[0;32m     64\u001b[0m \u001b[43m            \u001b[49m\u001b[43mfunc\u001b[49m\u001b[43m,\u001b[49m\n\u001b[0;32m     65\u001b[0m \u001b[43m            \u001b[49m\u001b[43mn_trials\u001b[49m\u001b[43m,\u001b[49m\n\u001b[0;32m     66\u001b[0m \u001b[43m            \u001b[49m\u001b[43mtimeout\u001b[49m\u001b[43m,\u001b[49m\n\u001b[0;32m     67\u001b[0m \u001b[43m            \u001b[49m\u001b[43mcatch\u001b[49m\u001b[43m,\u001b[49m\n\u001b[0;32m     68\u001b[0m \u001b[43m            \u001b[49m\u001b[43mcallbacks\u001b[49m\u001b[43m,\u001b[49m\n\u001b[0;32m     69\u001b[0m \u001b[43m            \u001b[49m\u001b[43mgc_after_trial\u001b[49m\u001b[43m,\u001b[49m\n\u001b[0;32m     70\u001b[0m \u001b[43m            \u001b[49m\u001b[43mreseed_sampler_rng\u001b[49m\u001b[38;5;241;43m=\u001b[39;49m\u001b[38;5;28;43;01mFalse\u001b[39;49;00m\u001b[43m,\u001b[49m\n\u001b[0;32m     71\u001b[0m \u001b[43m            \u001b[49m\u001b[43mtime_start\u001b[49m\u001b[38;5;241;43m=\u001b[39;49m\u001b[38;5;28;43;01mNone\u001b[39;49;00m\u001b[43m,\u001b[49m\n\u001b[0;32m     72\u001b[0m \u001b[43m            \u001b[49m\u001b[43mprogress_bar\u001b[49m\u001b[38;5;241;43m=\u001b[39;49m\u001b[43mprogress_bar\u001b[49m\u001b[43m,\u001b[49m\n\u001b[0;32m     73\u001b[0m \u001b[43m        \u001b[49m\u001b[43m)\u001b[49m\n\u001b[0;32m     74\u001b[0m     \u001b[38;5;28;01melse\u001b[39;00m:\n\u001b[0;32m     75\u001b[0m         \u001b[38;5;28;01mif\u001b[39;00m n_jobs \u001b[38;5;241m==\u001b[39m \u001b[38;5;241m-\u001b[39m\u001b[38;5;241m1\u001b[39m:\n",
      "File \u001b[1;32mc:\\Users\\tshol\\AppData\\Local\\Programs\\Python\\Python312\\Lib\\site-packages\\optuna\\study\\_optimize.py:159\u001b[0m, in \u001b[0;36m_optimize_sequential\u001b[1;34m(study, func, n_trials, timeout, catch, callbacks, gc_after_trial, reseed_sampler_rng, time_start, progress_bar)\u001b[0m\n\u001b[0;32m    156\u001b[0m         \u001b[38;5;28;01mbreak\u001b[39;00m\n\u001b[0;32m    158\u001b[0m \u001b[38;5;28;01mtry\u001b[39;00m:\n\u001b[1;32m--> 159\u001b[0m     frozen_trial \u001b[38;5;241m=\u001b[39m \u001b[43m_run_trial\u001b[49m\u001b[43m(\u001b[49m\u001b[43mstudy\u001b[49m\u001b[43m,\u001b[49m\u001b[43m \u001b[49m\u001b[43mfunc\u001b[49m\u001b[43m,\u001b[49m\u001b[43m \u001b[49m\u001b[43mcatch\u001b[49m\u001b[43m)\u001b[49m\n\u001b[0;32m    160\u001b[0m \u001b[38;5;28;01mfinally\u001b[39;00m:\n\u001b[0;32m    161\u001b[0m     \u001b[38;5;66;03m# The following line mitigates memory problems that can be occurred in some\u001b[39;00m\n\u001b[0;32m    162\u001b[0m     \u001b[38;5;66;03m# environments (e.g., services that use computing containers such as GitHub Actions).\u001b[39;00m\n\u001b[0;32m    163\u001b[0m     \u001b[38;5;66;03m# Please refer to the following PR for further details:\u001b[39;00m\n\u001b[0;32m    164\u001b[0m     \u001b[38;5;66;03m# https://github.com/optuna/optuna/pull/325.\u001b[39;00m\n\u001b[0;32m    165\u001b[0m     \u001b[38;5;28;01mif\u001b[39;00m gc_after_trial:\n",
      "File \u001b[1;32mc:\\Users\\tshol\\AppData\\Local\\Programs\\Python\\Python312\\Lib\\site-packages\\optuna\\study\\_optimize.py:247\u001b[0m, in \u001b[0;36m_run_trial\u001b[1;34m(study, func, catch)\u001b[0m\n\u001b[0;32m    240\u001b[0m         \u001b[38;5;28;01massert\u001b[39;00m \u001b[38;5;28;01mFalse\u001b[39;00m, \u001b[38;5;124m\"\u001b[39m\u001b[38;5;124mShould not reach.\u001b[39m\u001b[38;5;124m\"\u001b[39m\n\u001b[0;32m    242\u001b[0m \u001b[38;5;28;01mif\u001b[39;00m (\n\u001b[0;32m    243\u001b[0m     frozen_trial\u001b[38;5;241m.\u001b[39mstate \u001b[38;5;241m==\u001b[39m TrialState\u001b[38;5;241m.\u001b[39mFAIL\n\u001b[0;32m    244\u001b[0m     \u001b[38;5;129;01mand\u001b[39;00m func_err \u001b[38;5;129;01mis\u001b[39;00m \u001b[38;5;129;01mnot\u001b[39;00m \u001b[38;5;28;01mNone\u001b[39;00m\n\u001b[0;32m    245\u001b[0m     \u001b[38;5;129;01mand\u001b[39;00m \u001b[38;5;129;01mnot\u001b[39;00m \u001b[38;5;28misinstance\u001b[39m(func_err, catch)\n\u001b[0;32m    246\u001b[0m ):\n\u001b[1;32m--> 247\u001b[0m     \u001b[38;5;28;01mraise\u001b[39;00m func_err\n\u001b[0;32m    248\u001b[0m \u001b[38;5;28;01mreturn\u001b[39;00m frozen_trial\n",
      "File \u001b[1;32mc:\\Users\\tshol\\AppData\\Local\\Programs\\Python\\Python312\\Lib\\site-packages\\optuna\\study\\_optimize.py:196\u001b[0m, in \u001b[0;36m_run_trial\u001b[1;34m(study, func, catch)\u001b[0m\n\u001b[0;32m    194\u001b[0m \u001b[38;5;28;01mwith\u001b[39;00m get_heartbeat_thread(trial\u001b[38;5;241m.\u001b[39m_trial_id, study\u001b[38;5;241m.\u001b[39m_storage):\n\u001b[0;32m    195\u001b[0m     \u001b[38;5;28;01mtry\u001b[39;00m:\n\u001b[1;32m--> 196\u001b[0m         value_or_values \u001b[38;5;241m=\u001b[39m \u001b[43mfunc\u001b[49m\u001b[43m(\u001b[49m\u001b[43mtrial\u001b[49m\u001b[43m)\u001b[49m\n\u001b[0;32m    197\u001b[0m     \u001b[38;5;28;01mexcept\u001b[39;00m exceptions\u001b[38;5;241m.\u001b[39mTrialPruned \u001b[38;5;28;01mas\u001b[39;00m e:\n\u001b[0;32m    198\u001b[0m         \u001b[38;5;66;03m# TODO(mamu): Handle multi-objective cases.\u001b[39;00m\n\u001b[0;32m    199\u001b[0m         state \u001b[38;5;241m=\u001b[39m TrialState\u001b[38;5;241m.\u001b[39mPRUNED\n",
      "Cell \u001b[1;32mIn[32], line 15\u001b[0m, in \u001b[0;36mobjective\u001b[1;34m(trial)\u001b[0m\n\u001b[0;32m      9\u001b[0m wb_model \u001b[38;5;241m=\u001b[39m Sequential([\n\u001b[0;32m     10\u001b[0m     layers\u001b[38;5;241m.\u001b[39mInput((go_back_by, \u001b[38;5;241m1\u001b[39m)),\n\u001b[0;32m     11\u001b[0m     layers\u001b[38;5;241m.\u001b[39mLSTM(layer_units[\u001b[38;5;241m0\u001b[39m], return_sequences\u001b[38;5;241m=\u001b[39m\u001b[38;5;28;01mTrue\u001b[39;00m),\n\u001b[0;32m     12\u001b[0m     layers\u001b[38;5;241m.\u001b[39mDropout(\u001b[38;5;241m0.2\u001b[39m)\n\u001b[0;32m     13\u001b[0m ])\n\u001b[0;32m     14\u001b[0m \u001b[38;5;28;01mfor\u001b[39;00m units \u001b[38;5;129;01min\u001b[39;00m layer_units[\u001b[38;5;241m1\u001b[39m:]:\n\u001b[1;32m---> 15\u001b[0m     \u001b[43mwb_model\u001b[49m\u001b[38;5;241;43m.\u001b[39;49m\u001b[43madd\u001b[49m\u001b[43m(\u001b[49m\u001b[43mlayers\u001b[49m\u001b[38;5;241;43m.\u001b[39;49m\u001b[43mLSTM\u001b[49m\u001b[43m(\u001b[49m\u001b[43munits\u001b[49m\u001b[43m,\u001b[49m\u001b[43m \u001b[49m\u001b[43mreturn_sequences\u001b[49m\u001b[38;5;241;43m=\u001b[39;49m\u001b[38;5;28;43;01mFalse\u001b[39;49;00m\u001b[43m)\u001b[49m\u001b[43m)\u001b[49m\n\u001b[0;32m     16\u001b[0m     wb_model\u001b[38;5;241m.\u001b[39madd(layers\u001b[38;5;241m.\u001b[39mDropout(\u001b[38;5;241m0.2\u001b[39m))\n\u001b[0;32m     17\u001b[0m wb_model\u001b[38;5;241m.\u001b[39madd(layers\u001b[38;5;241m.\u001b[39mDense(\u001b[38;5;241m1\u001b[39m, activation\u001b[38;5;241m=\u001b[39mactivation))\n",
      "File \u001b[1;32mc:\\Users\\tshol\\AppData\\Local\\Programs\\Python\\Python312\\Lib\\site-packages\\keras\\src\\models\\sequential.py:120\u001b[0m, in \u001b[0;36mSequential.add\u001b[1;34m(self, layer, rebuild)\u001b[0m\n\u001b[0;32m    118\u001b[0m \u001b[38;5;28mself\u001b[39m\u001b[38;5;241m.\u001b[39m_layers\u001b[38;5;241m.\u001b[39mappend(layer)\n\u001b[0;32m    119\u001b[0m \u001b[38;5;28;01mif\u001b[39;00m rebuild:\n\u001b[1;32m--> 120\u001b[0m     \u001b[38;5;28;43mself\u001b[39;49m\u001b[38;5;241;43m.\u001b[39;49m\u001b[43m_maybe_rebuild\u001b[49m\u001b[43m(\u001b[49m\u001b[43m)\u001b[49m\n\u001b[0;32m    121\u001b[0m \u001b[38;5;28;01melse\u001b[39;00m:\n\u001b[0;32m    122\u001b[0m     \u001b[38;5;28mself\u001b[39m\u001b[38;5;241m.\u001b[39mbuilt \u001b[38;5;241m=\u001b[39m \u001b[38;5;28;01mFalse\u001b[39;00m\n",
      "File \u001b[1;32mc:\\Users\\tshol\\AppData\\Local\\Programs\\Python\\Python312\\Lib\\site-packages\\keras\\src\\models\\sequential.py:139\u001b[0m, in \u001b[0;36mSequential._maybe_rebuild\u001b[1;34m(self)\u001b[0m\n\u001b[0;32m    137\u001b[0m \u001b[38;5;28;01mif\u001b[39;00m \u001b[38;5;28misinstance\u001b[39m(\u001b[38;5;28mself\u001b[39m\u001b[38;5;241m.\u001b[39m_layers[\u001b[38;5;241m0\u001b[39m], InputLayer) \u001b[38;5;129;01mand\u001b[39;00m \u001b[38;5;28mlen\u001b[39m(\u001b[38;5;28mself\u001b[39m\u001b[38;5;241m.\u001b[39m_layers) \u001b[38;5;241m>\u001b[39m \u001b[38;5;241m1\u001b[39m:\n\u001b[0;32m    138\u001b[0m     input_shape \u001b[38;5;241m=\u001b[39m \u001b[38;5;28mself\u001b[39m\u001b[38;5;241m.\u001b[39m_layers[\u001b[38;5;241m0\u001b[39m]\u001b[38;5;241m.\u001b[39mbatch_shape\n\u001b[1;32m--> 139\u001b[0m     \u001b[38;5;28;43mself\u001b[39;49m\u001b[38;5;241;43m.\u001b[39;49m\u001b[43mbuild\u001b[49m\u001b[43m(\u001b[49m\u001b[43minput_shape\u001b[49m\u001b[43m)\u001b[49m\n",
      "File \u001b[1;32mc:\\Users\\tshol\\AppData\\Local\\Programs\\Python\\Python312\\Lib\\site-packages\\keras\\src\\layers\\layer.py:223\u001b[0m, in \u001b[0;36mLayer.__new__.<locals>.build_wrapper\u001b[1;34m(*args, **kwargs)\u001b[0m\n\u001b[0;32m    220\u001b[0m \u001b[38;5;129m@wraps\u001b[39m(original_build_method)\n\u001b[0;32m    221\u001b[0m \u001b[38;5;28;01mdef\u001b[39;00m \u001b[38;5;21mbuild_wrapper\u001b[39m(\u001b[38;5;241m*\u001b[39margs, \u001b[38;5;241m*\u001b[39m\u001b[38;5;241m*\u001b[39mkwargs):\n\u001b[0;32m    222\u001b[0m     \u001b[38;5;28;01mwith\u001b[39;00m obj\u001b[38;5;241m.\u001b[39m_open_name_scope():\n\u001b[1;32m--> 223\u001b[0m         \u001b[43moriginal_build_method\u001b[49m\u001b[43m(\u001b[49m\u001b[38;5;241;43m*\u001b[39;49m\u001b[43margs\u001b[49m\u001b[43m,\u001b[49m\u001b[43m \u001b[49m\u001b[38;5;241;43m*\u001b[39;49m\u001b[38;5;241;43m*\u001b[39;49m\u001b[43mkwargs\u001b[49m\u001b[43m)\u001b[49m\n\u001b[0;32m    224\u001b[0m     \u001b[38;5;66;03m# Record build config.\u001b[39;00m\n\u001b[0;32m    225\u001b[0m     signature \u001b[38;5;241m=\u001b[39m inspect\u001b[38;5;241m.\u001b[39msignature(original_build_method)\n",
      "File \u001b[1;32mc:\\Users\\tshol\\AppData\\Local\\Programs\\Python\\Python312\\Lib\\site-packages\\keras\\src\\models\\sequential.py:183\u001b[0m, in \u001b[0;36mSequential.build\u001b[1;34m(self, input_shape)\u001b[0m\n\u001b[0;32m    181\u001b[0m \u001b[38;5;28;01mfor\u001b[39;00m layer \u001b[38;5;129;01min\u001b[39;00m \u001b[38;5;28mself\u001b[39m\u001b[38;5;241m.\u001b[39m_layers[\u001b[38;5;241m1\u001b[39m:]:\n\u001b[0;32m    182\u001b[0m     \u001b[38;5;28;01mtry\u001b[39;00m:\n\u001b[1;32m--> 183\u001b[0m         x \u001b[38;5;241m=\u001b[39m \u001b[43mlayer\u001b[49m\u001b[43m(\u001b[49m\u001b[43mx\u001b[49m\u001b[43m)\u001b[49m\n\u001b[0;32m    184\u001b[0m     \u001b[38;5;28;01mexcept\u001b[39;00m \u001b[38;5;167;01mNotImplementedError\u001b[39;00m:\n\u001b[0;32m    185\u001b[0m         \u001b[38;5;66;03m# Can happen if shape inference is not implemented.\u001b[39;00m\n\u001b[0;32m    186\u001b[0m         \u001b[38;5;66;03m# TODO: consider reverting inbound nodes on layers processed.\u001b[39;00m\n\u001b[0;32m    187\u001b[0m         \u001b[38;5;28;01mreturn\u001b[39;00m\n",
      "File \u001b[1;32mc:\\Users\\tshol\\AppData\\Local\\Programs\\Python\\Python312\\Lib\\site-packages\\keras\\src\\utils\\traceback_utils.py:122\u001b[0m, in \u001b[0;36mfilter_traceback.<locals>.error_handler\u001b[1;34m(*args, **kwargs)\u001b[0m\n\u001b[0;32m    119\u001b[0m     filtered_tb \u001b[38;5;241m=\u001b[39m _process_traceback_frames(e\u001b[38;5;241m.\u001b[39m__traceback__)\n\u001b[0;32m    120\u001b[0m     \u001b[38;5;66;03m# To get the full stack trace, call:\u001b[39;00m\n\u001b[0;32m    121\u001b[0m     \u001b[38;5;66;03m# `keras.config.disable_traceback_filtering()`\u001b[39;00m\n\u001b[1;32m--> 122\u001b[0m     \u001b[38;5;28;01mraise\u001b[39;00m e\u001b[38;5;241m.\u001b[39mwith_traceback(filtered_tb) \u001b[38;5;28;01mfrom\u001b[39;00m \u001b[38;5;28;01mNone\u001b[39;00m\n\u001b[0;32m    123\u001b[0m \u001b[38;5;28;01mfinally\u001b[39;00m:\n\u001b[0;32m    124\u001b[0m     \u001b[38;5;28;01mdel\u001b[39;00m filtered_tb\n",
      "File \u001b[1;32mc:\\Users\\tshol\\AppData\\Local\\Programs\\Python\\Python312\\Lib\\site-packages\\keras\\src\\layers\\input_spec.py:186\u001b[0m, in \u001b[0;36massert_input_compatibility\u001b[1;34m(input_spec, inputs, layer_name)\u001b[0m\n\u001b[0;32m    184\u001b[0m \u001b[38;5;28;01mif\u001b[39;00m spec\u001b[38;5;241m.\u001b[39mndim \u001b[38;5;129;01mis\u001b[39;00m \u001b[38;5;129;01mnot\u001b[39;00m \u001b[38;5;28;01mNone\u001b[39;00m \u001b[38;5;129;01mand\u001b[39;00m \u001b[38;5;129;01mnot\u001b[39;00m spec\u001b[38;5;241m.\u001b[39mallow_last_axis_squeeze:\n\u001b[0;32m    185\u001b[0m     \u001b[38;5;28;01mif\u001b[39;00m ndim \u001b[38;5;241m!=\u001b[39m spec\u001b[38;5;241m.\u001b[39mndim:\n\u001b[1;32m--> 186\u001b[0m         \u001b[38;5;28;01mraise\u001b[39;00m \u001b[38;5;167;01mValueError\u001b[39;00m(\n\u001b[0;32m    187\u001b[0m             \u001b[38;5;124mf\u001b[39m\u001b[38;5;124m'\u001b[39m\u001b[38;5;124mInput \u001b[39m\u001b[38;5;132;01m{\u001b[39;00minput_index\u001b[38;5;132;01m}\u001b[39;00m\u001b[38;5;124m of layer \u001b[39m\u001b[38;5;124m\"\u001b[39m\u001b[38;5;132;01m{\u001b[39;00mlayer_name\u001b[38;5;132;01m}\u001b[39;00m\u001b[38;5;124m\"\u001b[39m\u001b[38;5;124m \u001b[39m\u001b[38;5;124m'\u001b[39m\n\u001b[0;32m    188\u001b[0m             \u001b[38;5;124m\"\u001b[39m\u001b[38;5;124mis incompatible with the layer: \u001b[39m\u001b[38;5;124m\"\u001b[39m\n\u001b[0;32m    189\u001b[0m             \u001b[38;5;124mf\u001b[39m\u001b[38;5;124m\"\u001b[39m\u001b[38;5;124mexpected ndim=\u001b[39m\u001b[38;5;132;01m{\u001b[39;00mspec\u001b[38;5;241m.\u001b[39mndim\u001b[38;5;132;01m}\u001b[39;00m\u001b[38;5;124m, found ndim=\u001b[39m\u001b[38;5;132;01m{\u001b[39;00mndim\u001b[38;5;132;01m}\u001b[39;00m\u001b[38;5;124m. \u001b[39m\u001b[38;5;124m\"\u001b[39m\n\u001b[0;32m    190\u001b[0m             \u001b[38;5;124mf\u001b[39m\u001b[38;5;124m\"\u001b[39m\u001b[38;5;124mFull shape received: \u001b[39m\u001b[38;5;132;01m{\u001b[39;00mshape\u001b[38;5;132;01m}\u001b[39;00m\u001b[38;5;124m\"\u001b[39m\n\u001b[0;32m    191\u001b[0m         )\n\u001b[0;32m    192\u001b[0m \u001b[38;5;28;01mif\u001b[39;00m spec\u001b[38;5;241m.\u001b[39mmax_ndim \u001b[38;5;129;01mis\u001b[39;00m \u001b[38;5;129;01mnot\u001b[39;00m \u001b[38;5;28;01mNone\u001b[39;00m:\n\u001b[0;32m    193\u001b[0m     \u001b[38;5;28;01mif\u001b[39;00m ndim \u001b[38;5;129;01mis\u001b[39;00m \u001b[38;5;129;01mnot\u001b[39;00m \u001b[38;5;28;01mNone\u001b[39;00m \u001b[38;5;129;01mand\u001b[39;00m ndim \u001b[38;5;241m>\u001b[39m spec\u001b[38;5;241m.\u001b[39mmax_ndim:\n",
      "\u001b[1;31mValueError\u001b[0m: Input 0 of layer \"lstm_5\" is incompatible with the layer: expected ndim=3, found ndim=2. Full shape received: (None, 61)"
     ]
    }
   ],
   "source": [
    "\n",
    "# Create the Optuna study and optimize\n",
    "study = optuna.create_study(direction='minimize')\n",
    "study.optimize(objective, n_trials=100)\n"
   ]
  },
  {
   "cell_type": "code",
   "execution_count": null,
   "metadata": {},
   "outputs": [
    {
     "name": "stderr",
     "output_type": "stream",
     "text": [
      "[I 2024-05-09 22:44:36,727] A new study created in memory with name: no-name-f6dbbed0-5e65-49f1-b944-6d7530168a44\n"
     ]
    },
    {
     "ename": "NameError",
     "evalue": "name 'trial' is not defined",
     "output_type": "error",
     "traceback": [
      "\u001b[1;31m---------------------------------------------------------------------------\u001b[0m",
      "\u001b[1;31mNameError\u001b[0m                                 Traceback (most recent call last)",
      "Cell \u001b[1;32mIn[31], line 3\u001b[0m\n\u001b[0;32m      1\u001b[0m \u001b[38;5;66;03m# Create the Optuna study and optimize\u001b[39;00m\n\u001b[0;32m      2\u001b[0m study \u001b[38;5;241m=\u001b[39m optuna\u001b[38;5;241m.\u001b[39mcreate_study(direction\u001b[38;5;241m=\u001b[39m\u001b[38;5;124m'\u001b[39m\u001b[38;5;124mminimize\u001b[39m\u001b[38;5;124m'\u001b[39m)\n\u001b[1;32m----> 3\u001b[0m study\u001b[38;5;241m.\u001b[39moptimize(objective, n_trials\u001b[38;5;241m=\u001b[39m\u001b[38;5;241m100\u001b[39m, callbacks\u001b[38;5;241m=\u001b[39m[TFKerasPruningCallback(\u001b[43mtrial\u001b[49m, monitor\u001b[38;5;241m=\u001b[39m\u001b[38;5;124m'\u001b[39m\u001b[38;5;124mval_loss\u001b[39m\u001b[38;5;124m'\u001b[39m)])\n",
      "\u001b[1;31mNameError\u001b[0m: name 'trial' is not defined"
     ]
    }
   ],
   "source": [
    "# Create the Optuna study and optimize\n",
    "study = optuna.create_study(direction='minimize')\n",
    "study.optimize(objective, n_trials=100, callbacks=[TFKerasPruningCallback(trial, monitor='val_loss')])\n",
    "\n"
   ]
  },
  {
   "cell_type": "code",
   "execution_count": null,
   "metadata": {},
   "outputs": [],
   "source": [
    "best_params = study.best_params\n",
    "print(\"Best Parameters:\")\n",
    "for param, value in best_params.items():\n",
    "    print(f\"{param}: {value}\")\n"
   ]
  },
  {
   "cell_type": "markdown",
   "metadata": {},
   "source": [
    "# __8. Model Evaluation__"
   ]
  },
  {
   "cell_type": "code",
   "execution_count": null,
   "metadata": {},
   "outputs": [
    {
     "name": "stdout",
     "output_type": "stream",
     "text": [
      "\u001b[1m42874/42874\u001b[0m \u001b[32m━━━━━━━━━━━━━━━━━━━━\u001b[0m\u001b[37m\u001b[0m \u001b[1m140s\u001b[0m 3ms/step\n",
      "\n",
      "Test Loss: 0.0009474472026340663\n",
      "\n",
      "Mean Absolute Error: 0.02057075873017311\n",
      "\n",
      "Root Mean Squared Error: 0.02684274\n",
      "\n",
      "R-squared: 0.9699871713199525\n"
     ]
    }
   ],
   "source": [
    "\n",
    "loss, mae = wb_model.evaluate(x_test, y_test, verbose=0)\n",
    "\n",
    "#Evaluating on the test data\n",
    "predictions = wb_model.predict(x_test)\n",
    "rmse = np.sqrt(mean_squared_error(y_test, predictions))\n",
    "r2 = r2_score(y_test, predictions)\n",
    "\n",
    "print('\\nTest Loss:', loss)\n",
    "print('\\nMean Absolute Error:', mae)\n",
    "print('\\nRoot Mean Squared Error:', rmse)\n",
    "print('\\nR-squared:', r2)"
   ]
  },
  {
   "cell_type": "code",
   "execution_count": null,
   "metadata": {},
   "outputs": [],
   "source": [
    "# plt.figure(figsize=(10, 6))\n",
    "# plt.plot(history.history['loss'], label='Training Loss')\n",
    "# plt.plot(history.history['val_loss'], label='Validation Loss')\n",
    "# plt.title('Training and Validation Loss')\n",
    "# plt.xlabel('Epoch')\n",
    "# plt.ylabel('Loss')\n",
    "# plt.legend()\n",
    "# plt.show()\n"
   ]
  }
 ],
 "metadata": {
  "kernelspec": {
   "display_name": "Python 3",
   "language": "python",
   "name": "python3"
  },
  "language_info": {
   "codemirror_mode": {
    "name": "ipython",
    "version": 3
   },
   "file_extension": ".py",
   "mimetype": "text/x-python",
   "name": "python",
   "nbconvert_exporter": "python",
   "pygments_lexer": "ipython3",
   "version": "3.12.2"
  }
 },
 "nbformat": 4,
 "nbformat_minor": 2
}
