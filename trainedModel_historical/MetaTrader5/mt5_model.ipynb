{
 "cells": [
  {
   "cell_type": "markdown",
   "metadata": {},
   "source": [
    "***\n",
    "\n",
    "# <center>__Utilizing Machine Learning__</center>\n",
    "# <center>__for High Frequency Algorithmic Trading__</center>\n",
    "\n",
    "\n",
    "##### <center>__Name:__ Masixole Boya</center>\n",
    "##### <center>__Student number:__ 1869204</center>\n",
    "\n",
    "***"
   ]
  },
  {
   "cell_type": "markdown",
   "metadata": {},
   "source": [
    "# __Imports__"
   ]
  },
  {
   "cell_type": "code",
   "execution_count": 1,
   "metadata": {},
   "outputs": [],
   "source": [
    "import pandas as pd\n",
    "import MetaTrader5 as mt5\n",
    "from datetime import datetime\n",
    "\n",
    "from secret_login import Secret_Login, IC_Markets_Login, Wandb_Login\n",
    "\n",
    "import pandas as pd\n",
    "import requests\n",
    "import matplotlib.pyplot as plt\n",
    "import mplfinance as mpf\n",
    "from sklearn.preprocessing import StandardScaler, MinMaxScaler\n",
    "from sklearn.model_selection import train_test_split\n",
    "from sklearn.model_selection import train_test_split\n",
    "from sklearn.metrics import mean_absolute_error, mean_squared_error\n",
    "from sklearn.metrics import r2_score\n",
    "\n",
    "import numpy as np\n",
    "import tensorflow\n",
    "from tensorflow import keras\n",
    "from keras.models import Sequential\n",
    "from keras.layers import Dense, LSTM\n",
    "from tensorflow.keras import layers\n",
    "from tensorflow.keras.optimizers import Adam\n",
    "from datetime import datetime\n",
    "import pytz\n",
    "import wandb\n",
    "\n",
    "\n",
    "from wandb.keras import WandbCallback, WandbMetricsLogger"
   ]
  },
  {
   "cell_type": "markdown",
   "metadata": {},
   "source": [
    "# __1. MetaTrader 5 API__ : Setup"
   ]
  },
  {
   "cell_type": "markdown",
   "metadata": {},
   "source": [
    "### __1.1 Initialize Application__"
   ]
  },
  {
   "cell_type": "code",
   "execution_count": 2,
   "metadata": {},
   "outputs": [
    {
     "data": {
      "text/plain": [
       "True"
      ]
     },
     "execution_count": 2,
     "metadata": {},
     "output_type": "execute_result"
    }
   ],
   "source": [
    "mt5.initialize()"
   ]
  },
  {
   "cell_type": "markdown",
   "metadata": {},
   "source": [
    "### __1.2 Login__\n"
   ]
  },
  {
   "cell_type": "code",
   "execution_count": 3,
   "metadata": {},
   "outputs": [
    {
     "name": "stdout",
     "output_type": "stream",
     "text": [
      "51750680\n",
      "ICMarketsSC-Demo\n"
     ]
    }
   ],
   "source": [
    "print(mt5.account_info().login)\n",
    "print(mt5.account_info().server)"
   ]
  },
  {
   "cell_type": "code",
   "execution_count": 4,
   "metadata": {},
   "outputs": [
    {
     "name": "stdout",
     "output_type": "stream",
     "text": [
      "Account : 51750680\n",
      "password : o&bCOUrc8jTHs8\n",
      "Server : ICMarketsSC-Demo\n"
     ]
    }
   ],
   "source": [
    "temp = IC_Markets_Login()\n",
    "\n",
    "account = mt5.account_info().login\n",
    "\n",
    "password = temp.password\n",
    "\n",
    "server = mt5.account_info().server\n",
    "\n",
    "print(f\"Account : {account}\")\n",
    "print(f\"password : {password}\")\n",
    "print(f\"Server : {server}\")\n",
    "\n"
   ]
  },
  {
   "cell_type": "code",
   "execution_count": 5,
   "metadata": {},
   "outputs": [
    {
     "name": "stdout",
     "output_type": "stream",
     "text": [
      "connected to account #51750680\n"
     ]
    }
   ],
   "source": [
    "authorized = mt5.login(account,password,server)\n",
    "\n",
    "if authorized:\n",
    "    print(\"connected to account #{}\".format(account))\n",
    "else:\n",
    "    print(\"failed to connect at account #{}, error code: {}\".format(account, mt5.last_error()))"
   ]
  },
  {
   "cell_type": "markdown",
   "metadata": {},
   "source": [
    "# __2. MetaTrader 5 API__ : Retrieving Data"
   ]
  },
  {
   "cell_type": "code",
   "execution_count": 6,
   "metadata": {},
   "outputs": [],
   "source": [
    "ticker = 'EURUSD'\n",
    "frequency = mt5.TIMEFRAME_M1\n",
    "from_date = datetime.now()\n",
    "to_date = datetime(1994,1,1)\n"
   ]
  },
  {
   "cell_type": "code",
   "execution_count": 7,
   "metadata": {},
   "outputs": [
    {
     "data": {
      "text/plain": [
       "array([( 757555200, 1.1248 , 1.1288 , 1.1211 , 1.1216 , 1221, 50, 0),\n",
       "       ( 757641600, 1.1214 , 1.1271 , 1.1211 , 1.126  ,  741, 50, 0),\n",
       "       ( 757728000, 1.1262 , 1.1285 , 1.1231 , 1.1233 ,  791, 50, 0), ...,\n",
       "       (1715121780, 1.07545, 1.07547, 1.07539, 1.07544,   27,  0, 0),\n",
       "       (1715121840, 1.07544, 1.07546, 1.07542, 1.07542,   17,  0, 0),\n",
       "       (1715121900, 1.07542, 1.07551, 1.07542, 1.07549,   39,  0, 0)],\n",
       "      dtype=[('time', '<i8'), ('open', '<f8'), ('high', '<f8'), ('low', '<f8'), ('close', '<f8'), ('tick_volume', '<u8'), ('spread', '<i4'), ('real_volume', '<u8')])"
      ]
     },
     "execution_count": 7,
     "metadata": {},
     "output_type": "execute_result"
    }
   ],
   "source": [
    "range_rates = mt5.copy_rates_range(ticker,frequency,to_date, from_date)\n",
    "range_rates"
   ]
  },
  {
   "cell_type": "code",
   "execution_count": 8,
   "metadata": {},
   "outputs": [
    {
     "data": {
      "text/html": [
       "<div>\n",
       "<style scoped>\n",
       "    .dataframe tbody tr th:only-of-type {\n",
       "        vertical-align: middle;\n",
       "    }\n",
       "\n",
       "    .dataframe tbody tr th {\n",
       "        vertical-align: top;\n",
       "    }\n",
       "\n",
       "    .dataframe thead th {\n",
       "        text-align: right;\n",
       "    }\n",
       "</style>\n",
       "<table border=\"1\" class=\"dataframe\">\n",
       "  <thead>\n",
       "    <tr style=\"text-align: right;\">\n",
       "      <th></th>\n",
       "      <th>time</th>\n",
       "      <th>open</th>\n",
       "      <th>high</th>\n",
       "      <th>low</th>\n",
       "      <th>close</th>\n",
       "      <th>tick_volume</th>\n",
       "      <th>spread</th>\n",
       "      <th>real_volume</th>\n",
       "    </tr>\n",
       "  </thead>\n",
       "  <tbody>\n",
       "    <tr>\n",
       "      <th>0</th>\n",
       "      <td>757555200</td>\n",
       "      <td>1.12480</td>\n",
       "      <td>1.12880</td>\n",
       "      <td>1.12110</td>\n",
       "      <td>1.12160</td>\n",
       "      <td>1221</td>\n",
       "      <td>50</td>\n",
       "      <td>0</td>\n",
       "    </tr>\n",
       "    <tr>\n",
       "      <th>1</th>\n",
       "      <td>757641600</td>\n",
       "      <td>1.12140</td>\n",
       "      <td>1.12710</td>\n",
       "      <td>1.12110</td>\n",
       "      <td>1.12600</td>\n",
       "      <td>741</td>\n",
       "      <td>50</td>\n",
       "      <td>0</td>\n",
       "    </tr>\n",
       "    <tr>\n",
       "      <th>2</th>\n",
       "      <td>757728000</td>\n",
       "      <td>1.12620</td>\n",
       "      <td>1.12850</td>\n",
       "      <td>1.12310</td>\n",
       "      <td>1.12330</td>\n",
       "      <td>791</td>\n",
       "      <td>50</td>\n",
       "      <td>0</td>\n",
       "    </tr>\n",
       "    <tr>\n",
       "      <th>3</th>\n",
       "      <td>757814400</td>\n",
       "      <td>1.12330</td>\n",
       "      <td>1.12680</td>\n",
       "      <td>1.12010</td>\n",
       "      <td>1.12130</td>\n",
       "      <td>1141</td>\n",
       "      <td>50</td>\n",
       "      <td>0</td>\n",
       "    </tr>\n",
       "    <tr>\n",
       "      <th>4</th>\n",
       "      <td>757900800</td>\n",
       "      <td>1.12180</td>\n",
       "      <td>1.13330</td>\n",
       "      <td>1.12090</td>\n",
       "      <td>1.13280</td>\n",
       "      <td>1381</td>\n",
       "      <td>50</td>\n",
       "      <td>0</td>\n",
       "    </tr>\n",
       "    <tr>\n",
       "      <th>...</th>\n",
       "      <td>...</td>\n",
       "      <td>...</td>\n",
       "      <td>...</td>\n",
       "      <td>...</td>\n",
       "      <td>...</td>\n",
       "      <td>...</td>\n",
       "      <td>...</td>\n",
       "      <td>...</td>\n",
       "    </tr>\n",
       "    <tr>\n",
       "      <th>9146276</th>\n",
       "      <td>1715121660</td>\n",
       "      <td>1.07544</td>\n",
       "      <td>1.07548</td>\n",
       "      <td>1.07539</td>\n",
       "      <td>1.07540</td>\n",
       "      <td>36</td>\n",
       "      <td>0</td>\n",
       "      <td>0</td>\n",
       "    </tr>\n",
       "    <tr>\n",
       "      <th>9146277</th>\n",
       "      <td>1715121720</td>\n",
       "      <td>1.07540</td>\n",
       "      <td>1.07546</td>\n",
       "      <td>1.07537</td>\n",
       "      <td>1.07545</td>\n",
       "      <td>30</td>\n",
       "      <td>0</td>\n",
       "      <td>0</td>\n",
       "    </tr>\n",
       "    <tr>\n",
       "      <th>9146278</th>\n",
       "      <td>1715121780</td>\n",
       "      <td>1.07545</td>\n",
       "      <td>1.07547</td>\n",
       "      <td>1.07539</td>\n",
       "      <td>1.07544</td>\n",
       "      <td>27</td>\n",
       "      <td>0</td>\n",
       "      <td>0</td>\n",
       "    </tr>\n",
       "    <tr>\n",
       "      <th>9146279</th>\n",
       "      <td>1715121840</td>\n",
       "      <td>1.07544</td>\n",
       "      <td>1.07546</td>\n",
       "      <td>1.07542</td>\n",
       "      <td>1.07542</td>\n",
       "      <td>17</td>\n",
       "      <td>0</td>\n",
       "      <td>0</td>\n",
       "    </tr>\n",
       "    <tr>\n",
       "      <th>9146280</th>\n",
       "      <td>1715121900</td>\n",
       "      <td>1.07542</td>\n",
       "      <td>1.07551</td>\n",
       "      <td>1.07542</td>\n",
       "      <td>1.07549</td>\n",
       "      <td>39</td>\n",
       "      <td>0</td>\n",
       "      <td>0</td>\n",
       "    </tr>\n",
       "  </tbody>\n",
       "</table>\n",
       "<p>9146281 rows × 8 columns</p>\n",
       "</div>"
      ],
      "text/plain": [
       "               time     open     high      low    close  tick_volume  spread  \\\n",
       "0         757555200  1.12480  1.12880  1.12110  1.12160         1221      50   \n",
       "1         757641600  1.12140  1.12710  1.12110  1.12600          741      50   \n",
       "2         757728000  1.12620  1.12850  1.12310  1.12330          791      50   \n",
       "3         757814400  1.12330  1.12680  1.12010  1.12130         1141      50   \n",
       "4         757900800  1.12180  1.13330  1.12090  1.13280         1381      50   \n",
       "...             ...      ...      ...      ...      ...          ...     ...   \n",
       "9146276  1715121660  1.07544  1.07548  1.07539  1.07540           36       0   \n",
       "9146277  1715121720  1.07540  1.07546  1.07537  1.07545           30       0   \n",
       "9146278  1715121780  1.07545  1.07547  1.07539  1.07544           27       0   \n",
       "9146279  1715121840  1.07544  1.07546  1.07542  1.07542           17       0   \n",
       "9146280  1715121900  1.07542  1.07551  1.07542  1.07549           39       0   \n",
       "\n",
       "         real_volume  \n",
       "0                  0  \n",
       "1                  0  \n",
       "2                  0  \n",
       "3                  0  \n",
       "4                  0  \n",
       "...              ...  \n",
       "9146276            0  \n",
       "9146277            0  \n",
       "9146278            0  \n",
       "9146279            0  \n",
       "9146280            0  \n",
       "\n",
       "[9146281 rows x 8 columns]"
      ]
     },
     "execution_count": 8,
     "metadata": {},
     "output_type": "execute_result"
    }
   ],
   "source": [
    "data = pd.DataFrame(range_rates)\n",
    "data"
   ]
  },
  {
   "cell_type": "code",
   "execution_count": 9,
   "metadata": {},
   "outputs": [
    {
     "data": {
      "text/html": [
       "<div>\n",
       "<style scoped>\n",
       "    .dataframe tbody tr th:only-of-type {\n",
       "        vertical-align: middle;\n",
       "    }\n",
       "\n",
       "    .dataframe tbody tr th {\n",
       "        vertical-align: top;\n",
       "    }\n",
       "\n",
       "    .dataframe thead th {\n",
       "        text-align: right;\n",
       "    }\n",
       "</style>\n",
       "<table border=\"1\" class=\"dataframe\">\n",
       "  <thead>\n",
       "    <tr style=\"text-align: right;\">\n",
       "      <th></th>\n",
       "      <th>time</th>\n",
       "      <th>open</th>\n",
       "      <th>high</th>\n",
       "      <th>low</th>\n",
       "      <th>close</th>\n",
       "      <th>tick_volume</th>\n",
       "      <th>spread</th>\n",
       "      <th>real_volume</th>\n",
       "    </tr>\n",
       "  </thead>\n",
       "  <tbody>\n",
       "    <tr>\n",
       "      <th>0</th>\n",
       "      <td>1994-01-03 00:00:00</td>\n",
       "      <td>1.12480</td>\n",
       "      <td>1.12880</td>\n",
       "      <td>1.12110</td>\n",
       "      <td>1.12160</td>\n",
       "      <td>1221</td>\n",
       "      <td>50</td>\n",
       "      <td>0</td>\n",
       "    </tr>\n",
       "    <tr>\n",
       "      <th>1</th>\n",
       "      <td>1994-01-04 00:00:00</td>\n",
       "      <td>1.12140</td>\n",
       "      <td>1.12710</td>\n",
       "      <td>1.12110</td>\n",
       "      <td>1.12600</td>\n",
       "      <td>741</td>\n",
       "      <td>50</td>\n",
       "      <td>0</td>\n",
       "    </tr>\n",
       "    <tr>\n",
       "      <th>2</th>\n",
       "      <td>1994-01-05 00:00:00</td>\n",
       "      <td>1.12620</td>\n",
       "      <td>1.12850</td>\n",
       "      <td>1.12310</td>\n",
       "      <td>1.12330</td>\n",
       "      <td>791</td>\n",
       "      <td>50</td>\n",
       "      <td>0</td>\n",
       "    </tr>\n",
       "    <tr>\n",
       "      <th>3</th>\n",
       "      <td>1994-01-06 00:00:00</td>\n",
       "      <td>1.12330</td>\n",
       "      <td>1.12680</td>\n",
       "      <td>1.12010</td>\n",
       "      <td>1.12130</td>\n",
       "      <td>1141</td>\n",
       "      <td>50</td>\n",
       "      <td>0</td>\n",
       "    </tr>\n",
       "    <tr>\n",
       "      <th>4</th>\n",
       "      <td>1994-01-07 00:00:00</td>\n",
       "      <td>1.12180</td>\n",
       "      <td>1.13330</td>\n",
       "      <td>1.12090</td>\n",
       "      <td>1.13280</td>\n",
       "      <td>1381</td>\n",
       "      <td>50</td>\n",
       "      <td>0</td>\n",
       "    </tr>\n",
       "    <tr>\n",
       "      <th>...</th>\n",
       "      <td>...</td>\n",
       "      <td>...</td>\n",
       "      <td>...</td>\n",
       "      <td>...</td>\n",
       "      <td>...</td>\n",
       "      <td>...</td>\n",
       "      <td>...</td>\n",
       "      <td>...</td>\n",
       "    </tr>\n",
       "    <tr>\n",
       "      <th>9146276</th>\n",
       "      <td>2024-05-07 22:41:00</td>\n",
       "      <td>1.07544</td>\n",
       "      <td>1.07548</td>\n",
       "      <td>1.07539</td>\n",
       "      <td>1.07540</td>\n",
       "      <td>36</td>\n",
       "      <td>0</td>\n",
       "      <td>0</td>\n",
       "    </tr>\n",
       "    <tr>\n",
       "      <th>9146277</th>\n",
       "      <td>2024-05-07 22:42:00</td>\n",
       "      <td>1.07540</td>\n",
       "      <td>1.07546</td>\n",
       "      <td>1.07537</td>\n",
       "      <td>1.07545</td>\n",
       "      <td>30</td>\n",
       "      <td>0</td>\n",
       "      <td>0</td>\n",
       "    </tr>\n",
       "    <tr>\n",
       "      <th>9146278</th>\n",
       "      <td>2024-05-07 22:43:00</td>\n",
       "      <td>1.07545</td>\n",
       "      <td>1.07547</td>\n",
       "      <td>1.07539</td>\n",
       "      <td>1.07544</td>\n",
       "      <td>27</td>\n",
       "      <td>0</td>\n",
       "      <td>0</td>\n",
       "    </tr>\n",
       "    <tr>\n",
       "      <th>9146279</th>\n",
       "      <td>2024-05-07 22:44:00</td>\n",
       "      <td>1.07544</td>\n",
       "      <td>1.07546</td>\n",
       "      <td>1.07542</td>\n",
       "      <td>1.07542</td>\n",
       "      <td>17</td>\n",
       "      <td>0</td>\n",
       "      <td>0</td>\n",
       "    </tr>\n",
       "    <tr>\n",
       "      <th>9146280</th>\n",
       "      <td>2024-05-07 22:45:00</td>\n",
       "      <td>1.07542</td>\n",
       "      <td>1.07551</td>\n",
       "      <td>1.07542</td>\n",
       "      <td>1.07549</td>\n",
       "      <td>39</td>\n",
       "      <td>0</td>\n",
       "      <td>0</td>\n",
       "    </tr>\n",
       "  </tbody>\n",
       "</table>\n",
       "<p>9146281 rows × 8 columns</p>\n",
       "</div>"
      ],
      "text/plain": [
       "                       time     open     high      low    close  tick_volume  \\\n",
       "0       1994-01-03 00:00:00  1.12480  1.12880  1.12110  1.12160         1221   \n",
       "1       1994-01-04 00:00:00  1.12140  1.12710  1.12110  1.12600          741   \n",
       "2       1994-01-05 00:00:00  1.12620  1.12850  1.12310  1.12330          791   \n",
       "3       1994-01-06 00:00:00  1.12330  1.12680  1.12010  1.12130         1141   \n",
       "4       1994-01-07 00:00:00  1.12180  1.13330  1.12090  1.13280         1381   \n",
       "...                     ...      ...      ...      ...      ...          ...   \n",
       "9146276 2024-05-07 22:41:00  1.07544  1.07548  1.07539  1.07540           36   \n",
       "9146277 2024-05-07 22:42:00  1.07540  1.07546  1.07537  1.07545           30   \n",
       "9146278 2024-05-07 22:43:00  1.07545  1.07547  1.07539  1.07544           27   \n",
       "9146279 2024-05-07 22:44:00  1.07544  1.07546  1.07542  1.07542           17   \n",
       "9146280 2024-05-07 22:45:00  1.07542  1.07551  1.07542  1.07549           39   \n",
       "\n",
       "         spread  real_volume  \n",
       "0            50            0  \n",
       "1            50            0  \n",
       "2            50            0  \n",
       "3            50            0  \n",
       "4            50            0  \n",
       "...         ...          ...  \n",
       "9146276       0            0  \n",
       "9146277       0            0  \n",
       "9146278       0            0  \n",
       "9146279       0            0  \n",
       "9146280       0            0  \n",
       "\n",
       "[9146281 rows x 8 columns]"
      ]
     },
     "execution_count": 9,
     "metadata": {},
     "output_type": "execute_result"
    }
   ],
   "source": [
    "data['time'] = pd.to_datetime(data['time'],unit = 's')\n",
    "data"
   ]
  },
  {
   "cell_type": "code",
   "execution_count": 10,
   "metadata": {},
   "outputs": [
    {
     "name": "stdout",
     "output_type": "stream",
     "text": [
      "first time : \n",
      "0   1994-01-03\n",
      "Name: time, dtype: datetime64[ns]\n",
      "\n",
      "Last time : \n",
      "9146280   2024-05-07 22:45:00\n",
      "Name: time, dtype: datetime64[ns]\n"
     ]
    }
   ],
   "source": [
    "print(f'first time : \\n{data.head(1)['time']}')\n",
    "print(f\"\\nLast time : \\n{data.tail(1)['time'] }\")"
   ]
  },
  {
   "cell_type": "markdown",
   "metadata": {},
   "source": [
    "# __3. Preprocessing Data__"
   ]
  },
  {
   "cell_type": "markdown",
   "metadata": {},
   "source": [
    "### __3.1 Data Visualization__"
   ]
  },
  {
   "cell_type": "code",
   "execution_count": 11,
   "metadata": {},
   "outputs": [],
   "source": [
    "data.set_index('time', inplace=True)"
   ]
  },
  {
   "cell_type": "code",
   "execution_count": 12,
   "metadata": {},
   "outputs": [
    {
     "data": {
      "image/png": "[encoded data removed]",
      "text/plain": [
       "<Figure size 1600x800 with 1 Axes>"
      ]
     },
     "metadata": {},
     "output_type": "display_data"
    }
   ],
   "source": [
    "plt.figure(figsize=(16,8))\n",
    "plt.title(f'{ticker} Candlestick from {to_date}')\n",
    "plt.plot(data['close'])\n",
    "plt.ylabel('Close Price')\n",
    "plt.xlabel('Date')\n",
    "plt.show()"
   ]
  },
  {
   "cell_type": "markdown",
   "metadata": {},
   "source": [
    "<h3><strong>3.2 Scaling<strong></h3>"
   ]
  },
  {
   "cell_type": "code",
   "execution_count": 13,
   "metadata": {},
   "outputs": [],
   "source": [
    "# numerical_features = ['open', 'high', 'low', 'close'] \n",
    "\n",
    "\n",
    "# data[numerical_features] = data[numerical_features]\n",
    "\n",
    "# scaler = MinMaxScaler()\n",
    "# data[numerical_features] = scaler.fit_transform(data[numerical_features])"
   ]
  },
  {
   "cell_type": "code",
   "execution_count": 14,
   "metadata": {},
   "outputs": [
    {
     "data": {
      "text/html": [
       "<div>\n",
       "<style scoped>\n",
       "    .dataframe tbody tr th:only-of-type {\n",
       "        vertical-align: middle;\n",
       "    }\n",
       "\n",
       "    .dataframe tbody tr th {\n",
       "        vertical-align: top;\n",
       "    }\n",
       "\n",
       "    .dataframe thead th {\n",
       "        text-align: right;\n",
       "    }\n",
       "</style>\n",
       "<table border=\"1\" class=\"dataframe\">\n",
       "  <thead>\n",
       "    <tr style=\"text-align: right;\">\n",
       "      <th></th>\n",
       "      <th>open</th>\n",
       "      <th>high</th>\n",
       "      <th>low</th>\n",
       "      <th>close</th>\n",
       "      <th>tick_volume</th>\n",
       "      <th>spread</th>\n",
       "      <th>real_volume</th>\n",
       "    </tr>\n",
       "    <tr>\n",
       "      <th>time</th>\n",
       "      <th></th>\n",
       "      <th></th>\n",
       "      <th></th>\n",
       "      <th></th>\n",
       "      <th></th>\n",
       "      <th></th>\n",
       "      <th></th>\n",
       "    </tr>\n",
       "  </thead>\n",
       "  <tbody>\n",
       "    <tr>\n",
       "      <th>2024-05-07 22:41:00</th>\n",
       "      <td>1.07544</td>\n",
       "      <td>1.07548</td>\n",
       "      <td>1.07539</td>\n",
       "      <td>1.07540</td>\n",
       "      <td>36</td>\n",
       "      <td>0</td>\n",
       "      <td>0</td>\n",
       "    </tr>\n",
       "    <tr>\n",
       "      <th>2024-05-07 22:42:00</th>\n",
       "      <td>1.07540</td>\n",
       "      <td>1.07546</td>\n",
       "      <td>1.07537</td>\n",
       "      <td>1.07545</td>\n",
       "      <td>30</td>\n",
       "      <td>0</td>\n",
       "      <td>0</td>\n",
       "    </tr>\n",
       "    <tr>\n",
       "      <th>2024-05-07 22:43:00</th>\n",
       "      <td>1.07545</td>\n",
       "      <td>1.07547</td>\n",
       "      <td>1.07539</td>\n",
       "      <td>1.07544</td>\n",
       "      <td>27</td>\n",
       "      <td>0</td>\n",
       "      <td>0</td>\n",
       "    </tr>\n",
       "    <tr>\n",
       "      <th>2024-05-07 22:44:00</th>\n",
       "      <td>1.07544</td>\n",
       "      <td>1.07546</td>\n",
       "      <td>1.07542</td>\n",
       "      <td>1.07542</td>\n",
       "      <td>17</td>\n",
       "      <td>0</td>\n",
       "      <td>0</td>\n",
       "    </tr>\n",
       "    <tr>\n",
       "      <th>2024-05-07 22:45:00</th>\n",
       "      <td>1.07542</td>\n",
       "      <td>1.07551</td>\n",
       "      <td>1.07542</td>\n",
       "      <td>1.07549</td>\n",
       "      <td>39</td>\n",
       "      <td>0</td>\n",
       "      <td>0</td>\n",
       "    </tr>\n",
       "  </tbody>\n",
       "</table>\n",
       "</div>"
      ],
      "text/plain": [
       "                        open     high      low    close  tick_volume  spread  \\\n",
       "time                                                                           \n",
       "2024-05-07 22:41:00  1.07544  1.07548  1.07539  1.07540           36       0   \n",
       "2024-05-07 22:42:00  1.07540  1.07546  1.07537  1.07545           30       0   \n",
       "2024-05-07 22:43:00  1.07545  1.07547  1.07539  1.07544           27       0   \n",
       "2024-05-07 22:44:00  1.07544  1.07546  1.07542  1.07542           17       0   \n",
       "2024-05-07 22:45:00  1.07542  1.07551  1.07542  1.07549           39       0   \n",
       "\n",
       "                     real_volume  \n",
       "time                              \n",
       "2024-05-07 22:41:00            0  \n",
       "2024-05-07 22:42:00            0  \n",
       "2024-05-07 22:43:00            0  \n",
       "2024-05-07 22:44:00            0  \n",
       "2024-05-07 22:45:00            0  "
      ]
     },
     "execution_count": 14,
     "metadata": {},
     "output_type": "execute_result"
    }
   ],
   "source": [
    "\n",
    "data.tail()"
   ]
  },
  {
   "cell_type": "markdown",
   "metadata": {},
   "source": [
    "<h3><strong>3.3 Creating training data<strong></h3>\n",
    "\n",
    "<h4><strong>Preparing Lagged Data</strong></h4>\n",
    "\n",
    "- __`df`:__ This is a DataFrame containing the original data.\n",
    "  \n",
    "- __`lag_steps:`__ This is an integer representing the number of time steps to lag the time unit by. It determines how many previous values of the target variable ('close') to include in the lagged DataFrame.\n",
    "  \n",
    "- __`lagged_df:`__ This is a new DataFrame that will store the lagged data.\n",
    "  \n",
    "- __`pd.DataFrame(index=df.index)`:__ This creates a new DataFrame with the same index as the original DataFrame df. The index represents the date and time of each data point.\n",
    "  \n",
    "- __`lagged_df['DateTime'] = df.index:`__ This creates a new column in the lagged_df DataFrame called 'DateTime', and it copies the index of the original DataFrame df. This column will store the date and time information.\n",
    "  \n",
    "- __`lagged_df['ActualValue'] = df['close']:`__ This creates a new column in the lagged_df DataFrame called 'ActualValue', and it copies the values from the 'close' column of the original DataFrame df. This column will store the actual values of the target variable.\n",
    "  \n",
    "- __`Loop:`__ This loop iterates from 1 to lag_steps (inclusive). For each iteration:\n",
    "    - __`lagged_df[f'PrevValue_{i}'] = df['close'].shift(i):`__ This creates a new column in the lagged_df DataFrame for each lagged value. The column name includes the prefix 'PrevValue_' followed by the lag index i. It shifts the values of the 'close' column of the original DataFrame df upwards by i time steps and stores them in the new column. This effectively creates lagged features for the target variable.\n",
    "  \n",
    "- __`return lagged_df.dropna():`__ This returns the lagged DataFrame after dropping any rows with missing values (NaN). Since creating lagged features involves shifting the data, the first few rows will contain NaN values where there is no data available for the lagged features.\n"
   ]
  },
  {
   "cell_type": "code",
   "execution_count": 15,
   "metadata": {},
   "outputs": [
    {
     "data": {
      "text/html": [
       "<div>\n",
       "<style scoped>\n",
       "    .dataframe tbody tr th:only-of-type {\n",
       "        vertical-align: middle;\n",
       "    }\n",
       "\n",
       "    .dataframe tbody tr th {\n",
       "        vertical-align: top;\n",
       "    }\n",
       "\n",
       "    .dataframe thead th {\n",
       "        text-align: right;\n",
       "    }\n",
       "</style>\n",
       "<table border=\"1\" class=\"dataframe\">\n",
       "  <thead>\n",
       "    <tr style=\"text-align: right;\">\n",
       "      <th></th>\n",
       "      <th>DateTime</th>\n",
       "      <th>ActualValue</th>\n",
       "      <th>PrevValue_1</th>\n",
       "      <th>PrevValue_2</th>\n",
       "      <th>PrevValue_3</th>\n",
       "      <th>PrevValue_4</th>\n",
       "      <th>PrevValue_5</th>\n",
       "      <th>PrevValue_6</th>\n",
       "      <th>PrevValue_7</th>\n",
       "      <th>PrevValue_8</th>\n",
       "      <th>PrevValue_9</th>\n",
       "      <th>PrevValue_10</th>\n",
       "    </tr>\n",
       "    <tr>\n",
       "      <th>time</th>\n",
       "      <th></th>\n",
       "      <th></th>\n",
       "      <th></th>\n",
       "      <th></th>\n",
       "      <th></th>\n",
       "      <th></th>\n",
       "      <th></th>\n",
       "      <th></th>\n",
       "      <th></th>\n",
       "      <th></th>\n",
       "      <th></th>\n",
       "      <th></th>\n",
       "    </tr>\n",
       "  </thead>\n",
       "  <tbody>\n",
       "    <tr>\n",
       "      <th>1994-01-17</th>\n",
       "      <td>1994-01-17</td>\n",
       "      <td>1.1162</td>\n",
       "      <td>1.1154</td>\n",
       "      <td>1.1175</td>\n",
       "      <td>1.1286</td>\n",
       "      <td>1.1233</td>\n",
       "      <td>1.1276</td>\n",
       "      <td>1.1328</td>\n",
       "      <td>1.1213</td>\n",
       "      <td>1.1233</td>\n",
       "      <td>1.1260</td>\n",
       "      <td>1.1216</td>\n",
       "    </tr>\n",
       "    <tr>\n",
       "      <th>1994-01-18</th>\n",
       "      <td>1994-01-18</td>\n",
       "      <td>1.1197</td>\n",
       "      <td>1.1162</td>\n",
       "      <td>1.1154</td>\n",
       "      <td>1.1175</td>\n",
       "      <td>1.1286</td>\n",
       "      <td>1.1233</td>\n",
       "      <td>1.1276</td>\n",
       "      <td>1.1328</td>\n",
       "      <td>1.1213</td>\n",
       "      <td>1.1233</td>\n",
       "      <td>1.1260</td>\n",
       "    </tr>\n",
       "    <tr>\n",
       "      <th>1994-01-19</th>\n",
       "      <td>1994-01-19</td>\n",
       "      <td>1.1193</td>\n",
       "      <td>1.1197</td>\n",
       "      <td>1.1162</td>\n",
       "      <td>1.1154</td>\n",
       "      <td>1.1175</td>\n",
       "      <td>1.1286</td>\n",
       "      <td>1.1233</td>\n",
       "      <td>1.1276</td>\n",
       "      <td>1.1328</td>\n",
       "      <td>1.1213</td>\n",
       "      <td>1.1233</td>\n",
       "    </tr>\n",
       "    <tr>\n",
       "      <th>1994-01-20</th>\n",
       "      <td>1994-01-20</td>\n",
       "      <td>1.1259</td>\n",
       "      <td>1.1193</td>\n",
       "      <td>1.1197</td>\n",
       "      <td>1.1162</td>\n",
       "      <td>1.1154</td>\n",
       "      <td>1.1175</td>\n",
       "      <td>1.1286</td>\n",
       "      <td>1.1233</td>\n",
       "      <td>1.1276</td>\n",
       "      <td>1.1328</td>\n",
       "      <td>1.1213</td>\n",
       "    </tr>\n",
       "    <tr>\n",
       "      <th>1994-01-21</th>\n",
       "      <td>1994-01-21</td>\n",
       "      <td>1.1144</td>\n",
       "      <td>1.1259</td>\n",
       "      <td>1.1193</td>\n",
       "      <td>1.1197</td>\n",
       "      <td>1.1162</td>\n",
       "      <td>1.1154</td>\n",
       "      <td>1.1175</td>\n",
       "      <td>1.1286</td>\n",
       "      <td>1.1233</td>\n",
       "      <td>1.1276</td>\n",
       "      <td>1.1328</td>\n",
       "    </tr>\n",
       "  </tbody>\n",
       "</table>\n",
       "</div>"
      ],
      "text/plain": [
       "             DateTime  ActualValue  PrevValue_1  PrevValue_2  PrevValue_3  \\\n",
       "time                                                                        \n",
       "1994-01-17 1994-01-17       1.1162       1.1154       1.1175       1.1286   \n",
       "1994-01-18 1994-01-18       1.1197       1.1162       1.1154       1.1175   \n",
       "1994-01-19 1994-01-19       1.1193       1.1197       1.1162       1.1154   \n",
       "1994-01-20 1994-01-20       1.1259       1.1193       1.1197       1.1162   \n",
       "1994-01-21 1994-01-21       1.1144       1.1259       1.1193       1.1197   \n",
       "\n",
       "            PrevValue_4  PrevValue_5  PrevValue_6  PrevValue_7  PrevValue_8  \\\n",
       "time                                                                          \n",
       "1994-01-17       1.1233       1.1276       1.1328       1.1213       1.1233   \n",
       "1994-01-18       1.1286       1.1233       1.1276       1.1328       1.1213   \n",
       "1994-01-19       1.1175       1.1286       1.1233       1.1276       1.1328   \n",
       "1994-01-20       1.1154       1.1175       1.1286       1.1233       1.1276   \n",
       "1994-01-21       1.1162       1.1154       1.1175       1.1286       1.1233   \n",
       "\n",
       "            PrevValue_9  PrevValue_10  \n",
       "time                                   \n",
       "1994-01-17       1.1260        1.1216  \n",
       "1994-01-18       1.1233        1.1260  \n",
       "1994-01-19       1.1213        1.1233  \n",
       "1994-01-20       1.1328        1.1213  \n",
       "1994-01-21       1.1276        1.1328  "
      ]
     },
     "execution_count": 15,
     "metadata": {},
     "output_type": "execute_result"
    }
   ],
   "source": [
    "go_back_by = 10\n",
    "\n",
    "def create_lagged_dataframe(df, lag_steps=go_back_by):\n",
    "    lagged_df = pd.DataFrame(index=df.index)\n",
    "    lagged_df['DateTime'] = df.index\n",
    "    lagged_df['ActualValue'] = df['close']\n",
    "\n",
    "    #Creating lagged columns for previous values\n",
    "    for i in range(1, lag_steps + 1):\n",
    "        lagged_df[f'PrevValue_{i}'] = df['close'].shift(i)\n",
    "\n",
    "    return lagged_df.dropna()\n",
    "\n",
    "lagged_df = create_lagged_dataframe(data)\n",
    "lagged_df.head()\n"
   ]
  },
  {
   "cell_type": "code",
   "execution_count": 16,
   "metadata": {},
   "outputs": [
    {
     "data": {
      "text/plain": [
       "Index(['DateTime', 'ActualValue', 'PrevValue_1', 'PrevValue_2', 'PrevValue_3',\n",
       "       'PrevValue_4', 'PrevValue_5', 'PrevValue_6', 'PrevValue_7',\n",
       "       'PrevValue_8', 'PrevValue_9', 'PrevValue_10'],\n",
       "      dtype='object')"
      ]
     },
     "execution_count": 16,
     "metadata": {},
     "output_type": "execute_result"
    }
   ],
   "source": [
    "lagged_df.columns\n"
   ]
  },
  {
   "cell_type": "markdown",
   "metadata": {},
   "source": [
    "<h4><strong>Prepare LSTM Data</strong></h4>\n",
    "\n",
    "- __`lagged_df:`__ This is a DataFrame containing the lagged data.\n",
    "\n",
    "- __`dates:`__ This variable stores the date and time information from the lagged DataFrame.\n",
    "\n",
    "- __`X:`__ This variable stores the input features for the LSTM model. It consists of all columns from the lagged DataFrame except 'DateTime' and 'ActualValue', converted to float32 data type.\n",
    "\n",
    "- __`y:`__ This variable stores the target variable for the LSTM model, which is the 'ActualValue' column from the lagged DataFrame, converted to float32 data type.\n",
    "\n",
    "- __`return:`__ The function returns three variables: dates, X, and y, containing the respective data.\n",
    "\n"
   ]
  },
  {
   "cell_type": "code",
   "execution_count": 17,
   "metadata": {},
   "outputs": [
    {
     "name": "stdout",
     "output_type": "stream",
     "text": [
      "Dates: (9146271,)\n",
      "X shape: (9146271, 10)\n",
      "y shape: (9146271,)\n"
     ]
    }
   ],
   "source": [
    "def prepare_lstm_data(lagged_df):\n",
    "    dates = lagged_df['DateTime']\n",
    "    X = lagged_df.drop(columns=['DateTime', 'ActualValue']).astype(np.float32)\n",
    "    y = lagged_df['ActualValue'].astype(np.float32)\n",
    "\n",
    "    return dates, X.values, y.values\n",
    "\n",
    "\n",
    "dates, X, y = prepare_lstm_data(lagged_df)\n",
    "print(\"Dates:\", dates.shape)\n",
    "print(\"X shape:\", X.shape)\n",
    "print(\"y shape:\", y.shape)\n"
   ]
  },
  {
   "cell_type": "markdown",
   "metadata": {},
   "source": [
    "<h3><strong>3.4 <u>Spliting:</u> Training, Validation, Testing Data<strong></h3>"
   ]
  },
  {
   "cell_type": "markdown",
   "metadata": {},
   "source": [
    "<h4><strong>Split Data</strong></h4>\n",
    "\n",
    "- __`dates:`__ This variable contains the date and time information.\n",
    "\n",
    "- __`X:`__ This variable contains the input features for the model.\n",
    "\n",
    "- __`y:`__ This variable contains the target variable for the model.\n",
    "\n",
    "- __`x_train:`__ This variable contains the input features for the training set.\n",
    "\n",
    "- __`y_train:`__ This variable contains the target variable for the training set.\n",
    "\n",
    "- __`x_val:`__ This variable contains the input features for the validation set.\n",
    "\n",
    "- __`y_val:`__ This variable contains the target variable for the validation set.\n",
    "\n",
    "- __`x_test:`__ This variable contains the input features for the test set.\n",
    "\n",
    "- __`y_test:`__ This variable contains the target variable for the test set.\n",
    "\n",
    "- __`train_data:`__ This tuple contains the input features and target variable for the training set.\n",
    "\n",
    "- __`val_data:`__ This tuple contains the input features and target variable for the validation set.\n",
    "\n",
    "- __`test_data:`__ This tuple contains the input features and target variable for the test set.\n",
    "\n",
    "- __`return:`__ The function returns three tuples: train_data, val_data, and test_data, each containing the respective input features and target variable for the corresponding set.\n",
    "\n"
   ]
  },
  {
   "cell_type": "code",
   "execution_count": 18,
   "metadata": {},
   "outputs": [],
   "source": [
    "def split_data(dates, X, y):\n",
    "    x_train, x_temp, y_train, y_temp = train_test_split(X, y, test_size=0.3, random_state=42)\n",
    "    x_val, x_test, y_val, y_test = train_test_split(x_temp, y_temp, test_size=0.5, random_state=42)\n",
    "    \n",
    "    return (x_train, y_train), (x_val, y_val), (x_test, y_test)\n",
    "\n",
    "(train_data, val_data, test_data) = split_data(dates, X, y)\n",
    "(x_train, y_train), (x_val, y_val), (x_test, y_test) = train_data, val_data, test_data\n"
   ]
  },
  {
   "cell_type": "code",
   "execution_count": 19,
   "metadata": {},
   "outputs": [
    {
     "name": "stdout",
     "output_type": "stream",
     "text": [
      "Training set: 6402389 instances ( 69.99999234660771 %)\n",
      "Validation set: 1371941 instances ( 15.000003826696148 %)\n",
      "Testing set: 1371941 instances ( 15.000003826696148 %)\n"
     ]
    }
   ],
   "source": [
    "# OPTIONAL: Calculating the total number of instances\n",
    "total_instances = len(x_train) + len(x_val) + len(x_test)\n",
    "\n",
    "# Each set has\n",
    "print(\"Training set:\", len(x_train), \"instances (\", len(x_train) / total_instances * 100, \"%)\")\n",
    "print(\"Validation set:\", len(x_val), \"instances (\", len(x_val) / total_instances * 100, \"%)\")\n",
    "print(\"Testing set:\", len(x_test), \"instances (\", len(x_test) / total_instances * 100, \"%)\")\n"
   ]
  },
  {
   "cell_type": "markdown",
   "metadata": {},
   "source": [
    "\n",
    "# __4. Training the model__"
   ]
  },
  {
   "cell_type": "markdown",
   "metadata": {},
   "source": [
    "### __4.1 Weights and Biases__"
   ]
  },
  {
   "cell_type": "code",
   "execution_count": 20,
   "metadata": {},
   "outputs": [
    {
     "name": "stderr",
     "output_type": "stream",
     "text": [
      "wandb: Appending key for api.wandb.ai to your netrc file: C:\\Users\\tshol\\.netrc\n"
     ]
    }
   ],
   "source": [
    "!wandb login 92747ba767c68ec2ec63d2b44818eaeba8e973b9"
   ]
  },
  {
   "cell_type": "markdown",
   "metadata": {},
   "source": [
    "### __4.1.1 Defining the model__"
   ]
  },
  {
   "cell_type": "code",
   "execution_count": 21,
   "metadata": {},
   "outputs": [
    {
     "name": "stderr",
     "output_type": "stream",
     "text": [
      "Failed to detect the name of this notebook, you can set it manually with the WANDB_NOTEBOOK_NAME environment variable to enable code saving.\n",
      "\u001b[34m\u001b[1mwandb\u001b[0m: Currently logged in as: \u001b[33mmasixole\u001b[0m (\u001b[33mmasixoleboya\u001b[0m). Use \u001b[1m`wandb login --relogin`\u001b[0m to force relogin\n"
     ]
    },
    {
     "data": {
      "text/html": [
       "wandb version 0.17.0 is available!  To upgrade, please run:\n",
       " $ pip install wandb --upgrade"
      ],
      "text/plain": [
       "<IPython.core.display.HTML object>"
      ]
     },
     "metadata": {},
     "output_type": "display_data"
    },
    {
     "data": {
      "text/html": [
       "Tracking run with wandb version 0.16.6"
      ],
      "text/plain": [
       "<IPython.core.display.HTML object>"
      ]
     },
     "metadata": {},
     "output_type": "display_data"
    },
    {
     "data": {
      "text/html": [
       "Run data is saved locally in <code>c:\\Users\\tshol\\Desktop\\Git_Repos\\Capstone_Project\\trainedModel_historical\\MetaTrader5\\wandb\\run-20240508_004527-fqwyexsl</code>"
      ],
      "text/plain": [
       "<IPython.core.display.HTML object>"
      ]
     },
     "metadata": {},
     "output_type": "display_data"
    },
    {
     "data": {
      "text/html": [
       "Syncing run <strong><a href='https://wandb.ai/masixoleboya/first_keras_intergration/runs/fqwyexsl' target=\"_blank\">celestial-jazz-6</a></strong> to <a href='https://wandb.ai/masixoleboya/first_keras_intergration' target=\"_blank\">Weights & Biases</a> (<a href='https://wandb.me/run' target=\"_blank\">docs</a>)<br/>"
      ],
      "text/plain": [
       "<IPython.core.display.HTML object>"
      ]
     },
     "metadata": {},
     "output_type": "display_data"
    },
    {
     "data": {
      "text/html": [
       " View project at <a href='https://wandb.ai/masixoleboya/first_keras_intergration' target=\"_blank\">https://wandb.ai/masixoleboya/first_keras_intergration</a>"
      ],
      "text/plain": [
       "<IPython.core.display.HTML object>"
      ]
     },
     "metadata": {},
     "output_type": "display_data"
    },
    {
     "data": {
      "text/html": [
       " View run at <a href='https://wandb.ai/masixoleboya/first_keras_intergration/runs/fqwyexsl' target=\"_blank\">https://wandb.ai/masixoleboya/first_keras_intergration/runs/fqwyexsl</a>"
      ],
      "text/plain": [
       "<IPython.core.display.HTML object>"
      ]
     },
     "metadata": {},
     "output_type": "display_data"
    },
    {
     "name": "stdout",
     "output_type": "stream",
     "text": [
      "WARNING:tensorflow:From c:\\Users\\tshol\\AppData\\Local\\Programs\\Python\\Python312\\Lib\\site-packages\\keras\\src\\backend\\common\\global_state.py:82: The name tf.reset_default_graph is deprecated. Please use tf.compat.v1.reset_default_graph instead.\n",
      "\n"
     ]
    },
    {
     "data": {
      "text/html": [
       "<pre style=\"white-space:pre;overflow-x:auto;line-height:normal;font-family:Menlo,'DejaVu Sans Mono',consolas,'Courier New',monospace\"><span style=\"font-weight: bold\">Model: \"sequential\"</span>\n",
       "</pre>\n"
      ],
      "text/plain": [
       "\u001b[1mModel: \"sequential\"\u001b[0m\n"
      ]
     },
     "metadata": {},
     "output_type": "display_data"
    },
    {
     "data": {
      "text/html": [
       "<pre style=\"white-space:pre;overflow-x:auto;line-height:normal;font-family:Menlo,'DejaVu Sans Mono',consolas,'Courier New',monospace\">┏━━━━━━━━━━━━━━━━━━━━━━━━━━━━━━━━━┳━━━━━━━━━━━━━━━━━━━━━━━━┳━━━━━━━━━━━━━━━┓\n",
       "┃<span style=\"font-weight: bold\"> Layer (type)                    </span>┃<span style=\"font-weight: bold\"> Output Shape           </span>┃<span style=\"font-weight: bold\">       Param # </span>┃\n",
       "┡━━━━━━━━━━━━━━━━━━━━━━━━━━━━━━━━━╇━━━━━━━━━━━━━━━━━━━━━━━━╇━━━━━━━━━━━━━━━┩\n",
       "│ lstm (<span style=\"color: #0087ff; text-decoration-color: #0087ff\">LSTM</span>)                     │ (<span style=\"color: #00d7ff; text-decoration-color: #00d7ff\">None</span>, <span style=\"color: #00af00; text-decoration-color: #00af00\">10</span>, <span style=\"color: #00af00; text-decoration-color: #00af00\">10</span>)         │           <span style=\"color: #00af00; text-decoration-color: #00af00\">480</span> │\n",
       "├─────────────────────────────────┼────────────────────────┼───────────────┤\n",
       "│ dropout (<span style=\"color: #0087ff; text-decoration-color: #0087ff\">Dropout</span>)               │ (<span style=\"color: #00d7ff; text-decoration-color: #00d7ff\">None</span>, <span style=\"color: #00af00; text-decoration-color: #00af00\">10</span>, <span style=\"color: #00af00; text-decoration-color: #00af00\">10</span>)         │             <span style=\"color: #00af00; text-decoration-color: #00af00\">0</span> │\n",
       "├─────────────────────────────────┼────────────────────────┼───────────────┤\n",
       "│ lstm_1 (<span style=\"color: #0087ff; text-decoration-color: #0087ff\">LSTM</span>)                   │ (<span style=\"color: #00d7ff; text-decoration-color: #00d7ff\">None</span>, <span style=\"color: #00af00; text-decoration-color: #00af00\">5</span>)              │           <span style=\"color: #00af00; text-decoration-color: #00af00\">320</span> │\n",
       "├─────────────────────────────────┼────────────────────────┼───────────────┤\n",
       "│ dense (<span style=\"color: #0087ff; text-decoration-color: #0087ff\">Dense</span>)                   │ (<span style=\"color: #00d7ff; text-decoration-color: #00d7ff\">None</span>, <span style=\"color: #00af00; text-decoration-color: #00af00\">4</span>)              │            <span style=\"color: #00af00; text-decoration-color: #00af00\">24</span> │\n",
       "├─────────────────────────────────┼────────────────────────┼───────────────┤\n",
       "│ dropout_1 (<span style=\"color: #0087ff; text-decoration-color: #0087ff\">Dropout</span>)             │ (<span style=\"color: #00d7ff; text-decoration-color: #00d7ff\">None</span>, <span style=\"color: #00af00; text-decoration-color: #00af00\">4</span>)              │             <span style=\"color: #00af00; text-decoration-color: #00af00\">0</span> │\n",
       "├─────────────────────────────────┼────────────────────────┼───────────────┤\n",
       "│ dense_1 (<span style=\"color: #0087ff; text-decoration-color: #0087ff\">Dense</span>)                 │ (<span style=\"color: #00d7ff; text-decoration-color: #00d7ff\">None</span>, <span style=\"color: #00af00; text-decoration-color: #00af00\">4</span>)              │            <span style=\"color: #00af00; text-decoration-color: #00af00\">20</span> │\n",
       "├─────────────────────────────────┼────────────────────────┼───────────────┤\n",
       "│ dense_2 (<span style=\"color: #0087ff; text-decoration-color: #0087ff\">Dense</span>)                 │ (<span style=\"color: #00d7ff; text-decoration-color: #00d7ff\">None</span>, <span style=\"color: #00af00; text-decoration-color: #00af00\">1</span>)              │             <span style=\"color: #00af00; text-decoration-color: #00af00\">5</span> │\n",
       "└─────────────────────────────────┴────────────────────────┴───────────────┘\n",
       "</pre>\n"
      ],
      "text/plain": [
       "┏━━━━━━━━━━━━━━━━━━━━━━━━━━━━━━━━━┳━━━━━━━━━━━━━━━━━━━━━━━━┳━━━━━━━━━━━━━━━┓\n",
       "┃\u001b[1m \u001b[0m\u001b[1mLayer (type)                   \u001b[0m\u001b[1m \u001b[0m┃\u001b[1m \u001b[0m\u001b[1mOutput Shape          \u001b[0m\u001b[1m \u001b[0m┃\u001b[1m \u001b[0m\u001b[1m      Param #\u001b[0m\u001b[1m \u001b[0m┃\n",
       "┡━━━━━━━━━━━━━━━━━━━━━━━━━━━━━━━━━╇━━━━━━━━━━━━━━━━━━━━━━━━╇━━━━━━━━━━━━━━━┩\n",
       "│ lstm (\u001b[38;5;33mLSTM\u001b[0m)                     │ (\u001b[38;5;45mNone\u001b[0m, \u001b[38;5;34m10\u001b[0m, \u001b[38;5;34m10\u001b[0m)         │           \u001b[38;5;34m480\u001b[0m │\n",
       "├─────────────────────────────────┼────────────────────────┼───────────────┤\n",
       "│ dropout (\u001b[38;5;33mDropout\u001b[0m)               │ (\u001b[38;5;45mNone\u001b[0m, \u001b[38;5;34m10\u001b[0m, \u001b[38;5;34m10\u001b[0m)         │             \u001b[38;5;34m0\u001b[0m │\n",
       "├─────────────────────────────────┼────────────────────────┼───────────────┤\n",
       "│ lstm_1 (\u001b[38;5;33mLSTM\u001b[0m)                   │ (\u001b[38;5;45mNone\u001b[0m, \u001b[38;5;34m5\u001b[0m)              │           \u001b[38;5;34m320\u001b[0m │\n",
       "├─────────────────────────────────┼────────────────────────┼───────────────┤\n",
       "│ dense (\u001b[38;5;33mDense\u001b[0m)                   │ (\u001b[38;5;45mNone\u001b[0m, \u001b[38;5;34m4\u001b[0m)              │            \u001b[38;5;34m24\u001b[0m │\n",
       "├─────────────────────────────────┼────────────────────────┼───────────────┤\n",
       "│ dropout_1 (\u001b[38;5;33mDropout\u001b[0m)             │ (\u001b[38;5;45mNone\u001b[0m, \u001b[38;5;34m4\u001b[0m)              │             \u001b[38;5;34m0\u001b[0m │\n",
       "├─────────────────────────────────┼────────────────────────┼───────────────┤\n",
       "│ dense_1 (\u001b[38;5;33mDense\u001b[0m)                 │ (\u001b[38;5;45mNone\u001b[0m, \u001b[38;5;34m4\u001b[0m)              │            \u001b[38;5;34m20\u001b[0m │\n",
       "├─────────────────────────────────┼────────────────────────┼───────────────┤\n",
       "│ dense_2 (\u001b[38;5;33mDense\u001b[0m)                 │ (\u001b[38;5;45mNone\u001b[0m, \u001b[38;5;34m1\u001b[0m)              │             \u001b[38;5;34m5\u001b[0m │\n",
       "└─────────────────────────────────┴────────────────────────┴───────────────┘\n"
      ]
     },
     "metadata": {},
     "output_type": "display_data"
    },
    {
     "data": {
      "text/html": [
       "<pre style=\"white-space:pre;overflow-x:auto;line-height:normal;font-family:Menlo,'DejaVu Sans Mono',consolas,'Courier New',monospace\"><span style=\"font-weight: bold\"> Total params: </span><span style=\"color: #00af00; text-decoration-color: #00af00\">849</span> (3.32 KB)\n",
       "</pre>\n"
      ],
      "text/plain": [
       "\u001b[1m Total params: \u001b[0m\u001b[38;5;34m849\u001b[0m (3.32 KB)\n"
      ]
     },
     "metadata": {},
     "output_type": "display_data"
    },
    {
     "data": {
      "text/html": [
       "<pre style=\"white-space:pre;overflow-x:auto;line-height:normal;font-family:Menlo,'DejaVu Sans Mono',consolas,'Courier New',monospace\"><span style=\"font-weight: bold\"> Trainable params: </span><span style=\"color: #00af00; text-decoration-color: #00af00\">849</span> (3.32 KB)\n",
       "</pre>\n"
      ],
      "text/plain": [
       "\u001b[1m Trainable params: \u001b[0m\u001b[38;5;34m849\u001b[0m (3.32 KB)\n"
      ]
     },
     "metadata": {},
     "output_type": "display_data"
    },
    {
     "data": {
      "text/html": [
       "<pre style=\"white-space:pre;overflow-x:auto;line-height:normal;font-family:Menlo,'DejaVu Sans Mono',consolas,'Courier New',monospace\"><span style=\"font-weight: bold\"> Non-trainable params: </span><span style=\"color: #00af00; text-decoration-color: #00af00\">0</span> (0.00 B)\n",
       "</pre>\n"
      ],
      "text/plain": [
       "\u001b[1m Non-trainable params: \u001b[0m\u001b[38;5;34m0\u001b[0m (0.00 B)\n"
      ]
     },
     "metadata": {},
     "output_type": "display_data"
    }
   ],
   "source": [
    "run = wandb.init(\n",
    "    project='first_keras_intergration',\n",
    "    config={\n",
    "        'learning_rate':0.001,\n",
    "        'epochs' : 20,\n",
    "        'batch_size': 64,\n",
    "        'loss_function' : 'mean_squared_error',\n",
    "        'architecture' : 'LSTM',\n",
    "        }\n",
    "    )\n",
    "\n",
    "config =  wandb.config\n",
    "\n",
    "tensorflow.keras.backend.clear_session()\n",
    "\n",
    "#the actaul neural network\n",
    "wb_model = Sequential([\n",
    "    layers.Input((go_back_by,1)),\n",
    "\n",
    "    layers.LSTM(10, return_sequences=True),\n",
    "    layers.Dropout(0.2), \n",
    "    layers.LSTM(5), \n",
    "    layers.Dense(4, activation='relu', kernel_regularizer='l2'),  \n",
    "    layers.Dropout(0.2),  \n",
    "    layers.Dense(4, activation='relu', kernel_regularizer='l2'), \n",
    "     \n",
    "    layers.Dense(1)\n",
    "])\n",
    "\n",
    "wb_model.summary()\n",
    "\n",
    "# compile\n",
    "wb_model.compile(\n",
    "    loss = config.loss_function, \n",
    "    optimizer =  Adam(learning_rate=config.learning_rate),\n",
    "    metrics = ['mean_absolute_error']\n",
    "    )\n"
   ]
  },
  {
   "cell_type": "markdown",
   "metadata": {},
   "source": [
    "### __4.1.2 Training the model__"
   ]
  },
  {
   "cell_type": "code",
   "execution_count": 22,
   "metadata": {},
   "outputs": [
    {
     "name": "stdout",
     "output_type": "stream",
     "text": [
      "Epoch 1/20\n",
      "\u001b[1m100033/100038\u001b[0m \u001b[32m━━━━━━━━━━━━━━━━━━━\u001b[0m\u001b[37m━\u001b[0m \u001b[1m0s\u001b[0m 4ms/step - loss: 0.0152 - mean_absolute_error: 0.0471"
     ]
    },
    {
     "name": "stderr",
     "output_type": "stream",
     "text": [
      "\u001b[34m\u001b[1mwandb\u001b[0m: \u001b[32m\u001b[41mERROR\u001b[0m Unable to log learning rate.\n"
     ]
    },
    {
     "name": "stdout",
     "output_type": "stream",
     "text": [
      "\u001b[1m100038/100038\u001b[0m \u001b[32m━━━━━━━━━━━━━━━━━━━━\u001b[0m\u001b[37m\u001b[0m \u001b[1m410s\u001b[0m 4ms/step - loss: 0.0152 - mean_absolute_error: 0.0471 - val_loss: 0.0012 - val_mean_absolute_error: 0.0227\n",
      "Epoch 2/20\n",
      "\u001b[1m100038/100038\u001b[0m \u001b[32m━━━━━━━━━━━━━━━━━━━━\u001b[0m\u001b[37m\u001b[0m \u001b[1m2986s\u001b[0m 30ms/step - loss: 0.0035 - mean_absolute_error: 0.0314 - val_loss: 0.0012 - val_mean_absolute_error: 0.0229\n",
      "Epoch 3/20\n",
      "\u001b[1m100038/100038\u001b[0m \u001b[32m━━━━━━━━━━━━━━━━━━━━\u001b[0m\u001b[37m\u001b[0m \u001b[1m354s\u001b[0m 4ms/step - loss: 0.0035 - mean_absolute_error: 0.0314 - val_loss: 0.0014 - val_mean_absolute_error: 0.0245\n",
      "Epoch 4/20\n",
      "\u001b[1m100038/100038\u001b[0m \u001b[32m━━━━━━━━━━━━━━━━━━━━\u001b[0m\u001b[37m\u001b[0m \u001b[1m338s\u001b[0m 3ms/step - loss: 0.0034 - mean_absolute_error: 0.0315 - val_loss: 0.0016 - val_mean_absolute_error: 0.0270\n",
      "Epoch 5/20\n",
      "\u001b[1m100038/100038\u001b[0m \u001b[32m━━━━━━━━━━━━━━━━━━━━\u001b[0m\u001b[37m\u001b[0m \u001b[1m435s\u001b[0m 4ms/step - loss: 0.0034 - mean_absolute_error: 0.0315 - val_loss: 0.0016 - val_mean_absolute_error: 0.0320\n",
      "Epoch 6/20\n",
      "\u001b[1m100038/100038\u001b[0m \u001b[32m━━━━━━━━━━━━━━━━━━━━\u001b[0m\u001b[37m\u001b[0m \u001b[1m437s\u001b[0m 4ms/step - loss: 0.0034 - mean_absolute_error: 0.0314 - val_loss: 0.0013 - val_mean_absolute_error: 0.0259\n",
      "Epoch 7/20\n",
      "\u001b[1m100038/100038\u001b[0m \u001b[32m━━━━━━━━━━━━━━━━━━━━\u001b[0m\u001b[37m\u001b[0m \u001b[1m463s\u001b[0m 5ms/step - loss: 0.0033 - mean_absolute_error: 0.0300 - val_loss: 0.0011 - val_mean_absolute_error: 0.0194\n",
      "Epoch 8/20\n",
      "\u001b[1m100038/100038\u001b[0m \u001b[32m━━━━━━━━━━━━━━━━━━━━\u001b[0m\u001b[37m\u001b[0m \u001b[1m463s\u001b[0m 5ms/step - loss: 0.0030 - mean_absolute_error: 0.0275 - val_loss: 0.0010 - val_mean_absolute_error: 0.0204\n",
      "Epoch 9/20\n",
      "\u001b[1m100038/100038\u001b[0m \u001b[32m━━━━━━━━━━━━━━━━━━━━\u001b[0m\u001b[37m\u001b[0m \u001b[1m459s\u001b[0m 5ms/step - loss: 0.0030 - mean_absolute_error: 0.0275 - val_loss: 8.7299e-04 - val_mean_absolute_error: 0.0181\n",
      "Epoch 10/20\n",
      "\u001b[1m100038/100038\u001b[0m \u001b[32m━━━━━━━━━━━━━━━━━━━━\u001b[0m\u001b[37m\u001b[0m \u001b[1m442s\u001b[0m 4ms/step - loss: 0.0030 - mean_absolute_error: 0.0276 - val_loss: 8.1074e-04 - val_mean_absolute_error: 0.0169\n",
      "Epoch 11/20\n",
      "\u001b[1m100038/100038\u001b[0m \u001b[32m━━━━━━━━━━━━━━━━━━━━\u001b[0m\u001b[37m\u001b[0m \u001b[1m452s\u001b[0m 5ms/step - loss: 0.0030 - mean_absolute_error: 0.0277 - val_loss: 0.0010 - val_mean_absolute_error: 0.0217\n",
      "Epoch 12/20\n",
      "\u001b[1m100038/100038\u001b[0m \u001b[32m━━━━━━━━━━━━━━━━━━━━\u001b[0m\u001b[37m\u001b[0m \u001b[1m456s\u001b[0m 5ms/step - loss: 0.0029 - mean_absolute_error: 0.0277 - val_loss: 8.4416e-04 - val_mean_absolute_error: 0.0193\n",
      "Epoch 13/20\n",
      "\u001b[1m100038/100038\u001b[0m \u001b[32m━━━━━━━━━━━━━━━━━━━━\u001b[0m\u001b[37m\u001b[0m \u001b[1m447s\u001b[0m 4ms/step - loss: 0.0029 - mean_absolute_error: 0.0277 - val_loss: 8.6336e-04 - val_mean_absolute_error: 0.0204\n",
      "Epoch 14/20\n",
      "\u001b[1m100038/100038\u001b[0m \u001b[32m━━━━━━━━━━━━━━━━━━━━\u001b[0m\u001b[37m\u001b[0m \u001b[1m452s\u001b[0m 5ms/step - loss: 0.0029 - mean_absolute_error: 0.0277 - val_loss: 0.0010 - val_mean_absolute_error: 0.0205\n",
      "Epoch 15/20\n",
      "\u001b[1m100038/100038\u001b[0m \u001b[32m━━━━━━━━━━━━━━━━━━━━\u001b[0m\u001b[37m\u001b[0m \u001b[1m455s\u001b[0m 5ms/step - loss: 0.0029 - mean_absolute_error: 0.0277 - val_loss: 0.0015 - val_mean_absolute_error: 0.0282\n",
      "Epoch 16/20\n",
      "\u001b[1m100038/100038\u001b[0m \u001b[32m━━━━━━━━━━━━━━━━━━━━\u001b[0m\u001b[37m\u001b[0m \u001b[1m14191s\u001b[0m 142ms/step - loss: 0.0029 - mean_absolute_error: 0.0278 - val_loss: 9.1662e-04 - val_mean_absolute_error: 0.0205\n",
      "Epoch 17/20\n",
      "\u001b[1m100038/100038\u001b[0m \u001b[32m━━━━━━━━━━━━━━━━━━━━\u001b[0m\u001b[37m\u001b[0m \u001b[1m462s\u001b[0m 5ms/step - loss: 0.0029 - mean_absolute_error: 0.0278 - val_loss: 9.2273e-04 - val_mean_absolute_error: 0.0217\n",
      "Epoch 18/20\n",
      "\u001b[1m100038/100038\u001b[0m \u001b[32m━━━━━━━━━━━━━━━━━━━━\u001b[0m\u001b[37m\u001b[0m \u001b[1m455s\u001b[0m 5ms/step - loss: 0.0029 - mean_absolute_error: 0.0278 - val_loss: 8.5842e-04 - val_mean_absolute_error: 0.0170\n",
      "Epoch 19/20\n",
      "\u001b[1m100038/100038\u001b[0m \u001b[32m━━━━━━━━━━━━━━━━━━━━\u001b[0m\u001b[37m\u001b[0m \u001b[1m457s\u001b[0m 5ms/step - loss: 0.0029 - mean_absolute_error: 0.0278 - val_loss: 0.0011 - val_mean_absolute_error: 0.0228\n",
      "Epoch 20/20\n",
      "\u001b[1m100038/100038\u001b[0m \u001b[32m━━━━━━━━━━━━━━━━━━━━\u001b[0m\u001b[37m\u001b[0m \u001b[1m1147s\u001b[0m 11ms/step - loss: 0.0029 - mean_absolute_error: 0.0279 - val_loss: 9.4745e-04 - val_mean_absolute_error: 0.0206\n"
     ]
    }
   ],
   "source": [
    "wandb_history = wb_model.fit(\n",
    "    x_train,y_train, \n",
    "    epochs = config.epochs,\n",
    "    batch_size =  config.batch_size,\n",
    "    validation_data = (x_test, y_test),\n",
    "    callbacks = [WandbMetricsLogger()]\n",
    "    )"
   ]
  },
  {
   "cell_type": "code",
   "execution_count": 23,
   "metadata": {},
   "outputs": [
    {
     "name": "stderr",
     "output_type": "stream",
     "text": [
      "WARNING:absl:You are saving your model as an HDF5 file via `model.save()` or `keras.saving.save_model(model)`. This file format is considered legacy. We recommend using instead the native Keras format, e.g. `model.save('my_model.keras')` or `keras.saving.save_model(model, 'my_model.keras')`. \n"
     ]
    }
   ],
   "source": [
    "wb_model.save(\"my_model_3_withoutScaling.h5\")"
   ]
  },
  {
   "cell_type": "markdown",
   "metadata": {},
   "source": [
    "# __5. Model Evaluation__"
   ]
  },
  {
   "cell_type": "code",
   "execution_count": 24,
   "metadata": {},
   "outputs": [
    {
     "name": "stdout",
     "output_type": "stream",
     "text": [
      "\u001b[1m42874/42874\u001b[0m \u001b[32m━━━━━━━━━━━━━━━━━━━━\u001b[0m\u001b[37m\u001b[0m \u001b[1m140s\u001b[0m 3ms/step\n",
      "\n",
      "Test Loss: 0.0009474472026340663\n",
      "\n",
      "Mean Absolute Error: 0.02057075873017311\n",
      "\n",
      "Root Mean Squared Error: 0.02684274\n",
      "\n",
      "R-squared: 0.9699871713199525\n"
     ]
    }
   ],
   "source": [
    "\n",
    "loss, mae = wb_model.evaluate(x_test, y_test, verbose=0)\n",
    "\n",
    "#Evaluating on the test data\n",
    "predictions = wb_model.predict(x_test)\n",
    "rmse = np.sqrt(mean_squared_error(y_test, predictions))\n",
    "r2 = r2_score(y_test, predictions)\n",
    "\n",
    "print('\\nTest Loss:', loss)\n",
    "print('\\nMean Absolute Error:', mae)\n",
    "print('\\nRoot Mean Squared Error:', rmse)\n",
    "print('\\nR-squared:', r2)"
   ]
  },
  {
   "cell_type": "code",
   "execution_count": 25,
   "metadata": {},
   "outputs": [],
   "source": [
    "# plt.figure(figsize=(10, 6))\n",
    "# plt.plot(history.history['loss'], label='Training Loss')\n",
    "# plt.plot(history.history['val_loss'], label='Validation Loss')\n",
    "# plt.title('Training and Validation Loss')\n",
    "# plt.xlabel('Epoch')\n",
    "# plt.ylabel('Loss')\n",
    "# plt.legend()\n",
    "# plt.show()\n"
   ]
  }
 ],
 "metadata": {
  "kernelspec": {
   "display_name": "Python 3",
   "language": "python",
   "name": "python3"
  },
  "language_info": {
   "codemirror_mode": {
    "name": "ipython",
    "version": 3
   },
   "file_extension": ".py",
   "mimetype": "text/x-python",
   "name": "python",
   "nbconvert_exporter": "python",
   "pygments_lexer": "ipython3",
   "version": "3.12.2"
  }
 },
 "nbformat": 4,
 "nbformat_minor": 2
}
