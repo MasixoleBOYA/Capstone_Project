{
 "cells": [
  {
   "cell_type": "markdown",
   "metadata": {},
   "source": [
    "***\n",
    "\n",
    "# <center>__Utilizing Machine Learning__</center>\n",
    "# <center>__for High Frequency Algorithmic Trading__</center>\n",
    "\n",
    "\n",
    "##### <center>__Name:__ Masixole Boya</center>\n",
    "##### <center>__Student number:__ 1869204</center>\n",
    "\n",
    "***"
   ]
  },
  {
   "cell_type": "code",
   "execution_count": 1,
   "metadata": {},
   "outputs": [],
   "source": [
    "import pandas as pd\n",
    "import MetaTrader5 as mt5\n",
    "from datetime import datetime\n",
    "\n",
    "from secret_login import Secret_Login, IC_Markets_Login\n",
    "\n",
    "import pandas as pd\n",
    "import requests\n",
    "import matplotlib.pyplot as plt\n",
    "import mplfinance as mpf\n",
    "from sklearn.preprocessing import StandardScaler\n",
    "from sklearn.model_selection import train_test_split\n",
    "from sklearn.model_selection import train_test_split\n",
    "from sklearn.metrics import mean_absolute_error, mean_squared_error\n",
    "from sklearn.metrics import r2_score\n",
    "\n",
    "import numpy as np\n",
    "from keras.models import Sequential\n",
    "from keras.layers import Dense, LSTM\n",
    "from tensorflow.keras import layers\n",
    "from tensorflow.keras.optimizers import Adam\n",
    "from datetime import datetime\n",
    "import pytz"
   ]
  },
  {
   "cell_type": "code",
   "execution_count": 2,
   "metadata": {},
   "outputs": [
    {
     "data": {
      "text/plain": [
       "True"
      ]
     },
     "execution_count": 2,
     "metadata": {},
     "output_type": "execute_result"
    }
   ],
   "source": [
    "mt5.initialize()"
   ]
  },
  {
   "cell_type": "markdown",
   "metadata": {},
   "source": [
    "## Login\n"
   ]
  },
  {
   "cell_type": "code",
   "execution_count": 3,
   "metadata": {},
   "outputs": [
    {
     "name": "stdout",
     "output_type": "stream",
     "text": [
      "51750680\n",
      "ICMarketsSC-Demo\n"
     ]
    }
   ],
   "source": [
    "print(mt5.account_info().login)\n",
    "print(mt5.account_info().server)"
   ]
  },
  {
   "cell_type": "code",
   "execution_count": 4,
   "metadata": {},
   "outputs": [
    {
     "name": "stdout",
     "output_type": "stream",
     "text": [
      "Account : 51750680\n",
      "password : o&bCOUrc8jTHs8\n",
      "Server : ICMarketsSC-Demo\n"
     ]
    }
   ],
   "source": [
    "temp = IC_Markets_Login()\n",
    "\n",
    "account = mt5.account_info().login\n",
    "\n",
    "password = temp.password\n",
    "\n",
    "server = mt5.account_info().server\n",
    "\n",
    "print(f\"Account : {account}\")\n",
    "print(f\"password : {password}\")\n",
    "print(f\"Server : {server}\")\n",
    "\n"
   ]
  },
  {
   "cell_type": "code",
   "execution_count": 5,
   "metadata": {},
   "outputs": [
    {
     "name": "stdout",
     "output_type": "stream",
     "text": [
      "connected to account #51750680\n"
     ]
    }
   ],
   "source": [
    "authorized = mt5.login(account,password,server)\n",
    "\n",
    "if authorized:\n",
    "    print(\"connected to account #{}\".format(account))\n",
    "else:\n",
    "    print(\"failed to connect at account #{}, error code: {}\".format(account, mt5.last_error()))"
   ]
  },
  {
   "cell_type": "markdown",
   "metadata": {},
   "source": [
    "# __Retrieving Data__"
   ]
  },
  {
   "cell_type": "code",
   "execution_count": 6,
   "metadata": {},
   "outputs": [],
   "source": [
    "ticker = 'EURUSD'\n",
    "frequency = mt5.TIMEFRAME_M1\n",
    "from_date = datetime.now()\n",
    "to_date = datetime(2004,1,1)\n"
   ]
  },
  {
   "cell_type": "code",
   "execution_count": 7,
   "metadata": {},
   "outputs": [
    {
     "data": {
      "text/plain": [
       "array([(1072908000, 1.2578 , 1.2581 , 1.2578 , 1.2579 ,  4, 50, 0),\n",
       "       (1072908060, 1.2581 , 1.2582 , 1.258  , 1.258  ,  4, 50, 0),\n",
       "       (1072908120, 1.2578 , 1.2579 , 1.2578 , 1.2579 ,  2, 50, 0), ...,\n",
       "       (1714619280, 1.07118, 1.07122, 1.07116, 1.07121, 47,  0, 0),\n",
       "       (1714619340, 1.07121, 1.07131, 1.07113, 1.07129, 53,  0, 0),\n",
       "       (1714619400, 1.07129, 1.07129, 1.07115, 1.07117, 42,  0, 0)],\n",
       "      dtype=[('time', '<i8'), ('open', '<f8'), ('high', '<f8'), ('low', '<f8'), ('close', '<f8'), ('tick_volume', '<u8'), ('spread', '<i4'), ('real_volume', '<u8')])"
      ]
     },
     "execution_count": 7,
     "metadata": {},
     "output_type": "execute_result"
    }
   ],
   "source": [
    "range_rates = mt5.copy_rates_range(ticker,frequency,to_date, from_date)\n",
    "range_rates"
   ]
  },
  {
   "cell_type": "code",
   "execution_count": 8,
   "metadata": {},
   "outputs": [
    {
     "data": {
      "text/html": [
       "<div>\n",
       "<style scoped>\n",
       "    .dataframe tbody tr th:only-of-type {\n",
       "        vertical-align: middle;\n",
       "    }\n",
       "\n",
       "    .dataframe tbody tr th {\n",
       "        vertical-align: top;\n",
       "    }\n",
       "\n",
       "    .dataframe thead th {\n",
       "        text-align: right;\n",
       "    }\n",
       "</style>\n",
       "<table border=\"1\" class=\"dataframe\">\n",
       "  <thead>\n",
       "    <tr style=\"text-align: right;\">\n",
       "      <th></th>\n",
       "      <th>time</th>\n",
       "      <th>open</th>\n",
       "      <th>high</th>\n",
       "      <th>low</th>\n",
       "      <th>close</th>\n",
       "      <th>tick_volume</th>\n",
       "      <th>spread</th>\n",
       "      <th>real_volume</th>\n",
       "    </tr>\n",
       "  </thead>\n",
       "  <tbody>\n",
       "    <tr>\n",
       "      <th>0</th>\n",
       "      <td>1072908000</td>\n",
       "      <td>1.25780</td>\n",
       "      <td>1.25810</td>\n",
       "      <td>1.25780</td>\n",
       "      <td>1.25790</td>\n",
       "      <td>4</td>\n",
       "      <td>50</td>\n",
       "      <td>0</td>\n",
       "    </tr>\n",
       "    <tr>\n",
       "      <th>1</th>\n",
       "      <td>1072908060</td>\n",
       "      <td>1.25810</td>\n",
       "      <td>1.25820</td>\n",
       "      <td>1.25800</td>\n",
       "      <td>1.25800</td>\n",
       "      <td>4</td>\n",
       "      <td>50</td>\n",
       "      <td>0</td>\n",
       "    </tr>\n",
       "    <tr>\n",
       "      <th>2</th>\n",
       "      <td>1072908120</td>\n",
       "      <td>1.25780</td>\n",
       "      <td>1.25790</td>\n",
       "      <td>1.25780</td>\n",
       "      <td>1.25790</td>\n",
       "      <td>2</td>\n",
       "      <td>50</td>\n",
       "      <td>0</td>\n",
       "    </tr>\n",
       "    <tr>\n",
       "      <th>3</th>\n",
       "      <td>1072908180</td>\n",
       "      <td>1.25790</td>\n",
       "      <td>1.25790</td>\n",
       "      <td>1.25790</td>\n",
       "      <td>1.25790</td>\n",
       "      <td>1</td>\n",
       "      <td>50</td>\n",
       "      <td>0</td>\n",
       "    </tr>\n",
       "    <tr>\n",
       "      <th>4</th>\n",
       "      <td>1072908240</td>\n",
       "      <td>1.25780</td>\n",
       "      <td>1.25800</td>\n",
       "      <td>1.25760</td>\n",
       "      <td>1.25760</td>\n",
       "      <td>5</td>\n",
       "      <td>50</td>\n",
       "      <td>0</td>\n",
       "    </tr>\n",
       "    <tr>\n",
       "      <th>...</th>\n",
       "      <td>...</td>\n",
       "      <td>...</td>\n",
       "      <td>...</td>\n",
       "      <td>...</td>\n",
       "      <td>...</td>\n",
       "      <td>...</td>\n",
       "      <td>...</td>\n",
       "      <td>...</td>\n",
       "    </tr>\n",
       "    <tr>\n",
       "      <th>7416595</th>\n",
       "      <td>1714619160</td>\n",
       "      <td>1.07133</td>\n",
       "      <td>1.07133</td>\n",
       "      <td>1.07105</td>\n",
       "      <td>1.07108</td>\n",
       "      <td>69</td>\n",
       "      <td>0</td>\n",
       "      <td>0</td>\n",
       "    </tr>\n",
       "    <tr>\n",
       "      <th>7416596</th>\n",
       "      <td>1714619220</td>\n",
       "      <td>1.07108</td>\n",
       "      <td>1.07122</td>\n",
       "      <td>1.07108</td>\n",
       "      <td>1.07118</td>\n",
       "      <td>50</td>\n",
       "      <td>0</td>\n",
       "      <td>0</td>\n",
       "    </tr>\n",
       "    <tr>\n",
       "      <th>7416597</th>\n",
       "      <td>1714619280</td>\n",
       "      <td>1.07118</td>\n",
       "      <td>1.07122</td>\n",
       "      <td>1.07116</td>\n",
       "      <td>1.07121</td>\n",
       "      <td>47</td>\n",
       "      <td>0</td>\n",
       "      <td>0</td>\n",
       "    </tr>\n",
       "    <tr>\n",
       "      <th>7416598</th>\n",
       "      <td>1714619340</td>\n",
       "      <td>1.07121</td>\n",
       "      <td>1.07131</td>\n",
       "      <td>1.07113</td>\n",
       "      <td>1.07129</td>\n",
       "      <td>53</td>\n",
       "      <td>0</td>\n",
       "      <td>0</td>\n",
       "    </tr>\n",
       "    <tr>\n",
       "      <th>7416599</th>\n",
       "      <td>1714619400</td>\n",
       "      <td>1.07129</td>\n",
       "      <td>1.07129</td>\n",
       "      <td>1.07115</td>\n",
       "      <td>1.07117</td>\n",
       "      <td>42</td>\n",
       "      <td>0</td>\n",
       "      <td>0</td>\n",
       "    </tr>\n",
       "  </tbody>\n",
       "</table>\n",
       "<p>7416600 rows × 8 columns</p>\n",
       "</div>"
      ],
      "text/plain": [
       "               time     open     high      low    close  tick_volume  spread  \\\n",
       "0        1072908000  1.25780  1.25810  1.25780  1.25790            4      50   \n",
       "1        1072908060  1.25810  1.25820  1.25800  1.25800            4      50   \n",
       "2        1072908120  1.25780  1.25790  1.25780  1.25790            2      50   \n",
       "3        1072908180  1.25790  1.25790  1.25790  1.25790            1      50   \n",
       "4        1072908240  1.25780  1.25800  1.25760  1.25760            5      50   \n",
       "...             ...      ...      ...      ...      ...          ...     ...   \n",
       "7416595  1714619160  1.07133  1.07133  1.07105  1.07108           69       0   \n",
       "7416596  1714619220  1.07108  1.07122  1.07108  1.07118           50       0   \n",
       "7416597  1714619280  1.07118  1.07122  1.07116  1.07121           47       0   \n",
       "7416598  1714619340  1.07121  1.07131  1.07113  1.07129           53       0   \n",
       "7416599  1714619400  1.07129  1.07129  1.07115  1.07117           42       0   \n",
       "\n",
       "         real_volume  \n",
       "0                  0  \n",
       "1                  0  \n",
       "2                  0  \n",
       "3                  0  \n",
       "4                  0  \n",
       "...              ...  \n",
       "7416595            0  \n",
       "7416596            0  \n",
       "7416597            0  \n",
       "7416598            0  \n",
       "7416599            0  \n",
       "\n",
       "[7416600 rows x 8 columns]"
      ]
     },
     "execution_count": 8,
     "metadata": {},
     "output_type": "execute_result"
    }
   ],
   "source": [
    "data = pd.DataFrame(range_rates)\n",
    "data"
   ]
  },
  {
   "cell_type": "code",
   "execution_count": 9,
   "metadata": {},
   "outputs": [
    {
     "data": {
      "text/html": [
       "<div>\n",
       "<style scoped>\n",
       "    .dataframe tbody tr th:only-of-type {\n",
       "        vertical-align: middle;\n",
       "    }\n",
       "\n",
       "    .dataframe tbody tr th {\n",
       "        vertical-align: top;\n",
       "    }\n",
       "\n",
       "    .dataframe thead th {\n",
       "        text-align: right;\n",
       "    }\n",
       "</style>\n",
       "<table border=\"1\" class=\"dataframe\">\n",
       "  <thead>\n",
       "    <tr style=\"text-align: right;\">\n",
       "      <th></th>\n",
       "      <th>time</th>\n",
       "      <th>open</th>\n",
       "      <th>high</th>\n",
       "      <th>low</th>\n",
       "      <th>close</th>\n",
       "      <th>tick_volume</th>\n",
       "      <th>spread</th>\n",
       "      <th>real_volume</th>\n",
       "    </tr>\n",
       "  </thead>\n",
       "  <tbody>\n",
       "    <tr>\n",
       "      <th>0</th>\n",
       "      <td>2003-12-31 22:00:00</td>\n",
       "      <td>1.25780</td>\n",
       "      <td>1.25810</td>\n",
       "      <td>1.25780</td>\n",
       "      <td>1.25790</td>\n",
       "      <td>4</td>\n",
       "      <td>50</td>\n",
       "      <td>0</td>\n",
       "    </tr>\n",
       "    <tr>\n",
       "      <th>1</th>\n",
       "      <td>2003-12-31 22:01:00</td>\n",
       "      <td>1.25810</td>\n",
       "      <td>1.25820</td>\n",
       "      <td>1.25800</td>\n",
       "      <td>1.25800</td>\n",
       "      <td>4</td>\n",
       "      <td>50</td>\n",
       "      <td>0</td>\n",
       "    </tr>\n",
       "    <tr>\n",
       "      <th>2</th>\n",
       "      <td>2003-12-31 22:02:00</td>\n",
       "      <td>1.25780</td>\n",
       "      <td>1.25790</td>\n",
       "      <td>1.25780</td>\n",
       "      <td>1.25790</td>\n",
       "      <td>2</td>\n",
       "      <td>50</td>\n",
       "      <td>0</td>\n",
       "    </tr>\n",
       "    <tr>\n",
       "      <th>3</th>\n",
       "      <td>2003-12-31 22:03:00</td>\n",
       "      <td>1.25790</td>\n",
       "      <td>1.25790</td>\n",
       "      <td>1.25790</td>\n",
       "      <td>1.25790</td>\n",
       "      <td>1</td>\n",
       "      <td>50</td>\n",
       "      <td>0</td>\n",
       "    </tr>\n",
       "    <tr>\n",
       "      <th>4</th>\n",
       "      <td>2003-12-31 22:04:00</td>\n",
       "      <td>1.25780</td>\n",
       "      <td>1.25800</td>\n",
       "      <td>1.25760</td>\n",
       "      <td>1.25760</td>\n",
       "      <td>5</td>\n",
       "      <td>50</td>\n",
       "      <td>0</td>\n",
       "    </tr>\n",
       "    <tr>\n",
       "      <th>...</th>\n",
       "      <td>...</td>\n",
       "      <td>...</td>\n",
       "      <td>...</td>\n",
       "      <td>...</td>\n",
       "      <td>...</td>\n",
       "      <td>...</td>\n",
       "      <td>...</td>\n",
       "      <td>...</td>\n",
       "    </tr>\n",
       "    <tr>\n",
       "      <th>7416595</th>\n",
       "      <td>2024-05-02 03:06:00</td>\n",
       "      <td>1.07133</td>\n",
       "      <td>1.07133</td>\n",
       "      <td>1.07105</td>\n",
       "      <td>1.07108</td>\n",
       "      <td>69</td>\n",
       "      <td>0</td>\n",
       "      <td>0</td>\n",
       "    </tr>\n",
       "    <tr>\n",
       "      <th>7416596</th>\n",
       "      <td>2024-05-02 03:07:00</td>\n",
       "      <td>1.07108</td>\n",
       "      <td>1.07122</td>\n",
       "      <td>1.07108</td>\n",
       "      <td>1.07118</td>\n",
       "      <td>50</td>\n",
       "      <td>0</td>\n",
       "      <td>0</td>\n",
       "    </tr>\n",
       "    <tr>\n",
       "      <th>7416597</th>\n",
       "      <td>2024-05-02 03:08:00</td>\n",
       "      <td>1.07118</td>\n",
       "      <td>1.07122</td>\n",
       "      <td>1.07116</td>\n",
       "      <td>1.07121</td>\n",
       "      <td>47</td>\n",
       "      <td>0</td>\n",
       "      <td>0</td>\n",
       "    </tr>\n",
       "    <tr>\n",
       "      <th>7416598</th>\n",
       "      <td>2024-05-02 03:09:00</td>\n",
       "      <td>1.07121</td>\n",
       "      <td>1.07131</td>\n",
       "      <td>1.07113</td>\n",
       "      <td>1.07129</td>\n",
       "      <td>53</td>\n",
       "      <td>0</td>\n",
       "      <td>0</td>\n",
       "    </tr>\n",
       "    <tr>\n",
       "      <th>7416599</th>\n",
       "      <td>2024-05-02 03:10:00</td>\n",
       "      <td>1.07129</td>\n",
       "      <td>1.07129</td>\n",
       "      <td>1.07115</td>\n",
       "      <td>1.07117</td>\n",
       "      <td>42</td>\n",
       "      <td>0</td>\n",
       "      <td>0</td>\n",
       "    </tr>\n",
       "  </tbody>\n",
       "</table>\n",
       "<p>7416600 rows × 8 columns</p>\n",
       "</div>"
      ],
      "text/plain": [
       "                       time     open     high      low    close  tick_volume  \\\n",
       "0       2003-12-31 22:00:00  1.25780  1.25810  1.25780  1.25790            4   \n",
       "1       2003-12-31 22:01:00  1.25810  1.25820  1.25800  1.25800            4   \n",
       "2       2003-12-31 22:02:00  1.25780  1.25790  1.25780  1.25790            2   \n",
       "3       2003-12-31 22:03:00  1.25790  1.25790  1.25790  1.25790            1   \n",
       "4       2003-12-31 22:04:00  1.25780  1.25800  1.25760  1.25760            5   \n",
       "...                     ...      ...      ...      ...      ...          ...   \n",
       "7416595 2024-05-02 03:06:00  1.07133  1.07133  1.07105  1.07108           69   \n",
       "7416596 2024-05-02 03:07:00  1.07108  1.07122  1.07108  1.07118           50   \n",
       "7416597 2024-05-02 03:08:00  1.07118  1.07122  1.07116  1.07121           47   \n",
       "7416598 2024-05-02 03:09:00  1.07121  1.07131  1.07113  1.07129           53   \n",
       "7416599 2024-05-02 03:10:00  1.07129  1.07129  1.07115  1.07117           42   \n",
       "\n",
       "         spread  real_volume  \n",
       "0            50            0  \n",
       "1            50            0  \n",
       "2            50            0  \n",
       "3            50            0  \n",
       "4            50            0  \n",
       "...         ...          ...  \n",
       "7416595       0            0  \n",
       "7416596       0            0  \n",
       "7416597       0            0  \n",
       "7416598       0            0  \n",
       "7416599       0            0  \n",
       "\n",
       "[7416600 rows x 8 columns]"
      ]
     },
     "execution_count": 9,
     "metadata": {},
     "output_type": "execute_result"
    }
   ],
   "source": [
    "data['time'] = pd.to_datetime(data['time'],unit = 's')\n",
    "data"
   ]
  },
  {
   "cell_type": "code",
   "execution_count": 10,
   "metadata": {},
   "outputs": [
    {
     "name": "stdout",
     "output_type": "stream",
     "text": [
      "first time : \n",
      "0   2003-12-31 22:00:00\n",
      "Name: time, dtype: datetime64[ns]\n",
      "\n",
      "Last time : \n",
      "7416599   2024-05-02 03:10:00\n",
      "Name: time, dtype: datetime64[ns]\n"
     ]
    }
   ],
   "source": [
    "print(f'first time : \\n{data.head(1)['time']}')\n",
    "print(f\"\\nLast time : \\n{data.tail(1)['time'] }\")"
   ]
  },
  {
   "cell_type": "markdown",
   "metadata": {},
   "source": [
    "# View Data"
   ]
  },
  {
   "cell_type": "code",
   "execution_count": 11,
   "metadata": {},
   "outputs": [],
   "source": [
    "data.set_index('time', inplace=True)"
   ]
  },
  {
   "cell_type": "code",
   "execution_count": 12,
   "metadata": {},
   "outputs": [
    {
     "data": {
      "image/png": "[encoded data removed]",
      "text/plain": [
       "<Figure size 1600x800 with 1 Axes>"
      ]
     },
     "metadata": {},
     "output_type": "display_data"
    }
   ],
   "source": [
    "plt.figure(figsize=(16,8))\n",
    "plt.title(f'{ticker} Candlestick from {to_date}')\n",
    "plt.plot(data['close'])\n",
    "plt.ylabel('Close Price')\n",
    "plt.xlabel('Date')\n",
    "plt.show()"
   ]
  },
  {
   "cell_type": "markdown",
   "metadata": {},
   "source": [
    "<h2><strong>2.2 Preprocessing</strong></h2>"
   ]
  },
  {
   "cell_type": "markdown",
   "metadata": {},
   "source": [
    "<h3><strong>2.2.1 Scaling<strong></h3>"
   ]
  },
  {
   "cell_type": "code",
   "execution_count": 13,
   "metadata": {},
   "outputs": [],
   "source": [
    "scaler = StandardScaler()\n",
    "numerical_features = ['open', 'high', 'low', 'close'] \n",
    "data[numerical_features] = scaler.fit_transform(data[numerical_features])"
   ]
  },
  {
   "cell_type": "code",
   "execution_count": 14,
   "metadata": {},
   "outputs": [
    {
     "data": {
      "text/html": [
       "<div>\n",
       "<style scoped>\n",
       "    .dataframe tbody tr th:only-of-type {\n",
       "        vertical-align: middle;\n",
       "    }\n",
       "\n",
       "    .dataframe tbody tr th {\n",
       "        vertical-align: top;\n",
       "    }\n",
       "\n",
       "    .dataframe thead th {\n",
       "        text-align: right;\n",
       "    }\n",
       "</style>\n",
       "<table border=\"1\" class=\"dataframe\">\n",
       "  <thead>\n",
       "    <tr style=\"text-align: right;\">\n",
       "      <th></th>\n",
       "      <th>open</th>\n",
       "      <th>high</th>\n",
       "      <th>low</th>\n",
       "      <th>close</th>\n",
       "      <th>tick_volume</th>\n",
       "      <th>spread</th>\n",
       "      <th>real_volume</th>\n",
       "    </tr>\n",
       "    <tr>\n",
       "      <th>time</th>\n",
       "      <th></th>\n",
       "      <th></th>\n",
       "      <th></th>\n",
       "      <th></th>\n",
       "      <th></th>\n",
       "      <th></th>\n",
       "      <th></th>\n",
       "    </tr>\n",
       "  </thead>\n",
       "  <tbody>\n",
       "    <tr>\n",
       "      <th>2003-12-31 22:00:00</th>\n",
       "      <td>0.201309</td>\n",
       "      <td>0.202665</td>\n",
       "      <td>0.202284</td>\n",
       "      <td>0.202100</td>\n",
       "      <td>4</td>\n",
       "      <td>50</td>\n",
       "      <td>0</td>\n",
       "    </tr>\n",
       "    <tr>\n",
       "      <th>2003-12-31 22:01:00</th>\n",
       "      <td>0.203665</td>\n",
       "      <td>0.203450</td>\n",
       "      <td>0.203855</td>\n",
       "      <td>0.202885</td>\n",
       "      <td>4</td>\n",
       "      <td>50</td>\n",
       "      <td>0</td>\n",
       "    </tr>\n",
       "    <tr>\n",
       "      <th>2003-12-31 22:02:00</th>\n",
       "      <td>0.201309</td>\n",
       "      <td>0.201094</td>\n",
       "      <td>0.202284</td>\n",
       "      <td>0.202100</td>\n",
       "      <td>2</td>\n",
       "      <td>50</td>\n",
       "      <td>0</td>\n",
       "    </tr>\n",
       "    <tr>\n",
       "      <th>2003-12-31 22:03:00</th>\n",
       "      <td>0.202094</td>\n",
       "      <td>0.201094</td>\n",
       "      <td>0.203070</td>\n",
       "      <td>0.202100</td>\n",
       "      <td>1</td>\n",
       "      <td>50</td>\n",
       "      <td>0</td>\n",
       "    </tr>\n",
       "    <tr>\n",
       "      <th>2003-12-31 22:04:00</th>\n",
       "      <td>0.201309</td>\n",
       "      <td>0.201879</td>\n",
       "      <td>0.200713</td>\n",
       "      <td>0.199743</td>\n",
       "      <td>5</td>\n",
       "      <td>50</td>\n",
       "      <td>0</td>\n",
       "    </tr>\n",
       "  </tbody>\n",
       "</table>\n",
       "</div>"
      ],
      "text/plain": [
       "                         open      high       low     close  tick_volume  \\\n",
       "time                                                                       \n",
       "2003-12-31 22:00:00  0.201309  0.202665  0.202284  0.202100            4   \n",
       "2003-12-31 22:01:00  0.203665  0.203450  0.203855  0.202885            4   \n",
       "2003-12-31 22:02:00  0.201309  0.201094  0.202284  0.202100            2   \n",
       "2003-12-31 22:03:00  0.202094  0.201094  0.203070  0.202100            1   \n",
       "2003-12-31 22:04:00  0.201309  0.201879  0.200713  0.199743            5   \n",
       "\n",
       "                     spread  real_volume  \n",
       "time                                      \n",
       "2003-12-31 22:00:00      50            0  \n",
       "2003-12-31 22:01:00      50            0  \n",
       "2003-12-31 22:02:00      50            0  \n",
       "2003-12-31 22:03:00      50            0  \n",
       "2003-12-31 22:04:00      50            0  "
      ]
     },
     "execution_count": 14,
     "metadata": {},
     "output_type": "execute_result"
    }
   ],
   "source": [
    "\n",
    "data.head()"
   ]
  },
  {
   "cell_type": "markdown",
   "metadata": {},
   "source": [
    "<h3><strong>2.2.2 Creating training data<strong></h3>\n",
    "\n",
    "<h4><strong>Preparing Lagged Data</strong></h4>\n",
    "\n",
    "- __`df`:__ This is a DataFrame containing the original data.\n",
    "  \n",
    "- __`lag_steps:`__ This is an integer representing the number of time steps to lag the time unit by. It determines how many previous values of the target variable ('close') to include in the lagged DataFrame.\n",
    "  \n",
    "- __`lagged_df:`__ This is a new DataFrame that will store the lagged data.\n",
    "  \n",
    "- __`pd.DataFrame(index=df.index)`:__ This creates a new DataFrame with the same index as the original DataFrame df. The index represents the date and time of each data point.\n",
    "  \n",
    "- __`lagged_df['DateTime'] = df.index:`__ This creates a new column in the lagged_df DataFrame called 'DateTime', and it copies the index of the original DataFrame df. This column will store the date and time information.\n",
    "  \n",
    "- __`lagged_df['ActualValue'] = df['close']:`__ This creates a new column in the lagged_df DataFrame called 'ActualValue', and it copies the values from the 'close' column of the original DataFrame df. This column will store the actual values of the target variable.\n",
    "  \n",
    "- __`Loop:`__ This loop iterates from 1 to lag_steps (inclusive). For each iteration:\n",
    "    - __`lagged_df[f'PrevValue_{i}'] = df['close'].shift(i):`__ This creates a new column in the lagged_df DataFrame for each lagged value. The column name includes the prefix 'PrevValue_' followed by the lag index i. It shifts the values of the 'close' column of the original DataFrame df upwards by i time steps and stores them in the new column. This effectively creates lagged features for the target variable.\n",
    "  \n",
    "- __`return lagged_df.dropna():`__ This returns the lagged DataFrame after dropping any rows with missing values (NaN). Since creating lagged features involves shifting the data, the first few rows will contain NaN values where there is no data available for the lagged features.\n"
   ]
  },
  {
   "cell_type": "code",
   "execution_count": 15,
   "metadata": {},
   "outputs": [
    {
     "data": {
      "text/html": [
       "<div>\n",
       "<style scoped>\n",
       "    .dataframe tbody tr th:only-of-type {\n",
       "        vertical-align: middle;\n",
       "    }\n",
       "\n",
       "    .dataframe tbody tr th {\n",
       "        vertical-align: top;\n",
       "    }\n",
       "\n",
       "    .dataframe thead th {\n",
       "        text-align: right;\n",
       "    }\n",
       "</style>\n",
       "<table border=\"1\" class=\"dataframe\">\n",
       "  <thead>\n",
       "    <tr style=\"text-align: right;\">\n",
       "      <th></th>\n",
       "      <th>DateTime</th>\n",
       "      <th>ActualValue</th>\n",
       "      <th>PrevValue_1</th>\n",
       "      <th>PrevValue_2</th>\n",
       "      <th>PrevValue_3</th>\n",
       "      <th>PrevValue_4</th>\n",
       "      <th>PrevValue_5</th>\n",
       "      <th>PrevValue_6</th>\n",
       "      <th>PrevValue_7</th>\n",
       "      <th>PrevValue_8</th>\n",
       "      <th>PrevValue_9</th>\n",
       "      <th>PrevValue_10</th>\n",
       "    </tr>\n",
       "    <tr>\n",
       "      <th>time</th>\n",
       "      <th></th>\n",
       "      <th></th>\n",
       "      <th></th>\n",
       "      <th></th>\n",
       "      <th></th>\n",
       "      <th></th>\n",
       "      <th></th>\n",
       "      <th></th>\n",
       "      <th></th>\n",
       "      <th></th>\n",
       "      <th></th>\n",
       "      <th></th>\n",
       "    </tr>\n",
       "  </thead>\n",
       "  <tbody>\n",
       "    <tr>\n",
       "      <th>2003-12-31 22:14:00</th>\n",
       "      <td>2003-12-31 22:14:00</td>\n",
       "      <td>0.206812</td>\n",
       "      <td>0.205241</td>\n",
       "      <td>0.201314</td>\n",
       "      <td>0.202100</td>\n",
       "      <td>0.202100</td>\n",
       "      <td>0.201314</td>\n",
       "      <td>0.199743</td>\n",
       "      <td>0.202100</td>\n",
       "      <td>0.202100</td>\n",
       "      <td>0.202885</td>\n",
       "      <td>0.202100</td>\n",
       "    </tr>\n",
       "    <tr>\n",
       "      <th>2003-12-31 22:15:00</th>\n",
       "      <td>2003-12-31 22:15:00</td>\n",
       "      <td>0.202100</td>\n",
       "      <td>0.206812</td>\n",
       "      <td>0.205241</td>\n",
       "      <td>0.201314</td>\n",
       "      <td>0.202100</td>\n",
       "      <td>0.202100</td>\n",
       "      <td>0.201314</td>\n",
       "      <td>0.199743</td>\n",
       "      <td>0.202100</td>\n",
       "      <td>0.202100</td>\n",
       "      <td>0.202885</td>\n",
       "    </tr>\n",
       "    <tr>\n",
       "      <th>2003-12-31 22:16:00</th>\n",
       "      <td>2003-12-31 22:16:00</td>\n",
       "      <td>0.202100</td>\n",
       "      <td>0.202100</td>\n",
       "      <td>0.206812</td>\n",
       "      <td>0.205241</td>\n",
       "      <td>0.201314</td>\n",
       "      <td>0.202100</td>\n",
       "      <td>0.202100</td>\n",
       "      <td>0.201314</td>\n",
       "      <td>0.199743</td>\n",
       "      <td>0.202100</td>\n",
       "      <td>0.202100</td>\n",
       "    </tr>\n",
       "    <tr>\n",
       "      <th>2003-12-31 22:17:00</th>\n",
       "      <td>2003-12-31 22:17:00</td>\n",
       "      <td>0.203670</td>\n",
       "      <td>0.202100</td>\n",
       "      <td>0.202100</td>\n",
       "      <td>0.206812</td>\n",
       "      <td>0.205241</td>\n",
       "      <td>0.201314</td>\n",
       "      <td>0.202100</td>\n",
       "      <td>0.202100</td>\n",
       "      <td>0.201314</td>\n",
       "      <td>0.199743</td>\n",
       "      <td>0.202100</td>\n",
       "    </tr>\n",
       "    <tr>\n",
       "      <th>2003-12-31 22:18:00</th>\n",
       "      <td>2003-12-31 22:18:00</td>\n",
       "      <td>0.208383</td>\n",
       "      <td>0.203670</td>\n",
       "      <td>0.202100</td>\n",
       "      <td>0.202100</td>\n",
       "      <td>0.206812</td>\n",
       "      <td>0.205241</td>\n",
       "      <td>0.201314</td>\n",
       "      <td>0.202100</td>\n",
       "      <td>0.202100</td>\n",
       "      <td>0.201314</td>\n",
       "      <td>0.199743</td>\n",
       "    </tr>\n",
       "  </tbody>\n",
       "</table>\n",
       "</div>"
      ],
      "text/plain": [
       "                               DateTime  ActualValue  PrevValue_1  \\\n",
       "time                                                                \n",
       "2003-12-31 22:14:00 2003-12-31 22:14:00     0.206812     0.205241   \n",
       "2003-12-31 22:15:00 2003-12-31 22:15:00     0.202100     0.206812   \n",
       "2003-12-31 22:16:00 2003-12-31 22:16:00     0.202100     0.202100   \n",
       "2003-12-31 22:17:00 2003-12-31 22:17:00     0.203670     0.202100   \n",
       "2003-12-31 22:18:00 2003-12-31 22:18:00     0.208383     0.203670   \n",
       "\n",
       "                     PrevValue_2  PrevValue_3  PrevValue_4  PrevValue_5  \\\n",
       "time                                                                      \n",
       "2003-12-31 22:14:00     0.201314     0.202100     0.202100     0.201314   \n",
       "2003-12-31 22:15:00     0.205241     0.201314     0.202100     0.202100   \n",
       "2003-12-31 22:16:00     0.206812     0.205241     0.201314     0.202100   \n",
       "2003-12-31 22:17:00     0.202100     0.206812     0.205241     0.201314   \n",
       "2003-12-31 22:18:00     0.202100     0.202100     0.206812     0.205241   \n",
       "\n",
       "                     PrevValue_6  PrevValue_7  PrevValue_8  PrevValue_9  \\\n",
       "time                                                                      \n",
       "2003-12-31 22:14:00     0.199743     0.202100     0.202100     0.202885   \n",
       "2003-12-31 22:15:00     0.201314     0.199743     0.202100     0.202100   \n",
       "2003-12-31 22:16:00     0.202100     0.201314     0.199743     0.202100   \n",
       "2003-12-31 22:17:00     0.202100     0.202100     0.201314     0.199743   \n",
       "2003-12-31 22:18:00     0.201314     0.202100     0.202100     0.201314   \n",
       "\n",
       "                     PrevValue_10  \n",
       "time                               \n",
       "2003-12-31 22:14:00      0.202100  \n",
       "2003-12-31 22:15:00      0.202885  \n",
       "2003-12-31 22:16:00      0.202100  \n",
       "2003-12-31 22:17:00      0.202100  \n",
       "2003-12-31 22:18:00      0.199743  "
      ]
     },
     "execution_count": 15,
     "metadata": {},
     "output_type": "execute_result"
    }
   ],
   "source": [
    "go_back_by = 10\n",
    "\n",
    "def create_lagged_dataframe(df, lag_steps=go_back_by):\n",
    "    lagged_df = pd.DataFrame(index=df.index)\n",
    "    lagged_df['DateTime'] = df.index\n",
    "    lagged_df['ActualValue'] = df['close']\n",
    "\n",
    "    #Creating lagged columns for previous values\n",
    "    for i in range(1, lag_steps + 1):\n",
    "        lagged_df[f'PrevValue_{i}'] = df['close'].shift(i)\n",
    "\n",
    "    return lagged_df.dropna()\n",
    "\n",
    "lagged_df = create_lagged_dataframe(data)\n",
    "lagged_df.head()\n"
   ]
  },
  {
   "cell_type": "code",
   "execution_count": 16,
   "metadata": {},
   "outputs": [
    {
     "data": {
      "text/plain": [
       "Index(['DateTime', 'ActualValue', 'PrevValue_1', 'PrevValue_2', 'PrevValue_3',\n",
       "       'PrevValue_4', 'PrevValue_5', 'PrevValue_6', 'PrevValue_7',\n",
       "       'PrevValue_8', 'PrevValue_9', 'PrevValue_10'],\n",
       "      dtype='object')"
      ]
     },
     "execution_count": 16,
     "metadata": {},
     "output_type": "execute_result"
    }
   ],
   "source": [
    "lagged_df.columns\n"
   ]
  },
  {
   "cell_type": "markdown",
   "metadata": {},
   "source": [
    "<h4><strong>Prepare LSTM Data</strong></h4>\n",
    "\n",
    "- __`lagged_df:`__ This is a DataFrame containing the lagged data.\n",
    "\n",
    "- __`dates:`__ This variable stores the date and time information from the lagged DataFrame.\n",
    "\n",
    "- __`X:`__ This variable stores the input features for the LSTM model. It consists of all columns from the lagged DataFrame except 'DateTime' and 'ActualValue', converted to float32 data type.\n",
    "\n",
    "- __`y:`__ This variable stores the target variable for the LSTM model, which is the 'ActualValue' column from the lagged DataFrame, converted to float32 data type.\n",
    "\n",
    "- __`return:`__ The function returns three variables: dates, X, and y, containing the respective data.\n",
    "\n"
   ]
  },
  {
   "cell_type": "code",
   "execution_count": 17,
   "metadata": {},
   "outputs": [
    {
     "name": "stdout",
     "output_type": "stream",
     "text": [
      "Dates: (7416590,)\n",
      "X shape: (7416590, 10)\n",
      "y shape: (7416590,)\n"
     ]
    }
   ],
   "source": [
    "def prepare_lstm_data(lagged_df):\n",
    "    dates = lagged_df['DateTime']\n",
    "    X = lagged_df.drop(columns=['DateTime', 'ActualValue']).astype(np.float32)\n",
    "    y = lagged_df['ActualValue'].astype(np.float32)\n",
    "\n",
    "    return dates, X.values, y.values\n",
    "\n",
    "\n",
    "dates, X, y = prepare_lstm_data(lagged_df)\n",
    "print(\"Dates:\", dates.shape)\n",
    "print(\"X shape:\", X.shape)\n",
    "print(\"y shape:\", y.shape)\n"
   ]
  },
  {
   "cell_type": "markdown",
   "metadata": {},
   "source": [
    "<h3><strong>2.2.3 <u>Spliting:</u> Training, Validation, Testing Data<strong></h3>"
   ]
  },
  {
   "cell_type": "markdown",
   "metadata": {},
   "source": [
    "<h4><strong>Split Data</strong></h4>\n",
    "\n",
    "- __`dates:`__ This variable contains the date and time information.\n",
    "\n",
    "- __`X:`__ This variable contains the input features for the model.\n",
    "\n",
    "- __`y:`__ This variable contains the target variable for the model.\n",
    "\n",
    "- __`x_train:`__ This variable contains the input features for the training set.\n",
    "\n",
    "- __`y_train:`__ This variable contains the target variable for the training set.\n",
    "\n",
    "- __`x_val:`__ This variable contains the input features for the validation set.\n",
    "\n",
    "- __`y_val:`__ This variable contains the target variable for the validation set.\n",
    "\n",
    "- __`x_test:`__ This variable contains the input features for the test set.\n",
    "\n",
    "- __`y_test:`__ This variable contains the target variable for the test set.\n",
    "\n",
    "- __`train_data:`__ This tuple contains the input features and target variable for the training set.\n",
    "\n",
    "- __`val_data:`__ This tuple contains the input features and target variable for the validation set.\n",
    "\n",
    "- __`test_data:`__ This tuple contains the input features and target variable for the test set.\n",
    "\n",
    "- __`return:`__ The function returns three tuples: train_data, val_data, and test_data, each containing the respective input features and target variable for the corresponding set.\n",
    "\n"
   ]
  },
  {
   "cell_type": "code",
   "execution_count": 18,
   "metadata": {},
   "outputs": [],
   "source": [
    "def split_data(dates, X, y):\n",
    "    x_train, x_temp, y_train, y_temp = train_test_split(X, y, test_size=0.4, random_state=42)\n",
    "    x_val, x_test, y_val, y_test = train_test_split(x_temp, y_temp, test_size=0.5, random_state=42)\n",
    "    \n",
    "    return (x_train, y_train), (x_val, y_val), (x_test, y_test)\n",
    "\n",
    "(train_data, val_data, test_data) = split_data(dates, X, y)\n",
    "(x_train, y_train), (x_val, y_val), (x_test, y_test) = train_data, val_data, test_data\n"
   ]
  },
  {
   "cell_type": "code",
   "execution_count": 19,
   "metadata": {},
   "outputs": [
    {
     "name": "stdout",
     "output_type": "stream",
     "text": [
      "Training set: 4449954 instances ( 60.0 %)\n",
      "Validation set: 1483318 instances ( 20.0 %)\n",
      "Testing set: 1483318 instances ( 20.0 %)\n"
     ]
    }
   ],
   "source": [
    "# OPTIONAL: Calculating the total number of instances\n",
    "total_instances = len(x_train) + len(x_val) + len(x_test)\n",
    "\n",
    "# Each set has\n",
    "print(\"Training set:\", len(x_train), \"instances (\", len(x_train) / total_instances * 100, \"%)\")\n",
    "print(\"Validation set:\", len(x_val), \"instances (\", len(x_val) / total_instances * 100, \"%)\")\n",
    "print(\"Testing set:\", len(x_test), \"instances (\", len(x_test) / total_instances * 100, \"%)\")\n"
   ]
  },
  {
   "cell_type": "markdown",
   "metadata": {},
   "source": [
    "\n",
    "# __3. Training the model__"
   ]
  },
  {
   "cell_type": "code",
   "execution_count": 20,
   "metadata": {},
   "outputs": [],
   "source": [
    "model = Sequential([\n",
    "    layers.Input((go_back_by,1)),\n",
    "\n",
    "    layers.LSTM(10, return_sequences=True),\n",
    "    layers.Dropout(0.05), \n",
    "    layers.LSTM(5), \n",
    "    layers.Dense(4, activation='relu', kernel_regularizer='l2'),  \n",
    "    layers.Dropout(0.2),  \n",
    "    layers.Dense(4, activation='relu', kernel_regularizer='l2'), \n",
    "    # layers.Dropout(0.2),\n",
    "     \n",
    "    layers.Dense(1)\n",
    "])\n",
    "model.compile(loss = 'mse', \n",
    "              optimizer =  Adam(learning_rate=0.001),\n",
    "              metrics = ['mean_absolute_error']\n",
    "              )"
   ]
  },
  {
   "cell_type": "code",
   "execution_count": 21,
   "metadata": {},
   "outputs": [
    {
     "name": "stdout",
     "output_type": "stream",
     "text": [
      "Epoch 1/20\n",
      "\u001b[1m139062/139062\u001b[0m \u001b[32m━━━━━━━━━━━━━━━━━━━━\u001b[0m\u001b[37m\u001b[0m \u001b[1m1683s\u001b[0m 12ms/step - loss: 0.1089 - mean_absolute_error: 0.1772 - val_loss: 0.0149 - val_mean_absolute_error: 0.0674\n",
      "Epoch 2/20\n",
      "\u001b[1m139062/139062\u001b[0m \u001b[32m━━━━━━━━━━━━━━━━━━━━\u001b[0m\u001b[37m\u001b[0m \u001b[1m2172s\u001b[0m 16ms/step - loss: 0.0721 - mean_absolute_error: 0.1418 - val_loss: 0.0167 - val_mean_absolute_error: 0.0802\n",
      "Epoch 3/20\n",
      "\u001b[1m139062/139062\u001b[0m \u001b[32m━━━━━━━━━━━━━━━━━━━━\u001b[0m\u001b[37m\u001b[0m \u001b[1m1654s\u001b[0m 12ms/step - loss: 0.0701 - mean_absolute_error: 0.1388 - val_loss: 0.0132 - val_mean_absolute_error: 0.0725\n",
      "Epoch 4/20\n",
      "\u001b[1m139062/139062\u001b[0m \u001b[32m━━━━━━━━━━━━━━━━━━━━\u001b[0m\u001b[37m\u001b[0m \u001b[1m1693s\u001b[0m 12ms/step - loss: 0.0690 - mean_absolute_error: 0.1381 - val_loss: 0.0166 - val_mean_absolute_error: 0.0889\n",
      "Epoch 5/20\n",
      "\u001b[1m139062/139062\u001b[0m \u001b[32m━━━━━━━━━━━━━━━━━━━━\u001b[0m\u001b[37m\u001b[0m \u001b[1m1779s\u001b[0m 13ms/step - loss: 0.0686 - mean_absolute_error: 0.1377 - val_loss: 0.0130 - val_mean_absolute_error: 0.0645\n",
      "Epoch 6/20\n",
      "\u001b[1m139062/139062\u001b[0m \u001b[32m━━━━━━━━━━━━━━━━━━━━\u001b[0m\u001b[37m\u001b[0m \u001b[1m889s\u001b[0m 6ms/step - loss: 0.0716 - mean_absolute_error: 0.1404 - val_loss: 0.0134 - val_mean_absolute_error: 0.0755\n",
      "Epoch 7/20\n",
      "\u001b[1m139062/139062\u001b[0m \u001b[32m━━━━━━━━━━━━━━━━━━━━\u001b[0m\u001b[37m\u001b[0m \u001b[1m875s\u001b[0m 6ms/step - loss: 0.0683 - mean_absolute_error: 0.1405 - val_loss: 0.0123 - val_mean_absolute_error: 0.0712\n",
      "Epoch 8/20\n",
      "\u001b[1m139062/139062\u001b[0m \u001b[32m━━━━━━━━━━━━━━━━━━━━\u001b[0m\u001b[37m\u001b[0m \u001b[1m830s\u001b[0m 6ms/step - loss: 0.0679 - mean_absolute_error: 0.1394 - val_loss: 0.0150 - val_mean_absolute_error: 0.0840\n",
      "Epoch 9/20\n",
      "\u001b[1m139062/139062\u001b[0m \u001b[32m━━━━━━━━━━━━━━━━━━━━\u001b[0m\u001b[37m\u001b[0m \u001b[1m817s\u001b[0m 6ms/step - loss: 0.0673 - mean_absolute_error: 0.1372 - val_loss: 0.0119 - val_mean_absolute_error: 0.0676\n",
      "Epoch 10/20\n",
      "\u001b[1m139062/139062\u001b[0m \u001b[32m━━━━━━━━━━━━━━━━━━━━\u001b[0m\u001b[37m\u001b[0m \u001b[1m790s\u001b[0m 6ms/step - loss: 0.0672 - mean_absolute_error: 0.1371 - val_loss: 0.0134 - val_mean_absolute_error: 0.0656\n",
      "Epoch 11/20\n",
      "\u001b[1m139062/139062\u001b[0m \u001b[32m━━━━━━━━━━━━━━━━━━━━\u001b[0m\u001b[37m\u001b[0m \u001b[1m809s\u001b[0m 6ms/step - loss: 0.0673 - mean_absolute_error: 0.1374 - val_loss: 0.0125 - val_mean_absolute_error: 0.0726\n",
      "Epoch 12/20\n",
      "\u001b[1m139062/139062\u001b[0m \u001b[32m━━━━━━━━━━━━━━━━━━━━\u001b[0m\u001b[37m\u001b[0m \u001b[1m2149s\u001b[0m 15ms/step - loss: 0.0670 - mean_absolute_error: 0.1365 - val_loss: 0.0110 - val_mean_absolute_error: 0.0640\n",
      "Epoch 13/20\n",
      "\u001b[1m139062/139062\u001b[0m \u001b[32m━━━━━━━━━━━━━━━━━━━━\u001b[0m\u001b[37m\u001b[0m \u001b[1m2202s\u001b[0m 16ms/step - loss: 0.0675 - mean_absolute_error: 0.1368 - val_loss: 0.0180 - val_mean_absolute_error: 0.0985\n",
      "Epoch 14/20\n",
      "\u001b[1m139062/139062\u001b[0m \u001b[32m━━━━━━━━━━━━━━━━━━━━\u001b[0m\u001b[37m\u001b[0m \u001b[1m1062s\u001b[0m 8ms/step - loss: 0.0669 - mean_absolute_error: 0.1366 - val_loss: 0.0095 - val_mean_absolute_error: 0.0566\n",
      "Epoch 15/20\n",
      "\u001b[1m139062/139062\u001b[0m \u001b[32m━━━━━━━━━━━━━━━━━━━━\u001b[0m\u001b[37m\u001b[0m \u001b[1m519s\u001b[0m 4ms/step - loss: 0.0666 - mean_absolute_error: 0.1362 - val_loss: 0.0110 - val_mean_absolute_error: 0.0644\n",
      "Epoch 16/20\n",
      "\u001b[1m139062/139062\u001b[0m \u001b[32m━━━━━━━━━━━━━━━━━━━━\u001b[0m\u001b[37m\u001b[0m \u001b[1m499s\u001b[0m 4ms/step - loss: 0.0670 - mean_absolute_error: 0.1355 - val_loss: 0.0138 - val_mean_absolute_error: 0.0703\n",
      "Epoch 17/20\n",
      "\u001b[1m139062/139062\u001b[0m \u001b[32m━━━━━━━━━━━━━━━━━━━━\u001b[0m\u001b[37m\u001b[0m \u001b[1m511s\u001b[0m 4ms/step - loss: 0.0672 - mean_absolute_error: 0.1357 - val_loss: 0.0098 - val_mean_absolute_error: 0.0572\n",
      "Epoch 18/20\n",
      "\u001b[1m139062/139062\u001b[0m \u001b[32m━━━━━━━━━━━━━━━━━━━━\u001b[0m\u001b[37m\u001b[0m \u001b[1m538s\u001b[0m 4ms/step - loss: 0.0671 - mean_absolute_error: 0.1360 - val_loss: 0.0118 - val_mean_absolute_error: 0.0704\n",
      "Epoch 19/20\n",
      "\u001b[1m139062/139062\u001b[0m \u001b[32m━━━━━━━━━━━━━━━━━━━━\u001b[0m\u001b[37m\u001b[0m \u001b[1m545s\u001b[0m 4ms/step - loss: 0.0672 - mean_absolute_error: 0.1355 - val_loss: 0.0129 - val_mean_absolute_error: 0.0828\n",
      "Epoch 20/20\n",
      "\u001b[1m139062/139062\u001b[0m \u001b[32m━━━━━━━━━━━━━━━━━━━━\u001b[0m\u001b[37m\u001b[0m \u001b[1m536s\u001b[0m 4ms/step - loss: 0.0671 - mean_absolute_error: 0.1364 - val_loss: 0.0142 - val_mean_absolute_error: 0.0786\n"
     ]
    }
   ],
   "source": [
    "\n",
    "history = model.fit(x_train, y_train, epochs=20, validation_data=(x_val, y_val), verbose=1)\n",
    "\n",
    "# history = model.fit(x_train, y_train, epochs=30, verbose=1)\n",
    "\n"
   ]
  },
  {
   "cell_type": "code",
   "execution_count": 22,
   "metadata": {},
   "outputs": [
    {
     "name": "stderr",
     "output_type": "stream",
     "text": [
      "WARNING:absl:You are saving your model as an HDF5 file via `model.save()` or `keras.saving.save_model(model)`. This file format is considered legacy. We recommend using instead the native Keras format, e.g. `model.save('my_model.keras')` or `keras.saving.save_model(model, 'my_model.keras')`. \n"
     ]
    }
   ],
   "source": [
    "model.save(\"my_model.h5\")"
   ]
  },
  {
   "cell_type": "markdown",
   "metadata": {},
   "source": [
    "# __Model Evaluation__"
   ]
  },
  {
   "cell_type": "code",
   "execution_count": 23,
   "metadata": {},
   "outputs": [
    {
     "name": "stdout",
     "output_type": "stream",
     "text": [
      "\u001b[1m46354/46354\u001b[0m \u001b[32m━━━━━━━━━━━━━━━━━━━━\u001b[0m\u001b[37m\u001b[0m \u001b[1m51s\u001b[0m 1ms/step\n",
      "\n",
      "Test Loss: 0.014151493087410927\n",
      "\n",
      "Mean Absolute Error: 0.07846836745738983\n",
      "\n",
      "Root Mean Squared Error: 0.10027484\n",
      "\n",
      "R-squared: 0.9899442741849155\n"
     ]
    }
   ],
   "source": [
    "\n",
    "loss, mae = model.evaluate(x_test, y_test, verbose=0)\n",
    "\n",
    "#Evaluating on the test data\n",
    "predictions = model.predict(x_test)\n",
    "rmse = np.sqrt(mean_squared_error(y_test, predictions))\n",
    "r2 = r2_score(y_test, predictions)\n",
    "\n",
    "print('\\nTest Loss:', loss)\n",
    "print('\\nMean Absolute Error:', mae)\n",
    "print('\\nRoot Mean Squared Error:', rmse)\n",
    "print('\\nR-squared:', r2)"
   ]
  },
  {
   "cell_type": "code",
   "execution_count": 24,
   "metadata": {},
   "outputs": [
    {
     "data": {
      "image/png": "[encoded data removed]",
      "text/plain": [
       "<Figure size 1000x600 with 1 Axes>"
      ]
     },
     "metadata": {},
     "output_type": "display_data"
    }
   ],
   "source": [
    "plt.figure(figsize=(10, 6))\n",
    "plt.plot(history.history['loss'], label='Training Loss')\n",
    "plt.plot(history.history['val_loss'], label='Validation Loss')\n",
    "plt.title('Training and Validation Loss')\n",
    "plt.xlabel('Epoch')\n",
    "plt.ylabel('Loss')\n",
    "plt.legend()\n",
    "plt.show()\n"
   ]
  },
  {
   "cell_type": "markdown",
   "metadata": {},
   "source": [
    "\n",
    "# __3. Training the model__"
   ]
  },
  {
   "cell_type": "code",
   "execution_count": 25,
   "metadata": {},
   "outputs": [
    {
     "data": {
      "image/png": "[encoded data removed]",
      "text/plain": [
       "<Figure size 1000x600 with 1 Axes>"
      ]
     },
     "metadata": {},
     "output_type": "display_data"
    }
   ],
   "source": [
    "# Loss curves for training and validation\n",
    "plt.figure(figsize=(10, 6))\n",
    "plt.plot(history.history['loss'], label='Training Loss')\n",
    "plt.plot(history.history['val_loss'], label='Validation Loss')\n",
    "plt.title('Training and Validation Loss')\n",
    "plt.xlabel('Epoch')\n",
    "plt.ylabel('Loss')\n",
    "# plt.ylim(0, 0.01)\n",
    "plt.xlim(0,5)  # Set y-axis limits\n",
    "plt.legend()\n",
    "plt.show()"
   ]
  }
 ],
 "metadata": {
  "kernelspec": {
   "display_name": "Python 3",
   "language": "python",
   "name": "python3"
  },
  "language_info": {
   "codemirror_mode": {
    "name": "ipython",
    "version": 3
   },
   "file_extension": ".py",
   "mimetype": "text/x-python",
   "name": "python",
   "nbconvert_exporter": "python",
   "pygments_lexer": "ipython3",
   "version": "3.12.2"
  }
 },
 "nbformat": 4,
 "nbformat_minor": 2
}
