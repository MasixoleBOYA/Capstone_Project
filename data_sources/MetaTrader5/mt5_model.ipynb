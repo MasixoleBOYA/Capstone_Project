{
 "cells": [
  {
   "cell_type": "code",
   "execution_count": 58,
   "metadata": {},
   "outputs": [],
   "source": [
    "import pandas as pd\n",
    "import MetaTrader5 as mt5\n",
    "from datetime import datetime\n",
    "\n",
    "from secret_login import Secret_Login, IC_Markets_Login\n",
    "\n",
    "import pandas as pd\n",
    "import requests\n",
    "import matplotlib.pyplot as plt\n",
    "import mplfinance as mpf\n",
    "from sklearn.preprocessing import StandardScaler\n",
    "from sklearn.model_selection import train_test_split\n",
    "from sklearn.model_selection import train_test_split\n",
    "from sklearn.metrics import mean_absolute_error, mean_squared_error\n",
    "from sklearn.metrics import r2_score\n",
    "\n",
    "import numpy as np\n",
    "from keras.models import Sequential\n",
    "from keras.layers import Dense, LSTM\n",
    "from tensorflow.keras import layers\n",
    "from tensorflow.keras.optimizers import Adam\n",
    "from datetime import datetime\n",
    "import pytz"
   ]
  },
  {
   "cell_type": "code",
   "execution_count": 26,
   "metadata": {},
   "outputs": [
    {
     "data": {
      "text/plain": [
       "True"
      ]
     },
     "execution_count": 26,
     "metadata": {},
     "output_type": "execute_result"
    }
   ],
   "source": [
    "mt5.initialize()"
   ]
  },
  {
   "cell_type": "markdown",
   "metadata": {},
   "source": [
    "## Login\n"
   ]
  },
  {
   "cell_type": "code",
   "execution_count": 27,
   "metadata": {},
   "outputs": [
    {
     "name": "stdout",
     "output_type": "stream",
     "text": [
      "51750680\n",
      "ICMarketsSC-Demo\n"
     ]
    }
   ],
   "source": [
    "print(mt5.account_info().login)\n",
    "print(mt5.account_info().server)"
   ]
  },
  {
   "cell_type": "code",
   "execution_count": 28,
   "metadata": {},
   "outputs": [
    {
     "name": "stdout",
     "output_type": "stream",
     "text": [
      "Account : 51750680\n",
      "password : o&bCOUrc8jTHs8\n",
      "Server : ICMarketsSC-Demo\n"
     ]
    }
   ],
   "source": [
    "temp = IC_Markets_Login()\n",
    "\n",
    "account = mt5.account_info().login\n",
    "\n",
    "password = temp.password\n",
    "\n",
    "server = mt5.account_info().server\n",
    "\n",
    "print(f\"Account : {account}\")\n",
    "print(f\"password : {password}\")\n",
    "print(f\"Server : {server}\")\n",
    "\n"
   ]
  },
  {
   "cell_type": "code",
   "execution_count": 29,
   "metadata": {},
   "outputs": [
    {
     "name": "stdout",
     "output_type": "stream",
     "text": [
      "connected to account #51750680\n"
     ]
    }
   ],
   "source": [
    "authorized = mt5.login(account,password,server)\n",
    "\n",
    "if authorized:\n",
    "    print(\"connected to account #{}\".format(account))\n",
    "else:\n",
    "    print(\"failed to connect at account #{}, error code: {}\".format(account, mt5.last_error()))"
   ]
  },
  {
   "cell_type": "markdown",
   "metadata": {},
   "source": [
    "# __Retrieving Data__: The API way"
   ]
  },
  {
   "cell_type": "code",
   "execution_count": 30,
   "metadata": {},
   "outputs": [],
   "source": [
    "ticker = 'EURUSD'\n",
    "frequency = mt5.TIMEFRAME_M1\n",
    "from_date = datetime.now()\n",
    "to_date = datetime(2024,1,5)\n"
   ]
  },
  {
   "cell_type": "code",
   "execution_count": 31,
   "metadata": {},
   "outputs": [
    {
     "data": {
      "text/plain": [
       "array([(1704405600, 1.09471, 1.09477, 1.09456, 1.09456, 36, 0, 0),\n",
       "       (1704405660, 1.09456, 1.09468, 1.09455, 1.09465, 26, 0, 0),\n",
       "       (1704405720, 1.09465, 1.09468, 1.09461, 1.09466, 28, 0, 0), ...,\n",
       "       (1714548600, 1.06562, 1.06564, 1.0656 , 1.06562, 21, 0, 0),\n",
       "       (1714548660, 1.06562, 1.06562, 1.06561, 1.06561, 14, 0, 0),\n",
       "       (1714548720, 1.06561, 1.06562, 1.06559, 1.0656 , 17, 0, 0)],\n",
       "      dtype=[('time', '<i8'), ('open', '<f8'), ('high', '<f8'), ('low', '<f8'), ('close', '<f8'), ('tick_volume', '<u8'), ('spread', '<i4'), ('real_volume', '<u8')])"
      ]
     },
     "execution_count": 31,
     "metadata": {},
     "output_type": "execute_result"
    }
   ],
   "source": [
    "range_rates = mt5.copy_rates_range(ticker,frequency,to_date, from_date)\n",
    "range_rates"
   ]
  },
  {
   "cell_type": "code",
   "execution_count": 32,
   "metadata": {},
   "outputs": [
    {
     "data": {
      "text/html": [
       "<div>\n",
       "<style scoped>\n",
       "    .dataframe tbody tr th:only-of-type {\n",
       "        vertical-align: middle;\n",
       "    }\n",
       "\n",
       "    .dataframe tbody tr th {\n",
       "        vertical-align: top;\n",
       "    }\n",
       "\n",
       "    .dataframe thead th {\n",
       "        text-align: right;\n",
       "    }\n",
       "</style>\n",
       "<table border=\"1\" class=\"dataframe\">\n",
       "  <thead>\n",
       "    <tr style=\"text-align: right;\">\n",
       "      <th></th>\n",
       "      <th>time</th>\n",
       "      <th>open</th>\n",
       "      <th>high</th>\n",
       "      <th>low</th>\n",
       "      <th>close</th>\n",
       "      <th>tick_volume</th>\n",
       "      <th>spread</th>\n",
       "      <th>real_volume</th>\n",
       "    </tr>\n",
       "  </thead>\n",
       "  <tbody>\n",
       "    <tr>\n",
       "      <th>0</th>\n",
       "      <td>1704405600</td>\n",
       "      <td>1.09471</td>\n",
       "      <td>1.09477</td>\n",
       "      <td>1.09456</td>\n",
       "      <td>1.09456</td>\n",
       "      <td>36</td>\n",
       "      <td>0</td>\n",
       "      <td>0</td>\n",
       "    </tr>\n",
       "    <tr>\n",
       "      <th>1</th>\n",
       "      <td>1704405660</td>\n",
       "      <td>1.09456</td>\n",
       "      <td>1.09468</td>\n",
       "      <td>1.09455</td>\n",
       "      <td>1.09465</td>\n",
       "      <td>26</td>\n",
       "      <td>0</td>\n",
       "      <td>0</td>\n",
       "    </tr>\n",
       "    <tr>\n",
       "      <th>2</th>\n",
       "      <td>1704405720</td>\n",
       "      <td>1.09465</td>\n",
       "      <td>1.09468</td>\n",
       "      <td>1.09461</td>\n",
       "      <td>1.09466</td>\n",
       "      <td>28</td>\n",
       "      <td>0</td>\n",
       "      <td>0</td>\n",
       "    </tr>\n",
       "    <tr>\n",
       "      <th>3</th>\n",
       "      <td>1704405780</td>\n",
       "      <td>1.09465</td>\n",
       "      <td>1.09465</td>\n",
       "      <td>1.09451</td>\n",
       "      <td>1.09457</td>\n",
       "      <td>27</td>\n",
       "      <td>0</td>\n",
       "      <td>0</td>\n",
       "    </tr>\n",
       "    <tr>\n",
       "      <th>4</th>\n",
       "      <td>1704405840</td>\n",
       "      <td>1.09457</td>\n",
       "      <td>1.09461</td>\n",
       "      <td>1.09451</td>\n",
       "      <td>1.09451</td>\n",
       "      <td>26</td>\n",
       "      <td>0</td>\n",
       "      <td>0</td>\n",
       "    </tr>\n",
       "    <tr>\n",
       "      <th>...</th>\n",
       "      <td>...</td>\n",
       "      <td>...</td>\n",
       "      <td>...</td>\n",
       "      <td>...</td>\n",
       "      <td>...</td>\n",
       "      <td>...</td>\n",
       "      <td>...</td>\n",
       "      <td>...</td>\n",
       "    </tr>\n",
       "    <tr>\n",
       "      <th>119874</th>\n",
       "      <td>1714548480</td>\n",
       "      <td>1.06559</td>\n",
       "      <td>1.06559</td>\n",
       "      <td>1.06556</td>\n",
       "      <td>1.06556</td>\n",
       "      <td>7</td>\n",
       "      <td>0</td>\n",
       "      <td>0</td>\n",
       "    </tr>\n",
       "    <tr>\n",
       "      <th>119875</th>\n",
       "      <td>1714548540</td>\n",
       "      <td>1.06556</td>\n",
       "      <td>1.06562</td>\n",
       "      <td>1.06556</td>\n",
       "      <td>1.06562</td>\n",
       "      <td>19</td>\n",
       "      <td>0</td>\n",
       "      <td>0</td>\n",
       "    </tr>\n",
       "    <tr>\n",
       "      <th>119876</th>\n",
       "      <td>1714548600</td>\n",
       "      <td>1.06562</td>\n",
       "      <td>1.06564</td>\n",
       "      <td>1.06560</td>\n",
       "      <td>1.06562</td>\n",
       "      <td>21</td>\n",
       "      <td>0</td>\n",
       "      <td>0</td>\n",
       "    </tr>\n",
       "    <tr>\n",
       "      <th>119877</th>\n",
       "      <td>1714548660</td>\n",
       "      <td>1.06562</td>\n",
       "      <td>1.06562</td>\n",
       "      <td>1.06561</td>\n",
       "      <td>1.06561</td>\n",
       "      <td>14</td>\n",
       "      <td>0</td>\n",
       "      <td>0</td>\n",
       "    </tr>\n",
       "    <tr>\n",
       "      <th>119878</th>\n",
       "      <td>1714548720</td>\n",
       "      <td>1.06561</td>\n",
       "      <td>1.06562</td>\n",
       "      <td>1.06559</td>\n",
       "      <td>1.06560</td>\n",
       "      <td>17</td>\n",
       "      <td>0</td>\n",
       "      <td>0</td>\n",
       "    </tr>\n",
       "  </tbody>\n",
       "</table>\n",
       "<p>119879 rows × 8 columns</p>\n",
       "</div>"
      ],
      "text/plain": [
       "              time     open     high      low    close  tick_volume  spread  \\\n",
       "0       1704405600  1.09471  1.09477  1.09456  1.09456           36       0   \n",
       "1       1704405660  1.09456  1.09468  1.09455  1.09465           26       0   \n",
       "2       1704405720  1.09465  1.09468  1.09461  1.09466           28       0   \n",
       "3       1704405780  1.09465  1.09465  1.09451  1.09457           27       0   \n",
       "4       1704405840  1.09457  1.09461  1.09451  1.09451           26       0   \n",
       "...            ...      ...      ...      ...      ...          ...     ...   \n",
       "119874  1714548480  1.06559  1.06559  1.06556  1.06556            7       0   \n",
       "119875  1714548540  1.06556  1.06562  1.06556  1.06562           19       0   \n",
       "119876  1714548600  1.06562  1.06564  1.06560  1.06562           21       0   \n",
       "119877  1714548660  1.06562  1.06562  1.06561  1.06561           14       0   \n",
       "119878  1714548720  1.06561  1.06562  1.06559  1.06560           17       0   \n",
       "\n",
       "        real_volume  \n",
       "0                 0  \n",
       "1                 0  \n",
       "2                 0  \n",
       "3                 0  \n",
       "4                 0  \n",
       "...             ...  \n",
       "119874            0  \n",
       "119875            0  \n",
       "119876            0  \n",
       "119877            0  \n",
       "119878            0  \n",
       "\n",
       "[119879 rows x 8 columns]"
      ]
     },
     "execution_count": 32,
     "metadata": {},
     "output_type": "execute_result"
    }
   ],
   "source": [
    "data = pd.DataFrame(range_rates)\n",
    "data"
   ]
  },
  {
   "cell_type": "code",
   "execution_count": 33,
   "metadata": {},
   "outputs": [
    {
     "data": {
      "text/html": [
       "<div>\n",
       "<style scoped>\n",
       "    .dataframe tbody tr th:only-of-type {\n",
       "        vertical-align: middle;\n",
       "    }\n",
       "\n",
       "    .dataframe tbody tr th {\n",
       "        vertical-align: top;\n",
       "    }\n",
       "\n",
       "    .dataframe thead th {\n",
       "        text-align: right;\n",
       "    }\n",
       "</style>\n",
       "<table border=\"1\" class=\"dataframe\">\n",
       "  <thead>\n",
       "    <tr style=\"text-align: right;\">\n",
       "      <th></th>\n",
       "      <th>time</th>\n",
       "      <th>open</th>\n",
       "      <th>high</th>\n",
       "      <th>low</th>\n",
       "      <th>close</th>\n",
       "      <th>tick_volume</th>\n",
       "      <th>spread</th>\n",
       "      <th>real_volume</th>\n",
       "    </tr>\n",
       "  </thead>\n",
       "  <tbody>\n",
       "    <tr>\n",
       "      <th>0</th>\n",
       "      <td>2024-01-04 22:00:00</td>\n",
       "      <td>1.09471</td>\n",
       "      <td>1.09477</td>\n",
       "      <td>1.09456</td>\n",
       "      <td>1.09456</td>\n",
       "      <td>36</td>\n",
       "      <td>0</td>\n",
       "      <td>0</td>\n",
       "    </tr>\n",
       "    <tr>\n",
       "      <th>1</th>\n",
       "      <td>2024-01-04 22:01:00</td>\n",
       "      <td>1.09456</td>\n",
       "      <td>1.09468</td>\n",
       "      <td>1.09455</td>\n",
       "      <td>1.09465</td>\n",
       "      <td>26</td>\n",
       "      <td>0</td>\n",
       "      <td>0</td>\n",
       "    </tr>\n",
       "    <tr>\n",
       "      <th>2</th>\n",
       "      <td>2024-01-04 22:02:00</td>\n",
       "      <td>1.09465</td>\n",
       "      <td>1.09468</td>\n",
       "      <td>1.09461</td>\n",
       "      <td>1.09466</td>\n",
       "      <td>28</td>\n",
       "      <td>0</td>\n",
       "      <td>0</td>\n",
       "    </tr>\n",
       "    <tr>\n",
       "      <th>3</th>\n",
       "      <td>2024-01-04 22:03:00</td>\n",
       "      <td>1.09465</td>\n",
       "      <td>1.09465</td>\n",
       "      <td>1.09451</td>\n",
       "      <td>1.09457</td>\n",
       "      <td>27</td>\n",
       "      <td>0</td>\n",
       "      <td>0</td>\n",
       "    </tr>\n",
       "    <tr>\n",
       "      <th>4</th>\n",
       "      <td>2024-01-04 22:04:00</td>\n",
       "      <td>1.09457</td>\n",
       "      <td>1.09461</td>\n",
       "      <td>1.09451</td>\n",
       "      <td>1.09451</td>\n",
       "      <td>26</td>\n",
       "      <td>0</td>\n",
       "      <td>0</td>\n",
       "    </tr>\n",
       "    <tr>\n",
       "      <th>...</th>\n",
       "      <td>...</td>\n",
       "      <td>...</td>\n",
       "      <td>...</td>\n",
       "      <td>...</td>\n",
       "      <td>...</td>\n",
       "      <td>...</td>\n",
       "      <td>...</td>\n",
       "      <td>...</td>\n",
       "    </tr>\n",
       "    <tr>\n",
       "      <th>119874</th>\n",
       "      <td>2024-05-01 07:28:00</td>\n",
       "      <td>1.06559</td>\n",
       "      <td>1.06559</td>\n",
       "      <td>1.06556</td>\n",
       "      <td>1.06556</td>\n",
       "      <td>7</td>\n",
       "      <td>0</td>\n",
       "      <td>0</td>\n",
       "    </tr>\n",
       "    <tr>\n",
       "      <th>119875</th>\n",
       "      <td>2024-05-01 07:29:00</td>\n",
       "      <td>1.06556</td>\n",
       "      <td>1.06562</td>\n",
       "      <td>1.06556</td>\n",
       "      <td>1.06562</td>\n",
       "      <td>19</td>\n",
       "      <td>0</td>\n",
       "      <td>0</td>\n",
       "    </tr>\n",
       "    <tr>\n",
       "      <th>119876</th>\n",
       "      <td>2024-05-01 07:30:00</td>\n",
       "      <td>1.06562</td>\n",
       "      <td>1.06564</td>\n",
       "      <td>1.06560</td>\n",
       "      <td>1.06562</td>\n",
       "      <td>21</td>\n",
       "      <td>0</td>\n",
       "      <td>0</td>\n",
       "    </tr>\n",
       "    <tr>\n",
       "      <th>119877</th>\n",
       "      <td>2024-05-01 07:31:00</td>\n",
       "      <td>1.06562</td>\n",
       "      <td>1.06562</td>\n",
       "      <td>1.06561</td>\n",
       "      <td>1.06561</td>\n",
       "      <td>14</td>\n",
       "      <td>0</td>\n",
       "      <td>0</td>\n",
       "    </tr>\n",
       "    <tr>\n",
       "      <th>119878</th>\n",
       "      <td>2024-05-01 07:32:00</td>\n",
       "      <td>1.06561</td>\n",
       "      <td>1.06562</td>\n",
       "      <td>1.06559</td>\n",
       "      <td>1.06560</td>\n",
       "      <td>17</td>\n",
       "      <td>0</td>\n",
       "      <td>0</td>\n",
       "    </tr>\n",
       "  </tbody>\n",
       "</table>\n",
       "<p>119879 rows × 8 columns</p>\n",
       "</div>"
      ],
      "text/plain": [
       "                      time     open     high      low    close  tick_volume  \\\n",
       "0      2024-01-04 22:00:00  1.09471  1.09477  1.09456  1.09456           36   \n",
       "1      2024-01-04 22:01:00  1.09456  1.09468  1.09455  1.09465           26   \n",
       "2      2024-01-04 22:02:00  1.09465  1.09468  1.09461  1.09466           28   \n",
       "3      2024-01-04 22:03:00  1.09465  1.09465  1.09451  1.09457           27   \n",
       "4      2024-01-04 22:04:00  1.09457  1.09461  1.09451  1.09451           26   \n",
       "...                    ...      ...      ...      ...      ...          ...   \n",
       "119874 2024-05-01 07:28:00  1.06559  1.06559  1.06556  1.06556            7   \n",
       "119875 2024-05-01 07:29:00  1.06556  1.06562  1.06556  1.06562           19   \n",
       "119876 2024-05-01 07:30:00  1.06562  1.06564  1.06560  1.06562           21   \n",
       "119877 2024-05-01 07:31:00  1.06562  1.06562  1.06561  1.06561           14   \n",
       "119878 2024-05-01 07:32:00  1.06561  1.06562  1.06559  1.06560           17   \n",
       "\n",
       "        spread  real_volume  \n",
       "0            0            0  \n",
       "1            0            0  \n",
       "2            0            0  \n",
       "3            0            0  \n",
       "4            0            0  \n",
       "...        ...          ...  \n",
       "119874       0            0  \n",
       "119875       0            0  \n",
       "119876       0            0  \n",
       "119877       0            0  \n",
       "119878       0            0  \n",
       "\n",
       "[119879 rows x 8 columns]"
      ]
     },
     "execution_count": 33,
     "metadata": {},
     "output_type": "execute_result"
    }
   ],
   "source": [
    "data['time'] = pd.to_datetime(data['time'],unit = 's')\n",
    "data"
   ]
  },
  {
   "cell_type": "code",
   "execution_count": 34,
   "metadata": {},
   "outputs": [
    {
     "name": "stdout",
     "output_type": "stream",
     "text": [
      "first time : \n",
      "0   2024-01-04 22:00:00\n",
      "Name: time, dtype: datetime64[ns]\n",
      "\n",
      "Last time : \n",
      "119878   2024-05-01 07:32:00\n",
      "Name: time, dtype: datetime64[ns]\n"
     ]
    }
   ],
   "source": [
    "print(f'first time : \\n{data.head(1)['time']}')\n",
    "print(f\"\\nLast time : \\n{data.tail(1)['time'] }\")"
   ]
  },
  {
   "cell_type": "markdown",
   "metadata": {},
   "source": [
    "# View Data"
   ]
  },
  {
   "cell_type": "code",
   "execution_count": 38,
   "metadata": {},
   "outputs": [],
   "source": [
    "data.set_index('time', inplace=True)"
   ]
  },
  {
   "cell_type": "code",
   "execution_count": 40,
   "metadata": {},
   "outputs": [
    {
     "data": {
      "image/png": "[encoded data removed]",
      "text/plain": [
       "<Figure size 1600x800 with 1 Axes>"
      ]
     },
     "metadata": {},
     "output_type": "display_data"
    }
   ],
   "source": [
    "plt.figure(figsize=(16,8))\n",
    "plt.title(f'{ticker} Candlestick from {to_date}')\n",
    "plt.plot(data['close'])\n",
    "plt.ylabel('Close Price')\n",
    "plt.xlabel('Date')\n",
    "plt.show()"
   ]
  },
  {
   "cell_type": "markdown",
   "metadata": {},
   "source": [
    "<h2><strong>2.2 Preprocessing</strong></h2>"
   ]
  },
  {
   "cell_type": "markdown",
   "metadata": {},
   "source": [
    "<h3><strong>2.2.1 Scaling<strong></h3>"
   ]
  },
  {
   "cell_type": "code",
   "execution_count": 41,
   "metadata": {},
   "outputs": [],
   "source": [
    "scaler = StandardScaler()\n",
    "numerical_features = ['open', 'high', 'low', 'close'] \n",
    "data[numerical_features] = scaler.fit_transform(data[numerical_features])"
   ]
  },
  {
   "cell_type": "code",
   "execution_count": 42,
   "metadata": {},
   "outputs": [
    {
     "data": {
      "text/html": [
       "<div>\n",
       "<style scoped>\n",
       "    .dataframe tbody tr th:only-of-type {\n",
       "        vertical-align: middle;\n",
       "    }\n",
       "\n",
       "    .dataframe tbody tr th {\n",
       "        vertical-align: top;\n",
       "    }\n",
       "\n",
       "    .dataframe thead th {\n",
       "        text-align: right;\n",
       "    }\n",
       "</style>\n",
       "<table border=\"1\" class=\"dataframe\">\n",
       "  <thead>\n",
       "    <tr style=\"text-align: right;\">\n",
       "      <th></th>\n",
       "      <th>open</th>\n",
       "      <th>high</th>\n",
       "      <th>low</th>\n",
       "      <th>close</th>\n",
       "      <th>tick_volume</th>\n",
       "      <th>spread</th>\n",
       "      <th>real_volume</th>\n",
       "    </tr>\n",
       "    <tr>\n",
       "      <th>time</th>\n",
       "      <th></th>\n",
       "      <th></th>\n",
       "      <th></th>\n",
       "      <th></th>\n",
       "      <th></th>\n",
       "      <th></th>\n",
       "      <th></th>\n",
       "    </tr>\n",
       "  </thead>\n",
       "  <tbody>\n",
       "    <tr>\n",
       "      <th>2024-01-04 22:00:00</th>\n",
       "      <td>1.466147</td>\n",
       "      <td>1.466572</td>\n",
       "      <td>1.455442</td>\n",
       "      <td>1.449029</td>\n",
       "      <td>36</td>\n",
       "      <td>0</td>\n",
       "      <td>0</td>\n",
       "    </tr>\n",
       "    <tr>\n",
       "      <th>2024-01-04 22:01:00</th>\n",
       "      <td>1.449011</td>\n",
       "      <td>1.456290</td>\n",
       "      <td>1.454300</td>\n",
       "      <td>1.459311</td>\n",
       "      <td>26</td>\n",
       "      <td>0</td>\n",
       "      <td>0</td>\n",
       "    </tr>\n",
       "    <tr>\n",
       "      <th>2024-01-04 22:02:00</th>\n",
       "      <td>1.459293</td>\n",
       "      <td>1.456290</td>\n",
       "      <td>1.461154</td>\n",
       "      <td>1.460453</td>\n",
       "      <td>28</td>\n",
       "      <td>0</td>\n",
       "      <td>0</td>\n",
       "    </tr>\n",
       "    <tr>\n",
       "      <th>2024-01-04 22:03:00</th>\n",
       "      <td>1.459293</td>\n",
       "      <td>1.452863</td>\n",
       "      <td>1.449730</td>\n",
       "      <td>1.450172</td>\n",
       "      <td>27</td>\n",
       "      <td>0</td>\n",
       "      <td>0</td>\n",
       "    </tr>\n",
       "    <tr>\n",
       "      <th>2024-01-04 22:04:00</th>\n",
       "      <td>1.450153</td>\n",
       "      <td>1.448293</td>\n",
       "      <td>1.449730</td>\n",
       "      <td>1.443317</td>\n",
       "      <td>26</td>\n",
       "      <td>0</td>\n",
       "      <td>0</td>\n",
       "    </tr>\n",
       "  </tbody>\n",
       "</table>\n",
       "</div>"
      ],
      "text/plain": [
       "                         open      high       low     close  tick_volume  \\\n",
       "time                                                                       \n",
       "2024-01-04 22:00:00  1.466147  1.466572  1.455442  1.449029           36   \n",
       "2024-01-04 22:01:00  1.449011  1.456290  1.454300  1.459311           26   \n",
       "2024-01-04 22:02:00  1.459293  1.456290  1.461154  1.460453           28   \n",
       "2024-01-04 22:03:00  1.459293  1.452863  1.449730  1.450172           27   \n",
       "2024-01-04 22:04:00  1.450153  1.448293  1.449730  1.443317           26   \n",
       "\n",
       "                     spread  real_volume  \n",
       "time                                      \n",
       "2024-01-04 22:00:00       0            0  \n",
       "2024-01-04 22:01:00       0            0  \n",
       "2024-01-04 22:02:00       0            0  \n",
       "2024-01-04 22:03:00       0            0  \n",
       "2024-01-04 22:04:00       0            0  "
      ]
     },
     "execution_count": 42,
     "metadata": {},
     "output_type": "execute_result"
    }
   ],
   "source": [
    "\n",
    "data.head()"
   ]
  },
  {
   "cell_type": "markdown",
   "metadata": {},
   "source": [
    "<h3><strong>2.2.2 Creating training data<strong></h3>\n",
    "\n",
    "<h4><strong>Preparing Lagged Data</strong></h4>\n",
    "\n",
    "- __`df`:__ This is a DataFrame containing the original data.\n",
    "  \n",
    "- __`lag_steps:`__ This is an integer representing the number of time steps to lag the time unit by. It determines how many previous values of the target variable ('close') to include in the lagged DataFrame.\n",
    "  \n",
    "- __`lagged_df:`__ This is a new DataFrame that will store the lagged data.\n",
    "  \n",
    "- __`pd.DataFrame(index=df.index)`:__ This creates a new DataFrame with the same index as the original DataFrame df. The index represents the date and time of each data point.\n",
    "  \n",
    "- __`lagged_df['DateTime'] = df.index:`__ This creates a new column in the lagged_df DataFrame called 'DateTime', and it copies the index of the original DataFrame df. This column will store the date and time information.\n",
    "  \n",
    "- __`lagged_df['ActualValue'] = df['close']:`__ This creates a new column in the lagged_df DataFrame called 'ActualValue', and it copies the values from the 'close' column of the original DataFrame df. This column will store the actual values of the target variable.\n",
    "  \n",
    "- __`Loop:`__ This loop iterates from 1 to lag_steps (inclusive). For each iteration:\n",
    "    - __`lagged_df[f'PrevValue_{i}'] = df['close'].shift(i):`__ This creates a new column in the lagged_df DataFrame for each lagged value. The column name includes the prefix 'PrevValue_' followed by the lag index i. It shifts the values of the 'close' column of the original DataFrame df upwards by i time steps and stores them in the new column. This effectively creates lagged features for the target variable.\n",
    "  \n",
    "- __`return lagged_df.dropna():`__ This returns the lagged DataFrame after dropping any rows with missing values (NaN). Since creating lagged features involves shifting the data, the first few rows will contain NaN values where there is no data available for the lagged features.\n"
   ]
  },
  {
   "cell_type": "code",
   "execution_count": 45,
   "metadata": {},
   "outputs": [
    {
     "data": {
      "text/html": [
       "<div>\n",
       "<style scoped>\n",
       "    .dataframe tbody tr th:only-of-type {\n",
       "        vertical-align: middle;\n",
       "    }\n",
       "\n",
       "    .dataframe tbody tr th {\n",
       "        vertical-align: top;\n",
       "    }\n",
       "\n",
       "    .dataframe thead th {\n",
       "        text-align: right;\n",
       "    }\n",
       "</style>\n",
       "<table border=\"1\" class=\"dataframe\">\n",
       "  <thead>\n",
       "    <tr style=\"text-align: right;\">\n",
       "      <th></th>\n",
       "      <th>DateTime</th>\n",
       "      <th>ActualValue</th>\n",
       "      <th>PrevValue_1</th>\n",
       "      <th>PrevValue_2</th>\n",
       "      <th>PrevValue_3</th>\n",
       "      <th>PrevValue_4</th>\n",
       "      <th>PrevValue_5</th>\n",
       "      <th>PrevValue_6</th>\n",
       "      <th>PrevValue_7</th>\n",
       "      <th>PrevValue_8</th>\n",
       "      <th>PrevValue_9</th>\n",
       "      <th>PrevValue_10</th>\n",
       "    </tr>\n",
       "    <tr>\n",
       "      <th>time</th>\n",
       "      <th></th>\n",
       "      <th></th>\n",
       "      <th></th>\n",
       "      <th></th>\n",
       "      <th></th>\n",
       "      <th></th>\n",
       "      <th></th>\n",
       "      <th></th>\n",
       "      <th></th>\n",
       "      <th></th>\n",
       "      <th></th>\n",
       "      <th></th>\n",
       "    </tr>\n",
       "  </thead>\n",
       "  <tbody>\n",
       "    <tr>\n",
       "      <th>2024-01-04 22:10:00</th>\n",
       "      <td>2024-01-04 22:10:00</td>\n",
       "      <td>1.455884</td>\n",
       "      <td>1.450172</td>\n",
       "      <td>1.444459</td>\n",
       "      <td>1.442175</td>\n",
       "      <td>1.450172</td>\n",
       "      <td>1.449029</td>\n",
       "      <td>1.443317</td>\n",
       "      <td>1.450172</td>\n",
       "      <td>1.460453</td>\n",
       "      <td>1.459311</td>\n",
       "      <td>1.449029</td>\n",
       "    </tr>\n",
       "    <tr>\n",
       "      <th>2024-01-04 22:11:00</th>\n",
       "      <td>2024-01-04 22:11:00</td>\n",
       "      <td>1.453599</td>\n",
       "      <td>1.455884</td>\n",
       "      <td>1.450172</td>\n",
       "      <td>1.444459</td>\n",
       "      <td>1.442175</td>\n",
       "      <td>1.450172</td>\n",
       "      <td>1.449029</td>\n",
       "      <td>1.443317</td>\n",
       "      <td>1.450172</td>\n",
       "      <td>1.460453</td>\n",
       "      <td>1.459311</td>\n",
       "    </tr>\n",
       "    <tr>\n",
       "      <th>2024-01-04 22:12:00</th>\n",
       "      <td>2024-01-04 22:12:00</td>\n",
       "      <td>1.467308</td>\n",
       "      <td>1.453599</td>\n",
       "      <td>1.455884</td>\n",
       "      <td>1.450172</td>\n",
       "      <td>1.444459</td>\n",
       "      <td>1.442175</td>\n",
       "      <td>1.450172</td>\n",
       "      <td>1.449029</td>\n",
       "      <td>1.443317</td>\n",
       "      <td>1.450172</td>\n",
       "      <td>1.460453</td>\n",
       "    </tr>\n",
       "    <tr>\n",
       "      <th>2024-01-04 22:13:00</th>\n",
       "      <td>2024-01-04 22:13:00</td>\n",
       "      <td>1.467308</td>\n",
       "      <td>1.467308</td>\n",
       "      <td>1.453599</td>\n",
       "      <td>1.455884</td>\n",
       "      <td>1.450172</td>\n",
       "      <td>1.444459</td>\n",
       "      <td>1.442175</td>\n",
       "      <td>1.450172</td>\n",
       "      <td>1.449029</td>\n",
       "      <td>1.443317</td>\n",
       "      <td>1.450172</td>\n",
       "    </tr>\n",
       "    <tr>\n",
       "      <th>2024-01-04 22:14:00</th>\n",
       "      <td>2024-01-04 22:14:00</td>\n",
       "      <td>1.455884</td>\n",
       "      <td>1.467308</td>\n",
       "      <td>1.467308</td>\n",
       "      <td>1.453599</td>\n",
       "      <td>1.455884</td>\n",
       "      <td>1.450172</td>\n",
       "      <td>1.444459</td>\n",
       "      <td>1.442175</td>\n",
       "      <td>1.450172</td>\n",
       "      <td>1.449029</td>\n",
       "      <td>1.443317</td>\n",
       "    </tr>\n",
       "  </tbody>\n",
       "</table>\n",
       "</div>"
      ],
      "text/plain": [
       "                               DateTime  ActualValue  PrevValue_1  \\\n",
       "time                                                                \n",
       "2024-01-04 22:10:00 2024-01-04 22:10:00     1.455884     1.450172   \n",
       "2024-01-04 22:11:00 2024-01-04 22:11:00     1.453599     1.455884   \n",
       "2024-01-04 22:12:00 2024-01-04 22:12:00     1.467308     1.453599   \n",
       "2024-01-04 22:13:00 2024-01-04 22:13:00     1.467308     1.467308   \n",
       "2024-01-04 22:14:00 2024-01-04 22:14:00     1.455884     1.467308   \n",
       "\n",
       "                     PrevValue_2  PrevValue_3  PrevValue_4  PrevValue_5  \\\n",
       "time                                                                      \n",
       "2024-01-04 22:10:00     1.444459     1.442175     1.450172     1.449029   \n",
       "2024-01-04 22:11:00     1.450172     1.444459     1.442175     1.450172   \n",
       "2024-01-04 22:12:00     1.455884     1.450172     1.444459     1.442175   \n",
       "2024-01-04 22:13:00     1.453599     1.455884     1.450172     1.444459   \n",
       "2024-01-04 22:14:00     1.467308     1.453599     1.455884     1.450172   \n",
       "\n",
       "                     PrevValue_6  PrevValue_7  PrevValue_8  PrevValue_9  \\\n",
       "time                                                                      \n",
       "2024-01-04 22:10:00     1.443317     1.450172     1.460453     1.459311   \n",
       "2024-01-04 22:11:00     1.449029     1.443317     1.450172     1.460453   \n",
       "2024-01-04 22:12:00     1.450172     1.449029     1.443317     1.450172   \n",
       "2024-01-04 22:13:00     1.442175     1.450172     1.449029     1.443317   \n",
       "2024-01-04 22:14:00     1.444459     1.442175     1.450172     1.449029   \n",
       "\n",
       "                     PrevValue_10  \n",
       "time                               \n",
       "2024-01-04 22:10:00      1.449029  \n",
       "2024-01-04 22:11:00      1.459311  \n",
       "2024-01-04 22:12:00      1.460453  \n",
       "2024-01-04 22:13:00      1.450172  \n",
       "2024-01-04 22:14:00      1.443317  "
      ]
     },
     "execution_count": 45,
     "metadata": {},
     "output_type": "execute_result"
    }
   ],
   "source": [
    "go_back_by = 10\n",
    "\n",
    "def create_lagged_dataframe(df, lag_steps=go_back_by):\n",
    "    lagged_df = pd.DataFrame(index=df.index)\n",
    "    lagged_df['DateTime'] = df.index\n",
    "    lagged_df['ActualValue'] = df['close']\n",
    "\n",
    "    #Creating lagged columns for previous values\n",
    "    for i in range(1, lag_steps + 1):\n",
    "        lagged_df[f'PrevValue_{i}'] = df['close'].shift(i)\n",
    "\n",
    "    return lagged_df.dropna()\n",
    "\n",
    "lagged_df = create_lagged_dataframe(data)\n",
    "lagged_df.head()\n"
   ]
  },
  {
   "cell_type": "code",
   "execution_count": 47,
   "metadata": {},
   "outputs": [
    {
     "data": {
      "text/plain": [
       "Index(['DateTime', 'ActualValue', 'PrevValue_1', 'PrevValue_2', 'PrevValue_3',\n",
       "       'PrevValue_4', 'PrevValue_5', 'PrevValue_6', 'PrevValue_7',\n",
       "       'PrevValue_8', 'PrevValue_9', 'PrevValue_10'],\n",
       "      dtype='object')"
      ]
     },
     "execution_count": 47,
     "metadata": {},
     "output_type": "execute_result"
    }
   ],
   "source": [
    "lagged_df.columns\n"
   ]
  },
  {
   "cell_type": "markdown",
   "metadata": {},
   "source": [
    "<h4><strong>Prepare LSTM Data</strong></h4>\n",
    "\n",
    "- __`lagged_df:`__ This is a DataFrame containing the lagged data.\n",
    "\n",
    "- __`dates:`__ This variable stores the date and time information from the lagged DataFrame.\n",
    "\n",
    "- __`X:`__ This variable stores the input features for the LSTM model. It consists of all columns from the lagged DataFrame except 'DateTime' and 'ActualValue', converted to float32 data type.\n",
    "\n",
    "- __`y:`__ This variable stores the target variable for the LSTM model, which is the 'ActualValue' column from the lagged DataFrame, converted to float32 data type.\n",
    "\n",
    "- __`return:`__ The function returns three variables: dates, X, and y, containing the respective data.\n",
    "\n"
   ]
  },
  {
   "cell_type": "code",
   "execution_count": 48,
   "metadata": {},
   "outputs": [
    {
     "name": "stdout",
     "output_type": "stream",
     "text": [
      "Dates: (119869,)\n",
      "X shape: (119869, 10)\n",
      "y shape: (119869,)\n"
     ]
    }
   ],
   "source": [
    "def prepare_lstm_data(lagged_df):\n",
    "    dates = lagged_df['DateTime']\n",
    "    X = lagged_df.drop(columns=['DateTime', 'ActualValue']).astype(np.float32)\n",
    "    y = lagged_df['ActualValue'].astype(np.float32)\n",
    "\n",
    "    return dates, X.values, y.values\n",
    "\n",
    "\n",
    "dates, X, y = prepare_lstm_data(lagged_df)\n",
    "print(\"Dates:\", dates.shape)\n",
    "print(\"X shape:\", X.shape)\n",
    "print(\"y shape:\", y.shape)\n"
   ]
  },
  {
   "cell_type": "markdown",
   "metadata": {},
   "source": [
    "<h3><strong>2.2.3 <u>Spliting:</u> Training, Validation, Testing Data<strong></h3>"
   ]
  },
  {
   "cell_type": "markdown",
   "metadata": {},
   "source": [
    "<h4><strong>Split Data</strong></h4>\n",
    "\n",
    "- __`dates:`__ This variable contains the date and time information.\n",
    "\n",
    "- __`X:`__ This variable contains the input features for the model.\n",
    "\n",
    "- __`y:`__ This variable contains the target variable for the model.\n",
    "\n",
    "- __`x_train:`__ This variable contains the input features for the training set.\n",
    "\n",
    "- __`y_train:`__ This variable contains the target variable for the training set.\n",
    "\n",
    "- __`x_val:`__ This variable contains the input features for the validation set.\n",
    "\n",
    "- __`y_val:`__ This variable contains the target variable for the validation set.\n",
    "\n",
    "- __`x_test:`__ This variable contains the input features for the test set.\n",
    "\n",
    "- __`y_test:`__ This variable contains the target variable for the test set.\n",
    "\n",
    "- __`train_data:`__ This tuple contains the input features and target variable for the training set.\n",
    "\n",
    "- __`val_data:`__ This tuple contains the input features and target variable for the validation set.\n",
    "\n",
    "- __`test_data:`__ This tuple contains the input features and target variable for the test set.\n",
    "\n",
    "- __`return:`__ The function returns three tuples: train_data, val_data, and test_data, each containing the respective input features and target variable for the corresponding set.\n",
    "\n"
   ]
  },
  {
   "cell_type": "code",
   "execution_count": 49,
   "metadata": {},
   "outputs": [],
   "source": [
    "def split_data(dates, X, y):\n",
    "    x_train, x_temp, y_train, y_temp = train_test_split(X, y, test_size=0.4, random_state=42)\n",
    "    x_val, x_test, y_val, y_test = train_test_split(x_temp, y_temp, test_size=0.5, random_state=42)\n",
    "    \n",
    "    return (x_train, y_train), (x_val, y_val), (x_test, y_test)\n",
    "\n",
    "(train_data, val_data, test_data) = split_data(dates, X, y)\n",
    "(x_train, y_train), (x_val, y_val), (x_test, y_test) = train_data, val_data, test_data\n"
   ]
  },
  {
   "cell_type": "code",
   "execution_count": 50,
   "metadata": {},
   "outputs": [
    {
     "name": "stdout",
     "output_type": "stream",
     "text": [
      "Training set: 71921 instances ( 59.99966630238009 %)\n",
      "Validation set: 23974 instances ( 20.00016684880995 %)\n",
      "Testing set: 23974 instances ( 20.00016684880995 %)\n"
     ]
    }
   ],
   "source": [
    "# OPTIONAL: Calculating the total number of instances\n",
    "total_instances = len(x_train) + len(x_val) + len(x_test)\n",
    "\n",
    "# Each set has\n",
    "print(\"Training set:\", len(x_train), \"instances (\", len(x_train) / total_instances * 100, \"%)\")\n",
    "print(\"Validation set:\", len(x_val), \"instances (\", len(x_val) / total_instances * 100, \"%)\")\n",
    "print(\"Testing set:\", len(x_test), \"instances (\", len(x_test) / total_instances * 100, \"%)\")\n"
   ]
  },
  {
   "cell_type": "markdown",
   "metadata": {},
   "source": [
    "\n",
    "# __3. Training the model__"
   ]
  },
  {
   "cell_type": "code",
   "execution_count": 51,
   "metadata": {},
   "outputs": [],
   "source": [
    "model = Sequential([layers.Input((go_back_by,1)),\n",
    "                    layers.LSTM(30),\n",
    "                    layers.Dense(12, activation= 'relu'),\n",
    "                    layers.Dense(12, activation= 'relu'),\n",
    "                    layers.Dense(1)]) \n",
    "\n",
    "model.compile(loss = 'mse', \n",
    "              optimizer =  Adam(learning_rate=0.001),\n",
    "              metrics = ['mean_absolute_error']\n",
    "              )"
   ]
  },
  {
   "cell_type": "code",
   "execution_count": 52,
   "metadata": {},
   "outputs": [
    {
     "name": "stdout",
     "output_type": "stream",
     "text": [
      "Epoch 1/30\n",
      "\u001b[1m2248/2248\u001b[0m \u001b[32m━━━━━━━━━━━━━━━━━━━━\u001b[0m\u001b[37m\u001b[0m \u001b[1m17s\u001b[0m 6ms/step - loss: 0.1151 - mean_absolute_error: 0.1234 - val_loss: 6.2972e-04 - val_mean_absolute_error: 0.0162\n",
      "Epoch 2/30\n",
      "\u001b[1m2248/2248\u001b[0m \u001b[32m━━━━━━━━━━━━━━━━━━━━\u001b[0m\u001b[37m\u001b[0m \u001b[1m13s\u001b[0m 6ms/step - loss: 7.5125e-04 - mean_absolute_error: 0.0183 - val_loss: 5.0852e-04 - val_mean_absolute_error: 0.0142\n",
      "Epoch 3/30\n",
      "\u001b[1m2248/2248\u001b[0m \u001b[32m━━━━━━━━━━━━━━━━━━━━\u001b[0m\u001b[37m\u001b[0m \u001b[1m13s\u001b[0m 6ms/step - loss: 6.5707e-04 - mean_absolute_error: 0.0172 - val_loss: 7.1524e-04 - val_mean_absolute_error: 0.0192\n",
      "Epoch 4/30\n",
      "\u001b[1m2248/2248\u001b[0m \u001b[32m━━━━━━━━━━━━━━━━━━━━\u001b[0m\u001b[37m\u001b[0m \u001b[1m13s\u001b[0m 6ms/step - loss: 5.8442e-04 - mean_absolute_error: 0.0166 - val_loss: 8.7828e-04 - val_mean_absolute_error: 0.0237\n",
      "Epoch 5/30\n",
      "\u001b[1m2248/2248\u001b[0m \u001b[32m━━━━━━━━━━━━━━━━━━━━\u001b[0m\u001b[37m\u001b[0m \u001b[1m13s\u001b[0m 6ms/step - loss: 5.2994e-04 - mean_absolute_error: 0.0159 - val_loss: 4.0806e-04 - val_mean_absolute_error: 0.0136\n",
      "Epoch 6/30\n",
      "\u001b[1m2248/2248\u001b[0m \u001b[32m━━━━━━━━━━━━━━━━━━━━\u001b[0m\u001b[37m\u001b[0m \u001b[1m13s\u001b[0m 6ms/step - loss: 5.0586e-04 - mean_absolute_error: 0.0154 - val_loss: 5.7601e-04 - val_mean_absolute_error: 0.0184\n",
      "Epoch 7/30\n",
      "\u001b[1m2248/2248\u001b[0m \u001b[32m━━━━━━━━━━━━━━━━━━━━\u001b[0m\u001b[37m\u001b[0m \u001b[1m13s\u001b[0m 6ms/step - loss: 4.5558e-04 - mean_absolute_error: 0.0147 - val_loss: 3.5702e-04 - val_mean_absolute_error: 0.0125\n",
      "Epoch 8/30\n",
      "\u001b[1m2248/2248\u001b[0m \u001b[32m━━━━━━━━━━━━━━━━━━━━\u001b[0m\u001b[37m\u001b[0m \u001b[1m13s\u001b[0m 6ms/step - loss: 4.4560e-04 - mean_absolute_error: 0.0146 - val_loss: 4.1417e-04 - val_mean_absolute_error: 0.0151\n",
      "Epoch 9/30\n",
      "\u001b[1m2248/2248\u001b[0m \u001b[32m━━━━━━━━━━━━━━━━━━━━\u001b[0m\u001b[37m\u001b[0m \u001b[1m14s\u001b[0m 6ms/step - loss: 4.5631e-04 - mean_absolute_error: 0.0147 - val_loss: 4.8059e-04 - val_mean_absolute_error: 0.0166\n",
      "Epoch 10/30\n",
      "\u001b[1m2248/2248\u001b[0m \u001b[32m━━━━━━━━━━━━━━━━━━━━\u001b[0m\u001b[37m\u001b[0m \u001b[1m13s\u001b[0m 6ms/step - loss: 4.2241e-04 - mean_absolute_error: 0.0142 - val_loss: 3.4890e-04 - val_mean_absolute_error: 0.0130\n",
      "Epoch 11/30\n",
      "\u001b[1m2248/2248\u001b[0m \u001b[32m━━━━━━━━━━━━━━━━━━━━\u001b[0m\u001b[37m\u001b[0m \u001b[1m13s\u001b[0m 6ms/step - loss: 3.9635e-04 - mean_absolute_error: 0.0138 - val_loss: 2.8634e-04 - val_mean_absolute_error: 0.0109\n",
      "Epoch 12/30\n",
      "\u001b[1m2248/2248\u001b[0m \u001b[32m━━━━━━━━━━━━━━━━━━━━\u001b[0m\u001b[37m\u001b[0m \u001b[1m13s\u001b[0m 6ms/step - loss: 3.9294e-04 - mean_absolute_error: 0.0137 - val_loss: 3.6737e-04 - val_mean_absolute_error: 0.0136\n",
      "Epoch 13/30\n",
      "\u001b[1m2248/2248\u001b[0m \u001b[32m━━━━━━━━━━━━━━━━━━━━\u001b[0m\u001b[37m\u001b[0m \u001b[1m14s\u001b[0m 6ms/step - loss: 4.0603e-04 - mean_absolute_error: 0.0138 - val_loss: 3.3945e-04 - val_mean_absolute_error: 0.0129\n",
      "Epoch 14/30\n",
      "\u001b[1m2248/2248\u001b[0m \u001b[32m━━━━━━━━━━━━━━━━━━━━\u001b[0m\u001b[37m\u001b[0m \u001b[1m13s\u001b[0m 6ms/step - loss: 3.9863e-04 - mean_absolute_error: 0.0137 - val_loss: 3.3892e-04 - val_mean_absolute_error: 0.0125\n",
      "Epoch 15/30\n",
      "\u001b[1m2248/2248\u001b[0m \u001b[32m━━━━━━━━━━━━━━━━━━━━\u001b[0m\u001b[37m\u001b[0m \u001b[1m13s\u001b[0m 6ms/step - loss: 3.6418e-04 - mean_absolute_error: 0.0133 - val_loss: 6.4869e-04 - val_mean_absolute_error: 0.0179\n",
      "Epoch 16/30\n",
      "\u001b[1m2248/2248\u001b[0m \u001b[32m━━━━━━━━━━━━━━━━━━━━\u001b[0m\u001b[37m\u001b[0m \u001b[1m13s\u001b[0m 6ms/step - loss: 3.4524e-04 - mean_absolute_error: 0.0129 - val_loss: 3.7846e-04 - val_mean_absolute_error: 0.0144\n",
      "Epoch 17/30\n",
      "\u001b[1m2248/2248\u001b[0m \u001b[32m━━━━━━━━━━━━━━━━━━━━\u001b[0m\u001b[37m\u001b[0m \u001b[1m14s\u001b[0m 6ms/step - loss: 3.7984e-04 - mean_absolute_error: 0.0134 - val_loss: 3.0696e-04 - val_mean_absolute_error: 0.0123\n",
      "Epoch 18/30\n",
      "\u001b[1m2248/2248\u001b[0m \u001b[32m━━━━━━━━━━━━━━━━━━━━\u001b[0m\u001b[37m\u001b[0m \u001b[1m18s\u001b[0m 8ms/step - loss: 3.4249e-04 - mean_absolute_error: 0.0129 - val_loss: 3.1270e-04 - val_mean_absolute_error: 0.0121\n",
      "Epoch 19/30\n",
      "\u001b[1m2248/2248\u001b[0m \u001b[32m━━━━━━━━━━━━━━━━━━━━\u001b[0m\u001b[37m\u001b[0m \u001b[1m18s\u001b[0m 8ms/step - loss: 3.5000e-04 - mean_absolute_error: 0.0129 - val_loss: 3.4371e-04 - val_mean_absolute_error: 0.0131\n",
      "Epoch 20/30\n",
      "\u001b[1m2248/2248\u001b[0m \u001b[32m━━━━━━━━━━━━━━━━━━━━\u001b[0m\u001b[37m\u001b[0m \u001b[1m17s\u001b[0m 8ms/step - loss: 3.2448e-04 - mean_absolute_error: 0.0125 - val_loss: 3.5655e-04 - val_mean_absolute_error: 0.0134\n",
      "Epoch 21/30\n",
      "\u001b[1m2248/2248\u001b[0m \u001b[32m━━━━━━━━━━━━━━━━━━━━\u001b[0m\u001b[37m\u001b[0m \u001b[1m18s\u001b[0m 8ms/step - loss: 3.1703e-04 - mean_absolute_error: 0.0123 - val_loss: 3.0708e-04 - val_mean_absolute_error: 0.0125\n",
      "Epoch 22/30\n",
      "\u001b[1m2248/2248\u001b[0m \u001b[32m━━━━━━━━━━━━━━━━━━━━\u001b[0m\u001b[37m\u001b[0m \u001b[1m18s\u001b[0m 8ms/step - loss: 3.0359e-04 - mean_absolute_error: 0.0120 - val_loss: 2.7732e-04 - val_mean_absolute_error: 0.0112\n",
      "Epoch 23/30\n",
      "\u001b[1m2248/2248\u001b[0m \u001b[32m━━━━━━━━━━━━━━━━━━━━\u001b[0m\u001b[37m\u001b[0m \u001b[1m18s\u001b[0m 8ms/step - loss: 3.0559e-04 - mean_absolute_error: 0.0120 - val_loss: 2.2046e-04 - val_mean_absolute_error: 0.0095\n",
      "Epoch 24/30\n",
      "\u001b[1m2248/2248\u001b[0m \u001b[32m━━━━━━━━━━━━━━━━━━━━\u001b[0m\u001b[37m\u001b[0m \u001b[1m18s\u001b[0m 8ms/step - loss: 3.1654e-04 - mean_absolute_error: 0.0121 - val_loss: 2.3700e-04 - val_mean_absolute_error: 0.0101\n",
      "Epoch 25/30\n",
      "\u001b[1m2248/2248\u001b[0m \u001b[32m━━━━━━━━━━━━━━━━━━━━\u001b[0m\u001b[37m\u001b[0m \u001b[1m18s\u001b[0m 8ms/step - loss: 2.9648e-04 - mean_absolute_error: 0.0120 - val_loss: 2.2528e-04 - val_mean_absolute_error: 0.0097\n",
      "Epoch 26/30\n",
      "\u001b[1m2248/2248\u001b[0m \u001b[32m━━━━━━━━━━━━━━━━━━━━\u001b[0m\u001b[37m\u001b[0m \u001b[1m18s\u001b[0m 8ms/step - loss: 3.0166e-04 - mean_absolute_error: 0.0116 - val_loss: 4.0368e-04 - val_mean_absolute_error: 0.0150\n",
      "Epoch 27/30\n",
      "\u001b[1m2248/2248\u001b[0m \u001b[32m━━━━━━━━━━━━━━━━━━━━\u001b[0m\u001b[37m\u001b[0m \u001b[1m17s\u001b[0m 8ms/step - loss: 3.0334e-04 - mean_absolute_error: 0.0121 - val_loss: 2.2653e-04 - val_mean_absolute_error: 0.0099\n",
      "Epoch 28/30\n",
      "\u001b[1m2248/2248\u001b[0m \u001b[32m━━━━━━━━━━━━━━━━━━━━\u001b[0m\u001b[37m\u001b[0m \u001b[1m17s\u001b[0m 8ms/step - loss: 3.0506e-04 - mean_absolute_error: 0.0118 - val_loss: 2.2219e-04 - val_mean_absolute_error: 0.0098\n",
      "Epoch 29/30\n",
      "\u001b[1m2248/2248\u001b[0m \u001b[32m━━━━━━━━━━━━━━━━━━━━\u001b[0m\u001b[37m\u001b[0m \u001b[1m18s\u001b[0m 8ms/step - loss: 2.6442e-04 - mean_absolute_error: 0.0112 - val_loss: 2.4971e-04 - val_mean_absolute_error: 0.0109\n",
      "Epoch 30/30\n",
      "\u001b[1m2248/2248\u001b[0m \u001b[32m━━━━━━━━━━━━━━━━━━━━\u001b[0m\u001b[37m\u001b[0m \u001b[1m18s\u001b[0m 8ms/step - loss: 2.8729e-04 - mean_absolute_error: 0.0116 - val_loss: 2.6648e-04 - val_mean_absolute_error: 0.0116\n"
     ]
    },
    {
     "data": {
      "image/png": "[encoded data removed]",
      "text/plain": [
       "<Figure size 1000x600 with 1 Axes>"
      ]
     },
     "metadata": {},
     "output_type": "display_data"
    }
   ],
   "source": [
    "\n",
    "history = model.fit(x_train, y_train, epochs=30, validation_data=(x_val, y_val), verbose=1)\n",
    "\n",
    "# history = model.fit(x_train, y_train, epochs=30, verbose=1)\n",
    "\n"
   ]
  },
  {
   "cell_type": "markdown",
   "metadata": {},
   "source": [
    "# __Model Evaluation__"
   ]
  },
  {
   "cell_type": "code",
   "execution_count": 59,
   "metadata": {},
   "outputs": [
    {
     "name": "stdout",
     "output_type": "stream",
     "text": [
      "\u001b[1m750/750\u001b[0m \u001b[32m━━━━━━━━━━━━━━━━━━━━\u001b[0m\u001b[37m\u001b[0m \u001b[1m2s\u001b[0m 3ms/step\n",
      "Test Loss: 0.00026392051950097084\n",
      "Mean Absolute Error: 0.011699317023158073\n",
      "Root Mean Squared Error: 0.01624563\n",
      "R-squared: 0.9997349874811062\n"
     ]
    }
   ],
   "source": [
    "\n",
    "loss, mae = model.evaluate(x_test, y_test, verbose=0)\n",
    "\n",
    "#Evaluating on the test data\n",
    "predictions = model.predict(x_test)\n",
    "rmse = np.sqrt(mean_squared_error(y_test, predictions))\n",
    "r2 = r2_score(y_test, predictions)\n",
    "\n",
    "print('\\nTest Loss:', loss)\n",
    "print('\\nMean Absolute Error:', mae)\n",
    "print('\\nRoot Mean Squared Error:', rmse)\n",
    "print('\\nR-squared:', r2)"
   ]
  },
  {
   "cell_type": "code",
   "execution_count": 53,
   "metadata": {},
   "outputs": [
    {
     "data": {
      "image/png": "[encoded data removed]",
      "text/plain": [
       "<Figure size 1000x600 with 1 Axes>"
      ]
     },
     "metadata": {},
     "output_type": "display_data"
    }
   ],
   "source": [
    "plt.figure(figsize=(10, 6))\n",
    "plt.plot(history.history['loss'], label='Training Loss')\n",
    "plt.plot(history.history['val_loss'], label='Validation Loss')\n",
    "plt.title('Training and Validation Loss')\n",
    "plt.xlabel('Epoch')\n",
    "plt.ylabel('Loss')\n",
    "plt.legend()\n",
    "plt.show()\n"
   ]
  },
  {
   "cell_type": "code",
   "execution_count": 57,
   "metadata": {},
   "outputs": [
    {
     "data": {
      "image/png": "[encoded data removed]",
      "text/plain": [
       "<Figure size 1000x600 with 1 Axes>"
      ]
     },
     "metadata": {},
     "output_type": "display_data"
    }
   ],
   "source": [
    "# Loss curves for training and validation\n",
    "plt.figure(figsize=(10, 6))\n",
    "plt.plot(history.history['loss'], label='Training Loss')\n",
    "plt.plot(history.history['val_loss'], label='Validation Loss')\n",
    "plt.title('Training and Validation Loss')\n",
    "plt.xlabel('Epoch')\n",
    "plt.ylabel('Loss')\n",
    "plt.ylim(0, 0.0015)  # Set y-axis limits\n",
    "plt.legend()\n",
    "plt.show()"
   ]
  }
 ],
 "metadata": {
  "kernelspec": {
   "display_name": "Python 3",
   "language": "python",
   "name": "python3"
  },
  "language_info": {
   "codemirror_mode": {
    "name": "ipython",
    "version": 3
   },
   "file_extension": ".py",
   "mimetype": "text/x-python",
   "name": "python",
   "nbconvert_exporter": "python",
   "pygments_lexer": "ipython3",
   "version": "3.12.2"
  }
 },
 "nbformat": 4,
 "nbformat_minor": 2
}
