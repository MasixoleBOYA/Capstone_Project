{
 "cells": [
  {
   "cell_type": "markdown",
   "metadata": {},
   "source": [
    "***\n",
    "\n",
    "# <center>__Utilizing Machine Learning__</center>\n",
    "# <center>__for High Frequency Algorithmic Trading__</center>\n",
    "\n",
    "\n",
    "##### <center>__Name:__ Masixole Boya</center>\n",
    "##### <center>__Student number:__ 1869204</center>\n",
    "\n",
    "***\n",
    "### __Key Objectives__ \n",
    "- Get a site that can supply the data\n",
    "  - Retrieve the data from this site, import into my file\n",
    "  - Get used to the format the data is retrieved in (*.i.e.* in JSON, in this case)\n",
    "- Get the model training on this data\n",
    "  - Train the model in the format of retreival or format it into a format suitable for training\n",
    "\n",
    "# __Table of Contents__\n",
    "\n",
    "- [0. Imports](#0-imports)\n",
    "- [1. Requesting the data](#1-requesting-the-data)\n",
    "  - [1.1 API Parameters](#11-api-parameters)\n",
    "- [2. Analysis & Processing](#2-analysis--processing)\n",
    "  - [2.1 Basic Analysis](#21-basic-analysis)\n",
    "  - [2.2 Preprocessing](#22-preprocessing)\n",
    "    - [2.2.1 Scaling](#221-scaling)\n",
    "    - [2.2.2 Creating training data](#222-creating-training-data)\n",
    "    - [2.2.3 Splitting: Training, Validation, Testing Data](#223-splitting-training-validation-testing-data)\n",
    "- [3. Training the model](#224-training-the-model)\n",
    "- [4. Model Evaluation](#3-model-evaluation)\n"
   ]
  },
  {
   "cell_type": "markdown",
   "metadata": {},
   "source": [
    "# __0. Imports__"
   ]
  },
  {
   "cell_type": "code",
   "execution_count": 1,
   "metadata": {},
   "outputs": [],
   "source": [
    "from secret_key import Secret\n",
    "import pandas as pd\n",
    "import requests\n",
    "import matplotlib.pyplot as plt\n",
    "import mplfinance as mpf\n",
    "from sklearn.preprocessing import StandardScaler\n",
    "from sklearn.model_selection import train_test_split\n",
    "from sklearn.model_selection import train_test_split\n",
    "from sklearn.metrics import mean_absolute_error, mean_squared_error\n",
    "import numpy as np\n",
    "from keras.models import Sequential\n",
    "from keras.layers import Dense, LSTM\n",
    "from tensorflow.keras import layers\n",
    "from tensorflow.keras.optimizers import Adam\n",
    "from datetime import datetime\n",
    "import pytz"
   ]
  },
  {
   "cell_type": "markdown",
   "metadata": {},
   "source": [
    "<h1>\n",
    "    <b>1. Requesting the data </b> : Tiingo API\n",
    "</h1>\n",
    "<h4><i> Here I explain the 'parameters' that the <b>api url</b> requires</i></h4>\n",
    "<h4>The `tiingo` API gives `intraday data` which seems to <b><i>delay by 10 mins</i></b> from real time, and top-of-book data. Here, I shall train with the intraday data, but I will still request the top-of-book to analyse how different it is. The smallest time unit for this API  is <b>1 minute<b/></h4>\n",
    "\n",
    "<h2>\n",
    "    <b>1.1 API Parameters</b>\n",
    "</h2>\n",
    "<ul>\n",
    "    <li>\n",
    "        <strong> Ticker</strong>\n",
    "        <ul>\n",
    "            <li><u>JSON FIELD:</u>\n",
    "            </li>\n",
    "            <li><u>DATA TYPE:</u>  string\n",
    "            </li>\n",
    "            <li><u>REQUIRED:</u>\n",
    "            </li>\n",
    "        </ul>\n",
    "    </li>\n",
    "    <li> \n",
    "        <strong>Start Date</strong>\n",
    "        <ul>\n",
    "            <li><u>JSON FIELD:</u>\n",
    "            </li>\n",
    "            <li>DATA TYPE: date (YYYY-MM-DD)\n",
    "            </li>\n",
    "            <li>REQUIRED:\n",
    "            </li>\n",
    "        </ul>\n",
    "    </li>\n",
    "    <li>\n",
    "        <strong>End Date</strong>\n",
    "        <ul>\n",
    "            <li>JSON FIELD:\n",
    "            </li>\n",
    "            <li>DATA TYPE: date (YYYY-MM-DD)\n",
    "            </li>\n",
    "            <li>REQUIRED:\n",
    "            </li>\n",
    "        </ul>\n",
    "    </li>\n",
    "    <li>\n",
    "        <strong> Resample Freq</strong>\n",
    "        <ul>\n",
    "            <li>JSON FIELD:\n",
    "            </li>\n",
    "            <li>DATA TYPE: string (e.g. \"15min\" or \"4hour\". )\n",
    "            </li>\n",
    "            <li>REQUIRED:\n",
    "            </li>\n",
    "            <li>DEFAULT: 5min\n",
    "            </li>\n",
    "        </ul>\n",
    "    </li>\n",
    "    <li>\n",
    "        <strong>Response Format</strong>\n",
    "        <ul>\n",
    "            <li>JSON FIELD:\n",
    "            </li>\n",
    "            <li>DATA TYPE: string\n",
    "            </li>\n",
    "            <li>REQUIRED:\n",
    "            </li>\n",
    "            <li>DEFAULT: JSON\n",
    "            </li>\n",
    "        </ul>\n",
    "    </li>\n",
    "</ul>\n"
   ]
  },
  {
   "cell_type": "code",
   "execution_count": 2,
   "metadata": {},
   "outputs": [],
   "source": [
    "headers =  {\n",
    "    'Content-Type' : 'application/json'\n",
    "}"
   ]
  },
  {
   "cell_type": "code",
   "execution_count": 55,
   "metadata": {},
   "outputs": [],
   "source": [
    "ticker = 'EURUSD'\n",
    "start_date = '2024-01-01'\n",
    "end_date = '2024-04-07'\n",
    "resample_freq = '1min'"
   ]
  },
  {
   "cell_type": "markdown",
   "metadata": {},
   "source": [
    "\n",
    "<h2>\n",
    "    <b>1.2 Requesting Intraday Data</b>\n",
    "</h2>"
   ]
  },
  {
   "cell_type": "code",
   "execution_count": 56,
   "metadata": {},
   "outputs": [],
   "source": [
    "# requestResponse = requests.get(f\"https://api.tiingo.com/tiingo/fx/{ticker.lower()}/prices?startDate={start_date}&resampleFreq={resample_freq}&token=ebed6535a2acbe1a06b0057e8d1e8af61e5cefa7\", headers=headers)\n",
    "\n",
    "requestResponse = requests.get(f\"https://api.tiingo.com/tiingo/fx/\n",
    "                               {ticker.lower()}/prices?\n",
    "                               startDate={start_date}&\n",
    "                               endDate={end_date}&\n",
    "                               resampleFreq={resample_freq}&\n",
    "                               token=ebed6535a2acbe1a06b0057e8d1e8af61e5cefa7\", \n",
    "                               headers=headers)\n"
   ]
  },
  {
   "cell_type": "code",
   "execution_count": 57,
   "metadata": {},
   "outputs": [
    {
     "data": {
      "text/plain": [
       "{'date': '2024-01-01T21:01:00.000Z',\n",
       " 'ticker': 'eurusd',\n",
       " 'open': 1.104595,\n",
       " 'high': 1.104595,\n",
       " 'low': 1.104595,\n",
       " 'close': 1.104595}"
      ]
     },
     "execution_count": 57,
     "metadata": {},
     "output_type": "execute_result"
    }
   ],
   "source": [
    "data = requestResponse.json() \n",
    "data[1] "
   ]
  },
  {
   "cell_type": "code",
   "execution_count": 58,
   "metadata": {},
   "outputs": [
    {
     "name": "stdout",
     "output_type": "stream",
     "text": [
      "Last data item: 2024-01-07T22:40:00.000Z\n",
      "\n",
      "South African Time: 2024-03-18 23:10:00\n"
     ]
    }
   ],
   "source": [
    "\n",
    "print(f\"Last data item: {data[-1]['date']}\")\n",
    "\n",
    "utc_time_str = '2024-03-18T21:10:00.000Z'\n",
    "sa_time = datetime.strptime(utc_time_str, '%Y-%m-%dT%H:%M:%S.%fZ').replace(tzinfo=pytz.utc).astimezone(pytz.timezone('Africa/Johannesburg'))\n",
    "\n",
    "#South African time\n",
    "print(\"\\nSouth African Time:\", sa_time.strftime('%Y-%m-%d %H:%M:%S'))\n",
    "\n"
   ]
  },
  {
   "cell_type": "markdown",
   "metadata": {},
   "source": [
    "\n",
    "<h2>\n",
    "    <b>1.3 Requesting Top-Of-Book Data</b>\n",
    "</h2>\n",
    "\n",
    "#### This shows the latest price - at the exact time of running this cell"
   ]
  },
  {
   "cell_type": "code",
   "execution_count": 59,
   "metadata": {},
   "outputs": [
    {
     "data": {
      "text/plain": [
       "[{'ticker': 'eurusd',\n",
       "  'quoteTimestamp': '2024-04-07T21:13:39.649000+00:00',\n",
       "  'bidPrice': 1.08349,\n",
       "  'bidSize': 1000000.0,\n",
       "  'askPrice': 1.0841,\n",
       "  'askSize': 1000000.0,\n",
       "  'midPrice': 1.083795}]"
      ]
     },
     "execution_count": 59,
     "metadata": {},
     "output_type": "execute_result"
    }
   ],
   "source": [
    "requestResponseTOB = requests.get(f\"https://api.tiingo.com/tiingo/fx/top?tickers={ticker.lower()}&token=ebed6535a2acbe1a06b0057e8d1e8af61e5cefa7\", headers=headers)\n",
    "tob_data = requestResponseTOB.json()\n",
    "tob_data"
   ]
  },
  {
   "cell_type": "markdown",
   "metadata": {},
   "source": [
    "# __2. Analysis & Processing__"
   ]
  },
  {
   "cell_type": "markdown",
   "metadata": {},
   "source": [
    "<h2><strong>2.1 Basic Analysis</strong></h2>"
   ]
  },
  {
   "cell_type": "code",
   "execution_count": 60,
   "metadata": {},
   "outputs": [
    {
     "data": {
      "text/plain": [
       "(5757, 6)"
      ]
     },
     "execution_count": 60,
     "metadata": {},
     "output_type": "execute_result"
    }
   ],
   "source": [
    "df= pd.DataFrame(data)\n",
    "df.shape"
   ]
  },
  {
   "cell_type": "code",
   "execution_count": 61,
   "metadata": {},
   "outputs": [
    {
     "name": "stdout",
     "output_type": "stream",
     "text": [
      "<class 'pandas.core.frame.DataFrame'>\n",
      "RangeIndex: 5757 entries, 0 to 5756\n",
      "Data columns (total 6 columns):\n",
      " #   Column  Non-Null Count  Dtype  \n",
      "---  ------  --------------  -----  \n",
      " 0   date    5757 non-null   object \n",
      " 1   ticker  5757 non-null   object \n",
      " 2   open    5757 non-null   float64\n",
      " 3   high    5757 non-null   float64\n",
      " 4   low     5757 non-null   float64\n",
      " 5   close   5757 non-null   float64\n",
      "dtypes: float64(4), object(2)\n",
      "memory usage: 270.0+ KB\n"
     ]
    }
   ],
   "source": [
    "df.info()"
   ]
  },
  {
   "cell_type": "markdown",
   "metadata": {},
   "source": [
    "#### I use the `df.tail()` method to be able to see the __latest__ time the data ends at."
   ]
  },
  {
   "cell_type": "code",
   "execution_count": 50,
   "metadata": {},
   "outputs": [
    {
     "data": {
      "text/html": [
       "<div>\n",
       "<style scoped>\n",
       "    .dataframe tbody tr th:only-of-type {\n",
       "        vertical-align: middle;\n",
       "    }\n",
       "\n",
       "    .dataframe tbody tr th {\n",
       "        vertical-align: top;\n",
       "    }\n",
       "\n",
       "    .dataframe thead th {\n",
       "        text-align: right;\n",
       "    }\n",
       "</style>\n",
       "<table border=\"1\" class=\"dataframe\">\n",
       "  <thead>\n",
       "    <tr style=\"text-align: right;\">\n",
       "      <th></th>\n",
       "      <th>date</th>\n",
       "      <th>ticker</th>\n",
       "      <th>open</th>\n",
       "      <th>high</th>\n",
       "      <th>low</th>\n",
       "      <th>close</th>\n",
       "    </tr>\n",
       "  </thead>\n",
       "  <tbody>\n",
       "    <tr>\n",
       "      <th>7127</th>\n",
       "      <td>2023-02-03T21:35:00.000Z</td>\n",
       "      <td>eurusd</td>\n",
       "      <td>1.079580</td>\n",
       "      <td>1.079715</td>\n",
       "      <td>1.079455</td>\n",
       "      <td>1.079625</td>\n",
       "    </tr>\n",
       "    <tr>\n",
       "      <th>7128</th>\n",
       "      <td>2023-02-03T21:40:00.000Z</td>\n",
       "      <td>eurusd</td>\n",
       "      <td>1.079615</td>\n",
       "      <td>1.079640</td>\n",
       "      <td>1.079445</td>\n",
       "      <td>1.079455</td>\n",
       "    </tr>\n",
       "    <tr>\n",
       "      <th>7129</th>\n",
       "      <td>2023-02-03T21:45:00.000Z</td>\n",
       "      <td>eurusd</td>\n",
       "      <td>1.079465</td>\n",
       "      <td>1.079525</td>\n",
       "      <td>1.079280</td>\n",
       "      <td>1.079310</td>\n",
       "    </tr>\n",
       "    <tr>\n",
       "      <th>7130</th>\n",
       "      <td>2023-02-03T21:50:00.000Z</td>\n",
       "      <td>eurusd</td>\n",
       "      <td>1.079315</td>\n",
       "      <td>1.079385</td>\n",
       "      <td>1.079275</td>\n",
       "      <td>1.079345</td>\n",
       "    </tr>\n",
       "    <tr>\n",
       "      <th>7131</th>\n",
       "      <td>2023-02-03T21:55:00.000Z</td>\n",
       "      <td>eurusd</td>\n",
       "      <td>1.079325</td>\n",
       "      <td>1.079475</td>\n",
       "      <td>1.079305</td>\n",
       "      <td>1.079410</td>\n",
       "    </tr>\n",
       "  </tbody>\n",
       "</table>\n",
       "</div>"
      ],
      "text/plain": [
       "                          date  ticker      open      high       low     close\n",
       "7127  2023-02-03T21:35:00.000Z  eurusd  1.079580  1.079715  1.079455  1.079625\n",
       "7128  2023-02-03T21:40:00.000Z  eurusd  1.079615  1.079640  1.079445  1.079455\n",
       "7129  2023-02-03T21:45:00.000Z  eurusd  1.079465  1.079525  1.079280  1.079310\n",
       "7130  2023-02-03T21:50:00.000Z  eurusd  1.079315  1.079385  1.079275  1.079345\n",
       "7131  2023-02-03T21:55:00.000Z  eurusd  1.079325  1.079475  1.079305  1.079410"
      ]
     },
     "execution_count": 50,
     "metadata": {},
     "output_type": "execute_result"
    }
   ],
   "source": [
    "df.tail()"
   ]
  },
  {
   "cell_type": "code",
   "execution_count": 51,
   "metadata": {},
   "outputs": [
    {
     "data": {
      "text/plain": [
       "pandas.core.series.Series"
      ]
     },
     "execution_count": 51,
     "metadata": {},
     "output_type": "execute_result"
    }
   ],
   "source": [
    "type(df['date'])\n"
   ]
  },
  {
   "cell_type": "code",
   "execution_count": 52,
   "metadata": {},
   "outputs": [],
   "source": [
    "df['date'] = pd.to_datetime(df['date'])\n"
   ]
  },
  {
   "cell_type": "code",
   "execution_count": 53,
   "metadata": {},
   "outputs": [],
   "source": [
    "df.set_index('date', inplace=True)\n"
   ]
  },
  {
   "cell_type": "code",
   "execution_count": 54,
   "metadata": {},
   "outputs": [
    {
     "data": {
      "image/png": "[encoded data removed]",
      "text/plain": [
       "<Figure size 1600x800 with 1 Axes>"
      ]
     },
     "metadata": {},
     "output_type": "display_data"
    }
   ],
   "source": [
    "plt.figure(figsize=(16,8))\n",
    "plt.title(f'{ticker} Candlestick for {start_date}')\n",
    "plt.plot(df['close'])\n",
    "plt.ylabel('Close Price')\n",
    "plt.xlabel('Date')\n",
    "plt.show()"
   ]
  },
  {
   "cell_type": "markdown",
   "metadata": {},
   "source": [
    "<h2><strong>2.2 Preprocessing</strong></h2>"
   ]
  },
  {
   "cell_type": "markdown",
   "metadata": {},
   "source": [
    "<h3><strong>2.2.1 Scaling<strong></h3>"
   ]
  },
  {
   "cell_type": "code",
   "execution_count": 27,
   "metadata": {},
   "outputs": [],
   "source": [
    "scaler = StandardScaler()\n",
    "numerical_features = ['open', 'high', 'low', 'close']  # Assuming these are your numerical features\n",
    "df[numerical_features] = scaler.fit_transform(df[numerical_features])"
   ]
  },
  {
   "cell_type": "code",
   "execution_count": 28,
   "metadata": {},
   "outputs": [
    {
     "data": {
      "text/html": [
       "<div>\n",
       "<style scoped>\n",
       "    .dataframe tbody tr th:only-of-type {\n",
       "        vertical-align: middle;\n",
       "    }\n",
       "\n",
       "    .dataframe tbody tr th {\n",
       "        vertical-align: top;\n",
       "    }\n",
       "\n",
       "    .dataframe thead th {\n",
       "        text-align: right;\n",
       "    }\n",
       "</style>\n",
       "<table border=\"1\" class=\"dataframe\">\n",
       "  <thead>\n",
       "    <tr style=\"text-align: right;\">\n",
       "      <th></th>\n",
       "      <th>ticker</th>\n",
       "      <th>open</th>\n",
       "      <th>high</th>\n",
       "      <th>low</th>\n",
       "      <th>close</th>\n",
       "    </tr>\n",
       "    <tr>\n",
       "      <th>date</th>\n",
       "      <th></th>\n",
       "      <th></th>\n",
       "      <th></th>\n",
       "      <th></th>\n",
       "      <th></th>\n",
       "    </tr>\n",
       "  </thead>\n",
       "  <tbody>\n",
       "    <tr>\n",
       "      <th>2024-01-01 21:00:00+00:00</th>\n",
       "      <td>eurusd</td>\n",
       "      <td>2.713959</td>\n",
       "      <td>2.685597</td>\n",
       "      <td>2.741756</td>\n",
       "      <td>2.713525</td>\n",
       "    </tr>\n",
       "    <tr>\n",
       "      <th>2024-01-01 21:15:00+00:00</th>\n",
       "      <td>eurusd</td>\n",
       "      <td>2.708366</td>\n",
       "      <td>2.679999</td>\n",
       "      <td>2.738030</td>\n",
       "      <td>2.709795</td>\n",
       "    </tr>\n",
       "    <tr>\n",
       "      <th>2024-01-01 21:30:00+00:00</th>\n",
       "      <td>eurusd</td>\n",
       "      <td>2.708366</td>\n",
       "      <td>2.679999</td>\n",
       "      <td>2.738030</td>\n",
       "      <td>2.709795</td>\n",
       "    </tr>\n",
       "    <tr>\n",
       "      <th>2024-01-01 21:45:00+00:00</th>\n",
       "      <td>eurusd</td>\n",
       "      <td>2.702774</td>\n",
       "      <td>2.674402</td>\n",
       "      <td>2.731509</td>\n",
       "      <td>2.703269</td>\n",
       "    </tr>\n",
       "    <tr>\n",
       "      <th>2024-01-01 21:55:00+00:00</th>\n",
       "      <td>eurusd</td>\n",
       "      <td>2.699977</td>\n",
       "      <td>2.671603</td>\n",
       "      <td>2.729646</td>\n",
       "      <td>2.701404</td>\n",
       "    </tr>\n",
       "  </tbody>\n",
       "</table>\n",
       "</div>"
      ],
      "text/plain": [
       "                           ticker      open      high       low     close\n",
       "date                                                                     \n",
       "2024-01-01 21:00:00+00:00  eurusd  2.713959  2.685597  2.741756  2.713525\n",
       "2024-01-01 21:15:00+00:00  eurusd  2.708366  2.679999  2.738030  2.709795\n",
       "2024-01-01 21:30:00+00:00  eurusd  2.708366  2.679999  2.738030  2.709795\n",
       "2024-01-01 21:45:00+00:00  eurusd  2.702774  2.674402  2.731509  2.703269\n",
       "2024-01-01 21:55:00+00:00  eurusd  2.699977  2.671603  2.729646  2.701404"
      ]
     },
     "execution_count": 28,
     "metadata": {},
     "output_type": "execute_result"
    }
   ],
   "source": [
    "\n",
    "df.head()"
   ]
  },
  {
   "cell_type": "markdown",
   "metadata": {},
   "source": [
    "<h3><strong>2.2.2 Creating training data<strong></h3>\n",
    "\n",
    "<h4><strong>Preparing Lagged Data</strong></h4>\n",
    "\n",
    "- __`df`:__ This is a DataFrame containing the original data.\n",
    "  \n",
    "- __`lag_steps:`__ This is an integer representing the number of time steps to lag the time unit by. It determines how many previous values of the target variable ('close') to include in the lagged DataFrame.\n",
    "  \n",
    "- __`lagged_df:`__ This is a new DataFrame that will store the lagged data.\n",
    "  \n",
    "- __`pd.DataFrame(index=df.index)`:__ This creates a new DataFrame with the same index as the original DataFrame df. The index represents the date and time of each data point.\n",
    "  \n",
    "- __`lagged_df['DateTime'] = df.index:`__ This creates a new column in the lagged_df DataFrame called 'DateTime', and it copies the index of the original DataFrame df. This column will store the date and time information.\n",
    "  \n",
    "- __`lagged_df['ActualValue'] = df['close']:`__ This creates a new column in the lagged_df DataFrame called 'ActualValue', and it copies the values from the 'close' column of the original DataFrame df. This column will store the actual values of the target variable.\n",
    "  \n",
    "- __`Loop:`__ This loop iterates from 1 to lag_steps (inclusive). For each iteration:\n",
    "    - __`lagged_df[f'PrevValue_{i}'] = df['close'].shift(i):`__ This creates a new column in the lagged_df DataFrame for each lagged value. The column name includes the prefix 'PrevValue_' followed by the lag index i. It shifts the values of the 'close' column of the original DataFrame df upwards by i time steps and stores them in the new column. This effectively creates lagged features for the target variable.\n",
    "  \n",
    "- __`return lagged_df.dropna():`__ This returns the lagged DataFrame after dropping any rows with missing values (NaN). Since creating lagged features involves shifting the data, the first few rows will contain NaN values where there is no data available for the lagged features.\n"
   ]
  },
  {
   "cell_type": "code",
   "execution_count": 34,
   "metadata": {},
   "outputs": [
    {
     "data": {
      "text/html": [
       "<div>\n",
       "<style scoped>\n",
       "    .dataframe tbody tr th:only-of-type {\n",
       "        vertical-align: middle;\n",
       "    }\n",
       "\n",
       "    .dataframe tbody tr th {\n",
       "        vertical-align: top;\n",
       "    }\n",
       "\n",
       "    .dataframe thead th {\n",
       "        text-align: right;\n",
       "    }\n",
       "</style>\n",
       "<table border=\"1\" class=\"dataframe\">\n",
       "  <thead>\n",
       "    <tr style=\"text-align: right;\">\n",
       "      <th></th>\n",
       "      <th>DateTime</th>\n",
       "      <th>ActualValue</th>\n",
       "      <th>PrevValue_1</th>\n",
       "      <th>PrevValue_2</th>\n",
       "      <th>PrevValue_3</th>\n",
       "      <th>PrevValue_4</th>\n",
       "      <th>PrevValue_5</th>\n",
       "      <th>PrevValue_6</th>\n",
       "      <th>PrevValue_7</th>\n",
       "      <th>PrevValue_8</th>\n",
       "      <th>PrevValue_9</th>\n",
       "      <th>PrevValue_10</th>\n",
       "    </tr>\n",
       "    <tr>\n",
       "      <th>date</th>\n",
       "      <th></th>\n",
       "      <th></th>\n",
       "      <th></th>\n",
       "      <th></th>\n",
       "      <th></th>\n",
       "      <th></th>\n",
       "      <th></th>\n",
       "      <th></th>\n",
       "      <th></th>\n",
       "      <th></th>\n",
       "      <th></th>\n",
       "      <th></th>\n",
       "    </tr>\n",
       "  </thead>\n",
       "  <tbody>\n",
       "    <tr>\n",
       "      <th>2024-01-01 22:35:00+00:00</th>\n",
       "      <td>2024-01-01 22:35:00+00:00</td>\n",
       "      <td>2.678094</td>\n",
       "      <td>2.696742</td>\n",
       "      <td>2.693012</td>\n",
       "      <td>2.696742</td>\n",
       "      <td>2.710728</td>\n",
       "      <td>2.713525</td>\n",
       "      <td>2.701404</td>\n",
       "      <td>2.703269</td>\n",
       "      <td>2.709795</td>\n",
       "      <td>2.709795</td>\n",
       "      <td>2.713525</td>\n",
       "    </tr>\n",
       "    <tr>\n",
       "      <th>2024-01-01 22:40:00+00:00</th>\n",
       "      <td>2024-01-01 22:40:00+00:00</td>\n",
       "      <td>2.674364</td>\n",
       "      <td>2.678094</td>\n",
       "      <td>2.696742</td>\n",
       "      <td>2.693012</td>\n",
       "      <td>2.696742</td>\n",
       "      <td>2.710728</td>\n",
       "      <td>2.713525</td>\n",
       "      <td>2.701404</td>\n",
       "      <td>2.703269</td>\n",
       "      <td>2.709795</td>\n",
       "      <td>2.709795</td>\n",
       "    </tr>\n",
       "    <tr>\n",
       "      <th>2024-01-01 22:45:00+00:00</th>\n",
       "      <td>2024-01-01 22:45:00+00:00</td>\n",
       "      <td>2.683688</td>\n",
       "      <td>2.674364</td>\n",
       "      <td>2.678094</td>\n",
       "      <td>2.696742</td>\n",
       "      <td>2.693012</td>\n",
       "      <td>2.696742</td>\n",
       "      <td>2.710728</td>\n",
       "      <td>2.713525</td>\n",
       "      <td>2.701404</td>\n",
       "      <td>2.703269</td>\n",
       "      <td>2.709795</td>\n",
       "    </tr>\n",
       "    <tr>\n",
       "      <th>2024-01-01 22:50:00+00:00</th>\n",
       "      <td>2024-01-01 22:50:00+00:00</td>\n",
       "      <td>2.693012</td>\n",
       "      <td>2.683688</td>\n",
       "      <td>2.674364</td>\n",
       "      <td>2.678094</td>\n",
       "      <td>2.696742</td>\n",
       "      <td>2.693012</td>\n",
       "      <td>2.696742</td>\n",
       "      <td>2.710728</td>\n",
       "      <td>2.713525</td>\n",
       "      <td>2.701404</td>\n",
       "      <td>2.703269</td>\n",
       "    </tr>\n",
       "    <tr>\n",
       "      <th>2024-01-01 22:55:00+00:00</th>\n",
       "      <td>2024-01-01 22:55:00+00:00</td>\n",
       "      <td>2.693945</td>\n",
       "      <td>2.693012</td>\n",
       "      <td>2.683688</td>\n",
       "      <td>2.674364</td>\n",
       "      <td>2.678094</td>\n",
       "      <td>2.696742</td>\n",
       "      <td>2.693012</td>\n",
       "      <td>2.696742</td>\n",
       "      <td>2.710728</td>\n",
       "      <td>2.713525</td>\n",
       "      <td>2.701404</td>\n",
       "    </tr>\n",
       "  </tbody>\n",
       "</table>\n",
       "</div>"
      ],
      "text/plain": [
       "                                           DateTime  ActualValue  PrevValue_1  \\\n",
       "date                                                                            \n",
       "2024-01-01 22:35:00+00:00 2024-01-01 22:35:00+00:00     2.678094     2.696742   \n",
       "2024-01-01 22:40:00+00:00 2024-01-01 22:40:00+00:00     2.674364     2.678094   \n",
       "2024-01-01 22:45:00+00:00 2024-01-01 22:45:00+00:00     2.683688     2.674364   \n",
       "2024-01-01 22:50:00+00:00 2024-01-01 22:50:00+00:00     2.693012     2.683688   \n",
       "2024-01-01 22:55:00+00:00 2024-01-01 22:55:00+00:00     2.693945     2.693012   \n",
       "\n",
       "                           PrevValue_2  PrevValue_3  PrevValue_4  PrevValue_5  \\\n",
       "date                                                                            \n",
       "2024-01-01 22:35:00+00:00     2.693012     2.696742     2.710728     2.713525   \n",
       "2024-01-01 22:40:00+00:00     2.696742     2.693012     2.696742     2.710728   \n",
       "2024-01-01 22:45:00+00:00     2.678094     2.696742     2.693012     2.696742   \n",
       "2024-01-01 22:50:00+00:00     2.674364     2.678094     2.696742     2.693012   \n",
       "2024-01-01 22:55:00+00:00     2.683688     2.674364     2.678094     2.696742   \n",
       "\n",
       "                           PrevValue_6  PrevValue_7  PrevValue_8  PrevValue_9  \\\n",
       "date                                                                            \n",
       "2024-01-01 22:35:00+00:00     2.701404     2.703269     2.709795     2.709795   \n",
       "2024-01-01 22:40:00+00:00     2.713525     2.701404     2.703269     2.709795   \n",
       "2024-01-01 22:45:00+00:00     2.710728     2.713525     2.701404     2.703269   \n",
       "2024-01-01 22:50:00+00:00     2.696742     2.710728     2.713525     2.701404   \n",
       "2024-01-01 22:55:00+00:00     2.693012     2.696742     2.710728     2.713525   \n",
       "\n",
       "                           PrevValue_10  \n",
       "date                                     \n",
       "2024-01-01 22:35:00+00:00      2.713525  \n",
       "2024-01-01 22:40:00+00:00      2.709795  \n",
       "2024-01-01 22:45:00+00:00      2.709795  \n",
       "2024-01-01 22:50:00+00:00      2.703269  \n",
       "2024-01-01 22:55:00+00:00      2.701404  "
      ]
     },
     "execution_count": 34,
     "metadata": {},
     "output_type": "execute_result"
    }
   ],
   "source": [
    "go_back_by = 10\n",
    "\n",
    "def create_lagged_dataframe(df, lag_steps=go_back_by):\n",
    "    lagged_df = pd.DataFrame(index=df.index)\n",
    "    lagged_df['DateTime'] = df.index\n",
    "    lagged_df['ActualValue'] = df['close']\n",
    "\n",
    "    #Creating lagged columns for previous values\n",
    "    for i in range(1, lag_steps + 1):\n",
    "        lagged_df[f'PrevValue_{i}'] = df['close'].shift(i)\n",
    "\n",
    "    return lagged_df.dropna()\n",
    "\n",
    "lagged_df = create_lagged_dataframe(df)\n",
    "lagged_df.head()\n"
   ]
  },
  {
   "cell_type": "markdown",
   "metadata": {},
   "source": [
    "<h4><strong>Prepare LSTM Data</strong></h4>\n",
    "\n",
    "- __`lagged_df:`__ This is a DataFrame containing the lagged data.\n",
    "\n",
    "- __`dates:`__ This variable stores the date and time information from the lagged DataFrame.\n",
    "\n",
    "- __`X:`__ This variable stores the input features for the LSTM model. It consists of all columns from the lagged DataFrame except 'DateTime' and 'ActualValue', converted to float32 data type.\n",
    "\n",
    "- __`y:`__ This variable stores the target variable for the LSTM model, which is the 'ActualValue' column from the lagged DataFrame, converted to float32 data type.\n",
    "\n",
    "- __`return:`__ The function returns three variables: dates, X, and y, containing the respective data.\n",
    "\n"
   ]
  },
  {
   "cell_type": "code",
   "execution_count": 35,
   "metadata": {},
   "outputs": [
    {
     "name": "stdout",
     "output_type": "stream",
     "text": [
      "Dates: (6878,)\n",
      "X shape: (6878, 10)\n",
      "y shape: (6878,)\n"
     ]
    }
   ],
   "source": [
    "def prepare_lstm_data(lagged_df):\n",
    "    dates = lagged_df['DateTime']\n",
    "    X = lagged_df.drop(columns=['DateTime', 'ActualValue']).astype(np.float32)\n",
    "    y = lagged_df['ActualValue'].astype(np.float32)\n",
    "\n",
    "    return dates, X.values, y.values\n",
    "\n",
    "\n",
    "dates, X, y = prepare_lstm_data(lagged_df)\n",
    "print(\"Dates:\", dates.shape)\n",
    "print(\"X shape:\", X.shape)\n",
    "print(\"y shape:\", y.shape)\n"
   ]
  },
  {
   "cell_type": "markdown",
   "metadata": {},
   "source": [
    "<h3><strong>2.2.3 <u>Spliting:</u> Training, Validation, Testing Data<strong></h3>"
   ]
  },
  {
   "cell_type": "markdown",
   "metadata": {},
   "source": [
    "<h4><strong>Split Data</strong></h4>\n",
    "\n",
    "- __`dates:`__ This variable contains the date and time information.\n",
    "\n",
    "- __`X:`__ This variable contains the input features for the model.\n",
    "\n",
    "- __`y:`__ This variable contains the target variable for the model.\n",
    "\n",
    "- __`x_train:`__ This variable contains the input features for the training set.\n",
    "\n",
    "- __`y_train:`__ This variable contains the target variable for the training set.\n",
    "\n",
    "- __`x_val:`__ This variable contains the input features for the validation set.\n",
    "\n",
    "- __`y_val:`__ This variable contains the target variable for the validation set.\n",
    "\n",
    "- __`x_test:`__ This variable contains the input features for the test set.\n",
    "\n",
    "- __`y_test:`__ This variable contains the target variable for the test set.\n",
    "\n",
    "- __`train_data:`__ This tuple contains the input features and target variable for the training set.\n",
    "\n",
    "- __`val_data:`__ This tuple contains the input features and target variable for the validation set.\n",
    "\n",
    "- __`test_data:`__ This tuple contains the input features and target variable for the test set.\n",
    "\n",
    "- __`return:`__ The function returns three tuples: train_data, val_data, and test_data, each containing the respective input features and target variable for the corresponding set.\n",
    "\n"
   ]
  },
  {
   "cell_type": "code",
   "execution_count": 36,
   "metadata": {},
   "outputs": [],
   "source": [
    "def split_data(dates, X, y):\n",
    "    x_train, x_temp, y_train, y_temp = train_test_split(X, y, test_size=0.4, random_state=42)\n",
    "    x_val, x_test, y_val, y_test = train_test_split(x_temp, y_temp, test_size=0.5, random_state=42)\n",
    "    \n",
    "    return (x_train, y_train), (x_val, y_val), (x_test, y_test)\n",
    "\n",
    "(train_data, val_data, test_data) = split_data(dates, X, y)\n",
    "(x_train, y_train), (x_val, y_val), (x_test, y_test) = train_data, val_data, test_data\n"
   ]
  },
  {
   "cell_type": "code",
   "execution_count": 37,
   "metadata": {},
   "outputs": [
    {
     "name": "stdout",
     "output_type": "stream",
     "text": [
      "Training set: 4126 instances ( 59.98836871183484 %)\n",
      "Validation set: 1376 instances ( 20.005815644082585 %)\n",
      "Testing set: 1376 instances ( 20.005815644082585 %)\n"
     ]
    }
   ],
   "source": [
    "# OPTIONAL: Calculating the total number of instances\n",
    "total_instances = len(x_train) + len(x_val) + len(x_test)\n",
    "\n",
    "# Each set has\n",
    "print(\"Training set:\", len(x_train), \"instances (\", len(x_train) / total_instances * 100, \"%)\")\n",
    "print(\"Validation set:\", len(x_val), \"instances (\", len(x_val) / total_instances * 100, \"%)\")\n",
    "print(\"Testing set:\", len(x_test), \"instances (\", len(x_test) / total_instances * 100, \"%)\")\n"
   ]
  },
  {
   "cell_type": "markdown",
   "metadata": {},
   "source": [
    "\n",
    "# __3. Training the model__"
   ]
  },
  {
   "cell_type": "code",
   "execution_count": 38,
   "metadata": {},
   "outputs": [],
   "source": [
    "model = Sequential([layers.Input((go_back_by,1)), # 3 because we are doing 3 past time units\n",
    "                    layers.LSTM(60),\n",
    "                    layers.Dense(32, activation= 'relu'),\n",
    "                    layers.Dense(32, activation= 'relu'),\n",
    "                    layers.Dense(1)]) \n",
    "\n",
    "model.compile(loss = 'mse', \n",
    "              optimizer =  Adam(learning_rate=0.001),\n",
    "              metrics = ['mean_absolute_error']\n",
    "              )"
   ]
  },
  {
   "cell_type": "code",
   "execution_count": 39,
   "metadata": {},
   "outputs": [
    {
     "name": "stdout",
     "output_type": "stream",
     "text": [
      "Epoch 1/100\n"
     ]
    },
    {
     "name": "stdout",
     "output_type": "stream",
     "text": [
      "\u001b[1m129/129\u001b[0m \u001b[32m━━━━━━━━━━━━━━━━━━━━\u001b[0m\u001b[37m\u001b[0m \u001b[1m4s\u001b[0m 5ms/step - loss: 0.2688 - mean_absolute_error: 0.3428\n",
      "Epoch 2/100\n",
      "\u001b[1m129/129\u001b[0m \u001b[32m━━━━━━━━━━━━━━━━━━━━\u001b[0m\u001b[37m\u001b[0m \u001b[1m1s\u001b[0m 5ms/step - loss: 0.0122 - mean_absolute_error: 0.0781\n",
      "Epoch 3/100\n",
      "\u001b[1m129/129\u001b[0m \u001b[32m━━━━━━━━━━━━━━━━━━━━\u001b[0m\u001b[37m\u001b[0m \u001b[1m1s\u001b[0m 5ms/step - loss: 0.0106 - mean_absolute_error: 0.0718\n",
      "Epoch 4/100\n",
      "\u001b[1m129/129\u001b[0m \u001b[32m━━━━━━━━━━━━━━━━━━━━\u001b[0m\u001b[37m\u001b[0m \u001b[1m1s\u001b[0m 5ms/step - loss: 0.0097 - mean_absolute_error: 0.0694\n",
      "Epoch 5/100\n",
      "\u001b[1m129/129\u001b[0m \u001b[32m━━━━━━━━━━━━━━━━━━━━\u001b[0m\u001b[37m\u001b[0m \u001b[1m1s\u001b[0m 5ms/step - loss: 0.0091 - mean_absolute_error: 0.0670\n",
      "Epoch 6/100\n",
      "\u001b[1m129/129\u001b[0m \u001b[32m━━━━━━━━━━━━━━━━━━━━\u001b[0m\u001b[37m\u001b[0m \u001b[1m1s\u001b[0m 5ms/step - loss: 0.0084 - mean_absolute_error: 0.0645\n",
      "Epoch 7/100\n",
      "\u001b[1m129/129\u001b[0m \u001b[32m━━━━━━━━━━━━━━━━━━━━\u001b[0m\u001b[37m\u001b[0m \u001b[1m1s\u001b[0m 5ms/step - loss: 0.0090 - mean_absolute_error: 0.0666\n",
      "Epoch 8/100\n",
      "\u001b[1m129/129\u001b[0m \u001b[32m━━━━━━━━━━━━━━━━━━━━\u001b[0m\u001b[37m\u001b[0m \u001b[1m1s\u001b[0m 5ms/step - loss: 0.0074 - mean_absolute_error: 0.0600\n",
      "Epoch 9/100\n",
      "\u001b[1m129/129\u001b[0m \u001b[32m━━━━━━━━━━━━━━━━━━━━\u001b[0m\u001b[37m\u001b[0m \u001b[1m1s\u001b[0m 5ms/step - loss: 0.0072 - mean_absolute_error: 0.0566\n",
      "Epoch 10/100\n",
      "\u001b[1m129/129\u001b[0m \u001b[32m━━━━━━━━━━━━━━━━━━━━\u001b[0m\u001b[37m\u001b[0m \u001b[1m1s\u001b[0m 5ms/step - loss: 0.0073 - mean_absolute_error: 0.0609\n",
      "Epoch 11/100\n",
      "\u001b[1m129/129\u001b[0m \u001b[32m━━━━━━━━━━━━━━━━━━━━\u001b[0m\u001b[37m\u001b[0m \u001b[1m1s\u001b[0m 5ms/step - loss: 0.0061 - mean_absolute_error: 0.0535\n",
      "Epoch 12/100\n",
      "\u001b[1m129/129\u001b[0m \u001b[32m━━━━━━━━━━━━━━━━━━━━\u001b[0m\u001b[37m\u001b[0m \u001b[1m1s\u001b[0m 5ms/step - loss: 0.0058 - mean_absolute_error: 0.0544\n",
      "Epoch 13/100\n",
      "\u001b[1m129/129\u001b[0m \u001b[32m━━━━━━━━━━━━━━━━━━━━\u001b[0m\u001b[37m\u001b[0m \u001b[1m1s\u001b[0m 6ms/step - loss: 0.0065 - mean_absolute_error: 0.0589\n",
      "Epoch 14/100\n",
      "\u001b[1m129/129\u001b[0m \u001b[32m━━━━━━━━━━━━━━━━━━━━\u001b[0m\u001b[37m\u001b[0m \u001b[1m1s\u001b[0m 6ms/step - loss: 0.0058 - mean_absolute_error: 0.0547\n",
      "Epoch 15/100\n",
      "\u001b[1m129/129\u001b[0m \u001b[32m━━━━━━━━━━━━━━━━━━━━\u001b[0m\u001b[37m\u001b[0m \u001b[1m1s\u001b[0m 6ms/step - loss: 0.0058 - mean_absolute_error: 0.0549\n",
      "Epoch 16/100\n",
      "\u001b[1m129/129\u001b[0m \u001b[32m━━━━━━━━━━━━━━━━━━━━\u001b[0m\u001b[37m\u001b[0m \u001b[1m1s\u001b[0m 6ms/step - loss: 0.0054 - mean_absolute_error: 0.0503\n",
      "Epoch 17/100\n",
      "\u001b[1m129/129\u001b[0m \u001b[32m━━━━━━━━━━━━━━━━━━━━\u001b[0m\u001b[37m\u001b[0m \u001b[1m1s\u001b[0m 6ms/step - loss: 0.0054 - mean_absolute_error: 0.0532\n",
      "Epoch 18/100\n",
      "\u001b[1m129/129\u001b[0m \u001b[32m━━━━━━━━━━━━━━━━━━━━\u001b[0m\u001b[37m\u001b[0m \u001b[1m1s\u001b[0m 6ms/step - loss: 0.0064 - mean_absolute_error: 0.0550\n",
      "Epoch 19/100\n",
      "\u001b[1m129/129\u001b[0m \u001b[32m━━━━━━━━━━━━━━━━━━━━\u001b[0m\u001b[37m\u001b[0m \u001b[1m1s\u001b[0m 6ms/step - loss: 0.0056 - mean_absolute_error: 0.0532\n",
      "Epoch 20/100\n",
      "\u001b[1m129/129\u001b[0m \u001b[32m━━━━━━━━━━━━━━━━━━━━\u001b[0m\u001b[37m\u001b[0m \u001b[1m1s\u001b[0m 6ms/step - loss: 0.0053 - mean_absolute_error: 0.0498\n",
      "Epoch 21/100\n",
      "\u001b[1m129/129\u001b[0m \u001b[32m━━━━━━━━━━━━━━━━━━━━\u001b[0m\u001b[37m\u001b[0m \u001b[1m1s\u001b[0m 6ms/step - loss: 0.0053 - mean_absolute_error: 0.0503\n",
      "Epoch 22/100\n",
      "\u001b[1m129/129\u001b[0m \u001b[32m━━━━━━━━━━━━━━━━━━━━\u001b[0m\u001b[37m\u001b[0m \u001b[1m1s\u001b[0m 6ms/step - loss: 0.0043 - mean_absolute_error: 0.0471\n",
      "Epoch 23/100\n",
      "\u001b[1m129/129\u001b[0m \u001b[32m━━━━━━━━━━━━━━━━━━━━\u001b[0m\u001b[37m\u001b[0m \u001b[1m1s\u001b[0m 6ms/step - loss: 0.0049 - mean_absolute_error: 0.0503\n",
      "Epoch 24/100\n",
      "\u001b[1m129/129\u001b[0m \u001b[32m━━━━━━━━━━━━━━━━━━━━\u001b[0m\u001b[37m\u001b[0m \u001b[1m1s\u001b[0m 6ms/step - loss: 0.0063 - mean_absolute_error: 0.0585\n",
      "Epoch 25/100\n",
      "\u001b[1m129/129\u001b[0m \u001b[32m━━━━━━━━━━━━━━━━━━━━\u001b[0m\u001b[37m\u001b[0m \u001b[1m1s\u001b[0m 6ms/step - loss: 0.0046 - mean_absolute_error: 0.0478\n",
      "Epoch 26/100\n",
      "\u001b[1m129/129\u001b[0m \u001b[32m━━━━━━━━━━━━━━━━━━━━\u001b[0m\u001b[37m\u001b[0m \u001b[1m1s\u001b[0m 5ms/step - loss: 0.0044 - mean_absolute_error: 0.0484\n",
      "Epoch 27/100\n",
      "\u001b[1m129/129\u001b[0m \u001b[32m━━━━━━━━━━━━━━━━━━━━\u001b[0m\u001b[37m\u001b[0m \u001b[1m1s\u001b[0m 6ms/step - loss: 0.0053 - mean_absolute_error: 0.0522\n",
      "Epoch 28/100\n",
      "\u001b[1m129/129\u001b[0m \u001b[32m━━━━━━━━━━━━━━━━━━━━\u001b[0m\u001b[37m\u001b[0m \u001b[1m1s\u001b[0m 5ms/step - loss: 0.0049 - mean_absolute_error: 0.0474\n",
      "Epoch 29/100\n",
      "\u001b[1m129/129\u001b[0m \u001b[32m━━━━━━━━━━━━━━━━━━━━\u001b[0m\u001b[37m\u001b[0m \u001b[1m1s\u001b[0m 5ms/step - loss: 0.0055 - mean_absolute_error: 0.0532\n",
      "Epoch 30/100\n",
      "\u001b[1m129/129\u001b[0m \u001b[32m━━━━━━━━━━━━━━━━━━━━\u001b[0m\u001b[37m\u001b[0m \u001b[1m1s\u001b[0m 5ms/step - loss: 0.0056 - mean_absolute_error: 0.0491\n",
      "Epoch 31/100\n",
      "\u001b[1m129/129\u001b[0m \u001b[32m━━━━━━━━━━━━━━━━━━━━\u001b[0m\u001b[37m\u001b[0m \u001b[1m1s\u001b[0m 5ms/step - loss: 0.0041 - mean_absolute_error: 0.0465\n",
      "Epoch 32/100\n",
      "\u001b[1m129/129\u001b[0m \u001b[32m━━━━━━━━━━━━━━━━━━━━\u001b[0m\u001b[37m\u001b[0m \u001b[1m1s\u001b[0m 5ms/step - loss: 0.0046 - mean_absolute_error: 0.0485\n",
      "Epoch 33/100\n",
      "\u001b[1m129/129\u001b[0m \u001b[32m━━━━━━━━━━━━━━━━━━━━\u001b[0m\u001b[37m\u001b[0m \u001b[1m1s\u001b[0m 6ms/step - loss: 0.0050 - mean_absolute_error: 0.0516\n",
      "Epoch 34/100\n",
      "\u001b[1m129/129\u001b[0m \u001b[32m━━━━━━━━━━━━━━━━━━━━\u001b[0m\u001b[37m\u001b[0m \u001b[1m1s\u001b[0m 6ms/step - loss: 0.0053 - mean_absolute_error: 0.0530\n",
      "Epoch 35/100\n",
      "\u001b[1m129/129\u001b[0m \u001b[32m━━━━━━━━━━━━━━━━━━━━\u001b[0m\u001b[37m\u001b[0m \u001b[1m1s\u001b[0m 6ms/step - loss: 0.0047 - mean_absolute_error: 0.0500\n",
      "Epoch 36/100\n",
      "\u001b[1m129/129\u001b[0m \u001b[32m━━━━━━━━━━━━━━━━━━━━\u001b[0m\u001b[37m\u001b[0m \u001b[1m1s\u001b[0m 6ms/step - loss: 0.0043 - mean_absolute_error: 0.0472\n",
      "Epoch 37/100\n",
      "\u001b[1m129/129\u001b[0m \u001b[32m━━━━━━━━━━━━━━━━━━━━\u001b[0m\u001b[37m\u001b[0m \u001b[1m1s\u001b[0m 6ms/step - loss: 0.0045 - mean_absolute_error: 0.0489\n",
      "Epoch 38/100\n",
      "\u001b[1m129/129\u001b[0m \u001b[32m━━━━━━━━━━━━━━━━━━━━\u001b[0m\u001b[37m\u001b[0m \u001b[1m1s\u001b[0m 6ms/step - loss: 0.0042 - mean_absolute_error: 0.0481\n",
      "Epoch 39/100\n",
      "\u001b[1m129/129\u001b[0m \u001b[32m━━━━━━━━━━━━━━━━━━━━\u001b[0m\u001b[37m\u001b[0m \u001b[1m1s\u001b[0m 6ms/step - loss: 0.0046 - mean_absolute_error: 0.0511\n",
      "Epoch 40/100\n",
      "\u001b[1m129/129\u001b[0m \u001b[32m━━━━━━━━━━━━━━━━━━━━\u001b[0m\u001b[37m\u001b[0m \u001b[1m1s\u001b[0m 6ms/step - loss: 0.0047 - mean_absolute_error: 0.0486\n",
      "Epoch 41/100\n",
      "\u001b[1m129/129\u001b[0m \u001b[32m━━━━━━━━━━━━━━━━━━━━\u001b[0m\u001b[37m\u001b[0m \u001b[1m1s\u001b[0m 6ms/step - loss: 0.0048 - mean_absolute_error: 0.0476\n",
      "Epoch 42/100\n",
      "\u001b[1m129/129\u001b[0m \u001b[32m━━━━━━━━━━━━━━━━━━━━\u001b[0m\u001b[37m\u001b[0m \u001b[1m1s\u001b[0m 6ms/step - loss: 0.0044 - mean_absolute_error: 0.0458\n",
      "Epoch 43/100\n",
      "\u001b[1m129/129\u001b[0m \u001b[32m━━━━━━━━━━━━━━━━━━━━\u001b[0m\u001b[37m\u001b[0m \u001b[1m1s\u001b[0m 6ms/step - loss: 0.0043 - mean_absolute_error: 0.0460\n",
      "Epoch 44/100\n",
      "\u001b[1m129/129\u001b[0m \u001b[32m━━━━━━━━━━━━━━━━━━━━\u001b[0m\u001b[37m\u001b[0m \u001b[1m1s\u001b[0m 6ms/step - loss: 0.0044 - mean_absolute_error: 0.0468\n",
      "Epoch 45/100\n",
      "\u001b[1m129/129\u001b[0m \u001b[32m━━━━━━━━━━━━━━━━━━━━\u001b[0m\u001b[37m\u001b[0m \u001b[1m1s\u001b[0m 6ms/step - loss: 0.0052 - mean_absolute_error: 0.0535\n",
      "Epoch 46/100\n",
      "\u001b[1m129/129\u001b[0m \u001b[32m━━━━━━━━━━━━━━━━━━━━\u001b[0m\u001b[37m\u001b[0m \u001b[1m1s\u001b[0m 6ms/step - loss: 0.0051 - mean_absolute_error: 0.0474\n",
      "Epoch 47/100\n",
      "\u001b[1m129/129\u001b[0m \u001b[32m━━━━━━━━━━━━━━━━━━━━\u001b[0m\u001b[37m\u001b[0m \u001b[1m1s\u001b[0m 6ms/step - loss: 0.0041 - mean_absolute_error: 0.0450\n",
      "Epoch 48/100\n",
      "\u001b[1m129/129\u001b[0m \u001b[32m━━━━━━━━━━━━━━━━━━━━\u001b[0m\u001b[37m\u001b[0m \u001b[1m1s\u001b[0m 6ms/step - loss: 0.0043 - mean_absolute_error: 0.0457\n",
      "Epoch 49/100\n",
      "\u001b[1m129/129\u001b[0m \u001b[32m━━━━━━━━━━━━━━━━━━━━\u001b[0m\u001b[37m\u001b[0m \u001b[1m1s\u001b[0m 6ms/step - loss: 0.0044 - mean_absolute_error: 0.0478\n",
      "Epoch 50/100\n",
      "\u001b[1m129/129\u001b[0m \u001b[32m━━━━━━━━━━━━━━━━━━━━\u001b[0m\u001b[37m\u001b[0m \u001b[1m1s\u001b[0m 6ms/step - loss: 0.0041 - mean_absolute_error: 0.0456\n",
      "Epoch 51/100\n",
      "\u001b[1m129/129\u001b[0m \u001b[32m━━━━━━━━━━━━━━━━━━━━\u001b[0m\u001b[37m\u001b[0m \u001b[1m1s\u001b[0m 6ms/step - loss: 0.0039 - mean_absolute_error: 0.0459\n",
      "Epoch 52/100\n",
      "\u001b[1m129/129\u001b[0m \u001b[32m━━━━━━━━━━━━━━━━━━━━\u001b[0m\u001b[37m\u001b[0m \u001b[1m1s\u001b[0m 6ms/step - loss: 0.0038 - mean_absolute_error: 0.0446\n",
      "Epoch 53/100\n",
      "\u001b[1m129/129\u001b[0m \u001b[32m━━━━━━━━━━━━━━━━━━━━\u001b[0m\u001b[37m\u001b[0m \u001b[1m1s\u001b[0m 6ms/step - loss: 0.0040 - mean_absolute_error: 0.0452\n",
      "Epoch 54/100\n",
      "\u001b[1m129/129\u001b[0m \u001b[32m━━━━━━━━━━━━━━━━━━━━\u001b[0m\u001b[37m\u001b[0m \u001b[1m1s\u001b[0m 6ms/step - loss: 0.0039 - mean_absolute_error: 0.0446\n",
      "Epoch 55/100\n",
      "\u001b[1m129/129\u001b[0m \u001b[32m━━━━━━━━━━━━━━━━━━━━\u001b[0m\u001b[37m\u001b[0m \u001b[1m1s\u001b[0m 6ms/step - loss: 0.0044 - mean_absolute_error: 0.0485\n",
      "Epoch 56/100\n",
      "\u001b[1m129/129\u001b[0m \u001b[32m━━━━━━━━━━━━━━━━━━━━\u001b[0m\u001b[37m\u001b[0m \u001b[1m1s\u001b[0m 6ms/step - loss: 0.0041 - mean_absolute_error: 0.0453\n",
      "Epoch 57/100\n",
      "\u001b[1m129/129\u001b[0m \u001b[32m━━━━━━━━━━━━━━━━━━━━\u001b[0m\u001b[37m\u001b[0m \u001b[1m1s\u001b[0m 6ms/step - loss: 0.0044 - mean_absolute_error: 0.0451\n",
      "Epoch 58/100\n",
      "\u001b[1m129/129\u001b[0m \u001b[32m━━━━━━━━━━━━━━━━━━━━\u001b[0m\u001b[37m\u001b[0m \u001b[1m1s\u001b[0m 6ms/step - loss: 0.0032 - mean_absolute_error: 0.0407\n",
      "Epoch 59/100\n",
      "\u001b[1m129/129\u001b[0m \u001b[32m━━━━━━━━━━━━━━━━━━━━\u001b[0m\u001b[37m\u001b[0m \u001b[1m1s\u001b[0m 6ms/step - loss: 0.0040 - mean_absolute_error: 0.0443\n",
      "Epoch 60/100\n",
      "\u001b[1m129/129\u001b[0m \u001b[32m━━━━━━━━━━━━━━━━━━━━\u001b[0m\u001b[37m\u001b[0m \u001b[1m1s\u001b[0m 6ms/step - loss: 0.0037 - mean_absolute_error: 0.0432\n",
      "Epoch 61/100\n",
      "\u001b[1m129/129\u001b[0m \u001b[32m━━━━━━━━━━━━━━━━━━━━\u001b[0m\u001b[37m\u001b[0m \u001b[1m1s\u001b[0m 6ms/step - loss: 0.0044 - mean_absolute_error: 0.0452\n",
      "Epoch 62/100\n",
      "\u001b[1m129/129\u001b[0m \u001b[32m━━━━━━━━━━━━━━━━━━━━\u001b[0m\u001b[37m\u001b[0m \u001b[1m1s\u001b[0m 6ms/step - loss: 0.0037 - mean_absolute_error: 0.0438\n",
      "Epoch 63/100\n",
      "\u001b[1m129/129\u001b[0m \u001b[32m━━━━━━━━━━━━━━━━━━━━\u001b[0m\u001b[37m\u001b[0m \u001b[1m1s\u001b[0m 6ms/step - loss: 0.0051 - mean_absolute_error: 0.0517\n",
      "Epoch 64/100\n",
      "\u001b[1m129/129\u001b[0m \u001b[32m━━━━━━━━━━━━━━━━━━━━\u001b[0m\u001b[37m\u001b[0m \u001b[1m1s\u001b[0m 6ms/step - loss: 0.0040 - mean_absolute_error: 0.0448\n",
      "Epoch 65/100\n",
      "\u001b[1m129/129\u001b[0m \u001b[32m━━━━━━━━━━━━━━━━━━━━\u001b[0m\u001b[37m\u001b[0m \u001b[1m1s\u001b[0m 6ms/step - loss: 0.0039 - mean_absolute_error: 0.0452\n",
      "Epoch 66/100\n",
      "\u001b[1m129/129\u001b[0m \u001b[32m━━━━━━━━━━━━━━━━━━━━\u001b[0m\u001b[37m\u001b[0m \u001b[1m1s\u001b[0m 6ms/step - loss: 0.0045 - mean_absolute_error: 0.0456\n",
      "Epoch 67/100\n",
      "\u001b[1m129/129\u001b[0m \u001b[32m━━━━━━━━━━━━━━━━━━━━\u001b[0m\u001b[37m\u001b[0m \u001b[1m1s\u001b[0m 6ms/step - loss: 0.0034 - mean_absolute_error: 0.0422\n",
      "Epoch 68/100\n",
      "\u001b[1m129/129\u001b[0m \u001b[32m━━━━━━━━━━━━━━━━━━━━\u001b[0m\u001b[37m\u001b[0m \u001b[1m1s\u001b[0m 6ms/step - loss: 0.0034 - mean_absolute_error: 0.0426\n",
      "Epoch 69/100\n",
      "\u001b[1m129/129\u001b[0m \u001b[32m━━━━━━━━━━━━━━━━━━━━\u001b[0m\u001b[37m\u001b[0m \u001b[1m1s\u001b[0m 6ms/step - loss: 0.0039 - mean_absolute_error: 0.0456\n",
      "Epoch 70/100\n",
      "\u001b[1m129/129\u001b[0m \u001b[32m━━━━━━━━━━━━━━━━━━━━\u001b[0m\u001b[37m\u001b[0m \u001b[1m1s\u001b[0m 6ms/step - loss: 0.0035 - mean_absolute_error: 0.0425\n",
      "Epoch 71/100\n",
      "\u001b[1m129/129\u001b[0m \u001b[32m━━━━━━━━━━━━━━━━━━━━\u001b[0m\u001b[37m\u001b[0m \u001b[1m1s\u001b[0m 6ms/step - loss: 0.0037 - mean_absolute_error: 0.0445\n",
      "Epoch 72/100\n",
      "\u001b[1m129/129\u001b[0m \u001b[32m━━━━━━━━━━━━━━━━━━━━\u001b[0m\u001b[37m\u001b[0m \u001b[1m1s\u001b[0m 6ms/step - loss: 0.0049 - mean_absolute_error: 0.0485\n",
      "Epoch 73/100\n",
      "\u001b[1m129/129\u001b[0m \u001b[32m━━━━━━━━━━━━━━━━━━━━\u001b[0m\u001b[37m\u001b[0m \u001b[1m1s\u001b[0m 6ms/step - loss: 0.0043 - mean_absolute_error: 0.0451\n",
      "Epoch 74/100\n",
      "\u001b[1m129/129\u001b[0m \u001b[32m━━━━━━━━━━━━━━━━━━━━\u001b[0m\u001b[37m\u001b[0m \u001b[1m1s\u001b[0m 6ms/step - loss: 0.0034 - mean_absolute_error: 0.0424\n",
      "Epoch 75/100\n",
      "\u001b[1m129/129\u001b[0m \u001b[32m━━━━━━━━━━━━━━━━━━━━\u001b[0m\u001b[37m\u001b[0m \u001b[1m1s\u001b[0m 6ms/step - loss: 0.0036 - mean_absolute_error: 0.0429\n",
      "Epoch 76/100\n",
      "\u001b[1m129/129\u001b[0m \u001b[32m━━━━━━━━━━━━━━━━━━━━\u001b[0m\u001b[37m\u001b[0m \u001b[1m1s\u001b[0m 6ms/step - loss: 0.0046 - mean_absolute_error: 0.0444\n",
      "Epoch 77/100\n",
      "\u001b[1m129/129\u001b[0m \u001b[32m━━━━━━━━━━━━━━━━━━━━\u001b[0m\u001b[37m\u001b[0m \u001b[1m1s\u001b[0m 6ms/step - loss: 0.0046 - mean_absolute_error: 0.0463\n",
      "Epoch 78/100\n",
      "\u001b[1m129/129\u001b[0m \u001b[32m━━━━━━━━━━━━━━━━━━━━\u001b[0m\u001b[37m\u001b[0m \u001b[1m1s\u001b[0m 6ms/step - loss: 0.0032 - mean_absolute_error: 0.0407\n",
      "Epoch 79/100\n",
      "\u001b[1m129/129\u001b[0m \u001b[32m━━━━━━━━━━━━━━━━━━━━\u001b[0m\u001b[37m\u001b[0m \u001b[1m1s\u001b[0m 6ms/step - loss: 0.0042 - mean_absolute_error: 0.0469\n",
      "Epoch 80/100\n",
      "\u001b[1m129/129\u001b[0m \u001b[32m━━━━━━━━━━━━━━━━━━━━\u001b[0m\u001b[37m\u001b[0m \u001b[1m1s\u001b[0m 6ms/step - loss: 0.0039 - mean_absolute_error: 0.0433\n",
      "Epoch 81/100\n",
      "\u001b[1m129/129\u001b[0m \u001b[32m━━━━━━━━━━━━━━━━━━━━\u001b[0m\u001b[37m\u001b[0m \u001b[1m1s\u001b[0m 6ms/step - loss: 0.0037 - mean_absolute_error: 0.0449\n",
      "Epoch 82/100\n",
      "\u001b[1m129/129\u001b[0m \u001b[32m━━━━━━━━━━━━━━━━━━━━\u001b[0m\u001b[37m\u001b[0m \u001b[1m1s\u001b[0m 6ms/step - loss: 0.0047 - mean_absolute_error: 0.0458\n",
      "Epoch 83/100\n",
      "\u001b[1m129/129\u001b[0m \u001b[32m━━━━━━━━━━━━━━━━━━━━\u001b[0m\u001b[37m\u001b[0m \u001b[1m1s\u001b[0m 6ms/step - loss: 0.0035 - mean_absolute_error: 0.0423\n",
      "Epoch 84/100\n",
      "\u001b[1m129/129\u001b[0m \u001b[32m━━━━━━━━━━━━━━━━━━━━\u001b[0m\u001b[37m\u001b[0m \u001b[1m1s\u001b[0m 6ms/step - loss: 0.0035 - mean_absolute_error: 0.0433\n",
      "Epoch 85/100\n",
      "\u001b[1m129/129\u001b[0m \u001b[32m━━━━━━━━━━━━━━━━━━━━\u001b[0m\u001b[37m\u001b[0m \u001b[1m1s\u001b[0m 6ms/step - loss: 0.0037 - mean_absolute_error: 0.0426\n",
      "Epoch 86/100\n",
      "\u001b[1m129/129\u001b[0m \u001b[32m━━━━━━━━━━━━━━━━━━━━\u001b[0m\u001b[37m\u001b[0m \u001b[1m1s\u001b[0m 6ms/step - loss: 0.0037 - mean_absolute_error: 0.0409\n",
      "Epoch 87/100\n",
      "\u001b[1m129/129\u001b[0m \u001b[32m━━━━━━━━━━━━━━━━━━━━\u001b[0m\u001b[37m\u001b[0m \u001b[1m1s\u001b[0m 6ms/step - loss: 0.0031 - mean_absolute_error: 0.0400\n",
      "Epoch 88/100\n",
      "\u001b[1m129/129\u001b[0m \u001b[32m━━━━━━━━━━━━━━━━━━━━\u001b[0m\u001b[37m\u001b[0m \u001b[1m1s\u001b[0m 6ms/step - loss: 0.0036 - mean_absolute_error: 0.0431\n",
      "Epoch 89/100\n",
      "\u001b[1m129/129\u001b[0m \u001b[32m━━━━━━━━━━━━━━━━━━━━\u001b[0m\u001b[37m\u001b[0m \u001b[1m1s\u001b[0m 6ms/step - loss: 0.0041 - mean_absolute_error: 0.0448\n",
      "Epoch 90/100\n",
      "\u001b[1m129/129\u001b[0m \u001b[32m━━━━━━━━━━━━━━━━━━━━\u001b[0m\u001b[37m\u001b[0m \u001b[1m1s\u001b[0m 6ms/step - loss: 0.0031 - mean_absolute_error: 0.0401\n",
      "Epoch 91/100\n",
      "\u001b[1m129/129\u001b[0m \u001b[32m━━━━━━━━━━━━━━━━━━━━\u001b[0m\u001b[37m\u001b[0m \u001b[1m1s\u001b[0m 6ms/step - loss: 0.0045 - mean_absolute_error: 0.0435\n",
      "Epoch 92/100\n",
      "\u001b[1m129/129\u001b[0m \u001b[32m━━━━━━━━━━━━━━━━━━━━\u001b[0m\u001b[37m\u001b[0m \u001b[1m1s\u001b[0m 6ms/step - loss: 0.0045 - mean_absolute_error: 0.0448\n",
      "Epoch 93/100\n",
      "\u001b[1m129/129\u001b[0m \u001b[32m━━━━━━━━━━━━━━━━━━━━\u001b[0m\u001b[37m\u001b[0m \u001b[1m1s\u001b[0m 6ms/step - loss: 0.0032 - mean_absolute_error: 0.0401\n",
      "Epoch 94/100\n",
      "\u001b[1m129/129\u001b[0m \u001b[32m━━━━━━━━━━━━━━━━━━━━\u001b[0m\u001b[37m\u001b[0m \u001b[1m1s\u001b[0m 6ms/step - loss: 0.0037 - mean_absolute_error: 0.0434\n",
      "Epoch 95/100\n",
      "\u001b[1m129/129\u001b[0m \u001b[32m━━━━━━━━━━━━━━━━━━━━\u001b[0m\u001b[37m\u001b[0m \u001b[1m1s\u001b[0m 6ms/step - loss: 0.0039 - mean_absolute_error: 0.0443\n",
      "Epoch 96/100\n",
      "\u001b[1m129/129\u001b[0m \u001b[32m━━━━━━━━━━━━━━━━━━━━\u001b[0m\u001b[37m\u001b[0m \u001b[1m1s\u001b[0m 6ms/step - loss: 0.0039 - mean_absolute_error: 0.0466\n",
      "Epoch 97/100\n",
      "\u001b[1m129/129\u001b[0m \u001b[32m━━━━━━━━━━━━━━━━━━━━\u001b[0m\u001b[37m\u001b[0m \u001b[1m1s\u001b[0m 6ms/step - loss: 0.0035 - mean_absolute_error: 0.0423\n",
      "Epoch 98/100\n",
      "\u001b[1m129/129\u001b[0m \u001b[32m━━━━━━━━━━━━━━━━━━━━\u001b[0m\u001b[37m\u001b[0m \u001b[1m1s\u001b[0m 6ms/step - loss: 0.0031 - mean_absolute_error: 0.0398\n",
      "Epoch 99/100\n",
      "\u001b[1m129/129\u001b[0m \u001b[32m━━━━━━━━━━━━━━━━━━━━\u001b[0m\u001b[37m\u001b[0m \u001b[1m1s\u001b[0m 6ms/step - loss: 0.0035 - mean_absolute_error: 0.0410\n",
      "Epoch 100/100\n",
      "\u001b[1m129/129\u001b[0m \u001b[32m━━━━━━━━━━━━━━━━━━━━\u001b[0m\u001b[37m\u001b[0m \u001b[1m1s\u001b[0m 6ms/step - loss: 0.0035 - mean_absolute_error: 0.0430\n"
     ]
    }
   ],
   "source": [
    "history = model.fit(x_train,y_train, epochs = 100, verbose=1)"
   ]
  },
  {
   "cell_type": "markdown",
   "metadata": {},
   "source": [
    "<h1><strong>4. Model Evaluation</strong></h1>"
   ]
  },
  {
   "cell_type": "code",
   "execution_count": 40,
   "metadata": {},
   "outputs": [
    {
     "data": {
      "text/plain": [
       "<keras.src.callbacks.history.History at 0x20c02ca81d0>"
      ]
     },
     "execution_count": 40,
     "metadata": {},
     "output_type": "execute_result"
    }
   ],
   "source": [
    "history\n"
   ]
  },
  {
   "cell_type": "code",
   "execution_count": 41,
   "metadata": {},
   "outputs": [
    {
     "name": "stdout",
     "output_type": "stream",
     "text": [
      "\u001b[1m43/43\u001b[0m \u001b[32m━━━━━━━━━━━━━━━━━━━━\u001b[0m\u001b[37m\u001b[0m \u001b[1m0s\u001b[0m 3ms/step\n",
      "Test Loss: 0.0037004302721470594\n",
      "Mean Absolute Error: 0.03932774439454079\n",
      "Root Mean Squared Error: 0.060831163\n",
      "R-squared: 0.9963422644128188\n"
     ]
    }
   ],
   "source": [
    "from sklearn.metrics import r2_score\n",
    "\n",
    "loss, mae = model.evaluate(x_test, y_test, verbose=0)\n",
    "\n",
    "#Evaluating on the test data\n",
    "predictions = model.predict(x_test)\n",
    "rmse = np.sqrt(mean_squared_error(y_test, predictions))\n",
    "r2 = r2_score(y_test, predictions)\n",
    "\n",
    "print('Test Loss:', loss)\n",
    "print('Mean Absolute Error:', mae)\n",
    "print('Root Mean Squared Error:', rmse)\n",
    "print('R-squared:', r2)\n",
    "\n",
    "# # Actual vs. predicted\n",
    "# plt.figure(figsize=(10, 6))\n",
    "# plt.plot(y_test, label='Actual')\n",
    "# plt.plot(predictions, label='Predicted')\n",
    "# plt.title('Actual vs. Predicted Values')\n",
    "# plt.xlabel('Time')\n",
    "# plt.ylabel('Value')\n",
    "# plt.legend()\n",
    "# plt.show()\n",
    "\n",
    "# loss curve\n",
    "# history = model.history.history\n",
    "# plt.figure(figsize=(10, 6))\n",
    "# plt.plot(history['loss'], label='Training Loss')\n",
    "# plt.title('Training Loss')\n",
    "# plt.xlabel('Epoch')\n",
    "# plt.ylabel('Loss')\n",
    "# plt.legend()\n",
    "# plt.show()\n"
   ]
  }
 ],
 "metadata": {
  "kernelspec": {
   "display_name": "base",
   "language": "python",
   "name": "python3"
  },
  "language_info": {
   "codemirror_mode": {
    "name": "ipython",
    "version": 3
   },
   "file_extension": ".py",
   "mimetype": "text/x-python",
   "name": "python",
   "nbconvert_exporter": "python",
   "pygments_lexer": "ipython3",
   "version": "undefined.undefined.undefined"
  }
 },
 "nbformat": 4,
 "nbformat_minor": 2
}
