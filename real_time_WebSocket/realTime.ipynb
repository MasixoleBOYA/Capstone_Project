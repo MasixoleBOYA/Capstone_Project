{
 "cells": [
  {
   "cell_type": "code",
   "execution_count": 1,
   "metadata": {},
   "outputs": [
    {
     "name": "stderr",
     "output_type": "stream",
     "text": [
      "<>:7: SyntaxWarning: invalid escape sequence '\\M'\n",
      "<>:7: SyntaxWarning: invalid escape sequence '\\M'\n",
      "C:\\Users\\tshol\\AppData\\Local\\Temp\\ipykernel_8456\\310442952.py:7: SyntaxWarning: invalid escape sequence '\\M'\n",
      "  sys.path.append('../trainedModel_historical\\MetaTrader5')\n"
     ]
    }
   ],
   "source": [
    "import websocket\n",
    "import sys\n",
    "# from websocket import create_connection\n",
    "\n",
    "import simplejson as json\n",
    "\n",
    "sys.path.append('../trainedModel_historical\\MetaTrader5')\n"
   ]
  },
  {
   "cell_type": "code",
   "execution_count": 2,
   "metadata": {},
   "outputs": [],
   "source": [
    "\n",
    "# ws = websocket.create_connection(\"wss://api.tiingo.com/fx\")\n",
    "\n",
    "# subscribe = {\n",
    "#         'eventName':'subscribe',\n",
    "#         'authorization':'ebed6535a2acbe1a06b0057e8d1e8af61e5cefa7',\n",
    "#         'eventData': {\n",
    "#             'thresholdLevel': 5,\n",
    "#             'tickers': ['eurusd']\n",
    "#     }\n",
    "# }\n",
    "\n",
    "# ws.send(json.dumps(subscribe))\n",
    "# while True:\n",
    "#     print(ws.recv())"
   ]
  },
  {
   "cell_type": "code",
   "execution_count": null,
   "metadata": {},
   "outputs": [],
   "source": [
    "import websocket\n",
    "import json\n",
    "import pandas as pd\n",
    "from datetime import datetime\n",
    "\n",
    "# Create an empty DataFrame to store real-time data\n",
    "df = pd.DataFrame(columns=['ticker', 'datetime', 'bidPrice', 'askPrice', 'midPrice'])\n",
    "\n",
    "# WebSocket connection\n",
    "ws = websocket.create_connection(\"wss://api.tiingo.com/fx\")\n",
    "\n",
    "# Subscription message\n",
    "subscribe = {\n",
    "    'eventName': 'subscribe',\n",
    "    'authorization': 'ebed6535a2acbe1a06b0057e8d1e8af61e5cefa7',  # Replace with your actual API key\n",
    "    'eventData': {\n",
    "        'thresholdLevel': 5,\n",
    "        'tickers': ['eurusd']\n",
    "    }\n",
    "}\n",
    "\n",
    "# Send subscription message\n",
    "ws.send(json.dumps(subscribe))\n",
    "\n",
    "# Function to process received data and append it to DataFrame\n",
    "def process_message(message):\n",
    "    global df\n",
    "    data = json.loads(message)\n",
    "    \n",
    "    # Only process price update messages (messageType == 'A')\n",
    "    if data.get('service') == 'fx' and data.get('messageType') == 'A':\n",
    "        fx_data = data['data']\n",
    "        \n",
    "        # Extract relevant fields from the message\n",
    "        ticker = fx_data[1]  # Ticker (e.g., 'eurusd')\n",
    "        datetime_str = fx_data[2]  # Date as string\n",
    "        bid_price = fx_data[4]  # Bid price\n",
    "        ask_price = fx_data[6]  # Ask price\n",
    "        mid_price = fx_data[5]  # Mid price (calculated as (bid + ask) / 2)\n",
    "        \n",
    "        # Convert datetime string to a proper datetime object (optional)\n",
    "        timestamp = datetime.strptime(datetime_str, \"%Y-%m-%dT%H:%M:%S.%f%z\")\n",
    "        \n",
    "        # Append the data to the DataFrame\n",
    "        new_row = {\n",
    "            'ticker': ticker,\n",
    "            'datetime': timestamp,\n",
    "            'bidPrice': bid_price,\n",
    "            'askPrice': ask_price,\n",
    "            'midPrice': mid_price\n",
    "        }\n",
    "        df = df.append(new_row, ignore_index=True)\n",
    "\n",
    "        # Optionally, display the updated DataFrame or save to a file\n",
    "        print(df.tail(1))  # Display the last few rows\n",
    "\n",
    "# Main loop to receive data and process it\n",
    "while True:\n",
    "    message = ws.recv()\n",
    "    # print(message)\n",
    "    process_message(message)\n",
    "\n"
   ]
  }
 ],
 "metadata": {
  "kernelspec": {
   "display_name": "Python 3",
   "language": "python",
   "name": "python3"
  },
  "language_info": {
   "codemirror_mode": {
    "name": "ipython",
    "version": 3
   },
   "file_extension": ".py",
   "mimetype": "text/x-python",
   "name": "python",
   "nbconvert_exporter": "python",
   "pygments_lexer": "ipython3",
   "version": "3.12.2"
  }
 },
 "nbformat": 4,
 "nbformat_minor": 2
}
